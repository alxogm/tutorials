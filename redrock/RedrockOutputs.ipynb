{
 "cells": [
  {
   "cell_type": "markdown",
   "metadata": {},
   "source": [
    "# Understanding redrock output\n",
    "\n",
    "This tutorial describes how to combine the zbest fit coefficients with the\n",
    "redrock templates to see how the best fit template compares to the actual data.\n",
    "\n",
    "See https://desi.lbl.gov/trac/wiki/Computing/JupyterAtNERSC to configure Jupyter at NERSC to be able to run this\n",
    "tutorial using jupyter.nersc.gov and the \"20.8\" data in `/global/cfs/cdirs/desi/datachallenge/reference_runs/20.8`.\n",
    "\n",
    "If running locally, see https://desi.lbl.gov/trac/wiki/Pipeline/GettingStarted/Laptop for installing code and download the the 20.8 reference run data set from NERSC at `/global/cfs/cdirs/desi/datachallenge/reference_runs/20.8`.\n",
    "\n",
    "The bottom of this tutorial lists the code versions used while testing this.\n",
    "\n",
    "Stephen Bailey<br/>\n",
    "December 2020"
   ]
  },
  {
   "cell_type": "markdown",
   "metadata": {},
   "source": [
    "## Basic setup"
   ]
  },
  {
   "cell_type": "code",
   "execution_count": 1,
   "metadata": {},
   "outputs": [
    {
     "name": "stdout",
     "output_type": "stream",
     "text": [
      "Populating the interactive namespace from numpy and matplotlib\n"
     ]
    }
   ],
   "source": [
    "import os\n",
    "from astropy.table import Table\n",
    "import numpy as np\n",
    "import desispec.io\n",
    "# import redrock.io\n",
    "%pylab inline"
   ]
  },
  {
   "cell_type": "markdown",
   "metadata": {},
   "source": [
    "Add the tutorials directory to the python search path so that we can import desitutorials"
   ]
  },
  {
   "cell_type": "code",
   "execution_count": 2,
   "metadata": {},
   "outputs": [],
   "source": [
    "#sys.path.append(os.path.abspath(os.getcwd()+'/..'))\n",
    "#import desitutorials"
   ]
  },
  {
   "cell_type": "markdown",
   "metadata": {},
   "source": [
    "For convenience, move into the directory that contains the reference run data and set some environment variables so that desispec can find the files.  If you are running locally (*e.g.* on your laptop instead of at jupyter.nersc.gov, replace these with wherever you installed the reference run data."
   ]
  },
  {
   "cell_type": "code",
   "execution_count": 3,
   "metadata": {},
   "outputs": [],
   "source": [
    "os.chdir('/global/cfs/cdirs/desi/datachallenge/reference_runs/20.8')\n",
    "os.environ['DESI_SPECTRO_REDUX'] = os.path.join(os.getcwd(), 'spectro', 'redux')\n",
    "os.environ['SPECPROD'] = 'mini'"
   ]
  },
  {
   "cell_type": "markdown",
   "metadata": {},
   "source": [
    "## Read in some spectra and the matching zbest file"
   ]
  },
  {
   "cell_type": "code",
   "execution_count": 4,
   "metadata": {},
   "outputs": [
    {
     "ename": "ValueError",
     "evalue": "Required input 'faprogram' is not set for type 'spectra'!",
     "output_type": "error",
     "traceback": [
      "\u001b[0;31m---------------------------------------------------------------------------\u001b[0m",
      "\u001b[0;31mValueError\u001b[0m                                Traceback (most recent call last)",
      "\u001b[0;32m/tmp/ipykernel_52457/1932802944.py\u001b[0m in \u001b[0;36m<module>\u001b[0;34m\u001b[0m\n\u001b[0;32m----> 1\u001b[0;31m \u001b[0mspecfile\u001b[0m \u001b[0;34m=\u001b[0m \u001b[0mdesispec\u001b[0m\u001b[0;34m.\u001b[0m\u001b[0mio\u001b[0m\u001b[0;34m.\u001b[0m\u001b[0mfindfile\u001b[0m\u001b[0;34m(\u001b[0m\u001b[0;34m'spectra'\u001b[0m\u001b[0;34m,\u001b[0m \u001b[0mgroupname\u001b[0m\u001b[0;34m=\u001b[0m\u001b[0;34m'5299'\u001b[0m\u001b[0;34m,\u001b[0m \u001b[0mnside\u001b[0m\u001b[0;34m=\u001b[0m\u001b[0;36m64\u001b[0m\u001b[0;34m)\u001b[0m\u001b[0;34m\u001b[0m\u001b[0;34m\u001b[0m\u001b[0m\n\u001b[0m\u001b[1;32m      2\u001b[0m \u001b[0mzbestfile\u001b[0m \u001b[0;34m=\u001b[0m \u001b[0mdesispec\u001b[0m\u001b[0;34m.\u001b[0m\u001b[0mio\u001b[0m\u001b[0;34m.\u001b[0m\u001b[0mfindfile\u001b[0m\u001b[0;34m(\u001b[0m\u001b[0;34m'zbest'\u001b[0m\u001b[0;34m,\u001b[0m \u001b[0mgroupname\u001b[0m\u001b[0;34m=\u001b[0m\u001b[0;34m'5299'\u001b[0m\u001b[0;34m,\u001b[0m \u001b[0mnside\u001b[0m\u001b[0;34m=\u001b[0m\u001b[0;36m64\u001b[0m\u001b[0;34m)\u001b[0m\u001b[0;34m\u001b[0m\u001b[0;34m\u001b[0m\u001b[0m\n\u001b[1;32m      3\u001b[0m \u001b[0;34m\u001b[0m\u001b[0m\n\u001b[1;32m      4\u001b[0m \u001b[0mspectra\u001b[0m \u001b[0;34m=\u001b[0m \u001b[0mdesispec\u001b[0m\u001b[0;34m.\u001b[0m\u001b[0mio\u001b[0m\u001b[0;34m.\u001b[0m\u001b[0mread_spectra\u001b[0m\u001b[0;34m(\u001b[0m\u001b[0mspecfile\u001b[0m\u001b[0;34m)\u001b[0m\u001b[0;34m\u001b[0m\u001b[0;34m\u001b[0m\u001b[0m\n\u001b[1;32m      5\u001b[0m \u001b[0mzbest\u001b[0m \u001b[0;34m=\u001b[0m \u001b[0mTable\u001b[0m\u001b[0;34m.\u001b[0m\u001b[0mread\u001b[0m\u001b[0;34m(\u001b[0m\u001b[0mzbestfile\u001b[0m\u001b[0;34m,\u001b[0m \u001b[0mhdu\u001b[0m\u001b[0;34m=\u001b[0m\u001b[0;36m1\u001b[0m\u001b[0;34m)\u001b[0m\u001b[0;34m\u001b[0m\u001b[0;34m\u001b[0m\u001b[0m\n",
      "\u001b[0;32m/global/common/software/desi/cori/desiconda/20211217-2.0.0/code/desispec/0.51.13/lib/python3.9/site-packages/desispec/io/meta.py\u001b[0m in \u001b[0;36mfindfile\u001b[0;34m(filetype, night, expid, camera, tile, groupname, nside, band, spectrograph, survey, faprogram, rawdata_dir, specprod_dir, download, outdir, qaprod_dir)\u001b[0m\n\u001b[1;32m    254\u001b[0m     \u001b[0;32mfor\u001b[0m \u001b[0mi\u001b[0m \u001b[0;32min\u001b[0m \u001b[0mrequired_inputs\u001b[0m\u001b[0;34m:\u001b[0m\u001b[0;34m\u001b[0m\u001b[0;34m\u001b[0m\u001b[0m\n\u001b[1;32m    255\u001b[0m         \u001b[0;32mif\u001b[0m \u001b[0mactual_inputs\u001b[0m\u001b[0;34m[\u001b[0m\u001b[0mi\u001b[0m\u001b[0;34m]\u001b[0m \u001b[0;32mis\u001b[0m \u001b[0;32mNone\u001b[0m\u001b[0;34m:\u001b[0m\u001b[0;34m\u001b[0m\u001b[0;34m\u001b[0m\u001b[0m\n\u001b[0;32m--> 256\u001b[0;31m             \u001b[0;32mraise\u001b[0m \u001b[0mValueError\u001b[0m\u001b[0;34m(\u001b[0m\u001b[0;34m\"Required input '{0}' is not set for type '{1}'!\"\u001b[0m\u001b[0;34m.\u001b[0m\u001b[0mformat\u001b[0m\u001b[0;34m(\u001b[0m\u001b[0mi\u001b[0m\u001b[0;34m,\u001b[0m\u001b[0mfiletype\u001b[0m\u001b[0;34m)\u001b[0m\u001b[0;34m)\u001b[0m\u001b[0;34m\u001b[0m\u001b[0;34m\u001b[0m\u001b[0m\n\u001b[0m\u001b[1;32m    257\u001b[0m \u001b[0;34m\u001b[0m\u001b[0m\n\u001b[1;32m    258\u001b[0m     \u001b[0;31m#- normpath to remove extraneous double slashes /a/b//c/d\u001b[0m\u001b[0;34m\u001b[0m\u001b[0;34m\u001b[0m\u001b[0m\n",
      "\u001b[0;31mValueError\u001b[0m: Required input 'faprogram' is not set for type 'spectra'!"
     ]
    }
   ],
   "source": [
    "specfile = desispec.io.findfile('spectra', groupname='5299', nside=64)\n",
    "zbestfile = desispec.io.findfile('zbest', groupname='5299', nside=64)\n",
    "\n",
    "spectra = desispec.io.read_spectra(specfile)\n",
    "zbest = Table.read(zbestfile, hdu=1)"
   ]
  },
  {
   "cell_type": "markdown",
   "metadata": {},
   "source": [
    "Also read the fibermap and trim to a unique set that row-matches the zbest file;\n",
    "we'll use this later to pick targets targeted as ELGs."
   ]
  },
  {
   "cell_type": "code",
   "execution_count": 5,
   "metadata": {},
   "outputs": [],
   "source": [
    "fm = Table.read(zbestfile, hdu='FIBERMAP')\n",
    "targetids, ii = np.unique(fm['TARGETID'], return_index=True)\n",
    "assert np.all(fm['TARGETID'][ii] == zbest['TARGETID'])\n",
    "fm = fm[ii]"
   ]
  },
  {
   "cell_type": "markdown",
   "metadata": {},
   "source": [
    "What did we get?"
   ]
  },
  {
   "cell_type": "code",
   "execution_count": 6,
   "metadata": {},
   "outputs": [
    {
     "data": {
      "text/html": [
       "<i>Table length=5</i>\n",
       "<table id=\"table46913358307536\" class=\"table-striped table-bordered table-condensed\">\n",
       "<thead><tr><th>SPECTYPE</th><th>Z</th></tr></thead>\n",
       "<thead><tr><th>bytes6</th><th>float64</th></tr></thead>\n",
       "<tr><td>GALAXY</td><td>1.2528100852117374</td></tr>\n",
       "<tr><td>GALAXY</td><td>0.367229837195877</td></tr>\n",
       "<tr><td>GALAXY</td><td>0.06103373973233479</td></tr>\n",
       "<tr><td>GALAXY</td><td>0.7897997081349463</td></tr>\n",
       "<tr><td>GALAXY</td><td>1.2809828738703795</td></tr>\n",
       "</table>"
      ],
      "text/plain": [
       "<Table length=5>\n",
       "SPECTYPE          Z         \n",
       " bytes6        float64      \n",
       "-------- -------------------\n",
       "  GALAXY  1.2528100852117374\n",
       "  GALAXY   0.367229837195877\n",
       "  GALAXY 0.06103373973233479\n",
       "  GALAXY  0.7897997081349463\n",
       "  GALAXY  1.2809828738703795"
      ]
     },
     "execution_count": 6,
     "metadata": {},
     "output_type": "execute_result"
    }
   ],
   "source": [
    "zbest['SPECTYPE', 'Z'][0:5]"
   ]
  },
  {
   "cell_type": "code",
   "execution_count": 7,
   "metadata": {},
   "outputs": [
    {
     "data": {
      "text/plain": [
       "<matplotlib.legend.Legend at 0x2aaade101ac0>"
      ]
     },
     "execution_count": 7,
     "metadata": {},
     "output_type": "execute_result"
    },
    {
     "data": {
      "image/png": "[encoded data removed]",
      "text/plain": [
       "<Figure size 432x288 with 1 Axes>"
      ]
     },
     "metadata": {
      "needs_background": "light"
     },
     "output_type": "display_data"
    }
   ],
   "source": [
    "for spectype in set(zbest['SPECTYPE']):\n",
    "    ii = (zbest['SPECTYPE'] == spectype)\n",
    "    hist(zbest['Z'][ii], 41, (-0.1,4), label=spectype.strip())\n",
    "legend()"
   ]
  },
  {
   "cell_type": "markdown",
   "metadata": {},
   "source": [
    "Note that redrock does not distinguish between ELGs and LRGs: both are just `spectype=='GALAXY'`."
   ]
  },
  {
   "cell_type": "markdown",
   "metadata": {},
   "source": [
    "## Compare redrock templates to spectra\n",
    "\n",
    "`redrock.io.read_templates` returns a list of templates, then convert those into a dict of template type -> Template object.  Ignore INFO messages about using default values for redshift ranges."
   ]
  },
  {
   "cell_type": "code",
   "execution_count": 8,
   "metadata": {},
   "outputs": [
    {
     "name": "stdout",
     "output_type": "stream",
     "text": [
      "DEBUG: Read templates from /global/common/software/desi/cori/desiconda/20200801-1.4.0-spec/code/redrock-templates/0.7.2\n",
      "DEBUG: Using default redshift range -0.0050-1.6997 for rrtemplate-galaxy.fits\n",
      "DEBUG: Using default redshift range 0.0500-5.9934 for rrtemplate-qso.fits\n",
      "DEBUG: Using default redshift range -0.0020-0.0020 for rrtemplate-star-A.fits\n",
      "DEBUG: Using default redshift range -0.0020-0.0020 for rrtemplate-star-B.fits\n",
      "DEBUG: Using default redshift range -0.0020-0.0020 for rrtemplate-star-CV.fits\n",
      "DEBUG: Using default redshift range -0.0020-0.0020 for rrtemplate-star-F.fits\n",
      "DEBUG: Using default redshift range -0.0020-0.0020 for rrtemplate-star-G.fits\n",
      "DEBUG: Using default redshift range -0.0020-0.0020 for rrtemplate-star-K.fits\n",
      "DEBUG: Using default redshift range -0.0020-0.0020 for rrtemplate-star-M.fits\n",
      "DEBUG: Using default redshift range -0.0020-0.0020 for rrtemplate-star-WD.fits\n"
     ]
    }
   ],
   "source": [
    "# tx = redrock.io.read_templates()\n",
    "import redrock.templates\n",
    "\n",
    "templates = dict()\n",
    "for filename in redrock.templates.find_templates():\n",
    "    t = redrock.templates.Template(filename)\n",
    "    templates[(t.template_type, t.sub_type)] = t"
   ]
  },
  {
   "cell_type": "markdown",
   "metadata": {},
   "source": [
    "Pick an ELG target with confident redshift and use its zbest coefficients to construct the redrock template fit for that\n",
    "object."
   ]
  },
  {
   "cell_type": "code",
   "execution_count": 9,
   "metadata": {},
   "outputs": [],
   "source": [
    "from desitarget.targets import desi_mask"
   ]
  },
  {
   "cell_type": "code",
   "execution_count": 10,
   "metadata": {},
   "outputs": [],
   "source": [
    "goodELGs = (zbest['SPECTYPE'] == 'GALAXY') & (0.6 < zbest['Z']) & (zbest['Z'] < 1.0)\n",
    "goodELGs &= (zbest['ZWARN'] == 0) & (zbest['DELTACHI2']>100)\n",
    "goodELGs &= ((fm['DESI_TARGET'] & desi_mask.ELG) != 0)"
   ]
  },
  {
   "cell_type": "code",
   "execution_count": 11,
   "metadata": {},
   "outputs": [],
   "source": [
    "i = np.where(goodELGs)[0][3]\n",
    "z = zbest['Z'][i]\n",
    "targetid = zbest['TARGETID'][i]\n",
    "spectype = zbest['SPECTYPE'][i].strip()\n",
    "subtype = zbest['SUBTYPE'][i].strip()\n",
    "fulltype = (spectype, subtype)\n",
    "ncoeff = templates[fulltype].flux.shape[0]\n",
    "coeff = zbest['COEFF'][i][0:ncoeff]"
   ]
  },
  {
   "cell_type": "code",
   "execution_count": 12,
   "metadata": {},
   "outputs": [],
   "source": [
    "tflux = templates[fulltype].flux.T.dot(coeff)\n",
    "twave = templates[fulltype].wave * (1+z)"
   ]
  },
  {
   "cell_type": "code",
   "execution_count": 13,
   "metadata": {},
   "outputs": [
    {
     "data": {
      "text/plain": [
       "(-1.0, 5.0)"
      ]
     },
     "execution_count": 13,
     "metadata": {},
     "output_type": "execute_result"
    },
    {
     "data": {
      "image/png": "[encoded data removed]",
      "text/plain": [
       "<Figure size 576x360 with 2 Axes>"
      ]
     },
     "metadata": {
      "needs_background": "light"
     },
     "output_type": "display_data"
    }
   ],
   "source": [
    "ispec = np.where(spectra.fibermap['TARGETID'] == targetid)[0][0]\n",
    "\n",
    "figure(figsize=(8,5))\n",
    "subplot(211)\n",
    "maxflux = 0.0\n",
    "for band in spectra.bands:\n",
    "    plot(spectra.wave[band], spectra.flux[band][ispec], 'k-', alpha=0.5)\n",
    "    maxflux = max(maxflux, np.max(spectra.flux[band][ispec]))\n",
    "\n",
    "plot(twave, tflux, 'r-')\n",
    "xlim(3500, 10000)\n",
    "# ylim(-1, 0.9*maxflux)\n",
    "ylim(-1, 4)\n",
    "\n",
    "#- zoom in on [OII]\n",
    "subplot(212)\n",
    "for band in spectra.bands:\n",
    "    plot(spectra.wave[band], spectra.flux[band][ispec], 'k-', alpha=0.5)\n",
    "\n",
    "plot(twave, tflux, 'r-')\n",
    "xlim(3727*(1+z)-100, 3727*(1+z)+100)\n",
    "ylim(-1,5)"
   ]
  },
  {
   "cell_type": "markdown",
   "metadata": {},
   "source": [
    "That wasn't quite correct because the redrock templates are high resolution\n",
    "before any instrumental resolution is applied.  Let's update that to include\n",
    "the spectral resolution."
   ]
  },
  {
   "cell_type": "code",
   "execution_count": 14,
   "metadata": {},
   "outputs": [],
   "source": [
    "from desispec.interpolation import resample_flux\n",
    "from desispec.resolution import Resolution\n",
    "R = Resolution(spectra.resolution_data['r'][ispec])\n",
    "txflux = R.dot(resample_flux(spectra.wave['r'], twave, tflux))"
   ]
  },
  {
   "cell_type": "code",
   "execution_count": 15,
   "metadata": {},
   "outputs": [
    {
     "data": {
      "text/plain": [
       "(7008.044704774496, 7208.044704774496)"
      ]
     },
     "execution_count": 15,
     "metadata": {},
     "output_type": "execute_result"
    },
    {
     "data": {
      "image/png": "[encoded data removed]",
      "text/plain": [
       "<Figure size 432x288 with 1 Axes>"
      ]
     },
     "metadata": {
      "needs_background": "light"
     },
     "output_type": "display_data"
    }
   ],
   "source": [
    "plot(spectra.wave['r'], spectra.flux['r'][ispec])\n",
    "plot(spectra.wave['r'], txflux)\n",
    "ylim(-1,4)\n",
    "xlim(3727*(1+z)-100, 3727*(1+z)+100)"
   ]
  },
  {
   "cell_type": "markdown",
   "metadata": {},
   "source": [
    "## Future work\n",
    "\n",
    "**TODO**: document redrock rr*.h5 files, e.g. the chi2 vs. redshift and how to get the second, third, etc. best fits"
   ]
  },
  {
   "cell_type": "markdown",
   "metadata": {},
   "source": [
    "## Code versions"
   ]
  },
  {
   "cell_type": "code",
   "execution_count": 16,
   "metadata": {},
   "outputs": [
    {
     "name": "stdout",
     "output_type": "stream",
     "text": [
      "Code versions used for this tutorial:\n",
      "python      : 3.8.3\n",
      "numpy       : 1.19.1\n",
      "scipy       : 1.5.0\n",
      "astropy     : 4.0.1.post1\n",
      "yaml        : 5.3.1\n",
      "matplotlib  : 3.2.1\n",
      "healpy      : 1.14.0\n",
      "desiutil    : 3.0.3\n",
      "desispec    : 0.34.7\n",
      "desitarget  : 0.42.0\n",
      "redrock     : 0.14.4\n",
      "speclite    : 0.9\n"
     ]
    }
   ],
   "source": [
    "print('Code versions used for this tutorial:')\n",
    "desitutorials.print_code_versions()"
   ]
  },
  {
   "cell_type": "code",
   "execution_count": null,
   "metadata": {},
   "outputs": [],
   "source": []
  }
 ],
 "metadata": {
  "anaconda-cloud": {},
  "kernelspec": {
   "display_name": "DESI 22.2",
   "language": "python",
   "name": "desi-22.2"
  },
  "language_info": {
   "codemirror_mode": {
    "name": "ipython",
    "version": 3
   },
   "file_extension": ".py",
   "mimetype": "text/x-python",
   "name": "python",
   "nbconvert_exporter": "python",
   "pygments_lexer": "ipython3",
   "version": "3.9.7"
  }
 },
 "nbformat": 4,
 "nbformat_minor": 4
}
