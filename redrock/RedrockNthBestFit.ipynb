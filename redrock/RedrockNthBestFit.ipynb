{
 "cells": [
  {
   "cell_type": "markdown",
   "id": "e652900c-badd-49a1-910e-97b06afef568",
   "metadata": {},
   "source": [
    "# Retrieving the Nth best redrock fit\n",
    "\n",
    "This tutorial describes how to look up the Nth best redrock fit coefficients. \n",
    "\n",
    "See https://desi.lbl.gov/trac/wiki/Computing/JupyterAtNERSC to configure Jupyter at NERSC to be able to run this\n",
    "tutorial using jupyter.nersc.gov and the fuji data in `/global/cfs/cdirs/desi/spectro/redux/fuji/tiles/cumulative/80618/20210328/`. This notebook runs on kernel 22.2. \n",
    "\n",
    "The bottom of this tutorial lists the code versions used while testing this.\n",
    "\n",
    "Raffaella Capasso<br/>\n",
    "July 2022"
   ]
  },
  {
   "cell_type": "markdown",
   "id": "4b7f4b4c-46d7-422f-a32e-73af07cd2188",
   "metadata": {},
   "source": [
    "## Basic imports"
   ]
  },
  {
   "cell_type": "code",
   "execution_count": null,
   "id": "38a0010d-e4a1-4e1b-80fe-911728110d67",
   "metadata": {},
   "outputs": [],
   "source": [
    "import os\n",
    "from astropy.table import Table\n",
    "import numpy as np\n",
    "import desispec.io\n",
    "\n",
    "import matplotlib.pyplot as plt\n",
    "import redrock.templates\n",
    "import h5py\n",
    "import sys"
   ]
  },
  {
   "cell_type": "markdown",
   "id": "fe574d42-22e0-4ff6-a18c-d2052671cf4b",
   "metadata": {},
   "source": [
    "Add the tutorials directory to the python search path so that we can import desitutorials"
   ]
  },
  {
   "cell_type": "code",
   "execution_count": null,
   "id": "204cb49d-ef87-4cef-8c0f-8a645df9b6b5",
   "metadata": {},
   "outputs": [],
   "source": [
    "sys.path.append(os.path.abspath(os.getcwd()+'/../py/'))\n",
    "\n",
    "import desitutorials"
   ]
  },
  {
   "cell_type": "markdown",
   "id": "6786e793-0aa2-47d7-a61b-078a711e27e2",
   "metadata": {},
   "source": [
    "Move into the directory that contains the reference run data and set some environment variables so that desispec can find the files.  If you are running locally (*e.g.* on your laptop instead of at jupyter.nersc.gov, replace these with wherever you installed the reference run data."
   ]
  },
  {
   "cell_type": "code",
   "execution_count": null,
   "id": "242df01f-d1ea-4261-b978-cbc09d7f2bac",
   "metadata": {},
   "outputs": [],
   "source": [
    "os.chdir('/global/cfs/cdirs/desi/spectro/redux/fuji/tiles/cumulative/80618/20210328/')"
   ]
  },
  {
   "cell_type": "markdown",
   "id": "d126dd94-0cb0-4a42-b86f-e249919b0ee7",
   "metadata": {},
   "source": [
    "Import redrock templates"
   ]
  },
  {
   "cell_type": "code",
   "execution_count": null,
   "id": "4bccc8e2-d767-4baf-9b72-3695e36881af",
   "metadata": {},
   "outputs": [],
   "source": [
    "templates = dict()\n",
    "for filename in redrock.templates.find_templates():\n",
    "    # print('test')\n",
    "    t = redrock.templates.Template(filename) #check if you can add a \"verbose=False\"\n",
    "    templates[(t.template_type, t.sub_type)] = t\n"
   ]
  },
  {
   "cell_type": "markdown",
   "id": "fbc02bc3-d82d-47ed-8b27-9c230827f834",
   "metadata": {},
   "source": [
    "Read in the spectra and the matching zbest file. Also read the fibermap and trim to a unique set that row-matches the zbest file."
   ]
  },
  {
   "cell_type": "code",
   "execution_count": null,
   "id": "01999738-bf29-4e10-b720-e1894304037e",
   "metadata": {},
   "outputs": [],
   "source": [
    "zbest = Table.read('redrock-0-80618-thru20210328.fits', hdu=1).filled('')\n",
    "spectra = desispec.io.read_spectra('coadd-0-80618-thru20210328.fits')\n",
    "\n",
    "fm = Table.read('redrock-0-80618-thru20210328.fits', hdu='FIBERMAP')\n",
    "ii=sorted(np.unique(fm['TARGETID'], return_index=True)[1])\n",
    "assert np.all(fm['TARGETID'] == zbest['TARGETID'])\n",
    "fm = fm[ii]"
   ]
  },
  {
   "cell_type": "code",
   "execution_count": null,
   "id": "b98fd807-d997-4bb1-bc77-cad56324e62c",
   "metadata": {},
   "outputs": [],
   "source": [
    "goodELGs = (zbest['SPECTYPE'] == 'GALAXY')  \n",
    "goodELGs &= (zbest['ZWARN'] == 0)  &  (zbest['DELTACHI2']>5)\n",
    "goodELGs &= (fm['OBJTYPE'] == 'TGT')"
   ]
  },
  {
   "cell_type": "code",
   "execution_count": null,
   "id": "4587074e-9269-45a3-b432-c1e4a5362ec3",
   "metadata": {},
   "outputs": [],
   "source": [
    "i = np.where(goodELGs)[0][0]\n",
    "z = zbest['Z'][i]\n",
    "targetid = zbest['TARGETID'][i]\n",
    "spectype = zbest['SPECTYPE'][i].strip()\n",
    "subtype = zbest['SUBTYPE'][i].strip()\n",
    "fulltype = (spectype, subtype)\n",
    "ncoeff = templates[fulltype].flux.shape[0]\n",
    "coeff = zbest['COEFF'][i][0:ncoeff]\n",
    "\n",
    "tflux = templates[fulltype].flux.T.dot(coeff)\n",
    "twave = templates[fulltype].wave * (1+z)\n",
    "\n"
   ]
  },
  {
   "cell_type": "code",
   "execution_count": null,
   "id": "7426c244-f68c-4777-a67f-b0d3992cf27c",
   "metadata": {},
   "outputs": [],
   "source": [
    "print(z,targetid)"
   ]
  },
  {
   "cell_type": "code",
   "execution_count": null,
   "id": "c0acdf22-5983-4a65-a6b7-849a984dea37",
   "metadata": {},
   "outputs": [],
   "source": [
    "ispec = np.where(spectra.fibermap['TARGETID'] == targetid)[0][0]\n",
    "\n",
    "plt.figure(figsize=(8,5))\n",
    "plt.subplot(211)\n",
    "maxflux = 0.0\n",
    "for band in spectra.bands:\n",
    "    plt.plot(spectra.wave[band], spectra.flux[band][ispec], 'k-', alpha=0.5)\n",
    "    maxflux = max(maxflux, np.max(spectra.flux[band][ispec]))\n",
    "\n",
    "plt.plot(twave, tflux, 'r-')\n",
    "plt.xlim(3500, 10000)\n",
    "# ylim(-1, 0.9*maxflux)\n",
    "plt.ylim(-1, 8)\n",
    "\n",
    "#- zoom in on [OII]\n",
    "plt.subplot(212)\n",
    "for band in spectra.bands:\n",
    "    plt.plot(spectra.wave[band], spectra.flux[band][ispec], 'k-', alpha=0.5)\n",
    "\n",
    "plt.plot(twave, tflux, 'r-')\n",
    "plt.xlim(3727*(1+z)-100, 3727*(1+z)+100)\n",
    "plt.ylim(-1,8)"
   ]
  },
  {
   "cell_type": "markdown",
   "id": "d0d1abdb-fcca-421b-b91f-5fd89bef4c97",
   "metadata": {},
   "source": [
    "## Look at the best 2nd fit"
   ]
  },
  {
   "cell_type": "code",
   "execution_count": null,
   "id": "edd2eca8-46b1-4fae-a8a7-37943effef61",
   "metadata": {},
   "outputs": [],
   "source": [
    "filename = 'rrdetails-0-80618-thru20210328.h5'\n",
    "\n",
    "data = h5py.File(filename, mode='r')\n",
    "zfit = Table(np.array(data['zfit'][str(targetid)]['zfit']))\n",
    "zfit['znum', 'z', 'spectype', 'zwarn', 'chi2', 'deltachi2']"
   ]
  },
  {
   "cell_type": "code",
   "execution_count": null,
   "id": "8909ba23-d830-4836-bf50-c59171eb2579",
   "metadata": {},
   "outputs": [],
   "source": [
    "coeff_best=zfit['coeff'][0]\n",
    "coeff_2nd=zfit['coeff'][1]\n",
    "z_best=zfit['z'][0]\n",
    "z_2nd=zfit['z'][1]\n",
    "\n",
    "targetids = np.array(data['targetids'])\n",
    "z_table = np.array(data['zscan']['GALAXY']['redshifts']) #scanned z\n",
    "zchi2 = np.array(data['zscan']['GALAXY']['zchi2']) #500 targets per z\n",
    "chi2_penalty = np.array(data['zscan']['GALAXY']['penalty'])\n",
    "\n",
    "tflux_best = templates[fulltype].flux.T.dot(coeff_best)\n",
    "twave_best = templates[fulltype].wave * (1+z_best)\n",
    "\n",
    "tflux_2nd = templates[fulltype].flux.T.dot(coeff_2nd)\n",
    "twave_2nd = templates[fulltype].wave * (1+z_2nd)"
   ]
  },
  {
   "cell_type": "code",
   "execution_count": null,
   "id": "87584b20-d1fa-4f0d-99c1-feb0c67174a6",
   "metadata": {},
   "outputs": [],
   "source": [
    "plt.figure(figsize=(8,5))\n",
    "\n",
    "ymin=-1.\n",
    "ymax=8.\n",
    "\n",
    "plt.subplot(211)\n",
    "\n",
    "for band in spectra.bands:\n",
    "    plt.plot(spectra.wave[band], spectra.flux[band][ispec], 'k-', alpha=0.5)\n",
    "\n",
    "# plot(wave, flux, 'k-', alpha=0.5)\n",
    "plt.plot(twave, tflux, 'r-')\n",
    "plt.xlim(3500, 10000)\n",
    "plt.ylim(ymin, ymax)\n",
    "\n",
    "\n",
    "#- zoom in on [OII]\n",
    "plt.subplot(212)\n",
    "for band in spectra.bands:\n",
    "    plt.plot(spectra.wave[band], spectra.flux[band][ispec], 'k-', alpha=0.5)\n",
    "\n",
    "# plot(wave, flux, 'k-', alpha=0.5)\n",
    "plt.plot(twave_best, tflux_best, 'r-')\n",
    "plt.plot(twave_2nd, tflux_2nd, 'b-')\n",
    "plt.xlim(3727*(1+z)-100, 3727*(1+z)+100)\n",
    "plt.ylim(ymin, ymax)"
   ]
  },
  {
   "cell_type": "markdown",
   "id": "dbca34dc-91ba-4103-a565-e974aa47e625",
   "metadata": {},
   "source": [
    "## Code versions"
   ]
  },
  {
   "cell_type": "code",
   "execution_count": null,
   "id": "8d963b94-b393-42cb-86ca-f3cfea5af3df",
   "metadata": {},
   "outputs": [],
   "source": [
    "print('Code versions used for this tutorial:')\n",
    "desitutorials.print_code_versions()"
   ]
  }
 ],
 "metadata": {
  "kernelspec": {
   "display_name": "DESI 22.2",
   "language": "python",
   "name": "desi-22.2"
  },
  "language_info": {
   "codemirror_mode": {
    "name": "ipython",
    "version": 3
   },
   "file_extension": ".py",
   "mimetype": "text/x-python",
   "name": "python",
   "nbconvert_exporter": "python",
   "pygments_lexer": "ipython3",
   "version": "3.9.7"
  }
 },
 "nbformat": 4,
 "nbformat_minor": 5
}
