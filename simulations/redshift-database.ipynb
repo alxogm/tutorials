{
 "cells": [
  {
   "cell_type": "markdown",
   "metadata": {},
   "source": [
    "# Redshift Database Tutorial\n",
    "\n",
    "## Abstract\n",
    "\n",
    "This tutorial will cover the basics of using the redshift database, which is loaded from the outputs of the DESI pipeline.  Currently, this is based on software release 22.1b, and uses a [PostgreSQL](https://www.postgresql.org/) database. We use [SQLAlchemy](http://www.sqlalchemy.org/) to abstract away the details of the database.\n",
    "\n",
    "## Requirements\n",
    "\n",
    "This tutorial uses data from the `fuji` production (`/global/cfs/cdirs/desi/spectro/redux/fuji`), and the **DESI 22.1b** kernel.\n",
    "\n",
    "## Initial Setup\n",
    "\n",
    "This just imports everything we need and sets up paths and environment variables so we can find things.  The paths are based on the [minitest notebook](https://github.com/desihub/desitest/blob/master/mini/minitest.ipynb)."
   ]
  },
  {
   "cell_type": "code",
   "execution_count": null,
   "metadata": {},
   "outputs": [],
   "source": [
    "#\n",
    "# Imports\n",
    "#\n",
    "import os\n",
    "from argparse import Namespace\n",
    "import numpy as np\n",
    "import matplotlib\n",
    "import matplotlib.pyplot as plt\n",
    "from matplotlib.font_manager import fontManager, FontProperties\n",
    "from sqlalchemy import __version__ as sqlalchemy_version\n",
    "from sqlalchemy import inspect\n",
    "from sqlalchemy.sql import func\n",
    "from astropy.constants import c as lightspeed\n",
    "from astropy.table import Table, MaskedColumn\n",
    "#\n",
    "# DESI software\n",
    "#\n",
    "from desiutil.log import get_logger, DEBUG\n",
    "from desitarget.targetmask import (desi_mask, mws_mask, bgs_mask)\n",
    "from desisim.spec_qa import redshifts as dsq_z\n",
    "from desispec import __version__ as desispec_version\n",
    "import desispec.database.redshift as db\n",
    "#\n",
    "# Paths to files, etc.\n",
    "#\n",
    "specprod = os.environ['SPECPROD'] = 'fuji'\n",
    "basedir = os.path.join(os.environ['DESI_SPECTRO_REDUX'], specprod)\n",
    "# surveydir = os.environ['DESISURVEY_OUTPUT'] = os.path.join(basedir, 'survey')\n",
    "# targetdir = os.path.join(basedir, 'targets')\n",
    "# fibassigndir = os.path.join(basedir, 'fiberassign')\n",
    "# os.environ['DESI_SPECTRO_REDUX'] = os.path.join(basedir, 'spectro', 'redux')\n",
    "# os.environ['DESI_SPECTRO_SIM'] = os.path.join(basedir, 'spectro', 'sim')\n",
    "# os.environ['PIXPROD'] = 'mini'\n",
    "# os.environ['SPECPROD'] = 'mini'\n",
    "# reduxdir = os.path.join(os.environ['DESI_SPECTRO_REDUX'], os.environ['SPECPROD'])\n",
    "# simdatadir = os.path.join(os.environ['DESI_SPECTRO_SIM'], os.environ['PIXPROD'])\n",
    "# os.environ['DESI_SPECTRO_DATA'] = simdatadir\n",
    "#\n",
    "# Working directory.\n",
    "#\n",
    "workingdir = os.getcwd()\n",
    "print(sqlalchemy_version)\n",
    "print(desispec_version)"
   ]
  },
  {
   "cell_type": "markdown",
   "metadata": {},
   "source": [
    "## Contents of the Database\n",
    "\n",
    "All tables are grouped into a database \"schema\" and that schema is named for the production run, (*e.g.* `fuji`).  When writing \"raw\" SQL, table names need to be schema-qualified, for example, `fuji.target`.  However, the SQLAlchemy abstraction layer is designed to take care of this for you.\n",
    "\n",
    "The tables are:\n",
    "\n",
    "* `target`. This contains the photometric and targeting bits.\n",
    "  - Loaded from `targetphot` files.\n",
    "  - SQLAlchemy object: `db.Target`.\n",
    "  - Primary key: `targetid`.\n",
    "* `tile`. This contains information about observations grouped by tile.\n",
    "  - Loaded from top-level `tiles-${SPECPROD}.fits`.\n",
    "  - SQLAlchemy object: `db.Tile`.\n",
    "  - Primary key: `tileid`.\n",
    "* `exposure`. This contains information about individual exposures.\n",
    "  - Loaded from top-level `exposures-${SPECPROD}.fits`, `EXPOSURES` HDU.\n",
    "  - SQLAlchemy object: `db.Exposure`.\n",
    "  - Primary key: `expid`.\n",
    "* `frame`. This contains information about individual exposures, but broken down by camera.  There will usually, but not always, be 30 frames per exposure.\n",
    "  - Loaded from top-level `exposures-${SPECPROD.fits`, `FRAMES` HDU.\n",
    "  - SQLAlchemy object: `db.Frame`.\n",
    "  - Primary key: `frameid`, composed from `expid` and a mapping of `camera` to an arbitrary integer.\n",
    "* `fiberassign`. This contains information about fiber positions.\n",
    "  - Loaded from fiberassign files in the tiles product.  All fiberassign files corresponding to tiles in the `tile` table are loaded.\n",
    "  - SQLAlchemy object: `db.Fiberassign`.\n",
    "  - Primary key: (`tileid`, `targetid`, `location`)\n",
    "* `potential`. This contains a list of `targetid`s that *could* have been targeted on a given tile.\n",
    "  - Loaded from the `POTENTIAL_ASSIGNMENTS` HDU in the same fiberassign files mentioned above.\n",
    "  - SQLAlchemy object: `db.Potential`.\n",
    "  - Primary key: (`tileid`, `targetid`, `location`)\n",
    "* `zpix`. This contains the pipeline redshifts grouped by HEALPixel.\n",
    "  - Loaded from the `zpix-*.fits` files in the `zcatalog/` directory.\n",
    "  - SQLAlchemy object: `db.Zpix`.\n",
    "  - Primary key: (`targetid`, `survey`, `program`)\n",
    "* `ztile`. This contains the pipeline redshifts grouped by tile in a variety of ways.\n",
    "  - Loaded from the `ztile-*.fits` files in the `zcatalog/` directory.\n",
    "  - SQLAlchemy object: `db.Ztile`\n",
    "  - Primary key: (`targetid`, `spgrp`, `spgrpval`, `tileid`)"
   ]
  },
  {
   "cell_type": "markdown",
   "metadata": {},
   "source": [
    "## Initial Database Connection\n",
    "\n",
    "This connection uses a `~/.pgpass` file to set up connection credentials.  [Be sure you have set that up](https://desi.lbl.gov/trac/wiki/DESIProductionDatabase#Setuppgpass)."
   ]
  },
  {
   "cell_type": "code",
   "execution_count": null,
   "metadata": {},
   "outputs": [],
   "source": [
    "db.log = get_logger(DEBUG)\n",
    "postgresql = db.setup_db(schema=specprod, hostname='nerscdb03.nersc.gov', username='desi', verbose=True)"
   ]
  },
  {
   "cell_type": "markdown",
   "metadata": {},
   "source": [
    "## Learning About the Tables\n",
    "\n",
    "The tables in the database are listed above.  To inspect an individual table, you can use the `__table__` attribute."
   ]
  },
  {
   "cell_type": "code",
   "execution_count": null,
   "metadata": {},
   "outputs": [],
   "source": [
    "#\n",
    "# Print the table columns and their types.\n",
    "#\n",
    "[(c.name, c.type) for c in db.Zpix.__table__.columns]"
   ]
  },
  {
   "cell_type": "markdown",
   "metadata": {},
   "source": [
    "We can also `inspect()` the database.  For details see [here](http://docs.sqlalchemy.org/en/latest/core/inspection.html?highlight=inspect#module-sqlalchemy.inspection)."
   ]
  },
  {
   "cell_type": "code",
   "execution_count": null,
   "metadata": {},
   "outputs": [],
   "source": [
    "inspector = inspect(db.engine)\n",
    "for table_name in inspector.get_table_names(schema=specprod):\n",
    "    print(table_name)\n",
    "    for column in inspector.get_columns(table_name, schema=specprod):\n",
    "        print(\"Column: {name} {type}\".format(**column))"
   ]
  },
  {
   "cell_type": "markdown",
   "metadata": {},
   "source": [
    "### Exercises\n",
    "\n",
    "* What is the type of the `night` column of the `exposures` table?\n",
    "* What is the primary key of the `ztile` table?"
   ]
  },
  {
   "cell_type": "markdown",
   "metadata": {},
   "source": [
    "## Simple Queries\n",
    "\n",
    "Queries are set up with the `.query()` method on Session objects.  In this case, there's a prepared Session object called `db.dbSession`.  `.filter()` corresponds to a `WHERE` clause in SQL.\n",
    "\n",
    "### Select ELG Targets\n",
    "\n",
    "Note the special way we obtain the bitwise and operator."
   ]
  },
  {
   "cell_type": "code",
   "execution_count": null,
   "metadata": {},
   "outputs": [],
   "source": [
    "q = db.dbSession.query(db.Target).filter(db.Target.desi_target.op('&')(desi_mask.ELG) != 0).all()"
   ]
  },
  {
   "cell_type": "code",
   "execution_count": null,
   "metadata": {},
   "outputs": [],
   "source": [
    "[(row.targetid, row.desi_target, row.ra, row.dec) for row in q[:10]]"
   ]
  },
  {
   "cell_type": "markdown",
   "metadata": {},
   "source": [
    "### Exercise\n",
    "\n",
    "* How many objects in the `zpix` table have `spectype` 'GALAXY'?"
   ]
  },
  {
   "cell_type": "markdown",
   "metadata": {},
   "source": [
    "### Exposures, Nights, Tiles"
   ]
  },
  {
   "cell_type": "code",
   "execution_count": null,
   "metadata": {},
   "outputs": [],
   "source": [
    "q = db.dbSession.query(db.Exposure.tileid, db.Exposure.survey, db.Exposure.program).filter(db.Exposure.night==20210115).all()"
   ]
  },
  {
   "cell_type": "code",
   "execution_count": null,
   "metadata": {},
   "outputs": [],
   "source": [
    "q"
   ]
  },
  {
   "cell_type": "code",
   "execution_count": null,
   "metadata": {},
   "outputs": [],
   "source": [
    "q = db.dbSession.query(db.Tile).count()"
   ]
  },
  {
   "cell_type": "code",
   "execution_count": null,
   "metadata": {},
   "outputs": [],
   "source": [
    "q"
   ]
  },
  {
   "cell_type": "code",
   "execution_count": null,
   "metadata": {},
   "outputs": [],
   "source": [
    "q = db.dbSession.query(db.Exposure.night, db.Exposure.expid).filter(db.Exposure.tileid==100).all()"
   ]
  },
  {
   "cell_type": "code",
   "execution_count": null,
   "metadata": {},
   "outputs": [],
   "source": [
    "q"
   ]
  },
  {
   "cell_type": "markdown",
   "metadata": {},
   "source": [
    "### Redshift and Classification\n",
    "\n",
    "Simple query filtering on string values."
   ]
  },
  {
   "cell_type": "code",
   "execution_count": null,
   "metadata": {},
   "outputs": [],
   "source": [
    "q = db.dbSession.query(db.Zpix.spectype, db.Zpix.subtype, db.Zpix.z).filter(db.Zpix.spectype=='STAR').filter(db.Zpix.subtype!='').all()"
   ]
  },
  {
   "cell_type": "code",
   "execution_count": null,
   "metadata": {},
   "outputs": [],
   "source": [
    "q"
   ]
  },
  {
   "cell_type": "markdown",
   "metadata": {},
   "source": [
    "## A Join\n",
    "\n",
    "Now let's `JOIN` two tables.  In this case, we'll look at photometric flux and measured redshift. We'll `LIMIT` the query with slice notation."
   ]
  },
  {
   "cell_type": "code",
   "execution_count": null,
   "metadata": {},
   "outputs": [],
   "source": [
    "q = db.dbSession.query(db.Target, db.Zpix).filter(db.Target.targetid == db.Zpix.targetid)[:50]"
   ]
  },
  {
   "cell_type": "code",
   "execution_count": null,
   "metadata": {},
   "outputs": [],
   "source": [
    "[(row.Target.flux_g, row.Target.flux_r, row.Target.flux_z, row.Zpix.z) for row in q]"
   ]
  },
  {
   "cell_type": "code",
   "execution_count": null,
   "metadata": {
    "scrolled": true
   },
   "outputs": [],
   "source": [
    "#\n",
    "# A very similar plot appears in the tutorial notebook dc17a-truth.\n",
    "#\n",
    "# dv = lightspeed.to('km / s') * np.array([(row.ZCat.z - row.Truth.truez) / (1.0 + row.Truth.truez) for row in q])\n",
    "# ttype = [row.Truth.templatetype for row in q]\n",
    "# fig, axes = plt.subplots(2, 3, figsize=(9,6), dpi=100)\n",
    "# for k, objtype in enumerate(set(ttype)):\n",
    "#     i = k % 2\n",
    "#     j = k % 3\n",
    "#     # s = axes[i].subplot(2, 3, 1+i)\n",
    "#     ii = np.array(ttype) == objtype\n",
    "#     axes[i][j].hist(dv[ii], 50, (-100, 100))\n",
    "#     axes[i][j].set_xlabel('{} dv [km/s]'.format(objtype))\n",
    "# fig.tight_layout()"
   ]
  },
  {
   "cell_type": "markdown",
   "metadata": {},
   "source": [
    "### Exercise\n",
    "\n",
    "* Create a color-color plot for objects targeted as QSOs, and spectroscopically confirmed as such."
   ]
  },
  {
   "cell_type": "markdown",
   "metadata": {},
   "source": [
    "## A More Complicated Join\n",
    "\n",
    "Let's look at objects that appear on more than one tile. For each of those tiles, how many exposures where there?\n",
    "\n",
    "In this example, we're using `sqlalchemy.sql.func` to get the equivalent of `COUNT(*)` and a subquery that itself is a multi-table join."
   ]
  },
  {
   "cell_type": "code",
   "execution_count": null,
   "metadata": {},
   "outputs": [],
   "source": [
    "# db.dbSession.rollback()\n",
    "q1 = db.dbSession.query(db.Fiberassign.targetid, func.count('*').label('n_assign')).group_by(db.Fiberassign.targetid).subquery()\n",
    "q2 = db.dbSession.query(db.Tile.nexp, db.Fiberassign.tileid, q1.c.targetid, q1.c.n_assign).filter(q1.c.n_assign>2).filter(db.Fiberassign.targetid == q1.c.targetid).filter(db.Tile.tileid == db.Fiberassign.tileid)[:100]"
   ]
  },
  {
   "cell_type": "code",
   "execution_count": null,
   "metadata": {},
   "outputs": [],
   "source": [
    "q2"
   ]
  },
  {
   "cell_type": "code",
   "execution_count": null,
   "metadata": {},
   "outputs": [],
   "source": [
    "#\n",
    "# If everything matches up, this should return True.\n",
    "#\n",
    "# all([row.ZCat.numexp == row.n_assign for row in q2])"
   ]
  },
  {
   "cell_type": "markdown",
   "metadata": {},
   "source": [
    "### Exercise\n",
    "\n",
    "* What is the distribution of number of exposures?"
   ]
  },
  {
   "cell_type": "markdown",
   "metadata": {},
   "source": [
    "## Efficiency Studies\n",
    "\n",
    "In `desisim.spec_qa.redshifts` there is a lot of functionality for matching redshifts to the truth table (file).  This matching is done automatically for us just by doing a join.  Also note that we're letting the database compute the value of `dz`.\n",
    "\n",
    "We're going to cheat a little bit and convert the database output into an `astropy.table.Table` that can be understood by the `desisim.spec_qa` machinery.  No reason to waste perfectly good code!  In the future, this machinery can & should be updated to use database inputs directly.  Who wants to work on that?"
   ]
  },
  {
   "cell_type": "code",
   "execution_count": null,
   "metadata": {},
   "outputs": [],
   "source": [
    "q = db.dbSession.query(db.Truth, db.Target, db.ZCat, ((db.ZCat.z - db.Truth.truez)/(1.0 + db.Truth.truez)).label('dz'))\\\n",
    "                .filter(db.Truth.targetid == db.ZCat.targetid).filter(db.Target.targetid == db.ZCat.targetid).all()"
   ]
  },
  {
   "cell_type": "code",
   "execution_count": null,
   "metadata": {},
   "outputs": [],
   "source": [
    "def truth_query_to_table(q):\n",
    "    \"\"\"Convert a query result into a Table, so that it can be used with functions in ``desisim.spec_qa.redshifts.``\n",
    "    \"\"\"\n",
    "    t = Table()\n",
    "    columns = list()\n",
    "    mask = [False]*len(q)\n",
    "    for c in db.Truth.__table__.columns:\n",
    "        if c.name == 'truespectype' or c.name == 'templatetype':\n",
    "            columns.append(MaskedColumn([np.char.rstrip(getattr(row.Truth, c.name)) for row in q], name=c.name.upper(), mask=mask))\n",
    "        else:\n",
    "            columns.append(MaskedColumn([getattr(row.Truth, c.name) for row in q], name=c.name.upper(), mask=mask))\n",
    "    for c in ('desi_target', 'bgs_target', 'mws_target'):\n",
    "        columns.append(MaskedColumn([getattr(row.Target, c) for row in q], name=c.upper(), mask=mask))\n",
    "    for c in ('z', 'zerr', 'zwarn', 'spectype'):\n",
    "        if c == 'spectype':\n",
    "            columns.append(MaskedColumn([np.char.rstrip(getattr(row.ZCat, c)) for row in q], name=c.upper(), mask=mask))\n",
    "        else:\n",
    "            columns.append(MaskedColumn([getattr(row.ZCat, c) for row in q], name=c.upper(), mask=mask))\n",
    "    columns.append(MaskedColumn([row.dz for row in q], name='DZ', mask=mask))\n",
    "    t.add_columns(columns)\n",
    "    return t\n",
    "truth = truth_query_to_table(q)"
   ]
  },
  {
   "cell_type": "code",
   "execution_count": null,
   "metadata": {},
   "outputs": [],
   "source": [
    "print('          ntarg   good  fail  miss  lost')\n",
    "for objtype in set(truth['TEMPLATETYPE']):\n",
    "    #isx = (truth['TEMPLATETYPE'] == objtype)\n",
    "    pgood, pfail, pmiss, plost, nx = dsq_z.zstats(truth, objtype=objtype)\n",
    "    #nx = np.count_nonzero(isx)\n",
    "    print('{:6s} {:8d}  {:5.1f} {:5.1f} {:5.1f} {:5.1f}'.format(objtype, nx, pgood, pfail, pmiss, plost))\n",
    "\n",
    "print()\n",
    "print('good = correct redshift and ZWARN==0')\n",
    "print('fail = bad redshift and ZWARN==0 (i.e. catastrophic failures)')\n",
    "print('miss = correct redshift ZWARN!=0 (missed opportunities)')\n",
    "print('lost = wrong redshift ZWARN!=0 (wrong but at least we know it)')"
   ]
  },
  {
   "cell_type": "code",
   "execution_count": null,
   "metadata": {},
   "outputs": [],
   "source": [
    "#\n",
    "# Confusion matrix.  Borrowed from the minitest notebook.\n",
    "#\n",
    "confusion = dsq_z.spectype_confusion(truth)\n",
    "#\n",
    "# Pretty print the confusion matrix.\n",
    "#\n",
    "print('            Redrock')\n",
    "print('Truth     ', end='')\n",
    "for s1 in confusion:\n",
    "    print('{:>8s}'.format(s1), end='')\n",
    "print()\n",
    "for s1 in confusion:\n",
    "    print('{:8s}  '.format(s1), end='')\n",
    "    for s2 in confusion:\n",
    "        try:\n",
    "            print('{:8d}'.format(confusion[s1][s2]), end='')\n",
    "        except KeyError:\n",
    "            print('{:8d}'.format(0), end='')\n",
    "    print()"
   ]
  },
  {
   "cell_type": "code",
   "execution_count": null,
   "metadata": {},
   "outputs": [],
   "source": [
    "#\n",
    "# Obtain detailed statistics for all objects.\n",
    "#\n",
    "stats = dict()\n",
    "for s in np.unique(truth['TEMPLATETYPE']):\n",
    "    stats[s] = dsq_z.calc_obj_stats(truth, s)\n",
    "stats"
   ]
  },
  {
   "cell_type": "markdown",
   "metadata": {},
   "source": [
    "## Going Beyond the Summary\n",
    "\n",
    "Summary statistics are useful, but they don't tell how efficiency and other parameters depend on each other.  How does efficiency depend on magnitude?  Moon in the sky?\n",
    "\n",
    "Some capability exists to do this in `desisim.spec_qa.redshifts`, but we'll start with a basic example just to get the feel of plotting."
   ]
  },
  {
   "cell_type": "code",
   "execution_count": null,
   "metadata": {},
   "outputs": [],
   "source": [
    "#\n",
    "# ZWARNING versus magnitude.\n",
    "#\n",
    "g = 22.5 - 2.5*np.log10(truth['FLUX_G'])\n",
    "r = 22.5 - 2.5*np.log10(truth['FLUX_R'])\n",
    "z = 22.5 - 2.5*np.log10(truth['FLUX_Z'])\n",
    "fig, axes = plt.subplots(3, 1, figsize=(8, 4.5*3), dpi=100)\n",
    "p = axes[0].plot(g, truth['ZWARN'], 'k.')\n",
    "foo = axes[0].set_xlim(axes[0].get_xlim()[1], axes[0].get_xlim()[0])\n",
    "foo = axes[0].grid(True)\n",
    "# foo = axes[0].set_xlabel('g Magnitude')\n",
    "foo = axes[0].set_ylabel('ZWARNING')\n",
    "p = axes[1].plot(g, truth['ZWARN'], 'k.')\n",
    "foo = axes[1].set_xlim(axes[1].get_xlim()[1], axes[1].get_xlim()[0])\n",
    "foo = axes[1].set_ylim(0, 50)\n",
    "foo = axes[1].grid(True)\n",
    "# foo = axes[1].set_xlabel('g Magnitude')\n",
    "foo = axes[1].set_ylabel('ZWARNING')\n",
    "p = axes[2].plot(g, truth['ZWARN'], 'k.')\n",
    "foo = axes[2].set_xlim(axes[2].get_xlim()[1], axes[2].get_xlim()[0])\n",
    "foo = axes[2].set_ylim(0, 5)\n",
    "foo = axes[2].grid(True)\n",
    "foo = axes[2].set_xlabel('g Magnitude')\n",
    "foo = axes[2].set_ylabel('ZWARNING')"
   ]
  },
  {
   "cell_type": "markdown",
   "metadata": {},
   "source": [
    "`desisim.spec_qa.redshifts.plot_slices()` makes nice plots, so we'll leverage that for a simple example."
   ]
  },
  {
   "cell_type": "code",
   "execution_count": null,
   "metadata": {},
   "outputs": [],
   "source": [
    "#\n",
    "# Only return a subset of columns, and then use zip() to go from row-based to column-based.\n",
    "#\n",
    "q = db.dbSession.query(db.Truth.truez, db.ZCat.z, db.ZCat.zwarn, db.Target.flux_g, \n",
    "                       ((db.ZCat.z - db.Truth.truez)/(1.0 + db.Truth.truez)).label('dz'))\\\n",
    "                .filter(db.Truth.targetid == db.ZCat.targetid).filter(db.Target.targetid == db.ZCat.targetid).all()    \n",
    "truez, z, zwarn, flux_g, dz = zip(*q)\n",
    "g = 22.5 - 2.5*np.log10(np.array(flux_g))\n",
    "ok = np.array(zwarn) == 0\n",
    "dv = lightspeed.to('km / s').value * np.array(dz)\n",
    "bad = (np.abs(dv) > 1000)"
   ]
  },
  {
   "cell_type": "code",
   "execution_count": null,
   "metadata": {},
   "outputs": [],
   "source": [
    "fig, axes = plt.subplots(1, 1, figsize=(8, 4.5), dpi=100)\n",
    "p = dsq_z.plot_slices(g, dv, ok, bad, 16, 25, 1000, num_slices=20, axis=axes)\n",
    "foo = axes.set_xlabel('g Magnitude')\n",
    "foo = axes.set_ylabel('Velocity Residual [km / s]')"
   ]
  },
  {
   "cell_type": "markdown",
   "metadata": {},
   "source": [
    "### Exercises\n",
    "\n",
    "* Plot a particular template class, *e.g.* 'QSO_T'.\n",
    "* Plot versus other magnitudes, *e.g.* r, W1."
   ]
  },
  {
   "cell_type": "markdown",
   "metadata": {},
   "source": [
    "## Fly me to the Moon\n",
    "\n",
    "How does the Moon affect redshifts?"
   ]
  },
  {
   "cell_type": "code",
   "execution_count": null,
   "metadata": {},
   "outputs": [],
   "source": [
    "#\n",
    "# How many actual exposures are there with the Moon up?\n",
    "#\n",
    "q = db.dbSession.query(db.ObsList.expid, db.ObsList.moonsep, db.ObsList.moonalt, db.ObsList.moonfrac).filter(db.ObsList.moonalt > 0).all()\n",
    "q"
   ]
  },
  {
   "cell_type": "markdown",
   "metadata": {},
   "source": [
    "So there are a few.  But there is a subtle issue: redshifts are based on *all* exposures, but maybe there are some redshifts where the object was observed *only* with the Moon up. And we can try to compare those objects to similar objects observed *only* with the Moon down."
   ]
  },
  {
   "cell_type": "code",
   "execution_count": null,
   "metadata": {},
   "outputs": [],
   "source": [
    "expid_up = [x[0] for x in q]\n",
    "q = db.dbSession.query(db.ZCat.targetid, db.Target.desi_target, db.Target.bgs_target, db.Target.mws_target, db.ObsList.expid)\\\n",
    "                .filter(db.ZCat.targetid == db.FiberAssign.targetid)\\\n",
    "                .filter(db.ZCat.targetid == db.Target.targetid)\\\n",
    "                .filter(db.FiberAssign.tileid == db.ObsList.tileid)\\\n",
    "                .filter(db.ObsList.expid.in_(expid_up))\\\n",
    "                .order_by(db.ZCat.targetid, db.ObsList.expid).all()\n",
    "targetid, desi_target, bgs_target, mws_target, expid = zip(*q)"
   ]
  },
  {
   "cell_type": "code",
   "execution_count": null,
   "metadata": {},
   "outputs": [],
   "source": [
    "sum(['ELG' in desi_mask.names(t) for t in desi_target])"
   ]
  },
  {
   "cell_type": "code",
   "execution_count": null,
   "metadata": {},
   "outputs": [],
   "source": [
    "#\n",
    "# OK, let's find some ELGs with the Moon up, and some with the Moon down.\n",
    "#\n",
    "q_up = db.dbSession.query(db.ZCat.targetid, db.Truth.truez, db.ZCat.z, db.ZCat.zwarn,\n",
    "                       ((db.ZCat.z - db.Truth.truez)/(1.0 + db.Truth.truez)).label('dz'))\\\n",
    "                   .filter(db.Truth.targetid == db.ZCat.targetid)\\\n",
    "                   .filter(db.Target.targetid == db.ZCat.targetid)\\\n",
    "                   .filter(db.ZCat.targetid == db.FiberAssign.targetid)\\\n",
    "                   .filter(db.FiberAssign.tileid == db.ObsList.tileid)\\\n",
    "                   .filter(db.ObsList.expid.in_(expid_up))\\\n",
    "                   .filter(db.Target.desi_target.op('&')(desi_mask.ELG) != 0)\\\n",
    "                   .all()\n",
    "q_dn = db.dbSession.query(db.ZCat.targetid, db.Truth.truez, db.ZCat.z, db.ZCat.zwarn,\n",
    "                       ((db.ZCat.z - db.Truth.truez)/(1.0 + db.Truth.truez)).label('dz'))\\\n",
    "                   .filter(db.Truth.targetid == db.ZCat.targetid)\\\n",
    "                   .filter(db.Target.targetid == db.ZCat.targetid)\\\n",
    "                   .filter(db.ZCat.targetid == db.FiberAssign.targetid)\\\n",
    "                   .filter(db.FiberAssign.tileid == db.ObsList.tileid)\\\n",
    "                   .filter(~db.ObsList.expid.in_(expid_up))\\\n",
    "                   .filter(db.Target.desi_target.op('&')(desi_mask.ELG) != 0)\\\n",
    "                   .all()[:8342]\n",
    "foo, truez_up, z_up, zwarn_up, dz_up = zip(*q_up)\n",
    "foo, truez_dn, z_dn, zwarn_dn, dz_dn = zip(*q_dn)\n",
    "truez_up = np.array(truez_up)\n",
    "z_up = np.array(z_up)\n",
    "zwarn_up = np.array(zwarn_up)\n",
    "dv_up = lightspeed.to('km / s').value * np.array(dz_up)\n",
    "truez_dn = np.array(truez_dn)\n",
    "z_dn = np.array(z_dn)\n",
    "zwarn_dn = np.array(zwarn_dn)\n",
    "dv_dn = lightspeed.to('km / s').value * np.array(dz_dn)\n",
    "ok_up = zwarn_up == 0\n",
    "ok_dn = zwarn_dn == 0"
   ]
  },
  {
   "cell_type": "code",
   "execution_count": null,
   "metadata": {},
   "outputs": [],
   "source": [
    "#\n",
    "# Observed redshift versus true redshift.\n",
    "#\n",
    "fig, axes = plt.subplots(1, 1, figsize=(8, 8), dpi=100)\n",
    "p1 = axes.plot(truez_up[ok_up], z_up[ok_up], 'r.', label='Up')\n",
    "p2 = axes.plot(truez_dn[ok_dn], z_dn[ok_dn], 'b.', label='Down')\n",
    "foo = axes.set_xlabel('True redshift')\n",
    "foo = axes.set_ylabel('Pipeline redshift')\n",
    "foo = axes.legend(loc=4)"
   ]
  },
  {
   "cell_type": "code",
   "execution_count": null,
   "metadata": {},
   "outputs": [],
   "source": [
    "#\n",
    "# Velocity residual versus true redshift.\n",
    "#\n",
    "fig, axes = plt.subplots(1, 1, figsize=(8, 8), dpi=100)\n",
    "p1 = axes.semilogy(truez_up[ok_up], np.abs(dv_up[ok_up]), 'r.', label='Up')\n",
    "p2 = axes.semilogy(truez_dn[ok_dn], np.abs(dv_dn[ok_dn]), 'b.', label='Down')\n",
    "foo = axes.set_xlabel('True redshift')\n",
    "foo = axes.set_ylabel('Absolute Velocity residual [km/s]')\n",
    "foo = axes.legend(loc=1)"
   ]
  },
  {
   "cell_type": "markdown",
   "metadata": {},
   "source": [
    "Well, there doesn't appear to be much difference here.  That's not necessarily a bad thing!\n",
    "\n",
    "### Exercise\n",
    "\n",
    "* Try a different target class!"
   ]
  },
  {
   "cell_type": "markdown",
   "metadata": {},
   "source": [
    "## Survey Progress\n",
    "\n",
    "Let's see which nights have science data."
   ]
  },
  {
   "cell_type": "code",
   "execution_count": null,
   "metadata": {},
   "outputs": [],
   "source": [
    "q = db.dbSession.query(db.ObsList.night, func.count('*').label('n_science'))\\\n",
    "                .filter(db.ObsList.flavor == 'science')\\\n",
    "                .group_by(db.ObsList.night).order_by(db.ObsList.night).all()\n",
    "q"
   ]
  },
  {
   "cell_type": "markdown",
   "metadata": {},
   "source": [
    "Observation timestamp for a given night."
   ]
  },
  {
   "cell_type": "code",
   "execution_count": null,
   "metadata": {},
   "outputs": [],
   "source": [
    "q = db.dbSession.query(db.ObsList.expid, db.ObsList.mjd)\\\n",
    "                .filter(db.ObsList.flavor == 'science')\\\n",
    "                .filter(db.ObsList.night == '20200317')\\\n",
    "                .order_by(db.ObsList.mjd).all()\n",
    "q"
   ]
  },
  {
   "cell_type": "markdown",
   "metadata": {},
   "source": [
    "So, for a given target in the `target` table, when was the observation completed?  In other words, if a target has multiple observations, we want the date of the *last* observation."
   ]
  },
  {
   "cell_type": "code",
   "execution_count": null,
   "metadata": {},
   "outputs": [],
   "source": [
    "#\n",
    "# How many targets are there?\n",
    "#\n",
    "N_targets = db.dbSession.query(db.Target).count()\n",
    "N_targets"
   ]
  },
  {
   "cell_type": "code",
   "execution_count": null,
   "metadata": {},
   "outputs": [],
   "source": [
    "#\n",
    "# Find all targetids that have observations.\n",
    "#\n",
    "q1 = db.dbSession.query(db.Target.targetid)\\\n",
    "                .filter(db.Target.targetid == db.FiberAssign.targetid)\\\n",
    "                .filter(db.FiberAssign.tileid == db.ObsList.tileid)\\\n",
    "                .group_by(db.Target.targetid)\\\n",
    "                .subquery()\n",
    "#\n",
    "# Find the exposure times for the targetids that have been observed\n",
    "#\n",
    "q2 = db.dbSession.query(db.FiberAssign.targetid, db.ObsList.expid, db.ObsList.mjd)\\\n",
    "                 .filter(db.FiberAssign.targetid == q1.c.targetid)\\\n",
    "                 .filter(db.FiberAssign.tileid == db.ObsList.tileid)\\\n",
    "                 .order_by(q1.c.targetid, db.ObsList.expid).all()\n",
    "targetid, expid, mjd = zip(*q2)\n",
    "targetid = np.array(targetid)\n",
    "expid = np.array(expid)\n",
    "mjd = np.array(mjd)\n",
    "#\n",
    "# Use the counts to give the *last* observation.\n",
    "#\n",
    "unique_targetid, i, j, c = np.unique(targetid, return_index=True, return_inverse=True, return_counts=True)\n",
    "unique_expid = expid[i + (c-1)]\n",
    "unique_mjd = mjd[i + (c-1)]"
   ]
  },
  {
   "cell_type": "code",
   "execution_count": null,
   "metadata": {},
   "outputs": [],
   "source": [
    "#\n",
    "# Now we have the targets and the date of last observation.  But it's sorted by targetid.\n",
    "#\n",
    "ii = unique_expid.argsort()\n",
    "unique_targetid, i3, j3, c3 = np.unique(unique_expid[ii], return_index=True, return_inverse=True, return_counts=True)\n",
    "N_completed = np.cumsum(c3)"
   ]
  },
  {
   "cell_type": "code",
   "execution_count": null,
   "metadata": {},
   "outputs": [],
   "source": [
    "fig, axes = plt.subplots(1, 1, figsize=(8, 8), dpi=100)\n",
    "p1 = axes.plot(unique_mjd[ii][i3] - 58920, N_completed/N_targets, 'k-')\n",
    "foo = axes.set_xlabel('MJD - 58920')\n",
    "foo = axes.set_ylabel('Fraction completed')\n",
    "foo = axes.grid(True)\n",
    "# foo = axes.legend(loc=1)"
   ]
  },
  {
   "cell_type": "markdown",
   "metadata": {},
   "source": [
    "### Exercise\n",
    "\n",
    "* Break down the progress by target class, target bit, etc."
   ]
  },
  {
   "cell_type": "code",
   "execution_count": null,
   "metadata": {},
   "outputs": [],
   "source": []
  }
 ],
 "metadata": {
  "kernelspec": {
   "display_name": "DESI custom",
   "language": "python",
   "name": "desi-custom"
  },
  "language_info": {
   "codemirror_mode": {
    "name": "ipython",
    "version": 3
   },
   "file_extension": ".py",
   "mimetype": "text/x-python",
   "name": "python",
   "nbconvert_exporter": "python",
   "pygments_lexer": "ipython3",
   "version": "3.9.7"
  }
 },
 "nbformat": 4,
 "nbformat_minor": 4
}
