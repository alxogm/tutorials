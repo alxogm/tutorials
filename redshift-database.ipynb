{
 "cells": [
  {
   "cell_type": "markdown",
   "metadata": {},
   "source": [
    "# Redshift Database Tutorial\n",
    "\n",
    "## Abstract\n",
    "\n",
    "This tutorial will cover the basics of using the redshift database, which is loaded from the outputs of the DESI pipeline.  Currently, this is based on reference run 19.2, and uses a SQLite database.  However, by using [SQLAlchemy](http://www.sqlalchemy.org/), we abstract away the details of the database.  In other words only tiny changes to the initial configuration are needed to run the same code with a [PostgreSQL](https://www.postgresql.org/) database.\n",
    "\n",
    "## Requirements\n",
    "\n",
    "This tutorial uses data from the 19.12 reference run (`/global/cfs/cdirs/desi/datachallenge/reference_runs/19.12`), and the **DESI 22.2** kernel.\n",
    "\n",
    "## Initial Setup\n",
    "\n",
    "This just imports everything we need and sets up paths and environment variables so we can find things.  The paths are based on the [minitest notebook](https://github.com/desihub/desitest/blob/master/mini/minitest.ipynb)."
   ]
  },
  {
   "cell_type": "code",
   "execution_count": 1,
   "metadata": {},
   "outputs": [
    {
     "name": "stdout",
     "output_type": "stream",
     "text": [
      "0.51.13\n"
     ]
    }
   ],
   "source": [
    "#\n",
    "# Imports\n",
    "#\n",
    "import os\n",
    "from argparse import Namespace\n",
    "import numpy as np\n",
    "import matplotlib\n",
    "import matplotlib.pyplot as plt\n",
    "from matplotlib.font_manager import fontManager, FontProperties\n",
    "from sqlalchemy import __version__ as sqlalchemy_version\n",
    "from sqlalchemy import inspect\n",
    "from sqlalchemy.sql import func\n",
    "from astropy.constants import c as lightspeed\n",
    "from astropy.table import Table, MaskedColumn\n",
    "#\n",
    "# DESI software\n",
    "#\n",
    "from desitarget.targetmask import (desi_mask, mws_mask, bgs_mask)\n",
    "from desisim.spec_qa import redshifts as dsq_z\n",
    "from desispec import __version__ as desispec_version\n",
    "import desispec.database.redshift as db\n",
    "#\n",
    "# Paths to files, etc.\n",
    "#\n",
    "reference_run = '19.12'\n",
    "program = 'dark'\n",
    "basedir = os.path.join(os.environ['DESI_ROOT'], 'datachallenge', 'reference_runs', reference_run)\n",
    "surveydir = os.environ['DESISURVEY_OUTPUT'] = os.path.join(basedir, 'survey')\n",
    "targetdir = os.path.join(basedir, 'targets')\n",
    "fibassigndir = os.path.join(basedir, 'fiberassign')\n",
    "os.environ['DESI_SPECTRO_REDUX'] = os.path.join(basedir, 'spectro', 'redux')\n",
    "os.environ['DESI_SPECTRO_SIM'] = os.path.join(basedir, 'spectro', 'sim')\n",
    "os.environ['PIXPROD'] = 'mini'\n",
    "os.environ['SPECPROD'] = 'mini'\n",
    "reduxdir = os.path.join(os.environ['DESI_SPECTRO_REDUX'], os.environ['SPECPROD'])\n",
    "simdatadir = os.path.join(os.environ['DESI_SPECTRO_SIM'], os.environ['PIXPROD'])\n",
    "os.environ['DESI_SPECTRO_DATA'] = simdatadir\n",
    "#\n",
    "# Working directory.\n",
    "#\n",
    "workingdir = os.getcwd()\n",
    "print(desispec_version)"
   ]
  },
  {
   "cell_type": "markdown",
   "metadata": {},
   "source": [
    "## Loading the Database\n",
    "\n",
    "### Introduction\n",
    "\n",
    "Although there is normally already a database loaded from the reference_run results, we'll still go through the exercise of loading a new database directly from the files.  It should take less than one minute to load.\n",
    "\n",
    "If you've *already* loaded the database, skip the cell immediately below and jump to the cell with the comment \"If the database already exists...\".\n",
    "\n",
    "The files that get loaded are:\n",
    "\n",
    "* `survey/exposures.fits`.  This records the data about individual exposures.\n",
    "  - Database table name: `obslist`.\n",
    "  - SQLAlchemy object: `db.ObsList`.\n",
    "  - Primary key: `expid`.\n",
    "* `targets/truth.fits`.  The truth table.  What is the *true* redshift of this object?\n",
    "  - Database table name: `truth`.\n",
    "  - SQLAlchemy object: `db.Truth`.\n",
    "  - Primary key: `targetid`.\n",
    "* `targets/target.fits`. The target table.  What objects are we *trying* to observe?\n",
    "  - Database table name: `target`.\n",
    "  - SQLAlchemy object: `db.Target`.\n",
    "  - Primary key: `targetid`.\n",
    "* `spectro/redux/mini/zcatalog-mini.fits`. The actual redshift catalog; the results of the pipeline.\n",
    "  - Database table name: `zcat`.\n",
    "  - SQLAlchemy object: `db.ZCat`.\n",
    "  - Primary key: `targetid`.\n",
    "* `fiberassign/tile-*.fits`. The fiber assignment data.  What fiber ended up on what target?\n",
    "  - Database table name: `fiberassign`.\n",
    "  - SQLAlchemy object: `db.FiberAssign`.\n",
    "  - Primary key: (`tileid`, `fiber`).\n",
    "\n",
    "### Create the Empty Database\n",
    "\n",
    "We'll be using a SQLite database, just ignore the return value of `db.setup_db()`."
   ]
  },
  {
   "cell_type": "code",
   "execution_count": 2,
   "metadata": {},
   "outputs": [
    {
     "name": "stdout",
     "output_type": "stream",
     "text": [
      "INFO:redshift.py:821:setup_db: Removing file: /global/cscratch1/sd/forero/tutorials/minitest-19.12.db.\n",
      "INFO:redshift.py:830:setup_db: Begin creating tables.\n",
      "INFO:redshift.py:834:setup_db: Finished creating tables.\n"
     ]
    }
   ],
   "source": [
    "postgresql = db.setup_db(dbfile=os.path.join(workingdir, 'minitest-{0}.db'.format(reference_run)),\n",
    "                         overwrite=True)"
   ]
  },
  {
   "cell_type": "markdown",
   "metadata": {},
   "source": [
    "### The List of Exposures\n",
    "\n",
    "The `expand` option renames the column `PASS` to `passnum` in the database.  This is to prevent any collisions with the Python statement `pass`.\n",
    "\n",
    "Calibration exposures do not have a well-defined value of (RA, Dec), so in the file, they might be set to NaN.  The `rowfilter` option eliminates those rows, and the warning can be ignored."
   ]
  },
  {
   "cell_type": "code",
   "execution_count": 3,
   "metadata": {},
   "outputs": [
    {
     "name": "stdout",
     "output_type": "stream",
     "text": [
      "INFO:redshift.py:383:load_file: Read data from /global/cfs/cdirs/desi/datachallenge/reference_runs/19.12/survey/exposures.fits HDU EXPOSURES\n",
      "WARNING:redshift.py:393:load_file: 24 rows of bad data detected in column RA of /global/cfs/cdirs/desi/datachallenge/reference_runs/19.12/survey/exposures.fits.\n",
      "WARNING:redshift.py:393:load_file: 24 rows of bad data detected in column DEC of /global/cfs/cdirs/desi/datachallenge/reference_runs/19.12/survey/exposures.fits.\n",
      "INFO:redshift.py:401:load_file: Integrity check complete on obslist.\n",
      "INFO:redshift.py:409:load_file: Initial column conversion complete on obslist.\n",
      "INFO:redshift.py:431:load_file: Column expansion complete on obslist.\n",
      "INFO:redshift.py:437:load_file: Column conversion complete on obslist.\n",
      "INFO:redshift.py:444:load_file: Converted columns into rows on obslist.\n",
      "INFO:redshift.py:450:load_file: Inserted 21 rows in obslist.\n"
     ]
    }
   ],
   "source": [
    "db.load_file(os.path.join(surveydir, 'exposures.fits'), db.ObsList, hdu='EXPOSURES', expand={'PASS': 'passnum'},\n",
    "             rowfilter=lambda x: (x['PROGRAM'] != 'CALIB'))"
   ]
  },
  {
   "cell_type": "markdown",
   "metadata": {},
   "source": [
    "### The Truth and Target Tables\n",
    "\n",
    "Note that we are only loading `program = 'dark'`.  As of release 19.12, the data model for the 'bright' truth tables appears to be different from the 'dark' data model."
   ]
  },
  {
   "cell_type": "code",
   "execution_count": 4,
   "metadata": {},
   "outputs": [
    {
     "name": "stdout",
     "output_type": "stream",
     "text": [
      "INFO:redshift.py:383:load_file: Read data from /global/cfs/cdirs/desi/datachallenge/reference_runs/19.12/targets/truth-dark.fits HDU TRUTH\n",
      "INFO:redshift.py:401:load_file: Integrity check complete on truth.\n",
      "INFO:redshift.py:409:load_file: Initial column conversion complete on truth.\n",
      "INFO:redshift.py:431:load_file: Column expansion complete on truth.\n",
      "INFO:redshift.py:437:load_file: Column conversion complete on truth.\n",
      "INFO:redshift.py:444:load_file: Converted columns into rows on truth.\n",
      "INFO:redshift.py:450:load_file: Inserted 50000 rows in truth.\n",
      "INFO:redshift.py:450:load_file: Inserted 100000 rows in truth.\n",
      "INFO:redshift.py:450:load_file: Inserted 150000 rows in truth.\n",
      "INFO:redshift.py:450:load_file: Inserted 184540 rows in truth.\n",
      "INFO:redshift.py:491:update_truth: Read data from /global/cfs/cdirs/desi/datachallenge/reference_runs/19.12/targets/truth-dark.fits HDU TRUTH_BGS\n",
      "INFO:redshift.py:503:update_truth: Integrity check complete on truth.\n",
      "INFO:redshift.py:513:update_truth: Initial column conversion complete on truth.\n",
      "INFO:redshift.py:517:update_truth: Converted columns into rows on truth.\n",
      "INFO:redshift.py:524:update_truth: Updated 37412 rows in truth.\n",
      "INFO:redshift.py:491:update_truth: Read data from /global/cfs/cdirs/desi/datachallenge/reference_runs/19.12/targets/truth-dark.fits HDU TRUTH_ELG\n",
      "INFO:redshift.py:503:update_truth: Integrity check complete on truth.\n",
      "INFO:redshift.py:513:update_truth: Initial column conversion complete on truth.\n",
      "INFO:redshift.py:517:update_truth: Converted columns into rows on truth.\n",
      "INFO:redshift.py:524:update_truth: Updated 50000 rows in truth.\n",
      "INFO:redshift.py:524:update_truth: Updated 82769 rows in truth.\n",
      "INFO:redshift.py:491:update_truth: Read data from /global/cfs/cdirs/desi/datachallenge/reference_runs/19.12/targets/truth-dark.fits HDU TRUTH_LRG\n",
      "INFO:redshift.py:503:update_truth: Integrity check complete on truth.\n",
      "INFO:redshift.py:513:update_truth: Initial column conversion complete on truth.\n",
      "INFO:redshift.py:517:update_truth: Converted columns into rows on truth.\n",
      "INFO:redshift.py:524:update_truth: Updated 17401 rows in truth.\n",
      "INFO:redshift.py:491:update_truth: Read data from /global/cfs/cdirs/desi/datachallenge/reference_runs/19.12/targets/truth-dark.fits HDU TRUTH_QSO\n",
      "INFO:redshift.py:503:update_truth: Integrity check complete on truth.\n",
      "INFO:redshift.py:513:update_truth: Initial column conversion complete on truth.\n",
      "INFO:redshift.py:517:update_truth: Converted columns into rows on truth.\n",
      "INFO:redshift.py:524:update_truth: Updated 5789 rows in truth.\n",
      "INFO:redshift.py:491:update_truth: Read data from /global/cfs/cdirs/desi/datachallenge/reference_runs/19.12/targets/truth-dark.fits HDU TRUTH_STAR\n",
      "INFO:redshift.py:503:update_truth: Integrity check complete on truth.\n",
      "INFO:redshift.py:513:update_truth: Initial column conversion complete on truth.\n",
      "INFO:redshift.py:517:update_truth: Converted columns into rows on truth.\n",
      "INFO:redshift.py:524:update_truth: Updated 40994 rows in truth.\n",
      "INFO:redshift.py:491:update_truth: Read data from /global/cfs/cdirs/desi/datachallenge/reference_runs/19.12/targets/truth-dark.fits HDU TRUTH_WD\n",
      "INFO:redshift.py:503:update_truth: Integrity check complete on truth.\n",
      "INFO:redshift.py:513:update_truth: Initial column conversion complete on truth.\n",
      "INFO:redshift.py:517:update_truth: Converted columns into rows on truth.\n",
      "INFO:redshift.py:524:update_truth: Updated 175 rows in truth.\n",
      "INFO:redshift.py:383:load_file: Read data from /global/cfs/cdirs/desi/datachallenge/reference_runs/19.12/targets/targets-dark.fits HDU TARGETS\n",
      "INFO:redshift.py:401:load_file: Integrity check complete on target.\n",
      "INFO:redshift.py:409:load_file: Initial column conversion complete on target.\n",
      "INFO:redshift.py:431:load_file: Column expansion complete on target.\n",
      "INFO:redshift.py:437:load_file: Column conversion complete on target.\n",
      "INFO:redshift.py:444:load_file: Converted columns into rows on target.\n",
      "INFO:redshift.py:450:load_file: Inserted 50000 rows in target.\n",
      "INFO:redshift.py:450:load_file: Inserted 100000 rows in target.\n",
      "INFO:redshift.py:450:load_file: Inserted 150000 rows in target.\n",
      "INFO:redshift.py:450:load_file: Inserted 184540 rows in target.\n"
     ]
    }
   ],
   "source": [
    "db.load_file(os.path.join(targetdir, 'truth-{0}.fits'.format(program)), db.Truth, hdu='TRUTH')\n",
    "for h in ('BGS', 'ELG', 'LRG', 'QSO', 'STAR', 'WD'):\n",
    "    db.update_truth(os.path.join(targetdir, 'truth-{0}.fits'.format(program)), 'TRUTH_' + h)\n",
    "# db.load_file(os.path.join(targetdir, 'truth-bright.fits'), db.Truth, hdu='TRUTH')\n",
    "# for h in ('BGS', 'STAR', 'WD'):\n",
    "#     db.update_truth(os.path.join(targetdir, 'truth-bright.fits'), 'TRUTH_' + h)\n",
    "db.load_file(os.path.join(targetdir, 'targets-{0}.fits'.format(program)), db.Target, hdu='TARGETS',\n",
    "             expand={'DCHISQ': ('dchisq_psf', 'dchisq_rex', 'dchisq_dev', 'dchisq_exp', 'dchisq_comp',)})"
   ]
  },
  {
   "cell_type": "markdown",
   "metadata": {},
   "source": [
    "### The Redshift Catalog\n",
    "\n",
    "In this case the expand option expands an array-valued column into corresponding scalar database columns.\n",
    "We also need to filter out some (simulated!) bad fibers that don't have a valid TARGETID (as of reference run 19.2 there are no such columns)."
   ]
  },
  {
   "cell_type": "code",
   "execution_count": 5,
   "metadata": {},
   "outputs": [
    {
     "name": "stdout",
     "output_type": "stream",
     "text": [
      "INFO:redshift.py:383:load_file: Read data from /global/cfs/cdirs/desi/datachallenge/reference_runs/19.12/spectro/redux/mini/zcatalog-mini.fits HDU ZCATALOG\n",
      "INFO:redshift.py:401:load_file: Integrity check complete on zcat.\n",
      "INFO:redshift.py:409:load_file: Initial column conversion complete on zcat.\n",
      "INFO:redshift.py:431:load_file: Column expansion complete on zcat.\n",
      "INFO:redshift.py:437:load_file: Column conversion complete on zcat.\n",
      "INFO:redshift.py:444:load_file: Converted columns into rows on zcat.\n",
      "INFO:redshift.py:450:load_file: Inserted 46156 rows in zcat.\n"
     ]
    }
   ],
   "source": [
    "db.load_file(os.path.join(reduxdir, 'zcatalog-mini.fits'), db.ZCat, hdu=\"ZCATALOG\",\n",
    "             expand={'COEFF': ('coeff_0', 'coeff_1', 'coeff_2', 'coeff_3', 'coeff_4',\n",
    "                               'coeff_5', 'coeff_6', 'coeff_7', 'coeff_8', 'coeff_9',)},\n",
    "             rowfilter=lambda x: ((x['TARGETID'] != 0) & (x['TARGETID'] != -1)))"
   ]
  },
  {
   "cell_type": "markdown",
   "metadata": {},
   "source": [
    "### Fiberassign Outputs\n",
    "\n",
    "The fiberassign outputs are not contained in a single file so a special loading function is needed."
   ]
  },
  {
   "cell_type": "code",
   "execution_count": 6,
   "metadata": {},
   "outputs": [
    {
     "name": "stdout",
     "output_type": "stream",
     "text": [
      "INFO:redshift.py:640:load_fiberassign: Using tile file search path: /global/cfs/cdirs/desi/datachallenge/reference_runs/19.12/fiberassign/fiberassign*.fits*.\n",
      "INFO:redshift.py:645:load_fiberassign: Found 10 tile files.\n",
      "INFO:redshift.py:669:load_fiberassign: Identified 10 tile files for loading.\n",
      "INFO:redshift.py:678:load_fiberassign: Read data from /global/cfs/cdirs/desi/datachallenge/reference_runs/19.12/fiberassign/fiberassign-034170.fits HDU FIBERASSIGN\n",
      "INFO:redshift.py:699:load_fiberassign: Initial column conversion complete on tileid = 34170.\n",
      "INFO:redshift.py:701:load_fiberassign: Converted columns into rows on tileid = 34170.\n",
      "INFO:redshift.py:704:load_fiberassign: Inserted 5000 rows in fiberassign for tileid = 34170.\n",
      "INFO:redshift.py:678:load_fiberassign: Read data from /global/cfs/cdirs/desi/datachallenge/reference_runs/19.12/fiberassign/fiberassign-006927.fits HDU FIBERASSIGN\n",
      "INFO:redshift.py:699:load_fiberassign: Initial column conversion complete on tileid = 6927.\n",
      "INFO:redshift.py:701:load_fiberassign: Converted columns into rows on tileid = 6927.\n",
      "INFO:redshift.py:704:load_fiberassign: Inserted 5000 rows in fiberassign for tileid = 6927.\n",
      "INFO:redshift.py:678:load_fiberassign: Read data from /global/cfs/cdirs/desi/datachallenge/reference_runs/19.12/fiberassign/fiberassign-045704.fits HDU FIBERASSIGN\n",
      "INFO:redshift.py:699:load_fiberassign: Initial column conversion complete on tileid = 45704.\n",
      "INFO:redshift.py:701:load_fiberassign: Converted columns into rows on tileid = 45704.\n",
      "INFO:redshift.py:704:load_fiberassign: Inserted 5000 rows in fiberassign for tileid = 45704.\n",
      "INFO:redshift.py:678:load_fiberassign: Read data from /global/cfs/cdirs/desi/datachallenge/reference_runs/19.12/fiberassign/fiberassign-028408.fits HDU FIBERASSIGN\n",
      "INFO:redshift.py:699:load_fiberassign: Initial column conversion complete on tileid = 28408.\n",
      "INFO:redshift.py:701:load_fiberassign: Converted columns into rows on tileid = 28408.\n",
      "INFO:redshift.py:704:load_fiberassign: Inserted 5000 rows in fiberassign for tileid = 28408.\n",
      "INFO:redshift.py:678:load_fiberassign: Read data from /global/cfs/cdirs/desi/datachallenge/reference_runs/19.12/fiberassign/fiberassign-011108.fits HDU FIBERASSIGN\n",
      "INFO:redshift.py:699:load_fiberassign: Initial column conversion complete on tileid = 11108.\n",
      "INFO:redshift.py:701:load_fiberassign: Converted columns into rows on tileid = 11108.\n",
      "INFO:redshift.py:704:load_fiberassign: Inserted 5000 rows in fiberassign for tileid = 11108.\n",
      "INFO:redshift.py:678:load_fiberassign: Read data from /global/cfs/cdirs/desi/datachallenge/reference_runs/19.12/fiberassign/fiberassign-018465.fits HDU FIBERASSIGN\n",
      "INFO:redshift.py:699:load_fiberassign: Initial column conversion complete on tileid = 18465.\n",
      "INFO:redshift.py:701:load_fiberassign: Converted columns into rows on tileid = 18465.\n",
      "INFO:redshift.py:704:load_fiberassign: Inserted 5000 rows in fiberassign for tileid = 18465.\n",
      "INFO:redshift.py:678:load_fiberassign: Read data from /global/cfs/cdirs/desi/datachallenge/reference_runs/19.12/fiberassign/fiberassign-016870.fits HDU FIBERASSIGN\n",
      "INFO:redshift.py:699:load_fiberassign: Initial column conversion complete on tileid = 16870.\n",
      "INFO:redshift.py:701:load_fiberassign: Converted columns into rows on tileid = 16870.\n",
      "INFO:redshift.py:704:load_fiberassign: Inserted 5000 rows in fiberassign for tileid = 16870.\n",
      "INFO:redshift.py:678:load_fiberassign: Read data from /global/cfs/cdirs/desi/datachallenge/reference_runs/19.12/fiberassign/fiberassign-024227.fits HDU FIBERASSIGN\n",
      "INFO:redshift.py:699:load_fiberassign: Initial column conversion complete on tileid = 24227.\n",
      "INFO:redshift.py:701:load_fiberassign: Converted columns into rows on tileid = 24227.\n",
      "INFO:redshift.py:704:load_fiberassign: Inserted 5000 rows in fiberassign for tileid = 24227.\n",
      "INFO:redshift.py:678:load_fiberassign: Read data from /global/cfs/cdirs/desi/datachallenge/reference_runs/19.12/fiberassign/fiberassign-001165.fits HDU FIBERASSIGN\n",
      "INFO:redshift.py:699:load_fiberassign: Initial column conversion complete on tileid = 1165.\n",
      "INFO:redshift.py:701:load_fiberassign: Converted columns into rows on tileid = 1165.\n",
      "INFO:redshift.py:704:load_fiberassign: Inserted 5000 rows in fiberassign for tileid = 1165.\n",
      "INFO:redshift.py:678:load_fiberassign: Read data from /global/cfs/cdirs/desi/datachallenge/reference_runs/19.12/fiberassign/fiberassign-039942.fits HDU FIBERASSIGN\n",
      "INFO:redshift.py:699:load_fiberassign: Initial column conversion complete on tileid = 39942.\n",
      "INFO:redshift.py:701:load_fiberassign: Converted columns into rows on tileid = 39942.\n",
      "INFO:redshift.py:704:load_fiberassign: Inserted 5000 rows in fiberassign for tileid = 39942.\n"
     ]
    }
   ],
   "source": [
    "db.load_fiberassign(fibassigndir)"
   ]
  },
  {
   "cell_type": "markdown",
   "metadata": {},
   "source": [
    "### Database Already Exists?\n",
    "\n",
    "If the database already exists, just skip to this step."
   ]
  },
  {
   "cell_type": "code",
   "execution_count": 7,
   "metadata": {},
   "outputs": [
    {
     "name": "stdout",
     "output_type": "stream",
     "text": [
      "INFO:redshift.py:830:setup_db: Begin creating tables.\n",
      "INFO:redshift.py:834:setup_db: Finished creating tables.\n"
     ]
    }
   ],
   "source": [
    "postgresql = db.setup_db(dbfile=os.path.join(workingdir, 'minitest-{0}.db'.format(reference_run)))"
   ]
  },
  {
   "cell_type": "markdown",
   "metadata": {},
   "source": [
    "## Learning About the Tables\n",
    "\n",
    "The tables in the database are listed above.  To inspect an individual table, you can use the `__table__` attribute."
   ]
  },
  {
   "cell_type": "code",
   "execution_count": 8,
   "metadata": {},
   "outputs": [
    {
     "data": {
      "text/plain": [
       "[('targetid', BigInteger()),\n",
       " ('chi2', Float()),\n",
       " ('coeff_0', Float()),\n",
       " ('coeff_1', Float()),\n",
       " ('coeff_2', Float()),\n",
       " ('coeff_3', Float()),\n",
       " ('coeff_4', Float()),\n",
       " ('coeff_5', Float()),\n",
       " ('coeff_6', Float()),\n",
       " ('coeff_7', Float()),\n",
       " ('coeff_8', Float()),\n",
       " ('coeff_9', Float()),\n",
       " ('z', Float()),\n",
       " ('zerr', Float()),\n",
       " ('zwarn', BigInteger()),\n",
       " ('npixels', BigInteger()),\n",
       " ('spectype', String()),\n",
       " ('subtype', String()),\n",
       " ('ncoeff', BigInteger()),\n",
       " ('deltachi2', Float()),\n",
       " ('brickname', String()),\n",
       " ('numexp', Integer()),\n",
       " ('numtile', Integer())]"
      ]
     },
     "execution_count": 8,
     "metadata": {},
     "output_type": "execute_result"
    }
   ],
   "source": [
    "#\n",
    "# Print the table columns and their types.\n",
    "#\n",
    "[(c.name, c.type) for c in db.ZCat.__table__.columns]"
   ]
  },
  {
   "cell_type": "markdown",
   "metadata": {},
   "source": [
    "We can also `inspect()` the database.  For details see [here](http://docs.sqlalchemy.org/en/latest/core/inspection.html?highlight=inspect#module-sqlalchemy.inspection)."
   ]
  },
  {
   "cell_type": "code",
   "execution_count": 9,
   "metadata": {},
   "outputs": [
    {
     "name": "stdout",
     "output_type": "stream",
     "text": [
      "fiberassign\n",
      "Column: tileid INTEGER\n",
      "Column: targetid BIGINT\n",
      "Column: petal_loc INTEGER\n",
      "Column: device_loc INTEGER\n",
      "Column: location INTEGER\n",
      "Column: fiber INTEGER\n",
      "Column: fiberstatus INTEGER\n",
      "Column: target_ra FLOAT\n",
      "Column: target_dec FLOAT\n",
      "Column: pmra FLOAT\n",
      "Column: pmdec FLOAT\n",
      "Column: pmra_ivar FLOAT\n",
      "Column: pmdec_ivar FLOAT\n",
      "Column: ref_epoch FLOAT\n",
      "Column: lambda_ref FLOAT\n",
      "Column: fa_target BIGINT\n",
      "Column: fa_type INTEGER\n",
      "Column: objtype VARCHAR\n",
      "Column: fiberassign_x FLOAT\n",
      "Column: fiberassign_y FLOAT\n",
      "Column: numtarget INTEGER\n",
      "Column: priority INTEGER\n",
      "Column: subpriority FLOAT\n",
      "Column: obsconditions BIGINT\n",
      "Column: numobs_more INTEGER\n",
      "obslist\n",
      "Column: expid INTEGER\n",
      "Column: tileid INTEGER\n",
      "Column: passnum INTEGER\n",
      "Column: ra FLOAT\n",
      "Column: dec FLOAT\n",
      "Column: ebmv FLOAT\n",
      "Column: night VARCHAR\n",
      "Column: mjd FLOAT\n",
      "Column: exptime FLOAT\n",
      "Column: seeing FLOAT\n",
      "Column: transparency FLOAT\n",
      "Column: airmass FLOAT\n",
      "Column: moonfrac FLOAT\n",
      "Column: moonalt FLOAT\n",
      "Column: moonsep FLOAT\n",
      "Column: program VARCHAR\n",
      "Column: flavor VARCHAR\n",
      "target\n",
      "Column: release INTEGER\n",
      "Column: brickid INTEGER\n",
      "Column: brickname VARCHAR\n",
      "Column: brick_objid INTEGER\n",
      "Column: morphtype VARCHAR\n",
      "Column: ra FLOAT\n",
      "Column: dec FLOAT\n",
      "Column: ra_ivar FLOAT\n",
      "Column: dec_ivar FLOAT\n",
      "Column: dchisq_psf FLOAT\n",
      "Column: dchisq_rex FLOAT\n",
      "Column: dchisq_dev FLOAT\n",
      "Column: dchisq_exp FLOAT\n",
      "Column: dchisq_comp FLOAT\n",
      "Column: flux_g FLOAT\n",
      "Column: flux_r FLOAT\n",
      "Column: flux_z FLOAT\n",
      "Column: flux_w1 FLOAT\n",
      "Column: flux_w2 FLOAT\n",
      "Column: flux_w3 FLOAT\n",
      "Column: flux_w4 FLOAT\n",
      "Column: flux_ivar_g FLOAT\n",
      "Column: flux_ivar_r FLOAT\n",
      "Column: flux_ivar_z FLOAT\n",
      "Column: flux_ivar_w1 FLOAT\n",
      "Column: flux_ivar_w2 FLOAT\n",
      "Column: flux_ivar_w3 FLOAT\n",
      "Column: flux_ivar_w4 FLOAT\n",
      "Column: mw_transmission_g FLOAT\n",
      "Column: mw_transmission_r FLOAT\n",
      "Column: mw_transmission_z FLOAT\n",
      "Column: mw_transmission_w1 FLOAT\n",
      "Column: mw_transmission_w2 FLOAT\n",
      "Column: mw_transmission_w3 FLOAT\n",
      "Column: mw_transmission_w4 FLOAT\n",
      "Column: nobs_g INTEGER\n",
      "Column: nobs_r INTEGER\n",
      "Column: nobs_z INTEGER\n",
      "Column: fracflux_g FLOAT\n",
      "Column: fracflux_r FLOAT\n",
      "Column: fracflux_z FLOAT\n",
      "Column: fracmasked_g FLOAT\n",
      "Column: fracmasked_r FLOAT\n",
      "Column: fracmasked_z FLOAT\n",
      "Column: fracin_g FLOAT\n",
      "Column: fracin_r FLOAT\n",
      "Column: fracin_z FLOAT\n",
      "Column: allmask_g FLOAT\n",
      "Column: allmask_r FLOAT\n",
      "Column: allmask_z FLOAT\n",
      "Column: wisemask_w1 INTEGER\n",
      "Column: wisemask_w2 INTEGER\n",
      "Column: psfdepth_g FLOAT\n",
      "Column: psfdepth_r FLOAT\n",
      "Column: psfdepth_z FLOAT\n",
      "Column: galdepth_g FLOAT\n",
      "Column: galdepth_r FLOAT\n",
      "Column: galdepth_z FLOAT\n",
      "Column: fracdev FLOAT\n",
      "Column: fracdev_ivar FLOAT\n",
      "Column: shapedev_r FLOAT\n",
      "Column: shapedev_r_ivar FLOAT\n",
      "Column: shapedev_e1 FLOAT\n",
      "Column: shapedev_e1_ivar FLOAT\n",
      "Column: shapedev_e2 FLOAT\n",
      "Column: shapedev_e2_ivar FLOAT\n",
      "Column: shapeexp_r FLOAT\n",
      "Column: shapeexp_r_ivar FLOAT\n",
      "Column: shapeexp_e1 FLOAT\n",
      "Column: shapeexp_e1_ivar FLOAT\n",
      "Column: shapeexp_e2 FLOAT\n",
      "Column: shapeexp_e2_ivar FLOAT\n",
      "Column: fiberflux_g FLOAT\n",
      "Column: fiberflux_r FLOAT\n",
      "Column: fiberflux_z FLOAT\n",
      "Column: fibertotflux_g FLOAT\n",
      "Column: fibertotflux_r FLOAT\n",
      "Column: fibertotflux_z FLOAT\n",
      "Column: ref_cat VARCHAR\n",
      "Column: ref_id BIGINT\n",
      "Column: gaia_phot_g_mean_mag FLOAT\n",
      "Column: gaia_phot_g_mean_flux_over_error FLOAT\n",
      "Column: gaia_phot_bp_mean_mag FLOAT\n",
      "Column: gaia_phot_bp_mean_flux_over_error FLOAT\n",
      "Column: gaia_phot_rp_mean_mag FLOAT\n",
      "Column: gaia_phot_rp_mean_flux_over_error FLOAT\n",
      "Column: gaia_phot_bp_rp_excess_factor FLOAT\n",
      "Column: gaia_astrometric_sigma5d_max FLOAT\n",
      "Column: gaia_astrometric_params_solved BIGINT\n",
      "Column: gaia_astrometric_excess_noise FLOAT\n",
      "Column: gaia_duplicated_source BOOLEAN\n",
      "Column: parallax FLOAT\n",
      "Column: parallax_ivar FLOAT\n",
      "Column: pmra FLOAT\n",
      "Column: pmra_ivar FLOAT\n",
      "Column: pmdec FLOAT\n",
      "Column: pmdec_ivar FLOAT\n",
      "Column: maskbits INTEGER\n",
      "Column: ebv FLOAT\n",
      "Column: photsys VARCHAR\n",
      "Column: targetid BIGINT\n",
      "Column: desi_target BIGINT\n",
      "Column: bgs_target BIGINT\n",
      "Column: mws_target BIGINT\n",
      "Column: subpriority FLOAT\n",
      "Column: obsconditions BIGINT\n",
      "Column: priority_init BIGINT\n",
      "Column: numobs_init BIGINT\n",
      "Column: hpxpixel BIGINT\n",
      "truth\n",
      "Column: targetid BIGINT\n",
      "Column: mockid BIGINT\n",
      "Column: truez FLOAT\n",
      "Column: truespectype VARCHAR\n",
      "Column: templatetype VARCHAR\n",
      "Column: templatesubtype VARCHAR\n",
      "Column: templateid INTEGER\n",
      "Column: seed BIGINT\n",
      "Column: mag FLOAT\n",
      "Column: magfilter VARCHAR\n",
      "Column: flux_g FLOAT\n",
      "Column: flux_r FLOAT\n",
      "Column: flux_z FLOAT\n",
      "Column: flux_w1 FLOAT\n",
      "Column: flux_w2 FLOAT\n",
      "Column: flux_w3 FLOAT\n",
      "Column: flux_w4 FLOAT\n",
      "Column: oiiflux FLOAT\n",
      "Column: hbetaflux FLOAT\n",
      "Column: ewoii FLOAT\n",
      "Column: ewhbeta FLOAT\n",
      "Column: d4000 FLOAT\n",
      "Column: vdisp FLOAT\n",
      "Column: oiidoublet FLOAT\n",
      "Column: oiiihbeta FLOAT\n",
      "Column: oiihbeta FLOAT\n",
      "Column: niihbeta FLOAT\n",
      "Column: siihbeta FLOAT\n",
      "Column: mabs_1450 FLOAT\n",
      "Column: bal_templateid INTEGER\n",
      "Column: truez_norsd FLOAT\n",
      "Column: teff FLOAT\n",
      "Column: logg FLOAT\n",
      "Column: feh FLOAT\n",
      "zcat\n",
      "Column: targetid BIGINT\n",
      "Column: chi2 FLOAT\n",
      "Column: coeff_0 FLOAT\n",
      "Column: coeff_1 FLOAT\n",
      "Column: coeff_2 FLOAT\n",
      "Column: coeff_3 FLOAT\n",
      "Column: coeff_4 FLOAT\n",
      "Column: coeff_5 FLOAT\n",
      "Column: coeff_6 FLOAT\n",
      "Column: coeff_7 FLOAT\n",
      "Column: coeff_8 FLOAT\n",
      "Column: coeff_9 FLOAT\n",
      "Column: z FLOAT\n",
      "Column: zerr FLOAT\n",
      "Column: zwarn BIGINT\n",
      "Column: npixels BIGINT\n",
      "Column: spectype VARCHAR\n",
      "Column: subtype VARCHAR\n",
      "Column: ncoeff BIGINT\n",
      "Column: deltachi2 FLOAT\n",
      "Column: brickname VARCHAR\n",
      "Column: numexp INTEGER\n",
      "Column: numtile INTEGER\n"
     ]
    }
   ],
   "source": [
    "inspector = inspect(db.engine)\n",
    "for table_name in inspector.get_table_names():\n",
    "    print(table_name)\n",
    "    for column in inspector.get_columns(table_name):\n",
    "        print(\"Column: {name} {type}\".format(**column))"
   ]
  },
  {
   "cell_type": "markdown",
   "metadata": {},
   "source": [
    "### Exercises\n",
    "\n",
    "* What is the type of the `night` column of the `obslist` table?\n",
    "* What is the primary key of the `obslist` table?"
   ]
  },
  {
   "cell_type": "markdown",
   "metadata": {},
   "source": [
    "## Simple Queries\n",
    "\n",
    "Queries are set up with the `.query()` method on Session objects.  In this case, there's a prepared Session object called `db.dbSession`.  `.filter()` corresponds to a `WHERE` clause in SQL."
   ]
  },
  {
   "cell_type": "code",
   "execution_count": 10,
   "metadata": {},
   "outputs": [],
   "source": [
    "#\n",
    "# Select ELG targets.  Note the special way we obtain the bitwise and operator.\n",
    "#\n",
    "q = db.dbSession.query(db.Target).filter(db.Target.desi_target.op('&')(desi_mask.ELG) != 0).all()"
   ]
  },
  {
   "cell_type": "code",
   "execution_count": 11,
   "metadata": {},
   "outputs": [
    {
     "data": {
      "text/plain": [
       "[(288230398217946296, 2, 152.63101196289062, 28.019878387451172),\n",
       " (288230398217946297, 2, 152.67250061035156, 28.405426025390625),\n",
       " (288230398217946298, 2, 152.4641876220703, 28.264007568359375),\n",
       " (288230398217946299, 2, 152.50230407714844, 28.12849235534668),\n",
       " (288230398217946300, 2, 152.86244201660156, 28.312042236328125),\n",
       " (288230398217946301, 2, 152.3681640625, 28.253368377685547),\n",
       " (288230398217946302, 2, 152.33863830566406, 28.205591201782227),\n",
       " (288230398217946303, 2, 152.59718322753906, 28.33623695373535),\n",
       " (288230398217946304, 2, 152.7061004638672, 28.455724716186523),\n",
       " (288230398217946305, 2, 152.42266845703125, 28.127506256103516)]"
      ]
     },
     "execution_count": 11,
     "metadata": {},
     "output_type": "execute_result"
    }
   ],
   "source": [
    "[(row.targetid, row.desi_target, row.ra, row.dec) for row in q[:10]]"
   ]
  },
  {
   "cell_type": "markdown",
   "metadata": {},
   "source": [
    "### Exercise\n",
    "\n",
    "* How many objects in the `zcat` table have `spectype` 'GALAXY'?"
   ]
  },
  {
   "cell_type": "markdown",
   "metadata": {},
   "source": [
    "## A Join\n",
    "\n",
    "Now let's `JOIN` two tables.  In this case, we'll look at true redshift versus measured redshift."
   ]
  },
  {
   "cell_type": "code",
   "execution_count": 12,
   "metadata": {},
   "outputs": [],
   "source": [
    "q = db.dbSession.query(db.Truth, db.ZCat).filter(db.Truth.targetid == db.ZCat.targetid).all()"
   ]
  },
  {
   "cell_type": "code",
   "execution_count": 13,
   "metadata": {},
   "outputs": [
    {
     "data": {
      "text/plain": [
       "[(0.5243048071861267, 0.5247666670941465),\n",
       " (0.610842764377594, 0.6109138602825719),\n",
       " (0.3204444944858551, 0.3197911520330147),\n",
       " (0.2909930348396301, 0.2909208038271644),\n",
       " (0.5011224746704102, 0.5012448719856236),\n",
       " (0.1829882562160492, 0.18284118527104395),\n",
       " (0.2858923673629761, 0.28570193716630543),\n",
       " (0.3924110233783722, 0.3924000725729913),\n",
       " (0.30035343766212463, 0.34705368036477824),\n",
       " (0.14972858130931854, 0.14984085323531043)]"
      ]
     },
     "execution_count": 13,
     "metadata": {},
     "output_type": "execute_result"
    }
   ],
   "source": [
    "[(row.Truth.truez, row.ZCat.z) for row in q[:10]]"
   ]
  },
  {
   "cell_type": "code",
   "execution_count": 14,
   "metadata": {
    "scrolled": true
   },
   "outputs": [
    {
     "data": {
      "image/png": "[encoded data removed]",
      "text/plain": [
       "<Figure size 900x600 with 6 Axes>"
      ]
     },
     "metadata": {
      "needs_background": "light"
     },
     "output_type": "display_data"
    }
   ],
   "source": [
    "#\n",
    "# A very similar plot appears in the tutorial notebook dc17a-truth.\n",
    "#\n",
    "dv = lightspeed.to('km / s') * np.array([(row.ZCat.z - row.Truth.truez) / (1.0 + row.Truth.truez) for row in q])\n",
    "ttype = [row.Truth.templatetype for row in q]\n",
    "fig, axes = plt.subplots(2, 3, figsize=(9,6), dpi=100)\n",
    "for k, objtype in enumerate(set(ttype)):\n",
    "    i = k % 2\n",
    "    j = k % 3\n",
    "    # s = axes[i].subplot(2, 3, 1+i)\n",
    "    ii = np.array(ttype) == objtype\n",
    "    axes[i][j].hist(dv[ii], 50, (-100, 100))\n",
    "    axes[i][j].set_xlabel('{} dv [km/s]'.format(objtype))\n",
    "fig.tight_layout()"
   ]
  },
  {
   "cell_type": "markdown",
   "metadata": {},
   "source": [
    "### Exercise\n",
    "\n",
    "* For QSOs, plot true redshift versus observed redshift."
   ]
  },
  {
   "cell_type": "markdown",
   "metadata": {},
   "source": [
    "## A More Complicated Join\n",
    "\n",
    "Let's do a consistency check: do the number of observations in the `db.ZCat` table match the corresponding number of exposures and fiber assignments?\n",
    "\n",
    "In this example, we're using `sqlalchemy.sql.func` to get the equivalent of `COUNT(*)` and a subquery that itself is a multi-table join."
   ]
  },
  {
   "cell_type": "code",
   "execution_count": 15,
   "metadata": {},
   "outputs": [],
   "source": [
    "q1 = db.dbSession.query(db.ZCat.targetid, db.FiberAssign.tileid, db.ObsList.expid, func.count('*').label('n_assign'))\\\n",
    "                .filter(db.ZCat.targetid == db.FiberAssign.targetid)\\\n",
    "                .filter(db.FiberAssign.tileid == db.ObsList.tileid)\\\n",
    "                .group_by(db.ZCat.targetid).subquery()\n",
    "q2 = db.dbSession.query(db.ZCat, q1)\\\n",
    "                 .filter(db.ZCat.targetid == q1.c.targetid)\\\n",
    "                 .order_by(db.ZCat.targetid).all()"
   ]
  },
  {
   "cell_type": "code",
   "execution_count": 16,
   "metadata": {},
   "outputs": [
    {
     "data": {
      "text/plain": [
       "(<ZCat(targetid=-229443361)>, -229443361, 45704, 41, 2)"
      ]
     },
     "execution_count": 16,
     "metadata": {},
     "output_type": "execute_result"
    }
   ],
   "source": [
    "#\n",
    "# Examine the structure of what is returned.\n",
    "#\n",
    "q2[0]"
   ]
  },
  {
   "cell_type": "code",
   "execution_count": 17,
   "metadata": {},
   "outputs": [
    {
     "data": {
      "text/plain": [
       "True"
      ]
     },
     "execution_count": 17,
     "metadata": {},
     "output_type": "execute_result"
    }
   ],
   "source": [
    "#\n",
    "# If everything matches up, this should return True.\n",
    "#\n",
    "all([row.ZCat.numexp == row.n_assign for row in q2])"
   ]
  },
  {
   "cell_type": "markdown",
   "metadata": {},
   "source": [
    "### Exercise\n",
    "\n",
    "* What is the distribution of number of exposures?"
   ]
  },
  {
   "cell_type": "markdown",
   "metadata": {},
   "source": [
    "## Updates\n",
    "\n",
    "It turns out that the QSO templates in the Truth table are not as useful as they could be.  They should be split into two classes: 'QSO_L' For Lyman-alpha QSOs with redshift >= 2.1 and 'QSO_T' for all other QSOs with redshift < 2.1.\n",
    "\n",
    "Also note that, currently, strings get loaded into the database with padding, but it's easy to deal with that with a `LIKE` statement."
   ]
  },
  {
   "cell_type": "code",
   "execution_count": 18,
   "metadata": {},
   "outputs": [],
   "source": [
    "q = db.dbSession.query(db.Truth).filter(db.Truth.truez >= 2.1).filter(db.Truth.templatetype.like('QSO%')).all()"
   ]
  },
  {
   "cell_type": "code",
   "execution_count": 19,
   "metadata": {},
   "outputs": [
    {
     "data": {
      "text/plain": [
       "<Truth(targetid=288230398217948825)>"
      ]
     },
     "execution_count": 19,
     "metadata": {},
     "output_type": "execute_result"
    }
   ],
   "source": [
    "q[0]"
   ]
  },
  {
   "cell_type": "code",
   "execution_count": 20,
   "metadata": {},
   "outputs": [],
   "source": [
    "#\n",
    "# Updates are very easy.\n",
    "#\n",
    "for row in q:\n",
    "    row.templatetype = 'QSO_L'\n",
    "#\n",
    "# Commit the changes to the database.\n",
    "#\n",
    "db.dbSession.commit()"
   ]
  },
  {
   "cell_type": "code",
   "execution_count": 21,
   "metadata": {},
   "outputs": [],
   "source": [
    "#\n",
    "# Did the change happen?\n",
    "#\n",
    "q = db.dbSession.query(db.Truth).filter(db.Truth.truez >= 2.1).filter(db.Truth.templatetype.like('QSO%')).all()"
   ]
  },
  {
   "cell_type": "code",
   "execution_count": 22,
   "metadata": {},
   "outputs": [
    {
     "data": {
      "text/plain": [
       "True"
      ]
     },
     "execution_count": 22,
     "metadata": {},
     "output_type": "execute_result"
    }
   ],
   "source": [
    "all([row.templatetype == 'QSO_L' for row in q])"
   ]
  },
  {
   "cell_type": "markdown",
   "metadata": {},
   "source": [
    "### Exercise\n",
    "\n",
    "* Do the same for 'QSO_T'."
   ]
  },
  {
   "cell_type": "markdown",
   "metadata": {},
   "source": [
    "## Efficiency Studies\n",
    "\n",
    "In `desisim.spec_qa.redshifts` there is a lot of functionality for matching redshifts to the truth table (file).  This matching is done automatically for us just by doing a join.  Also note that we're letting the database compute the value of `dz`.\n",
    "\n",
    "We're going to cheat a little bit and convert the database output into an `astropy.table.Table` that can be understood by the `desisim.spec_qa` machinery.  No reason to waste perfectly good code!  In the future, this machinery can & should be updated to use database inputs directly.  Who wants to work on that?"
   ]
  },
  {
   "cell_type": "code",
   "execution_count": 23,
   "metadata": {},
   "outputs": [],
   "source": [
    "q = db.dbSession.query(db.Truth, db.Target, db.ZCat, ((db.ZCat.z - db.Truth.truez)/(1.0 + db.Truth.truez)).label('dz'))\\\n",
    "                .filter(db.Truth.targetid == db.ZCat.targetid).filter(db.Target.targetid == db.ZCat.targetid).all()"
   ]
  },
  {
   "cell_type": "code",
   "execution_count": 24,
   "metadata": {},
   "outputs": [],
   "source": [
    "def truth_query_to_table(q):\n",
    "    \"\"\"Convert a query result into a Table, so that it can be used with functions in ``desisim.spec_qa.redshifts.``\n",
    "    \"\"\"\n",
    "    t = Table()\n",
    "    columns = list()\n",
    "    mask = [False]*len(q)\n",
    "    for c in db.Truth.__table__.columns:\n",
    "        if c.name == 'truespectype' or c.name == 'templatetype':\n",
    "            columns.append(MaskedColumn([np.char.rstrip(getattr(row.Truth, c.name)) for row in q], name=c.name.upper(), mask=mask))\n",
    "        else:\n",
    "            columns.append(MaskedColumn([getattr(row.Truth, c.name) for row in q], name=c.name.upper(), mask=mask))\n",
    "    for c in ('desi_target', 'bgs_target', 'mws_target'):\n",
    "        columns.append(MaskedColumn([getattr(row.Target, c) for row in q], name=c.upper(), mask=mask))\n",
    "    for c in ('z', 'zerr', 'zwarn', 'spectype'):\n",
    "        if c == 'spectype':\n",
    "            columns.append(MaskedColumn([np.char.rstrip(getattr(row.ZCat, c)) for row in q], name=c.upper(), mask=mask))\n",
    "        else:\n",
    "            columns.append(MaskedColumn([getattr(row.ZCat, c) for row in q], name=c.upper(), mask=mask))\n",
    "    columns.append(MaskedColumn([row.dz for row in q], name='DZ', mask=mask))\n",
    "    t.add_columns(columns)\n",
    "    return t\n",
    "truth = truth_query_to_table(q)"
   ]
  },
  {
   "cell_type": "code",
   "execution_count": 25,
   "metadata": {},
   "outputs": [
    {
     "name": "stdout",
     "output_type": "stream",
     "text": [
      "          ntarg   good  fail  miss  lost\n",
      "QSO_L       845   99.9   0.1   0.0   0.0\n",
      "QSO        1959   98.5   0.4   0.7   0.4\n",
      "LRG        5433  100.0   0.0   0.0   0.0\n",
      "BGS        3772   92.2   0.2   4.7   3.0\n",
      "ELG       18095   78.5   0.6   9.1  11.8\n",
      "STAR       3605   92.3   0.4   1.9   5.4\n",
      "WD           90  100.0   0.0   0.0   0.0\n",
      "\n",
      "good = correct redshift and ZWARN==0\n",
      "fail = bad redshift and ZWARN==0 (i.e. catastrophic failures)\n",
      "miss = correct redshift ZWARN!=0 (missed opportunities)\n",
      "lost = wrong redshift ZWARN!=0 (wrong but at least we know it)\n"
     ]
    }
   ],
   "source": [
    "print('          ntarg   good  fail  miss  lost')\n",
    "for objtype in set(truth['TEMPLATETYPE']):\n",
    "    #isx = (truth['TEMPLATETYPE'] == objtype)\n",
    "    pgood, pfail, pmiss, plost, nx = dsq_z.zstats(truth, objtype=objtype)\n",
    "    #nx = np.count_nonzero(isx)\n",
    "    print('{:6s} {:8d}  {:5.1f} {:5.1f} {:5.1f} {:5.1f}'.format(objtype, nx, pgood, pfail, pmiss, plost))\n",
    "\n",
    "print()\n",
    "print('good = correct redshift and ZWARN==0')\n",
    "print('fail = bad redshift and ZWARN==0 (i.e. catastrophic failures)')\n",
    "print('miss = correct redshift ZWARN!=0 (missed opportunities)')\n",
    "print('lost = wrong redshift ZWARN!=0 (wrong but at least we know it)')"
   ]
  },
  {
   "cell_type": "code",
   "execution_count": 26,
   "metadata": {},
   "outputs": [
    {
     "name": "stdout",
     "output_type": "stream",
     "text": [
      "            Redrock\n",
      "Truth       GALAXY     QSO    STAR      WD\n",
      "GALAXY       27514       1       2       0\n",
      "QSO             14    2790       0       0\n",
      "STAR           269       0    3336       0\n",
      "WD               0       0      90       0\n"
     ]
    }
   ],
   "source": [
    "#\n",
    "# Confusion matrix.  Borrowed from the minitest notebook.\n",
    "#\n",
    "confusion = dsq_z.spectype_confusion(truth)\n",
    "#\n",
    "# Pretty print the confusion matrix.\n",
    "#\n",
    "print('            Redrock')\n",
    "print('Truth     ', end='')\n",
    "for s1 in confusion:\n",
    "    print('{:>8s}'.format(s1), end='')\n",
    "print()\n",
    "for s1 in confusion:\n",
    "    print('{:8s}  '.format(s1), end='')\n",
    "    for s2 in confusion:\n",
    "        try:\n",
    "            print('{:8d}'.format(confusion[s1][s2]), end='')\n",
    "        except KeyError:\n",
    "            print('{:8d}'.format(0), end='')\n",
    "    print()"
   ]
  },
  {
   "cell_type": "code",
   "execution_count": 27,
   "metadata": {},
   "outputs": [
    {
     "name": "stderr",
     "output_type": "stream",
     "text": [
      "/global/common/software/desi/cori/desiconda/20211217-2.0.0/conda/lib/python3.9/site-packages/numpy/core/fromnumeric.py:755: UserWarning: Warning: 'partition' will ignore the 'mask' of the MaskedColumn.\n",
      "  a.partition(kth, axis=axis, kind=kind, order=order)\n"
     ]
    },
    {
     "data": {
      "text/plain": [
       "{'BGS': {'N_TARG': 3772,\n",
       "  'N_zA': 3772,\n",
       "  'N_SURVEY': 3772,\n",
       "  'N_CAT': 7,\n",
       "  'CAT_RATE': 0.001855779427359491,\n",
       "  'N_GOODZ': 3476,\n",
       "  'N_ZWARN0': 3483,\n",
       "  'EFF': 0.9215270413573701,\n",
       "  'PURITY': 0.9979902383003159,\n",
       "  'MEAN_DZ': 1.6473930407018026e-06,\n",
       "  'MEDIAN_DZ': 1.2532100046568876e-06,\n",
       "  'RMS_DZ': 0.00018535542449003498},\n",
       " 'ELG': {'N_TARG': 5802,\n",
       "  'N_zA': 18095,\n",
       "  'N_SURVEY': 5802,\n",
       "  'N_CAT': 1,\n",
       "  'CAT_RATE': 0.0001723543605653223,\n",
       "  'N_GOODZ': 5769,\n",
       "  'N_ZWARN0': 5770,\n",
       "  'EFF': 0.9943123061013444,\n",
       "  'PURITY': 0.9998266897746967,\n",
       "  'MEAN_DZ': 1.0178985043626518e-06,\n",
       "  'MEDIAN_DZ': -4.0334014024321585e-08,\n",
       "  'RMS_DZ': 5.781933420536454e-05},\n",
       " 'LRG': {'N_TARG': 5433,\n",
       "  'N_zA': 5433,\n",
       "  'N_SURVEY': 5433,\n",
       "  'N_CAT': 0,\n",
       "  'CAT_RATE': 0.0,\n",
       "  'N_GOODZ': 5431,\n",
       "  'N_ZWARN0': 5431,\n",
       "  'EFF': 0.9996318792563961,\n",
       "  'PURITY': 1.0,\n",
       "  'MEAN_DZ': -3.280541281966512e-06,\n",
       "  'MEDIAN_DZ': 2.9209981237122196e-07,\n",
       "  'RMS_DZ': 0.0001788047222669484},\n",
       " 'QSO': {'N_TARG': 1959,\n",
       "  'N_zA': 1959,\n",
       "  'N_SURVEY': 1959,\n",
       "  'N_CAT': 8,\n",
       "  'CAT_RATE': 0.00408371618172537,\n",
       "  'N_GOODZ': 1930,\n",
       "  'N_ZWARN0': 1938,\n",
       "  'EFF': 0.9851965288412455,\n",
       "  'PURITY': 0.9958720330237358,\n",
       "  'MEAN_DZ': 0.00015020318198518846,\n",
       "  'MEDIAN_DZ': 0.00014051900131402856,\n",
       "  'RMS_DZ': 0.0004559523711979585},\n",
       " 'QSO_L': {'N_TARG': 845,\n",
       "  'N_zA': 845,\n",
       "  'N_SURVEY': 845,\n",
       "  'N_CAT': 1,\n",
       "  'CAT_RATE': 0.001183431952662722,\n",
       "  'N_GOODZ': 844,\n",
       "  'N_ZWARN0': 845,\n",
       "  'EFF': 0.9988165680473373,\n",
       "  'PURITY': 0.9988165680473373,\n",
       "  'MEAN_DZ': 8.70295481749017e-06,\n",
       "  'MEDIAN_DZ': 2.7561465534257732e-05,\n",
       "  'RMS_DZ': 0.00038997039658649824},\n",
       " 'STAR': {'N_TARG': 3567,\n",
       "  'N_zA': 3605,\n",
       "  'N_SURVEY': 3567,\n",
       "  'N_CAT': 13,\n",
       "  'CAT_RATE': 0.0036445192038127277,\n",
       "  'N_GOODZ': 3327,\n",
       "  'N_ZWARN0': 3340,\n",
       "  'EFF': 0.9327165685449958,\n",
       "  'PURITY': 0.9961077844311377,\n",
       "  'MEAN_DZ': -6.504079395810588e-07,\n",
       "  'MEDIAN_DZ': -1.1782659742661717e-06,\n",
       "  'RMS_DZ': 4.9644284949499375e-05},\n",
       " 'WD': {'N_TARG': 90,\n",
       "  'N_zA': 90,\n",
       "  'N_SURVEY': 90,\n",
       "  'N_CAT': 0,\n",
       "  'CAT_RATE': 0.0,\n",
       "  'N_GOODZ': 90,\n",
       "  'N_ZWARN0': 90,\n",
       "  'EFF': 1.0,\n",
       "  'PURITY': 1.0,\n",
       "  'MEAN_DZ': 3.567583932130227e-05,\n",
       "  'MEDIAN_DZ': 9.124667137063386e-06,\n",
       "  'RMS_DZ': 0.00019488508250741087}}"
      ]
     },
     "execution_count": 27,
     "metadata": {},
     "output_type": "execute_result"
    }
   ],
   "source": [
    "#\n",
    "# Obtain detailed statistics for all objects.\n",
    "#\n",
    "stats = dict()\n",
    "for s in np.unique(truth['TEMPLATETYPE']):\n",
    "    stats[s] = dsq_z.calc_obj_stats(truth, s)\n",
    "stats"
   ]
  },
  {
   "cell_type": "markdown",
   "metadata": {},
   "source": [
    "## Going Beyond the Summary\n",
    "\n",
    "Summary statistics are useful, but they don't tell how efficiency and other parameters depend on each other.  How does efficiency depend on magnitude?  Moon in the sky?\n",
    "\n",
    "Some capability exists to do this in `desisim.spec_qa.redshifts`, but we'll start with a basic example just to get the feel of plotting."
   ]
  },
  {
   "cell_type": "code",
   "execution_count": 28,
   "metadata": {},
   "outputs": [
    {
     "data": {
      "image/png": "[encoded data removed]",
      "text/plain": [
       "<Figure size 800x1350 with 3 Axes>"
      ]
     },
     "metadata": {
      "needs_background": "light"
     },
     "output_type": "display_data"
    }
   ],
   "source": [
    "#\n",
    "# ZWARNING versus magnitude.\n",
    "#\n",
    "g = 22.5 - 2.5*np.log10(truth['FLUX_G'])\n",
    "r = 22.5 - 2.5*np.log10(truth['FLUX_R'])\n",
    "z = 22.5 - 2.5*np.log10(truth['FLUX_Z'])\n",
    "fig, axes = plt.subplots(3, 1, figsize=(8, 4.5*3), dpi=100)\n",
    "p = axes[0].plot(g, truth['ZWARN'], 'k.')\n",
    "foo = axes[0].set_xlim(axes[0].get_xlim()[1], axes[0].get_xlim()[0])\n",
    "foo = axes[0].grid(True)\n",
    "# foo = axes[0].set_xlabel('g Magnitude')\n",
    "foo = axes[0].set_ylabel('ZWARNING')\n",
    "p = axes[1].plot(g, truth['ZWARN'], 'k.')\n",
    "foo = axes[1].set_xlim(axes[1].get_xlim()[1], axes[1].get_xlim()[0])\n",
    "foo = axes[1].set_ylim(0, 50)\n",
    "foo = axes[1].grid(True)\n",
    "# foo = axes[1].set_xlabel('g Magnitude')\n",
    "foo = axes[1].set_ylabel('ZWARNING')\n",
    "p = axes[2].plot(g, truth['ZWARN'], 'k.')\n",
    "foo = axes[2].set_xlim(axes[2].get_xlim()[1], axes[2].get_xlim()[0])\n",
    "foo = axes[2].set_ylim(0, 5)\n",
    "foo = axes[2].grid(True)\n",
    "foo = axes[2].set_xlabel('g Magnitude')\n",
    "foo = axes[2].set_ylabel('ZWARNING')"
   ]
  },
  {
   "cell_type": "markdown",
   "metadata": {},
   "source": [
    "`desisim.spec_qa.redshifts.plot_slices()` makes nice plots, so we'll leverage that for a simple example."
   ]
  },
  {
   "cell_type": "code",
   "execution_count": 29,
   "metadata": {},
   "outputs": [],
   "source": [
    "#\n",
    "# Only return a subset of columns, and then use zip() to go from row-based to column-based.\n",
    "#\n",
    "q = db.dbSession.query(db.Truth.truez, db.ZCat.z, db.ZCat.zwarn, db.Target.flux_g, \n",
    "                       ((db.ZCat.z - db.Truth.truez)/(1.0 + db.Truth.truez)).label('dz'))\\\n",
    "                .filter(db.Truth.targetid == db.ZCat.targetid).filter(db.Target.targetid == db.ZCat.targetid).all()    \n",
    "truez, z, zwarn, flux_g, dz = zip(*q)\n",
    "g = 22.5 - 2.5*np.log10(np.array(flux_g))\n",
    "ok = np.array(zwarn) == 0\n",
    "dv = lightspeed.to('km / s').value * np.array(dz)\n",
    "bad = (np.abs(dv) > 1000)"
   ]
  },
  {
   "cell_type": "code",
   "execution_count": 30,
   "metadata": {},
   "outputs": [
    {
     "data": {
      "image/png": "[encoded data removed]",
      "text/plain": [
       "<Figure size 800x450 with 2 Axes>"
      ]
     },
     "metadata": {
      "needs_background": "light"
     },
     "output_type": "display_data"
    }
   ],
   "source": [
    "fig, axes = plt.subplots(1, 1, figsize=(8, 4.5), dpi=100)\n",
    "p = dsq_z.plot_slices(g, dv, ok, bad, 16, 25, 1000, num_slices=20, axis=axes)\n",
    "foo = axes.set_xlabel('g Magnitude')\n",
    "foo = axes.set_ylabel('Velocity Residual [km / s]')"
   ]
  },
  {
   "cell_type": "markdown",
   "metadata": {},
   "source": [
    "### Exercises\n",
    "\n",
    "* Plot a particular template class, *e.g.* 'QSO_T'.\n",
    "* Plot versus other magnitudes, *e.g.* r, W1."
   ]
  },
  {
   "cell_type": "markdown",
   "metadata": {},
   "source": [
    "## Fly me to the Moon\n",
    "\n",
    "How does the Moon affect redshifts?"
   ]
  },
  {
   "cell_type": "code",
   "execution_count": 31,
   "metadata": {},
   "outputs": [
    {
     "data": {
      "text/plain": [
       "[(8, 122.44709475771212, 0.42488345946132045, 0.4860627058850807),\n",
       " (9, 122.53670459889443, 2.3616454543105827, 0.4852787587295292),\n",
       " (10, 122.95360969391353, 5.028193277131029, 0.48418123271160535),\n",
       " (11, 123.0440276920421, 6.983493291066839, 0.4833611033797137),\n",
       " (39, 116.34353638147344, 0.4001825648595744, 0.7545447815726879),\n",
       " (40, 116.41446917621921, 1.8375721269357053, 0.7540001078638929),\n",
       " (41, 117.19230298558917, 2.965627215753266, 0.7535689078439843),\n",
       " (42, 117.25566306308285, 4.2603465939951635, 0.7530696236114574),\n",
       " (43, 118.22121418015178, 5.426226448422642, 0.7526157288537715),\n",
       " (44, 118.27198428284888, 6.466068399075752, 0.7522072235723536)]"
      ]
     },
     "execution_count": 31,
     "metadata": {},
     "output_type": "execute_result"
    }
   ],
   "source": [
    "#\n",
    "# How many actual exposures are there with the Moon up?\n",
    "#\n",
    "q = db.dbSession.query(db.ObsList.expid, db.ObsList.moonsep, db.ObsList.moonalt, db.ObsList.moonfrac).filter(db.ObsList.moonalt > 0).all()\n",
    "q"
   ]
  },
  {
   "cell_type": "markdown",
   "metadata": {},
   "source": [
    "So there are a few.  But there is a subtle issue: redshifts are based on *all* exposures, but maybe there are some redshifts where the object was observed *only* with the Moon up. And we can try to compare those objects to similar objects observed *only* with the Moon down."
   ]
  },
  {
   "cell_type": "code",
   "execution_count": 32,
   "metadata": {},
   "outputs": [],
   "source": [
    "expid_up = [x[0] for x in q]\n",
    "q = db.dbSession.query(db.ZCat.targetid, db.Target.desi_target, db.Target.bgs_target, db.Target.mws_target, db.ObsList.expid)\\\n",
    "                .filter(db.ZCat.targetid == db.FiberAssign.targetid)\\\n",
    "                .filter(db.ZCat.targetid == db.Target.targetid)\\\n",
    "                .filter(db.FiberAssign.tileid == db.ObsList.tileid)\\\n",
    "                .filter(db.ObsList.expid.in_(expid_up))\\\n",
    "                .order_by(db.ZCat.targetid, db.ObsList.expid).all()\n",
    "targetid, desi_target, bgs_target, mws_target, expid = zip(*q)"
   ]
  },
  {
   "cell_type": "code",
   "execution_count": 33,
   "metadata": {},
   "outputs": [
    {
     "data": {
      "text/plain": [
       "17134"
      ]
     },
     "execution_count": 33,
     "metadata": {},
     "output_type": "execute_result"
    }
   ],
   "source": [
    "sum(['ELG' in desi_mask.names(t) for t in desi_target])"
   ]
  },
  {
   "cell_type": "code",
   "execution_count": 34,
   "metadata": {},
   "outputs": [],
   "source": [
    "#\n",
    "# OK, let's find some ELGs with the Moon up, and some with the Moon down.\n",
    "#\n",
    "q_up = db.dbSession.query(db.ZCat.targetid, db.Truth.truez, db.ZCat.z, db.ZCat.zwarn,\n",
    "                       ((db.ZCat.z - db.Truth.truez)/(1.0 + db.Truth.truez)).label('dz'))\\\n",
    "                   .filter(db.Truth.targetid == db.ZCat.targetid)\\\n",
    "                   .filter(db.Target.targetid == db.ZCat.targetid)\\\n",
    "                   .filter(db.ZCat.targetid == db.FiberAssign.targetid)\\\n",
    "                   .filter(db.FiberAssign.tileid == db.ObsList.tileid)\\\n",
    "                   .filter(db.ObsList.expid.in_(expid_up))\\\n",
    "                   .filter(db.Target.desi_target.op('&')(desi_mask.ELG) != 0)\\\n",
    "                   .all()\n",
    "q_dn = db.dbSession.query(db.ZCat.targetid, db.Truth.truez, db.ZCat.z, db.ZCat.zwarn,\n",
    "                       ((db.ZCat.z - db.Truth.truez)/(1.0 + db.Truth.truez)).label('dz'))\\\n",
    "                   .filter(db.Truth.targetid == db.ZCat.targetid)\\\n",
    "                   .filter(db.Target.targetid == db.ZCat.targetid)\\\n",
    "                   .filter(db.ZCat.targetid == db.FiberAssign.targetid)\\\n",
    "                   .filter(db.FiberAssign.tileid == db.ObsList.tileid)\\\n",
    "                   .filter(~db.ObsList.expid.in_(expid_up))\\\n",
    "                   .filter(db.Target.desi_target.op('&')(desi_mask.ELG) != 0)\\\n",
    "                   .all()[:8342]\n",
    "foo, truez_up, z_up, zwarn_up, dz_up = zip(*q_up)\n",
    "foo, truez_dn, z_dn, zwarn_dn, dz_dn = zip(*q_dn)\n",
    "truez_up = np.array(truez_up)\n",
    "z_up = np.array(z_up)\n",
    "zwarn_up = np.array(zwarn_up)\n",
    "dv_up = lightspeed.to('km / s').value * np.array(dz_up)\n",
    "truez_dn = np.array(truez_dn)\n",
    "z_dn = np.array(z_dn)\n",
    "zwarn_dn = np.array(zwarn_dn)\n",
    "dv_dn = lightspeed.to('km / s').value * np.array(dz_dn)\n",
    "ok_up = zwarn_up == 0\n",
    "ok_dn = zwarn_dn == 0"
   ]
  },
  {
   "cell_type": "code",
   "execution_count": 35,
   "metadata": {},
   "outputs": [
    {
     "data": {
      "image/png": "[encoded data removed]",
      "text/plain": [
       "<Figure size 800x800 with 1 Axes>"
      ]
     },
     "metadata": {
      "needs_background": "light"
     },
     "output_type": "display_data"
    }
   ],
   "source": [
    "#\n",
    "# Observed redshift versus true redshift.\n",
    "#\n",
    "fig, axes = plt.subplots(1, 1, figsize=(8, 8), dpi=100)\n",
    "p1 = axes.plot(truez_up[ok_up], z_up[ok_up], 'r.', label='Up')\n",
    "p2 = axes.plot(truez_dn[ok_dn], z_dn[ok_dn], 'b.', label='Down')\n",
    "foo = axes.set_xlabel('True redshift')\n",
    "foo = axes.set_ylabel('Pipeline redshift')\n",
    "foo = axes.legend(loc=4)"
   ]
  },
  {
   "cell_type": "code",
   "execution_count": 36,
   "metadata": {},
   "outputs": [
    {
     "data": {
      "image/png": "[encoded data removed]",
      "text/plain": [
       "<Figure size 800x800 with 1 Axes>"
      ]
     },
     "metadata": {
      "needs_background": "light"
     },
     "output_type": "display_data"
    }
   ],
   "source": [
    "#\n",
    "# Velocity residual versus true redshift.\n",
    "#\n",
    "fig, axes = plt.subplots(1, 1, figsize=(8, 8), dpi=100)\n",
    "p1 = axes.semilogy(truez_up[ok_up], np.abs(dv_up[ok_up]), 'r.', label='Up')\n",
    "p2 = axes.semilogy(truez_dn[ok_dn], np.abs(dv_dn[ok_dn]), 'b.', label='Down')\n",
    "foo = axes.set_xlabel('True redshift')\n",
    "foo = axes.set_ylabel('Absolute Velocity residual [km/s]')\n",
    "foo = axes.legend(loc=1)"
   ]
  },
  {
   "cell_type": "markdown",
   "metadata": {},
   "source": [
    "Well, there doesn't appear to be much difference here.  That's not necessarily a bad thing!\n",
    "\n",
    "### Exercise\n",
    "\n",
    "* Try a different target class!"
   ]
  },
  {
   "cell_type": "markdown",
   "metadata": {},
   "source": [
    "## Survey Progress\n",
    "\n",
    "Let's see which nights have science data."
   ]
  },
  {
   "cell_type": "code",
   "execution_count": 37,
   "metadata": {},
   "outputs": [
    {
     "data": {
      "text/plain": [
       "[('20200315', 6), ('20200317', 4), ('20200319', 5), ('20200411', 6)]"
      ]
     },
     "execution_count": 37,
     "metadata": {},
     "output_type": "execute_result"
    }
   ],
   "source": [
    "q = db.dbSession.query(db.ObsList.night, func.count('*').label('n_science'))\\\n",
    "                .filter(db.ObsList.flavor == 'science')\\\n",
    "                .group_by(db.ObsList.night).order_by(db.ObsList.night).all()\n",
    "q"
   ]
  },
  {
   "cell_type": "markdown",
   "metadata": {},
   "source": [
    "Observation timestamp for a given night."
   ]
  },
  {
   "cell_type": "code",
   "execution_count": 38,
   "metadata": {},
   "outputs": [
    {
     "data": {
      "text/plain": [
       "[(18, 58926.112499999996),\n",
       " (19, 58926.12337962945),\n",
       " (20, 58926.13229166635),\n",
       " (21, 58926.14074074029)]"
      ]
     },
     "execution_count": 38,
     "metadata": {},
     "output_type": "execute_result"
    }
   ],
   "source": [
    "q = db.dbSession.query(db.ObsList.expid, db.ObsList.mjd)\\\n",
    "                .filter(db.ObsList.flavor == 'science')\\\n",
    "                .filter(db.ObsList.night == '20200317')\\\n",
    "                .order_by(db.ObsList.mjd).all()\n",
    "q"
   ]
  },
  {
   "cell_type": "markdown",
   "metadata": {},
   "source": [
    "So, for a given target in the `target` table, when was the observation completed?  In other words, if a target has multiple observations, we want the date of the *last* observation."
   ]
  },
  {
   "cell_type": "code",
   "execution_count": 39,
   "metadata": {},
   "outputs": [
    {
     "data": {
      "text/plain": [
       "184540"
      ]
     },
     "execution_count": 39,
     "metadata": {},
     "output_type": "execute_result"
    }
   ],
   "source": [
    "#\n",
    "# How many targets are there?\n",
    "#\n",
    "N_targets = db.dbSession.query(db.Target).count()\n",
    "N_targets"
   ]
  },
  {
   "cell_type": "code",
   "execution_count": 40,
   "metadata": {},
   "outputs": [],
   "source": [
    "#\n",
    "# Find all targetids that have observations.\n",
    "#\n",
    "q1 = db.dbSession.query(db.Target.targetid)\\\n",
    "                .filter(db.Target.targetid == db.FiberAssign.targetid)\\\n",
    "                .filter(db.FiberAssign.tileid == db.ObsList.tileid)\\\n",
    "                .group_by(db.Target.targetid)\\\n",
    "                .subquery()\n",
    "#\n",
    "# Find the exposure times for the targetids that have been observed\n",
    "#\n",
    "q2 = db.dbSession.query(db.FiberAssign.targetid, db.ObsList.expid, db.ObsList.mjd)\\\n",
    "                 .filter(db.FiberAssign.targetid == q1.c.targetid)\\\n",
    "                 .filter(db.FiberAssign.tileid == db.ObsList.tileid)\\\n",
    "                 .order_by(q1.c.targetid, db.ObsList.expid).all()\n",
    "targetid, expid, mjd = zip(*q2)\n",
    "targetid = np.array(targetid)\n",
    "expid = np.array(expid)\n",
    "mjd = np.array(mjd)\n",
    "#\n",
    "# Use the counts to give the *last* observation.\n",
    "#\n",
    "unique_targetid, i, j, c = np.unique(targetid, return_index=True, return_inverse=True, return_counts=True)\n",
    "unique_expid = expid[i + (c-1)]\n",
    "unique_mjd = mjd[i + (c-1)]"
   ]
  },
  {
   "cell_type": "code",
   "execution_count": 41,
   "metadata": {},
   "outputs": [],
   "source": [
    "#\n",
    "# Now we have the targets and the date of last observation.  But it's sorted by targetid.\n",
    "#\n",
    "ii = unique_expid.argsort()\n",
    "unique_targetid, i3, j3, c3 = np.unique(unique_expid[ii], return_index=True, return_inverse=True, return_counts=True)\n",
    "N_completed = np.cumsum(c3)"
   ]
  },
  {
   "cell_type": "code",
   "execution_count": 42,
   "metadata": {},
   "outputs": [
    {
     "data": {
      "image/png": "[encoded data removed]",
      "text/plain": [
       "<Figure size 800x800 with 1 Axes>"
      ]
     },
     "metadata": {
      "needs_background": "light"
     },
     "output_type": "display_data"
    }
   ],
   "source": [
    "fig, axes = plt.subplots(1, 1, figsize=(8, 8), dpi=100)\n",
    "p1 = axes.plot(unique_mjd[ii][i3] - 58920, N_completed/N_targets, 'k-')\n",
    "foo = axes.set_xlabel('MJD - 58920')\n",
    "foo = axes.set_ylabel('Fraction completed')\n",
    "foo = axes.grid(True)\n",
    "# foo = axes.legend(loc=1)"
   ]
  },
  {
   "cell_type": "markdown",
   "metadata": {},
   "source": [
    "### Exercise\n",
    "\n",
    "* Break down the progress by target class, target bit, etc."
   ]
  },
  {
   "cell_type": "code",
   "execution_count": null,
   "metadata": {},
   "outputs": [],
   "source": []
  }
 ],
 "metadata": {
  "kernelspec": {
   "display_name": "DESI 22.2",
   "language": "python",
   "name": "desi-22.2"
  },
  "language_info": {
   "codemirror_mode": {
    "name": "ipython",
    "version": 3
   },
   "file_extension": ".py",
   "mimetype": "text/x-python",
   "name": "python",
   "nbconvert_exporter": "python",
   "pygments_lexer": "ipython3",
   "version": "3.9.7"
  }
 },
 "nbformat": 4,
 "nbformat_minor": 4
}
