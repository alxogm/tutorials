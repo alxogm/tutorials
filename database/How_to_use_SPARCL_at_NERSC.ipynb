{
 "cells": [
  {
   "cell_type": "code",
   "execution_count": null,
   "id": "b20ea4e7",
   "metadata": {
    "tags": []
   },
   "outputs": [],
   "source": [
    "__author__ = 'Alice Jacques <alice.jacques@noirlab.edu>, Stephanie Juneau <stephanie.juneau@noirlab.edu>, SPARCL team'\n",
    "__version__ = '20241213' # yyyymmdd\n",
    "__datasets__ = ['sdss_dr16', 'boss_dr16', 'desi_edr', 'desi_dr1']  \n",
    "__keywords__ = ['sparcl', 'spectroscopy', 'HowTo', 'sdss spectra', 'desi spectra', 'tutorial']"
   ]
  },
  {
   "cell_type": "markdown",
   "id": "b4162486",
   "metadata": {},
   "source": [
    "# How to use SPARCL at NERSC\n",
    "## SPectra Analysis and Retrievable Catalog Lab (SPARCL)\n",
    "Alice Jacques (NOIRLab), Stéphanie Juneau (NOIRLab), Benjamin Weaver (NOIRLab), Steve Pothier (NOIRLab), Adam Bolton (SLAC) and the SPARCL team"
   ]
  },
  {
   "cell_type": "markdown",
   "id": "45030923",
   "metadata": {},
   "source": [
    "### Table of contents\n",
    "* [Goals & Summary](#goalssummary)\n",
    "* [Disclaimer & attribution](#disclaimer)\n",
    "* [If necessary, install the most recent version of the SPARCL Client](#install)\n",
    "* [Imports and setup](#imports)\n",
    "* [Authentication for SPARCL](#auth_sparcl)\n",
    "* [Data sets available in SPARCL](#datasets)\n",
    "* [Get default field names](#defaultfieldnames)\n",
    "* [Get all field names](#allfieldnames)\n",
    "* [Data discovery I: using SPARCL's <tt>client.find()</tt> method](#datadiscoveryI)\n",
    "* [Data discovery II: using the DESI DR1 database](#datadiscoveryII)\n",
    "* [Retrieve records by <tt>specid</tt> using <tt>client.retrieve_by_specid()</tt>](#retrieve_specid)\n",
    "* [Reorder spectrum records](#reorder)\n",
    "* [Convert retrieved output to a Spectrum1D object](#convert)\n",
    "* [Plot spectra](#plot)\n",
    "* [Additional acknowledgments](#additionalacknowledgments)"
   ]
  },
  {
   "cell_type": "markdown",
   "id": "acda2d5d",
   "metadata": {},
   "source": [
    "<a class=\"anchor\" id=\"goalssummary\"></a>\n",
    "## Goals & Summary \n",
    "\n",
    "SPARCL (SPectra Analysis and Retrievable Catalog Lab) is an online service for discovery and retrieval of one-dimensional optical-infrared spectra. SPARCL is designed to work for large survey datasets containing many millions of spectra, and to provide access to multiple different data sets through common methods. For more information, see the [SPARCL User Guide](https://astrosparcl.datalab.noirlab.edu/static/SPARCLUserManual.pdf).\n",
    "\n",
    "This notebook provides a basic introduction to using the SPARCL client (or sparclclient) to find and retrieve spectroscopic data within a Python notebook context. The sparclclient connects to the SPARCL server at [NSF NOIRLab](https://noirlab.edu/public/) and provides access to the contents of the SPARCL database.\n",
    "\n",
    "To see the current data sets and number of spectra available in the SPARCL database, please visit the [SPARCL summary page](https://astrosparcl.datalab.noirlab.edu/sparc/).\n",
    "\n",
    "To get the latest sparclclient documentation, visit the [sparclclient readthedocs site](https://sparclclient.readthedocs.io/en/latest/).\n",
    "\n",
    "Feedback on SPARCL (questions, comments, science use cases, feature requests, bug reports, confusing error messages, etc.) can be submitted to datalab-spectro@noirlab.edu. For bug reports and confusing error messages, it's helpful if you include: a log of *what you did*, *the result you got*, and *the result you expected*.\n",
    "\n",
    "See our science use-case notebooks that use SPARCL:\n",
    "- [Introduction to DESI Early Data Release (EDR) at the Astro Data Lab](https://github.com/astro-datalab/notebooks-latest/blob/master/03_ScienceExamples/DESI/01_Intro_to_DESI_EDR.ipynb)\n",
    "- [Comparing SDSS and DESI spectra using SPARCL](https://github.com/astro-datalab/notebooks-latest/blob/master/03_ScienceExamples/DESI/02_DESI_EDR_SDSS_Comparison.ipynb)\n",
    "- [Stacking SDSS Spectra of Galaxies Selected from the BPT Diagram](https://github.com/astro-datalab/notebooks-latest/blob/master/03_ScienceExamples/EmLineGalaxies/01_EmLineGalaxies_SpectraStack.ipynb)\n",
    "- [Multi-wavelength Image Cutouts and SDSS Spectra of Active Galaxies with Extreme Emission-Line Ratios](https://github.com/astro-datalab/notebooks-latest/blob/master/03_ScienceExamples/EmLineGalaxies/02_EmLineGalaxies_Outliers.ipynb)\n",
    "\n",
    "And our other How-To notebooks that use SPARCL:\n",
    "- [Obtain spectra with SPARCL and plot them with Jdaviz](https://github.com/astro-datalab/notebooks-latest/blob/master/04_HowTos/SPARCL/Plot_SPARCL_Spectra_with_Jdaviz.ipynb)\n",
    "- [Obtain spectra with SPARCL and plot them with prospect](https://github.com/astro-datalab/notebooks-latest/blob/master/04_HowTos/SPARCL/Plot_SPARCL_Spectra_with_Prospect.ipynb)"
   ]
  },
  {
   "cell_type": "markdown",
   "id": "c12173d5-9849-4113-808a-c920d912e244",
   "metadata": {},
   "source": [
    "<a class=\"anchor\" id=\"attribution\"></a>\n",
    "# Disclaimer & attribution\n",
    "\n",
    "Disclaimers\n",
    "-----------\n",
    "Note that using the Astro Data Lab and/or SPARCL constitutes your agreement with our minimal [Disclaimers](https://datalab.noirlab.edu/disclaimers.php).\n",
    "\n",
    "Acknowledgments\n",
    "---------------\n",
    "Researchers are required to acknowlege the source of the data (DESI and/or SDSS) in their papers following each survey's guidelines. If you use **SPARCL** in your published research, also include this text in your paper's Acknowledgments section:\n",
    "\n",
    "_This research uses services or data provided by the SPectra Analysis and Retrievable Catalog Lab (SPARCL), which is part of the Community Science and Data Center (CSDC) Program of NSF NOIRLab. NOIRLab is operated by the Association of Universities for Research in Astronomy (AURA), Inc. under a cooperative agreement with the U.S. National Science Foundation._\n",
    "\n",
    "If you publish in an AAS journal, please add `\\software{SPARCL}` and cite:\n",
    "* Juneau et al., \"SPARCL: SPectra Analysis and Retrievable Catalog Lab\", Conference Proceedings for ADASS XXXIII, 2024\n",
    "https://doi.org/10.48550/arXiv.2401.05576 \n",
    "\n",
    "If you are using the Astro Data Lab in your research, also see the [Additional acknowledgments](#additionalacknowledgments) section. The NOIRLab Library maintains [lists of proper acknowledgments](https://noirlab.edu/science/about/scientific-acknowledgments) to use when publishing papers using the Lab's facilities, data, or services."
   ]
  },
  {
   "cell_type": "markdown",
   "id": "6c39b96f",
   "metadata": {},
   "source": [
    "<a class=\"anchor\" id=\"install\"></a>\n",
    "### If necessary, install the most recent version of the SPARCL Client:\n",
    "If you are using the Astro Data Lab Jupyter notebook server, you do not need to run this cell.\n",
    "\n",
    "<div class=\"alert alert-block alert-info\">\n",
    "<b>Reminder:</b> After installing the most recent version, please restart your kernel\n",
    "</div>"
   ]
  },
  {
   "cell_type": "code",
   "execution_count": null,
   "id": "4cb3b11f",
   "metadata": {
    "tags": []
   },
   "outputs": [],
   "source": [
    "## Uncomment the following only if SPARCL client is not already installed\n",
    "#!pip install --upgrade sparclclient"
   ]
  },
  {
   "cell_type": "markdown",
   "id": "25a609e2",
   "metadata": {},
   "source": [
    "<a class=\"anchor\" id=\"imports\"></a>\n",
    "## Imports and setup"
   ]
  },
  {
   "cell_type": "code",
   "execution_count": null,
   "id": "5d913a9b",
   "metadata": {
    "tags": []
   },
   "outputs": [],
   "source": [
    "# SPARCL imports\n",
    "from sparcl.client import SparclClient\n",
    "\n",
    "# 3rd party imports\n",
    "import numpy as np\n",
    "import astropy.units as u\n",
    "from astropy.table import Table\n",
    "from specutils import Spectrum1D\n",
    "from astropy.nddata import InverseVariance\n",
    "from astropy.convolution import convolve, Gaussian1DKernel\n",
    "%matplotlib inline\n",
    "import matplotlib.pyplot as plt\n",
    "import pandas as pd\n",
    "from getpass import getpass\n",
    "\n",
    "# For NERSC specprod database access (other notebook)\n",
    "from desiutil.log import get_logger, DEBUG\n",
    "import specprodDB.load as db\n",
    "\n",
    "# plots default setup\n",
    "plt.rcParams['font.size'] = 14\n",
    "plt.rcParams['figure.figsize'] = (14,8)"
   ]
  },
  {
   "cell_type": "code",
   "execution_count": null,
   "id": "8663c28b-497f-42b9-8f08-f360ba357ac4",
   "metadata": {
    "tags": []
   },
   "outputs": [],
   "source": [
    "# NERSC database logger\n",
    "db.log = get_logger()"
   ]
  },
  {
   "cell_type": "markdown",
   "id": "5647c893",
   "metadata": {},
   "source": [
    "#### We now create a SPARCL client instance:"
   ]
  },
  {
   "cell_type": "code",
   "execution_count": null,
   "id": "ed2bfd68-6a5a-486f-84ee-c9f1f7d1db38",
   "metadata": {
    "tags": []
   },
   "outputs": [],
   "source": [
    "client = SparclClient()\n",
    "client"
   ]
  },
  {
   "cell_type": "markdown",
   "id": "43e8678f-21a6-4246-8061-358c19f8ff5a",
   "metadata": {},
   "source": [
    "<a class=\"anchor\" id=\"auth_sparcl\"></a>\n",
    "# Authentication for SPARCL\n",
    "All public SPARCL data sets can be accessed without explicitly logging in. However, some data sets are private and can only be accessed by authorized users. If you are an authorized user and wish to login to SPARCL, un-comment the cell below and enter your NOIRLab CSDC SSO user name and password. If you need to create an account, sign-up at https://sso.csdc.noirlab.edu/account/signup/. If you encounter an issue, email datalab-spectro@noirlab.edu with your First Name, Last Name, and Email Address (the same one you used to create your NOIRLab CSDC SSO account).\n",
    "\n",
    "To logout of SPARCL after a session, use:\n",
    "```\n",
    "client.logout()\n",
    "```\n",
    "\n",
    "For assistance with SPARCL authentication/authorization please contact us at datalab-spectro@noirlab.edu"
   ]
  },
  {
   "cell_type": "code",
   "execution_count": null,
   "id": "c33c4445-7ea4-42fb-9c0c-549dcf8180dc",
   "metadata": {
    "tags": []
   },
   "outputs": [],
   "source": [
    "client.login(input(\"Enter SSO user name: (+ENTER) \"),getpass(\"Enter password: (+ENTER) \"))"
   ]
  },
  {
   "cell_type": "markdown",
   "id": "a4e92c80-c8bb-434a-acb5-9973634ba2f2",
   "metadata": {},
   "source": [
    "#### View which data sets you have access to:\n",
    "**Note:** if you are not logged in or if your SSO user name is not in the authorized list of SPARCL users, you will only see public data sets"
   ]
  },
  {
   "cell_type": "code",
   "execution_count": null,
   "id": "944b18e6-3d8b-4239-9514-89103da393fa",
   "metadata": {
    "tags": []
   },
   "outputs": [],
   "source": [
    "client.authorized"
   ]
  },
  {
   "cell_type": "markdown",
   "id": "f9d8d4cf",
   "metadata": {},
   "source": [
    "<a class=\"anchor\" id=\"datasets\"></a>\n",
    "## Data sets available in SPARCL\n",
    "List all currently available data sets from the server/url associated with client"
   ]
  },
  {
   "cell_type": "code",
   "execution_count": null,
   "id": "da920ad2",
   "metadata": {
    "tags": []
   },
   "outputs": [],
   "source": [
    "client.all_datasets"
   ]
  },
  {
   "cell_type": "markdown",
   "id": "27e427e6",
   "metadata": {},
   "source": [
    "<a class=\"anchor\" id=\"defaultfieldnames\"></a>\n",
    "## Get default field names\n",
    "Gets fields tagged as 'default' that are common to all data sets in the `dataset_list` passed to the function. If `dataset_list` is None (the default), the function returns the intersection of 'default' fields across all datasets currently available in the SPARC database."
   ]
  },
  {
   "cell_type": "code",
   "execution_count": null,
   "id": "53de9d86",
   "metadata": {
    "tags": []
   },
   "outputs": [],
   "source": [
    "client.get_default_fields?"
   ]
  },
  {
   "cell_type": "code",
   "execution_count": null,
   "id": "59d6be11",
   "metadata": {
    "tags": []
   },
   "outputs": [],
   "source": [
    "client.get_default_fields()"
   ]
  },
  {
   "cell_type": "markdown",
   "id": "5121cc55",
   "metadata": {},
   "source": [
    "<a class=\"anchor\" id=\"allfieldnames\"></a>\n",
    "## Get all field names\n",
    "Gets fields tagged as 'all' that are common to all data sets in the `dataset_list` passed to the function. If `dataset_list` is None (the default), the function returns the intersection of 'all' fields across all datasets currently available in the SPARC database."
   ]
  },
  {
   "cell_type": "code",
   "execution_count": null,
   "id": "e1724445",
   "metadata": {
    "tags": []
   },
   "outputs": [],
   "source": [
    "client.get_all_fields?"
   ]
  },
  {
   "cell_type": "code",
   "execution_count": null,
   "id": "3ec96b73",
   "metadata": {
    "tags": []
   },
   "outputs": [],
   "source": [
    "print(sorted(client.get_all_fields()))"
   ]
  },
  {
   "cell_type": "code",
   "execution_count": null,
   "id": "3ebd397b",
   "metadata": {
    "tags": []
   },
   "outputs": [],
   "source": [
    "print(sorted(client.get_all_fields(dataset_list=['SDSS-DR16', 'BOSS-DR16'])))"
   ]
  },
  {
   "cell_type": "code",
   "execution_count": null,
   "id": "2d9164d2",
   "metadata": {
    "tags": []
   },
   "outputs": [],
   "source": [
    "fields_EDR = sorted(client.get_all_fields(dataset_list=['DESI-EDR']))\n",
    "\n",
    "print(fields_EDR)"
   ]
  },
  {
   "cell_type": "code",
   "execution_count": null,
   "id": "447d63fb-2ed5-47dd-9080-d96a0be592f2",
   "metadata": {
    "tags": []
   },
   "outputs": [],
   "source": [
    "fields_DR1 = sorted(client.get_all_fields(dataset_list=['DESI-DR1']))\n",
    "\n",
    "print(fields_DR1)"
   ]
  },
  {
   "cell_type": "code",
   "execution_count": null,
   "id": "c50b33c6-7228-4c2f-bfab-4923c9aa4585",
   "metadata": {
    "tags": []
   },
   "outputs": [],
   "source": [
    "## Fields in EDR that are not in DR1\n",
    "set(fields_EDR).difference(fields_DR1)"
   ]
  },
  {
   "cell_type": "code",
   "execution_count": null,
   "id": "43291a49-bb07-4380-9e91-b96bd3767561",
   "metadata": {
    "tags": []
   },
   "outputs": [],
   "source": [
    "## Fields in DR1 that are not in EDR\n",
    "set(fields_DR1).difference(fields_EDR)"
   ]
  },
  {
   "cell_type": "markdown",
   "id": "bd9cc611",
   "metadata": {},
   "source": [
    "<a class=\"anchor\" id=\"datadiscoveryI\"></a>\n",
    "## Data discovery I: using SPARCL's `client.find()` method\n",
    "The first way you can discover your data is by using SPARCL's `client.find()` method, which allows you to find records in the SPARCL database based on certain parameters passed to the function. Only Core fields may be in the `outfields` and `constraints` parameters. The descriptions for all fields, including Core fields, is located [here](https://astrosparcl.datalab.noirlab.edu/sparc/sfc/). The SPARCL Core fields constraint types are:\n",
    "\n",
    "\n",
    "| Field name       | Constraint type | Example |\n",
    "|:----------------|:---------------|:-------|\n",
    "| data_release     | List of allowed values<br>from [SPARCL Categoricals](https://astrosparcl.datalab.noirlab.edu/sparc/cats/) | ['DESI-EDR', 'BOSS-DR16', 'SDSS-DR16']\n",
    "| datasetgroup     | List of allowed values<br>from [SPARCL Categoricals](https://astrosparcl.datalab.noirlab.edu/sparc/cats/) | ['DESI', 'SDSS_BOSS']\n",
    "| dateobs_center   | Range of values | ['2013-03-14T10:16:17Z',<br>'2014-05-24T12:10:00Z']\n",
    "| dec              | Range of values | [2.03, 7.76]\n",
    "| exptime          | Range of values | [3603.46, 3810.12]\n",
    "| instrument       | List of allowed values<br>from [SPARCL Categoricals](https://astrosparcl.datalab.noirlab.edu/sparc/cats/) | ['SDSS', 'BOSS', 'DESI']\n",
    "| ra               | Range of values (may not<br>\"wrap\" around RA=0) | [44.53, 47.96]\n",
    "| redshift         | Range of values | [0.5, 0.9]\n",
    "| redshift_err     | Range of values | [0.000225, 0.000516]\n",
    "| redshift_warning | List of values  | [0, 3, 5]\n",
    "| sparcl_id               | List of values (but not<br>intended for data discovery) | ['00001658-460c-4da1-987d-e493d8c9b89b',<br>'000017b6-56a2-4f87-8828-3a3409ba1083']\n",
    "| site             | List of allowed values<br>from [SPARCL Categoricals](https://astrosparcl.datalab.noirlab.edu/sparc/cats/) |  ['apo', 'kpno']\n",
    "| specid           | List of values | [6988698046080241664, 6971782884823945216]\n",
    "| spectype         | List of allowed values<br>from [SPARCL Categoricals](https://astrosparcl.datalab.noirlab.edu/sparc/cats/) | ['GALAXY', 'STAR', 'QSO']\n",
    "| specprimary      | List of values (but typically<br>would only include 1 if<br>being used for data<br>discovery constraints) | [1]\n",
    "| targetid         | List of values | [1237679502171374316, 1237678619584692841]\n",
    "| telescope        | List of allowed values<br>from [SPARCL Categoricals](https://astrosparcl.datalab.noirlab.edu/sparc/cats/) | ['sloan25m', 'kp4m']\n",
    "| wavemin          | Range of values | [3607, 3608]\n",
    "| wavemax          | Range of values | [10363, 10364]"
   ]
  },
  {
   "cell_type": "code",
   "execution_count": null,
   "id": "fe2e2df8",
   "metadata": {
    "tags": []
   },
   "outputs": [],
   "source": [
    "client.find?"
   ]
  },
  {
   "cell_type": "markdown",
   "id": "2ecf1aa4",
   "metadata": {},
   "source": [
    "#### Define the fields we want returned (`outfields`) and the constraints (`constraints`):"
   ]
  },
  {
   "cell_type": "code",
   "execution_count": null,
   "id": "f1a3fd21",
   "metadata": {
    "tags": []
   },
   "outputs": [],
   "source": [
    "out = ['sparcl_id', 'ra', 'dec', 'redshift', 'spectype', 'data_release', 'redshift_err']\n",
    "cons = {'spectype': ['GALAXY'],\n",
    "        'redshift': [0.5, 0.9]}"
   ]
  },
  {
   "cell_type": "markdown",
   "id": "c423b17d",
   "metadata": {},
   "source": [
    "#### Execute the `client.find()` method with our parameters:\n",
    "The `limit` argument here is being used for demonstration purposes only, and simply returns only the first 20 results here.\n",
    "\n",
    "<div class=\"alert alert-block alert-warning\">\n",
    "<b>Important:</b> the `limit` parameter will default to 500 if not otherwise specified. \n",
    "</div>"
   ]
  },
  {
   "cell_type": "code",
   "execution_count": null,
   "id": "c55933c2",
   "metadata": {
    "tags": []
   },
   "outputs": [],
   "source": [
    "found_I = client.find(outfields=out, constraints=cons, limit=20)\n",
    "[\"%s, %s, %f, %f, %f\" % (f.sparcl_id, f.data_release, f.ra, f.redshift, f.redshift_err)\n",
    " for f in found_I.records]"
   ]
  },
  {
   "cell_type": "markdown",
   "id": "b8118bcc",
   "metadata": {},
   "source": [
    "<a class=\"anchor\" id=\"datadiscoveryII\"></a>\n",
    "## Data discovery II: using DESI DR1 (iron) database at NERSC\n",
    "The second way you can discover your data is by using DESI DR1 catalogs and databases hosted at NERSC for DESI DR1 (iron). We will focus on the `zpix` catalog for the healpix-based coadded spectra that are in SPARCL. For large queries, this method will work *faster* than using `client.find()` when querying the database. We will work with this method for the remainder of this notebook.\n",
    "\n",
    "As an example, let's look for a somewhat rare case of low-redshift (`0.3<z<0.4`) quasars (`spectype='QSO'`) and only keep 20 results (`[:20]`)."
   ]
  },
  {
   "cell_type": "code",
   "execution_count": null,
   "id": "e571c97e-e448-4ffb-a38b-78e816a9c9c2",
   "metadata": {
    "tags": []
   },
   "outputs": [],
   "source": [
    "## This step stecifies our database set-up; we select the 'iron' schema for DESI DR1\n",
    "postgresql = db.setup_db(schema='iron', hostname='specprod-db.desi.lbl.gov', username='desi')"
   ]
  },
  {
   "cell_type": "code",
   "execution_count": null,
   "id": "cfb40160-86a0-4f36-b16b-d43ea04eaf82",
   "metadata": {
    "tags": []
   },
   "outputs": [],
   "source": [
    "%%time\n",
    "q = db.dbSession.query(db.Zpix.targetid, db.Zpix.survey, db.Zpix.program,\n",
    "                       db.Zpix.desi_target,\n",
    "                       db.Zpix.z, db.Zpix.zwarn, db.Zpix.spectype,\n",
    "                       db.Zpix.main_primary, db.Zpix.zcat_primary).filter(db.Zpix.zwarn == 0)\\\n",
    "                                                                  .filter(db.Zpix.main_primary)\\\n",
    "                                                                  .filter(db.Zpix.zcat_primary)\\\n",
    "                                                                  .filter(db.Zpix.z > 0.3)\\\n",
    "                                                                  .filter(db.Zpix.z < 0.4)\\\n",
    "                                                                  .filter(db.Zpix.spectype == 'QSO')\\\n",
    "                                                                  .filter(db.Zpix.program == 'dark')[:20]\n",
    "\n",
    "## Query constraints\n",
    "# (db.Zpix.zwarn == 0): ZWARN=0 means no warning on the Redrock redshift\n",
    "# (db.Zpix.main_primary): MAIN_PRIMARY=True for the best spectrum in the Main survey\n",
    "# (db.Zpix.zcat_primary): ZCAT_PRIMARY=True for the best spectrum in the Zpix catalog\n",
    "# (db.Zpix.z > 0.3): Redshift cut Z>0.3\n",
    "# (db.Zpix.z < 0.4): Redshift cut Z<0.4\n",
    "# (db.Zpix.spectype == 'QSO'): Redrock spectral type SPECTYPE='QSO'\n",
    "# (db.Zpix.program == 'dark'): PROGRAM='dark' (dark-time spectra tend to have higher S/N)"
   ]
  },
  {
   "cell_type": "code",
   "execution_count": null,
   "id": "27573367-6427-4927-a81c-75a0a9402e45",
   "metadata": {
    "tags": []
   },
   "outputs": [],
   "source": [
    "## For convenience later to join with the output spectra, we convert the query results (q) \n",
    "## into a Pandas DataFrame (df)\n",
    "found_df_II = pd.DataFrame(data=q)"
   ]
  },
  {
   "cell_type": "code",
   "execution_count": null,
   "id": "e2503b82-ddbc-430c-b819-1d9f77e6af9d",
   "metadata": {
    "tags": []
   },
   "outputs": [],
   "source": [
    "print('Number of returned results from the database query = ', len(found_df_II))\n",
    "found_df_II"
   ]
  },
  {
   "cell_type": "markdown",
   "id": "316c6f45",
   "metadata": {},
   "source": [
    "<a class=\"anchor\" id=\"retrieve_specid\"></a>\n",
    "## Retrieve records by `specid` using `client.retrieve_by_specid()`\n",
    "In order to retrieve spectra records from SPARCL by `specid`, pass the following to the `client.retrieve_by_specid()` method:\n",
    "\n",
    "`specid_list` : List of specIDs.  \n",
    "`dataset_list` : List of data sets to search for the specIDs in (default: None, which will search all available data sets).  \n",
    "`include` : List of field names to include in each record (default: 'DEFAULT').  \n",
    "`limit` : Maximum number of records to return (default: 500). Max allowed is 24,000.\n",
    "\n",
    "<div class=\"alert alert-block alert-warning\">\n",
    "<b>Important:</b> A reasonable number of DESI records to request retrieval of is up to about 10,000. Exceeding this value may cause the retrieval to timeout or fail depending on the number of SPECTRA fields in `include`. \n",
    "</div>"
   ]
  },
  {
   "cell_type": "code",
   "execution_count": null,
   "id": "743a19b8",
   "metadata": {
    "tags": []
   },
   "outputs": [],
   "source": [
    "client.retrieve_by_specid?"
   ]
  },
  {
   "cell_type": "markdown",
   "id": "3f73a2d7",
   "metadata": {},
   "source": [
    "#### Use the specIDs to retrieve records from SPARCL:\n",
    "At the Data Lab, the `sparcl.main` table contains the `specid` column. This survey-specific identifier corresponds to `TARGETID` for DESI and to `specObjID` for SDSS/BOSS. As a consequence, there may be more spectra than number of unique TARGETID's given that the DESI healpix-coadd spectra are only uniquely defined by `TARGETID, SURVEY, PROGRAM`. We show an example case below to remove duplicates and only keep the best (specprimary) spectrum per object.\n",
    "\n",
    "We first need to convert the Pandas Series of specIDs into an int list to work with SPARCL. Then we can pass the int list to the `client.retrieve_by_specid()` method."
   ]
  },
  {
   "cell_type": "code",
   "execution_count": null,
   "id": "5d75fd7c-a2b3-4b0d-aead-02d8f89c1d46",
   "metadata": {
    "tags": []
   },
   "outputs": [],
   "source": [
    "# Define the fields to include in the retrieve function\n",
    "inc = ['sparcl_id', 'specid', 'data_release', 'redshift', 'flux',\n",
    "       'wavelength', 'model', 'ivar', 'mask', 'ra', 'dec', 'specprimary']"
   ]
  },
  {
   "cell_type": "code",
   "execution_count": null,
   "id": "aa1cb379-a8b4-40ce-a8c1-e9cddffb8540",
   "metadata": {
    "tags": []
   },
   "outputs": [],
   "source": [
    "specids = [int(s) for s in found_df_II['targetid']]"
   ]
  },
  {
   "cell_type": "code",
   "execution_count": null,
   "id": "b751a29e",
   "metadata": {
    "tags": []
   },
   "outputs": [],
   "source": [
    "%%time\n",
    "results_II = client.retrieve_by_specid(specid_list=specids, include=inc, dataset_list=['DESI-DR1'], limit=1500)\n",
    "results_II.info"
   ]
  },
  {
   "cell_type": "code",
   "execution_count": null,
   "id": "79305d14-a4ca-4eb8-ae66-cc06233640b7",
   "metadata": {
    "tags": []
   },
   "outputs": [],
   "source": [
    "## Convert the output into a Pandas DataFrame\n",
    "df_II = pd.json_normalize(results_II.records)"
   ]
  },
  {
   "cell_type": "code",
   "execution_count": null,
   "id": "00138b4c-0a41-4229-9a9e-c3efcbcd64c2",
   "metadata": {
    "tags": []
   },
   "outputs": [],
   "source": [
    "print(len(df_II))\n",
    "print(len(df_II[df_II['specprimary']]))"
   ]
  },
  {
   "cell_type": "code",
   "execution_count": null,
   "id": "8b7c983b-4df4-4665-8af3-188169d4986d",
   "metadata": {
    "tags": []
   },
   "outputs": [],
   "source": [
    "## Keep only primary spectra\n",
    "df_II = df_II[df_II['specprimary']]\n",
    "print(len(df_II))"
   ]
  },
  {
   "cell_type": "markdown",
   "id": "96da932f",
   "metadata": {},
   "source": [
    "<a class=\"anchor\" id=\"reorder\"></a>\n",
    "## Reorder spectrum records\n",
    "The ordering of the results of `client.retrieve()` is not necessarily sorted to match the order of the IDs in the argument passed to the method. We show how to join the records stored as Pandas Dataframe with the input table.\n"
   ]
  },
  {
   "cell_type": "code",
   "execution_count": null,
   "id": "0b59b31a",
   "metadata": {
    "tags": []
   },
   "outputs": [],
   "source": [
    "ids_II = list(found_df_II['targetid'][:6])\n",
    "print(f\"Order of SPARCL IDs originally:\\n{ids_II}\\n\")\n",
    "\n",
    "res = client.retrieve_by_specid(specid_list=specids[:6])\n",
    "res_ids = [f.specid for f in res.records]\n",
    "print(f\"Order of SPARCL IDs after passing to retrieve():\\n{res_ids}\\n\")"
   ]
  },
  {
   "cell_type": "markdown",
   "id": "69ddae23-5a44-4769-b96d-79cadd0ee018",
   "metadata": {},
   "source": [
    "Next, we will work with our DataFrames for our sample (`found_df_II`) and the returned spectra (`df_II`) to join them into a combined DataFrame. Let's check the columns to compare column names and the IDs."
   ]
  },
  {
   "cell_type": "code",
   "execution_count": null,
   "id": "776f9a2b-d7aa-45f3-b9ab-20e1c37fe4ff",
   "metadata": {
    "tags": []
   },
   "outputs": [],
   "source": [
    "found_df_II.columns"
   ]
  },
  {
   "cell_type": "code",
   "execution_count": null,
   "id": "b13a1e1b-4f42-4956-9bd3-a8cc7410cf32",
   "metadata": {
    "tags": []
   },
   "outputs": [],
   "source": [
    "df_II.columns"
   ]
  },
  {
   "cell_type": "code",
   "execution_count": null,
   "id": "9bf0bb32-2f86-4626-8a98-542c894e612c",
   "metadata": {
    "tags": []
   },
   "outputs": [],
   "source": [
    "## Rename \"specid\" to \"targetid\" which is appropriate when all spectra from DESI\n",
    "# (REMINDER: specid=targetid for DESI; specid=specobjid for SDSS/BOSS)\n",
    "df_II = df_II.rename(columns={\"specid\": \"targetid\"})"
   ]
  },
  {
   "cell_type": "code",
   "execution_count": null,
   "id": "b9aad012-1845-4acf-9d60-a4ba7d450fce",
   "metadata": {
    "tags": []
   },
   "outputs": [],
   "source": [
    "## Join the DataFrames into one\n",
    "df_join = found_df_II.join(df_II.set_index('targetid'), on='targetid', how='left')\n",
    "\n",
    "df_join[:2]"
   ]
  },
  {
   "cell_type": "markdown",
   "id": "020f7d50",
   "metadata": {},
   "source": [
    "<a class=\"anchor\" id=\"convert\"></a>\n",
    "## Convert retrieved output to Spectrum1D object"
   ]
  },
  {
   "cell_type": "markdown",
   "id": "de3baaf9",
   "metadata": {},
   "source": [
    "#### Spectrum1D:\n",
    "When applicable, the units for each field are documented on the [Fields tab of the astrosparcl website](https://astrosparcl.datalab.noirlab.edu/sparc/sfc/)"
   ]
  },
  {
   "cell_type": "code",
   "execution_count": null,
   "id": "1fc03e7e",
   "metadata": {
    "tags": []
   },
   "outputs": [],
   "source": [
    "%%time\n",
    "# We create a list of Spectrum1D objects by iterating over the rows (r) \n",
    "# from the reordered dataframe (df_join)\n",
    "specs = [Spectrum1D(spectral_axis = r.wavelength*u.AA,\n",
    "                    flux = np.array(r.flux)* 10**-17 * u.Unit('erg cm-2 s-1 AA-1'),\n",
    "                    uncertainty = InverseVariance(np.array(r.ivar)),\n",
    "                    redshift = r.redshift,\n",
    "                    mask = r.mask)\n",
    "        for r in df_join.itertuples()]\n",
    "specs[0]"
   ]
  },
  {
   "cell_type": "code",
   "execution_count": null,
   "id": "ee58cd93",
   "metadata": {
    "tags": []
   },
   "outputs": [],
   "source": [
    "# Plot a couple of examples\n",
    "f, ax = plt.subplots()  \n",
    "for i in range(3):\n",
    "    valid = specs[i].mask==0\n",
    "    ax.step(specs[i].spectral_axis[valid], specs[i].flux[valid]) \n",
    "plt.title('Observed Frame')\n",
    "plt.xlabel('Observed $\\lambda\\ [\\AA]$')\n",
    "plt.ylabel('$f_{\\lambda}$ $(10^{-17}$ $erg$ $s^{-1}$ $cm^{-2}$ $\\AA^{-1})$')\n",
    "plt.show()\n",
    "\n",
    "# Same two spectra in rest-frame\n",
    "f, ax = plt.subplots()\n",
    "for i in range(3):\n",
    "    valid = specs[i].mask==0\n",
    "    ax.step(specs[i].spectral_axis[valid]/(1.+specs[i].redshift), specs[i].flux[valid]*(1.+specs[i].redshift)) \n",
    "plt.title('Rest Frame')\n",
    "plt.xlabel('Rest $\\lambda\\ [\\AA]$')\n",
    "plt.ylabel('$f_{\\lambda}$ $(10^{-17}$ $erg$ $s^{-1}$ $cm^{-2}$ $\\AA^{-1})$')\n",
    "plt.show()"
   ]
  },
  {
   "cell_type": "markdown",
   "id": "ce3ebae5",
   "metadata": {},
   "source": [
    "<a class=\"anchor\" id=\"plot\"></a>\n",
    "## Plot spectra function"
   ]
  },
  {
   "cell_type": "code",
   "execution_count": null,
   "id": "35e2607b",
   "metadata": {
    "tags": []
   },
   "outputs": [],
   "source": [
    "def plot_spec(index, results):\n",
    "    \"\"\"\n",
    "    Pass an index value and the output from using client.retrieve()\n",
    "    to plot the spectrum at the specified index.\n",
    "    \"\"\"\n",
    "    \n",
    "    record = results.loc[index]\n",
    "\n",
    "    # We renamed specid to targetid for DESI (specid=specobjid for SDSS/BOSS) \n",
    "    specid = record.targetid\n",
    "    data_release = record.data_release\n",
    "\n",
    "    # Spectra quantities\n",
    "    wavelength = record.wavelength\n",
    "    model = record.model\n",
    "    flux = record.flux\n",
    "    # Special case with mask (.mask is a reserved syntax)\n",
    "    mask = results['mask'].loc[index]\n",
    "\n",
    "    # Round the redshift, RA, Dec to a reasonable number of significant digits\n",
    "    redshift = np.round(record.redshift, 4)\n",
    "    ra = np.round(record.ra, 7)\n",
    "    dec = np.round(record.dec, 7)\n",
    "\n",
    "    plt.title(f\"Data Set = {data_release}\\n\"\n",
    "              f\"SpecID = {specid}\\n\"\n",
    "              f\"Redshift = {redshift}\\n\"\n",
    "              f\"RA = {ra}\\n\"\n",
    "              f\"Dec = {dec}\", loc='left')\n",
    "    plt.xlabel('$\\lambda\\ [\\AA]$')\n",
    "    plt.ylabel('$f_{\\lambda}$ $(10^{-17}$ $erg$ $s^{-1}$ $cm^{-2}$ $\\AA^{-1})$')\n",
    "    \n",
    "    # Plot unsmoothed spectrum in grey\n",
    "    plt.plot(wavelength[mask==0], flux[mask==0], color='k', alpha=0.2, label='Unsmoothed spectrum')\n",
    "    \n",
    "    # Overplot spectrum smoothed using a 1-D Gaussian Kernel in black\n",
    "    plt.plot(wavelength[mask==0], convolve(flux[mask==0], Gaussian1DKernel(5)), color='k', label='Smoothed spectrum')\n",
    "    \n",
    "    # Overplot the model spectrum in red\n",
    "    plt.plot(wavelength[mask==0], model[mask==0], color='r', label='Model spectrum')\n",
    "    \n",
    "    plt.legend()\n",
    "    plt.show()"
   ]
  },
  {
   "cell_type": "code",
   "execution_count": null,
   "id": "a2545c6e",
   "metadata": {
    "tags": []
   },
   "outputs": [],
   "source": [
    "plot_spec(index=3, results=df_join)"
   ]
  },
  {
   "cell_type": "markdown",
   "id": "5d374f1d-165d-463b-b38b-8cee6edb3bc1",
   "metadata": {},
   "source": [
    "<a class=\"anchor\" id=\"additionalacknowledgments\"></a>\n",
    "## Additional acknowledgments\n",
    "\n",
    "If you use **SPARCL jointly with the Astro Data Lab platform** (via JupyterLab, command-line, or web interface) in your published research, please include this text below in your paper's Acknowledgments section:\n",
    "\n",
    "_This research uses services or data provided by the SPectra Analysis and Retrievable Catalog Lab (SPARCL) and the Astro Data Lab, which are both part of the Community Science and Data Center (CSDC) Program of NSF NOIRLab. NOIRLab is operated by the Association of Universities for Research in Astronomy (AURA), Inc. under a cooperative agreement with the U.S. National Science Foundation._\n",
    "\n",
    "If you are using the Astro Data Lab in your research, please cite the following papers:\n",
    "\n",
    "* Data Lab concept paper: Fitzpatrick et al., \"The NOAO Data Laboratory: a conceptual overview\", SPIE, 9149, 2014, https://doi.org/10.1117/12.2057445\n",
    "\n",
    "* Astro Data Lab overview: Nikutta et al., \"Data Lab - A Community Science Platform\", Astronomy and Computing, 33, 2020, https://doi.org/10.1016/j.ascom.2020.100411\n",
    "\n",
    "If you are referring to the Data Lab JupyterLab / Jupyter Notebooks, cite:\n",
    "\n",
    "* Juneau et al., \"Jupyter-Enabled Astrophysical Analysis Using Data-Proximate Computing Platforms\", CiSE, 23, 15, 2021, https://doi.org/10.1109/MCSE.2021.3057097\n",
    "\n",
    "If publishing in a AAS journal, also add the keyword: `\\facility{Astro Data Lab}`"
   ]
  }
 ],
 "metadata": {
  "kernelspec": {
   "display_name": "DESI main",
   "language": "python",
   "name": "desi-main"
  },
  "language_info": {
   "codemirror_mode": {
    "name": "ipython",
    "version": 3
   },
   "file_extension": ".py",
   "mimetype": "text/x-python",
   "name": "python",
   "nbconvert_exporter": "python",
   "pygments_lexer": "ipython3",
   "version": "3.10.14"
  }
 },
 "nbformat": 4,
 "nbformat_minor": 5
}
