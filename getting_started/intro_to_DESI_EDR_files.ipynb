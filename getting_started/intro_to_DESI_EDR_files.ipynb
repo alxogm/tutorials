{
 "cells": [
  {
   "cell_type": "markdown",
   "id": "b2cedf5e-7ed3-44ef-9d57-fed3e412144d",
   "metadata": {},
   "source": [
    "# Introduction to DESI Early Data Release \n",
    "\n",
    "*Ragadeepika Pucha (U.Arizona), Anthony Kremin (Berkeley Lab), Stéphanie Juneau (NOIRLab), and DESI Data Team*"
   ]
  },
  {
   "cell_type": "markdown",
   "id": "cb23dd99-be39-4641-aaf6-90eb47ca1871",
   "metadata": {},
   "source": [
    "# Table of Contents\n",
    "\n",
    "* [Overview](#overview)\n",
    "* [Imports](#import)\n",
    "* [Accessing the data](#data_access)\n",
    "    * [Summary Files](#sumfiles)\n",
    "    * [Redshift Catalogs](#zcatalog)\n",
    "    * [Summary Redshift Catalogs](#summary_zcatalog)\n",
    "    * [Healpix/ Directory](#hpx)\n",
    "* [Accessing and Plotting Spectra of a Single Object](#spectra_access)\n",
    "    * [Working with Coadded Spectra using desispec.io.read_spectra](#spectra)\n",
    "* [References](#ref)"
   ]
  },
  {
   "cell_type": "markdown",
   "id": "d59ff2b7-249b-4e07-98a4-bd85837fd971",
   "metadata": {},
   "source": [
    "<a class=\"anchor\" id=\"overview\"></a>\n",
    "# Overview\n",
    "\n",
    "In this notebook, we will explore the DESI data file structure in the early data release (EDR). Information about the release can be found [here](https://data.desi.lbl.gov/doc/releases/). <br/> \n",
    "The notebook shows how to access the different files in the data release, to access all the available spectra, along with the redshift information, for a given object, and to finally plot the \"best\" spectrum. \n",
    "\n",
    "A list of technical papers describing the science, targeting and the survey design for the DESI experiment can be found [here](https://data.desi.lbl.gov/doc/papers/).\n",
    "\n",
    "All links in this tutorial are public unless stated that they are **exclusive to DESI collaborators**.\n",
    "\n",
    "### Bug Reporting\n",
    "If you identify any errors or have requests for additional functionality please create a new issue at https://github.com/desihub/tutorials/issues or send a note to desi-data@desi.lbl.gov.\n",
    "\n",
    "### Getting Started\n",
    "\n",
    "#### Using NERSC\n",
    "\n",
    "The easiest way to get started is to use the jupyter server at NERSC so that you don't need to\n",
    "install any code or download any data locally.\n",
    "\n",
    "If you need a NERSC account, see https://desi.lbl.gov/trac/wiki/Computing/AccessNersc (**link exclusive to DESI collaborators**)\n",
    "\n",
    "Then do the one-time jupyter configuration described at https://desi.lbl.gov/trac/wiki/Computing/JupyterAtNERSC (**link exclusive to DESI collaborators**)\n",
    "\n",
    "From a NERSC command line, checkout a copy of the tutorial code, *e.g.* from perlmutter.\n",
    "```console\n",
    "mkdir -p $HOME/desi/\n",
    "cd $HOME/desi/\n",
    "git clone https://github.com/desihub/tutorials\n",
    "```\n",
    "And then go to https://jupyter.nersc.gov, login, navigate to where you checked out this package (*e.g.* `$HOME/desi/tutorials/getting_started`), and double-click on `intro_to_DESI_EDR_files.ipynb`.\n",
    "\n",
    "\n",
    "#### Setting up the DESI environment (kernel)\n",
    "\n",
    "For those referring to this in 2023 or beyond: this tutorial has been tested using the \"DESI 23.1\" kernel installed at NERSC. If you don't see that installed, you will need to open a terminal either in jupyterhub or via an actual terminal logged in to NERSC and do the following:\n",
    "\n",
    "```console\n",
    "source /global/common/software/desi/desi_environment.sh 23.1\n",
    "${DESIMODULES}/install_jupyter_kernel.sh 23.1\n",
    "\n",
    "```\n",
    "You'll then need to restart your jupyterhub instance to see the kernel. After following the step above and restarting: you can go to the Kernel menu, select \"Change Kernel\", then select 'DESI 23.1' from the dropdown menu."
   ]
  },
  {
   "cell_type": "markdown",
   "id": "ea7de2f3-76f8-49e7-b783-459f575bc09f",
   "metadata": {},
   "source": [
    "<a class=\"anchor\" id=\"import\"></a>\n",
    "# Imports"
   ]
  },
  {
   "cell_type": "code",
   "execution_count": null,
   "id": "8d73df22-ed6d-4992-b65e-38508e7baa22",
   "metadata": {
    "tags": []
   },
   "outputs": [],
   "source": [
    "# import some helpful python packages \n",
    "import os\n",
    "import numpy as np\n",
    "\n",
    "from astropy.io import fits\n",
    "from astropy.table import Table\n",
    "from astropy.convolution import convolve, Gaussian1DKernel\n",
    "\n",
    "import matplotlib \n",
    "import matplotlib.pyplot as plt\n",
    "\n",
    "plt.style.use('../mpl/desi.mplstyle')"
   ]
  },
  {
   "cell_type": "code",
   "execution_count": null,
   "id": "0bb55fd8-3e6d-4ded-a595-cbf8c0598775",
   "metadata": {},
   "outputs": [],
   "source": [
    "# import DESI related modules - \n",
    "from desimodel.footprint import radec2pix      # For getting healpix values\n",
    "import desispec.io                             # Input/Output functions related to DESI spectra\n",
    "from desispec import coaddition                # Functions related to coadding the spectra\n",
    "\n",
    "# DESI targeting masks - \n",
    "from desitarget.sv1 import sv1_targetmask    # For SV1\n",
    "from desitarget.sv2 import sv2_targetmask    # For SV2\n",
    "from desitarget.sv3 import sv3_targetmask    # For SV3"
   ]
  },
  {
   "cell_type": "markdown",
   "id": "93d3a27c-c38e-4baa-b76f-28b77312a104",
   "metadata": {},
   "source": [
    "<a class=\"anchor\" id=\"data_access\"></a>\n",
    "# Accessing the data\n",
    "\n",
    "The DESI Early Data Release (EDR) consists some of the commissioning data, as well as the whole of the survey validation (SV) data. This includes SV1, SV2, and SV3 (1% survey). \n",
    "Information about the SV data can be found [here](https://data.desi.lbl.gov/doc/). \n",
    "\n",
    "For the EDR data, the spectra are divided by the `SURVEY` (sv1/sv2/sv3) they were observed in. The observing conditions (dark or bright), called as `PROGRAM` in the DESI terminology, is used to categorize the spectra further. "
   ]
  },
  {
   "cell_type": "code",
   "execution_count": null,
   "id": "642c2770-0c94-4fda-984e-913bc7a86e43",
   "metadata": {},
   "outputs": [],
   "source": [
    "# Release directory path\n",
    "\n",
    "specprod = 'fuji'    # Internal name for the EDR\n",
    "specprod_dir = '/global/cfs/cdirs/desi/public/edr/spectro/redux/fuji/'\n",
    "print(specprod_dir)"
   ]
  },
  {
   "cell_type": "code",
   "execution_count": null,
   "id": "64dbb7a5-1d92-40f7-aa41-1782c913ca1d",
   "metadata": {},
   "outputs": [],
   "source": [
    "# List everything in this directory\n",
    "os.listdir(specprod_dir)"
   ]
  },
  {
   "cell_type": "markdown",
   "id": "1456859b-ed8b-494e-bce1-56a18b1ff309",
   "metadata": {},
   "source": [
    "### Important files to Note:\n",
    "\n",
    "1. tiles-fuji.fits (or .csv) -- This contains information about the observed tiles.\n",
    "2. exposures-fuji.fits (or .csv) -- This consists of information about individual exposures of the targets.\n",
    "3. zcatalog/ Directory -- This directory contains all of the redshift catalogs.\n",
    "4. tiles/ Directory -- This directory holds all of the per-tile coadds and redshifts, in various flavors.\n",
    "5. healpix/ Directory -- This directory holds all of the coadds and redshifts based on sky location (healpix)."
   ]
  },
  {
   "cell_type": "markdown",
   "id": "5cfc292f-61ed-477d-b9d4-fc926d3d39a6",
   "metadata": {
    "tags": []
   },
   "source": [
    "<a class=\"anchor\" id=\"sumfiles\"></a>\n",
    "## Summary Files\n",
    "\n",
    "Let's first take a look at the tiles and exposure summary files."
   ]
  },
  {
   "cell_type": "markdown",
   "id": "4f00d2d0-603c-4361-be1d-d7baa1d2409f",
   "metadata": {},
   "source": [
    "### tiles-fuji.fits\n",
    "This file tells you what tiles were observed, what `SURVEY` and `PROGRAM` they were observed for, some observing conditions, and three estimates of the \"effective time\" (in seconds) that each tile acquired. The time estimate used for survey operations decisions is `EFFTIME_SPEC`. The datamodel for this table is described [here](https://desidatamodel.readthedocs.io/en/latest/DESI_SPECTRO_REDUX/SPECPROD/tiles-SPECPROD.html)."
   ]
  },
  {
   "cell_type": "code",
   "execution_count": null,
   "id": "221e94d3-a7de-4053-b097-17b3327ec4d6",
   "metadata": {},
   "outputs": [],
   "source": [
    "tiles_table = Table.read(f'{specprod_dir}/tiles-{specprod}.fits',)\n",
    "print(f\"Tiles table columns: {tiles_table.colnames}\")"
   ]
  },
  {
   "cell_type": "code",
   "execution_count": null,
   "id": "8e313216-dcfc-4208-ad0a-552bbbcd03e8",
   "metadata": {},
   "outputs": [],
   "source": [
    "tiles_table[0:5]"
   ]
  },
  {
   "cell_type": "markdown",
   "id": "f236aa82-aedb-4310-b9f0-15c21b8f55c9",
   "metadata": {},
   "source": [
    "Let's use this to find the number of tiles in each SURVEY and each PROGRAM."
   ]
  },
  {
   "cell_type": "code",
   "execution_count": null,
   "id": "3d13b02a-b74f-4f5f-ae73-0081e36f6511",
   "metadata": {
    "tags": []
   },
   "outputs": [],
   "source": [
    "for survey in ['cmx', 'sv1', 'sv2', 'sv3']:\n",
    "    print(f'{survey}: Ntiles = {np.sum(tiles_table[\"SURVEY\"]==survey)}')"
   ]
  },
  {
   "cell_type": "code",
   "execution_count": null,
   "id": "e269a7d7-4949-4308-9846-271dccffa5e8",
   "metadata": {
    "tags": []
   },
   "outputs": [],
   "source": [
    "for program in ['bright', 'dark']:\n",
    "    print(f'{program}: Ntiles = {np.sum(tiles_table[\"PROGRAM\"]==program)}')"
   ]
  },
  {
   "cell_type": "markdown",
   "id": "a4e35425-e31b-41e9-9b01-ac5ec4617d07",
   "metadata": {
    "tags": []
   },
   "source": [
    "### exposures-fuji.fits\n",
    "This file is primarily used for daily operations, but can be handy for looking at individual exposures and the amount of \"EFFECTIVE TIME\" that exposure acquired. <br/>\n",
    "The datamodel for this file is available [here](https://desidatamodel.readthedocs.io/en/latest/DESI_SPECTRO_REDUX/SPECPROD/exposures-SPECPROD.html)."
   ]
  },
  {
   "cell_type": "code",
   "execution_count": null,
   "id": "19681af3-1c43-49e4-8e67-4e7dfcade7c4",
   "metadata": {},
   "outputs": [],
   "source": [
    "exp_table = Table.read(f'{specprod_dir}/exposures-{specprod}.fits', hdu='EXPOSURES')\n",
    "print(f\"Tiles table columns: {exp_table.colnames}\")"
   ]
  },
  {
   "cell_type": "code",
   "execution_count": null,
   "id": "5664e3d0-056e-4c74-bf4f-3c050bcd8393",
   "metadata": {},
   "outputs": [],
   "source": [
    "exp_table[-5:]"
   ]
  },
  {
   "cell_type": "markdown",
   "id": "0b281189-52cb-4f91-aef2-40da865b2850",
   "metadata": {},
   "source": [
    "Let's use this to find the number of exposures in each `SURVEY` and each `PROGRAM`."
   ]
  },
  {
   "cell_type": "code",
   "execution_count": null,
   "id": "b030b0d1-c42b-4f3c-a6e5-d51ceac18d51",
   "metadata": {
    "tags": []
   },
   "outputs": [],
   "source": [
    "for survey in ['cmx', 'sv1', 'sv2', 'sv3']:\n",
    "    print(f'{survey}: Nexps={np.sum(exp_table[\"SURVEY\"]==survey)}')"
   ]
  },
  {
   "cell_type": "code",
   "execution_count": null,
   "id": "481fd35b-2882-445c-9edd-a9aa9334b55f",
   "metadata": {
    "tags": []
   },
   "outputs": [],
   "source": [
    "for program in ['bright', 'dark']:\n",
    "    print(f'{program}: Nexps={np.sum(exp_table[\"PROGRAM\"]==program)}')"
   ]
  },
  {
   "cell_type": "markdown",
   "id": "1ae1343d-8e8f-47e7-b3d9-72de31e5df97",
   "metadata": {
    "tags": []
   },
   "source": [
    "<a class=\"anchor\" id=\"zcatalog\"></a>\n",
    "\n",
    "## Redshift Catalogs\n",
    "\n",
    "The redshift catalogs that are in the `zcatalog/` directory are divided into `zpix` and `ztile` files. The `zpix` files have the format: `zpix-{survey}-{program}.fits`, while the `ztile` have the format: `ztile-{survey}-{program}-{group}.fits`. The datamodel for the different files within this folder can be found [here](https://desidatamodel.readthedocs.io/en/latest/DESI_SPECTRO_REDUX/SPECPROD/zcatalog/index.html). Each of these files contain redshift and targeting information of the sources based on how their spectra are coadded. \n",
    "\n",
    "* **survey**: SURVEY that the target was observed in. This can be sv1, sv2, or main.\n",
    "* **program**: FIBER ASSIGNMENT PROGRAM. This is the planned observing conditions for the target. It can be dark or bright or backup. In case of cmx and sv1, there is 'other' as well.\n",
    "* **group**: This denotes what type of coadd. It can be perexp, pernight, or cumulative.\n",
    "\n",
    "For example, `zpix-sv1-dark.fits` contains information about the targets that were observed in SV1 for the _dark_ program. Since it is healpix based, the resulting spectra for a particular target is the coadded spectra across all tiles that were observed within the given `SURVEY` and `PROGRAM`. This will provide the highest S/N version of each target.\n",
    "\n",
    "Note that some of the targets were observed in multiple surveys and/or programs. In such cases, one may want to select the _PRIMARY_ spectrum of a given object. This information is available in the redshift summary catalogs, which will be explained in detail below."
   ]
  },
  {
   "cell_type": "code",
   "execution_count": null,
   "id": "7acc83be-710e-455d-8225-87c2047c9146",
   "metadata": {
    "tags": []
   },
   "outputs": [],
   "source": [
    "# Listing all the available redshift catalogs\n",
    "\n",
    "os.listdir(f'{specprod_dir}/zcatalog')"
   ]
  },
  {
   "cell_type": "markdown",
   "id": "3b8315af-3422-4728-9fb3-6468db5073c7",
   "metadata": {},
   "source": [
    "Now, we will look at the summary redshift catalogs that contain the `PRIMARY` spectra information\n",
    "\n",
    "<a class=\"anchor\" id=\"summary_zcatalog\"></a>\n",
    "## Summary Redshift Catalogs\n",
    "\n",
    "There are two summary redshift catalogs: <br/>\n",
    "**zall-pix-fuji.fits** <br/> \n",
    "This is a stack of all the healpix-based redshift catalogs, including all surveys and programs. The datamodel is [here](https://desidatamodel.readthedocs.io/en/latest/DESI_SPECTRO_REDUX/SPECPROD/zcatalog/zall-pix-SPECPROD.html). <br/>\n",
    "**zall-tilecumulative-fuji.fits** <br/>\n",
    "This is a stack of all the tile-based cumulative redshift catalogs, including all surveys and programs. The datamodel is [here](https://desidatamodel.readthedocs.io/en/latest/DESI_SPECTRO_REDUX/SPECPROD/zcatalog/zall-tilecumulative-SPECPROD.html).\n",
    "\n",
    "For both these summary catalogs, all the columns in the original catalogs ([zpix-SURVEY-PROGRAM.fits](https://desidatamodel.readthedocs.io/en/latest/DESI_SPECTRO_REDUX/SPECPROD/zcatalog/zpix-SURVEY-PROGRAM.html) and [ztile-SURVEY-PROGRAM-GROUPTYPE.fits](https://desidatamodel.readthedocs.io/en/latest/DESI_SPECTRO_REDUX/SPECPROD/zcatalog/zpix-SURVEY-PROGRAM.html)) are included. <br/>\n",
    "Four new columns are added:\n",
    "\n",
    "1. SV_NSPEC - Number of SV spectra available of each target.\n",
    "2. SV_PRIMARY - PRIMARY flag for the sources with SV spectra.\n",
    "3. ZCAT_NSPEC - Number of spectra available in the entire catalog of each target.\n",
    "4. ZCAT_PRIMARY - PRIMARY flag for the sources in the entire catalog."
   ]
  },
  {
   "cell_type": "markdown",
   "id": "5881fa0a-8e9e-446a-966f-659ecf94fad1",
   "metadata": {},
   "source": [
    "### Tile-based vs healpix-based\n",
    "The choice of which you use will depend on your specific science case. If you want the hightest S/N spectra then you'll likely want to use healpix based redshifts. If you want a more consistant observing depth among the redshfits in your sample, or you need objects that fit on a single pointing, then tile redshifts may be of more \n",
    "interest.\n",
    "\n",
    "We will focus here on the healpix based redshifts."
   ]
  },
  {
   "cell_type": "markdown",
   "id": "c3fa1ee3-9d62-4957-acef-286154611e46",
   "metadata": {},
   "source": [
    "### Working with the zall-pix file"
   ]
  },
  {
   "cell_type": "code",
   "execution_count": null,
   "id": "9ea0f465-9554-4df2-9819-689ece835a19",
   "metadata": {},
   "outputs": [],
   "source": [
    "zpix_cat = Table.read(f'{specprod_dir}/zcatalog/zall-pix-{specprod}.fits', hdu=\"ZCATALOG\")"
   ]
  },
  {
   "cell_type": "code",
   "execution_count": null,
   "id": "3c4e46dd-2a33-4dc0-b75e-fb461436e25c",
   "metadata": {},
   "outputs": [],
   "source": [
    "print(zpix_cat.columns)"
   ]
  },
  {
   "cell_type": "code",
   "execution_count": null,
   "id": "a7b930e2-929d-4564-96de-343cf634b35b",
   "metadata": {},
   "outputs": [],
   "source": [
    "zpix_cat[0:5]"
   ]
  },
  {
   "cell_type": "markdown",
   "id": "2c4b733a-222c-4715-bef2-0396be212606",
   "metadata": {},
   "source": [
    "### Selecting sources based on Targeting Information\n",
    "\n",
    "There are five main target types used in DESI:\n",
    "1. Milky Way Survey (MWS)\n",
    "2. Bright Galaxy Survey (BGS)\n",
    "3. Luminous Red Galaxies (LRG)\n",
    "4. Emission Line Galaxies (ELG)\n",
    "5. Quasars (QSO).\n",
    "\n",
    "Information about how these targets are selected are available separately for [SV1](https://desi.lbl.gov/trac/wiki/TargetSelectionWG/SurveyValidation), [SV2](https://desi.lbl.gov/trac/wiki/TargetSelectionWG/SV2), and [SV3](https://desi.lbl.gov/trac/wiki/TargetSelectionWG/SV3) (**links exclusive to DESI collaborators**). Based on the tests on SV data, the finalized target selection for the main survey is available [in this paper](https://ui.adsabs.harvard.edu/abs/2023AJ....165...50M/abstract). <br/>\n",
    "**To-do: Add public links to SV target selection when available**"
   ]
  },
  {
   "cell_type": "code",
   "execution_count": null,
   "id": "5a3f16f2-2d17-489d-8254-0a9db51b8610",
   "metadata": {
    "tags": []
   },
   "outputs": [],
   "source": [
    "# Targetting bits are coded in the sv*_targetmask.desi_mask\n",
    "## The long list of targeting reflects the complexity of the targeting process and helps in subselecting from the main target types.\n",
    "\n",
    "sv1_targetmask.desi_mask"
   ]
  },
  {
   "cell_type": "code",
   "execution_count": null,
   "id": "d6d60b52-37cb-4c79-b3de-5db03fee2641",
   "metadata": {},
   "outputs": [],
   "source": [
    "# A simple example of using the bitmasks\n",
    "\n",
    "print(sv1_targetmask.desi_mask.mask(\"STD_FAINT\"), sv1_targetmask.desi_mask.mask(\"STD_BRIGHT\"), sv1_targetmask.desi_mask.mask(\"STD_FAINT|STD_BRIGHT\"))\n",
    "print(2**33, 2**35, 2**33 + 2**35)"
   ]
  },
  {
   "cell_type": "code",
   "execution_count": null,
   "id": "97256d92-4092-40be-afef-693b67097a97",
   "metadata": {},
   "outputs": [],
   "source": [
    "# Targeting information about the DESI targetting is stored in the different desi_target columns\n",
    "# sv1_targetmask.desi_mask corresponds to SV1_DESI_TARGET\n",
    "# sv2_targetmask.desi_mask corresponds to SV2_DESI_TARGET\n",
    "# sv3_targetmask.desi_mask corresponds to SV3_DESI_TARGET\n",
    "\n",
    "sv1_desi_tgt = zpix_cat['SV1_DESI_TARGET']\n",
    "sv2_desi_tgt = zpix_cat['SV2_DESI_TARGET']\n",
    "sv3_desi_tgt = zpix_cat['SV3_DESI_TARGET']\n",
    "\n",
    "sv1_desi_mask = sv1_targetmask.desi_mask\n",
    "sv2_desi_mask = sv2_targetmask.desi_mask\n",
    "sv3_desi_mask = sv3_targetmask.desi_mask"
   ]
  },
  {
   "cell_type": "code",
   "execution_count": null,
   "id": "efc118c1-e84f-4f79-a947-5385b51d91b5",
   "metadata": {},
   "outputs": [],
   "source": [
    "# Selecting candidates - \n",
    "# The code below selects the individual targets observed in all the SV1, SV2, and SV3 tiles.\n",
    "\n",
    "## All BGS targets from sv1, sv2, and sv3\n",
    "is_bgs = (sv1_desi_tgt & sv1_desi_mask['BGS_ANY'] != 0)|(sv2_desi_tgt & sv2_desi_mask['BGS_ANY'] != 0)|(sv3_desi_tgt & sv3_desi_mask['BGS_ANY'] != 0)\n",
    "## All LRG targets from sv1, sv2, and sv3\n",
    "is_lrg = (sv1_desi_tgt & sv1_desi_mask['LRG'] != 0)|(sv2_desi_tgt & sv2_desi_mask['LRG'] != 0)|(sv3_desi_tgt & sv3_desi_mask['LRG'] != 0)\n",
    "## All ELG targets from sv1, sv2, and sv3\n",
    "is_elg = (sv1_desi_tgt & sv1_desi_mask['ELG'] != 0)|(sv2_desi_tgt & sv2_desi_mask['ELG'] != 0)|(sv3_desi_tgt & sv3_desi_mask['ELG'] != 0)\n",
    "## All QSO targets from sv1, sv2, and sv3\n",
    "is_qso = (sv1_desi_tgt & sv1_desi_mask['QSO'] != 0)|(sv2_desi_tgt & sv2_desi_mask['QSO'] != 0)|(sv3_desi_tgt & sv3_desi_mask['QSO'] != 0)\n",
    "## All MWS targets from sv1, sv2, and sv3\n",
    "is_mws = (sv1_desi_tgt & sv1_desi_mask['MWS_ANY'] != 0)|(sv2_desi_tgt & sv2_desi_mask['MWS_ANY'] != 0)|(sv3_desi_tgt & sv3_desi_mask['MWS_ANY'] != 0)\n",
    "## All Secondary targets from sv1, sv2, and sv3\n",
    "is_scnd = (sv1_desi_tgt & sv1_desi_mask['SCND_ANY'] != 0)|(sv2_desi_tgt & sv2_desi_mask['SCND_ANY'] != 0)|(sv3_desi_tgt & sv3_desi_mask['SCND_ANY'] != 0)"
   ]
  },
  {
   "cell_type": "code",
   "execution_count": null,
   "id": "5940d057-d07f-490a-8558-072ad03fb09f",
   "metadata": {},
   "outputs": [],
   "source": [
    "# Number of sources of each target type\n",
    "n_bgs = len(zpix_cat[is_bgs])\n",
    "n_lrg = len(zpix_cat[is_lrg])\n",
    "n_elg = len(zpix_cat[is_elg])\n",
    "n_qso = len(zpix_cat[is_qso])\n",
    "n_mws = len(zpix_cat[is_mws])\n",
    "n_scnd = len(zpix_cat[is_scnd])"
   ]
  },
  {
   "cell_type": "code",
   "execution_count": null,
   "id": "832e38ca-7d20-4180-a9d1-3cd12747a051",
   "metadata": {},
   "outputs": [],
   "source": [
    "# Let us look at the numbers visually - \n",
    "\n",
    "plt.figure(figsize = (10, 8))\n",
    "\n",
    "targets = ['BGS', 'LRG', 'ELG', 'QSO', 'MWS', 'SCND']\n",
    "numbers = [n_bgs, n_lrg, n_elg, n_qso, n_mws, n_scnd]\n",
    "\n",
    "plt.bar(targets, numbers, color = 'purple', alpha = 0.5)\n",
    "plt.ylabel('Number of primary spectra')\n",
    "plt.yscale('log')"
   ]
  },
  {
   "cell_type": "code",
   "execution_count": null,
   "id": "6a15e087-6e60-43b2-9e9f-122d5f92551d",
   "metadata": {},
   "outputs": [],
   "source": [
    "# Now let us look at the distribution of redshifts -\n",
    "\n",
    "fig, axs = plt.subplots(4, 1, figsize = (9, 12))\n",
    "bins = np.arange(0, 4, 0.2)\n",
    "\n",
    "axs[0].hist(zpix_cat['Z'][is_bgs], color = 'C0', bins = bins, label = f'BGS: {n_bgs} sources')\n",
    "axs[0].legend(fontsize = 14)\n",
    "axs[0].set_ylabel(\"N(z)\")\n",
    "axs[1].hist(zpix_cat['Z'][is_lrg], color = 'C1', bins = bins, label = f'LRG: {n_lrg} sources')\n",
    "axs[1].legend(fontsize = 14)\n",
    "axs[1].set_ylabel(\"N(z)\")\n",
    "axs[2].hist(zpix_cat['Z'][is_elg], color = 'C2', bins = bins, label = f'ELG: {n_elg} sources')\n",
    "axs[2].legend(fontsize = 14)\n",
    "axs[2].set_ylabel(\"N(z)\")\n",
    "axs[3].hist(zpix_cat['Z'][is_qso], color = 'C3', bins = bins, label = f'QSO: {n_qso} sources')\n",
    "axs[3].legend(fontsize = 14)\n",
    "axs[3].set_ylabel(\"N(z)\")\n",
    "axs[3].set_xlabel(\"Redshift\")\n"
   ]
  },
  {
   "cell_type": "markdown",
   "id": "5c327a32-d4fc-4958-9dc3-d8f30a304710",
   "metadata": {},
   "source": [
    "#### Other masks"
   ]
  },
  {
   "cell_type": "markdown",
   "id": "41ef3b04-7aa5-484e-ac8a-7fd3229c0ae6",
   "metadata": {},
   "source": [
    "`desi_mask` consists of the uppermost level targeting information in DESI. However, there can be sub-classes of targets. For example, BGS have different target masks depending on the selection criterion. Each of the different secondary target proposals have their own masks. They can be selected in a similar way as above, but with the respective columns in the redshift catalog. More information about Bitmasks in DESI is available [here](https://desidatamodel.readthedocs.io/en/latest/bitmasks.html)."
   ]
  },
  {
   "cell_type": "code",
   "execution_count": null,
   "id": "81fa83a0-fe16-4295-a1a9-ba665f57c3f3",
   "metadata": {
    "tags": []
   },
   "outputs": [],
   "source": [
    "sv1_targetmask.bgs_mask.names"
   ]
  },
  {
   "cell_type": "code",
   "execution_count": null,
   "id": "874a27f7-2270-45d6-9f80-db9daf45937a",
   "metadata": {
    "tags": []
   },
   "outputs": [],
   "source": [
    "sv1_targetmask.scnd_mask.names"
   ]
  },
  {
   "cell_type": "markdown",
   "id": "1c14329d-60bb-4cce-b593-a1c874b0f591",
   "metadata": {},
   "source": [
    "Now, we will explore the Healpix/ directory and see how to access the required coadded spectra"
   ]
  },
  {
   "cell_type": "markdown",
   "id": "902b5ecc-ba66-468b-9867-430a107e1352",
   "metadata": {},
   "source": [
    "<a class=\"anchor\" id=\"hpx\"></a>\n",
    "## Healpix/ Directory\n",
    "\n",
    "This directory divides the coadded spectra of targets based on the healpix number and the observing conditions (dark/bright)."
   ]
  },
  {
   "cell_type": "code",
   "execution_count": null,
   "id": "ee8351d5-2d02-4f05-9495-f21d34cc97ac",
   "metadata": {},
   "outputs": [],
   "source": [
    "healpix_dir = f'{specprod_dir}/healpix'"
   ]
  },
  {
   "cell_type": "code",
   "execution_count": null,
   "id": "172bbe82-f260-4bc6-95b4-0b10690e1476",
   "metadata": {},
   "outputs": [],
   "source": [
    "os.listdir(healpix_dir)"
   ]
  },
  {
   "cell_type": "markdown",
   "id": "45a37cf4-a8f1-45e2-9877-06bbeb6a0e7f",
   "metadata": {},
   "source": [
    "The directories in `healpix` folder are divided based on the `SURVEY` and then by the `PROGRAM` (dark or bright or backup)."
   ]
  },
  {
   "cell_type": "code",
   "execution_count": null,
   "id": "6065515f-4ad3-4e42-8d91-c01020ad0243",
   "metadata": {},
   "outputs": [],
   "source": [
    "# Define survey and program here - \n",
    "survey = 'sv1'\n",
    "program = 'bright'"
   ]
  },
  {
   "cell_type": "code",
   "execution_count": null,
   "id": "b09b57d3-e6f0-43ea-b56a-0b467c80d252",
   "metadata": {},
   "outputs": [],
   "source": [
    "os.listdir(f'{healpix_dir}/{survey}')"
   ]
  },
  {
   "cell_type": "code",
   "execution_count": null,
   "id": "06626191-554c-4ced-be4f-e8a00fe74382",
   "metadata": {
    "tags": []
   },
   "outputs": [],
   "source": [
    "sorted(os.listdir(f'{healpix_dir}/{survey}/{program}'))[0:10]"
   ]
  },
  {
   "cell_type": "markdown",
   "id": "c4899361-bf4f-423d-ba4f-9d95192627ff",
   "metadata": {},
   "source": [
    "<a class=\"anchor\" id=\"spectra_access\"></a>\n",
    "# Accessing and Plotting Spectra of a Single Object\n",
    "\n",
    "Under the healpix/ directory, the different healpix directories are grouped together in healpix subgroups. \n",
    "\n",
    "To access a particular coadded spectra, we need the following information:\n",
    "\n",
    "* **survey**: SURVEY that the target was observed in. This can be sv1, sv2, or sv3.\n",
    "* **program**: FIBER ASSIGNMENT PROGRAM. This is the planned observing conditions for the target. It can be dark or bright or backup. In the case of sv1, we also have \"other\".\n",
    "* **healpix**: HEALPIX Number, which depends on the position of the object in the sky.\n",
    "\n",
    "The coadd filepath can be created using this -\n",
    "```\n",
    "{healpix_directory}/{survey}/{program}/{healpix_group}/{healpix}/coadd-{survey}-{program}-{healpix}.fits\n",
    "```\n",
    "The healpix group can be derived from the healpix number. "
   ]
  },
  {
   "cell_type": "code",
   "execution_count": null,
   "id": "1bb48d1f-33b5-4c30-97c7-d7a7632b29f8",
   "metadata": {
    "tags": []
   },
   "outputs": [],
   "source": [
    "# Selecting a random object which has multiple spectra in DESI\n",
    "sel = (zpix_cat['ZCAT_NSPEC'] >= 4)\n",
    "targets = zpix_cat[sel]['TARGETID']\n",
    "\n",
    "## Selecting random TARGETID from these targets\n",
    "ii = 13\n",
    "targetid = targets[ii]"
   ]
  },
  {
   "cell_type": "code",
   "execution_count": null,
   "id": "97efd7a2-2fba-4986-8e60-519be739d43e",
   "metadata": {},
   "outputs": [],
   "source": [
    "# Selecting the redshift catalogs rows for the particular targetid\n",
    "rows = zpix_cat['TARGETID'] == targetid\n",
    "zcat_sel = zpix_cat[rows]"
   ]
  },
  {
   "cell_type": "code",
   "execution_count": null,
   "id": "c86a55e3-7ecf-4c81-afd8-4af76c0ac946",
   "metadata": {},
   "outputs": [],
   "source": [
    "zcat_sel"
   ]
  },
  {
   "cell_type": "code",
   "execution_count": null,
   "id": "6f19278b-fbe5-4acd-9fff-d0dc2a1f0fc6",
   "metadata": {},
   "outputs": [],
   "source": [
    "# Defining healpix, survey, and program variables for this target\n",
    "\n",
    "survey_col = zcat_sel['SURVEY'].astype(str)\n",
    "program_col = zcat_sel['PROGRAM'].astype(str)\n",
    "hpx_col = zcat_sel['HEALPIX']\n",
    "\n",
    "# Selecting the primary spectra - \n",
    "is_primary = zcat_sel['ZCAT_PRIMARY']\n",
    "\n",
    "# Information needed to access the spectra \n",
    "survey = survey_col[is_primary][0]\n",
    "program = program_col[is_primary][0]\n",
    "hpx = hpx_col[is_primary][0]    ## This is same for all the rows, given its the same TARGET. But, just to be consistent.\n",
    "\n",
    "# Let us explore the target directory\n",
    "# Note that the target directory is different for the different spectra.\n",
    "# We first explore the primary spectra and look at the other spectra later.\n",
    "tgt_dir = f'{healpix_dir}/{survey}/{program}/{hpx//100}/{hpx}'"
   ]
  },
  {
   "cell_type": "code",
   "execution_count": null,
   "id": "6b22dfa1-f117-41a7-b8da-52066d54551f",
   "metadata": {},
   "outputs": [],
   "source": [
    "os.listdir(tgt_dir)"
   ]
  },
  {
   "cell_type": "markdown",
   "id": "4915e646-0772-431e-99a7-d73a03ba6897",
   "metadata": {},
   "source": [
    "In every directory, we have the following files (together with a description of what they contain): \n",
    "\n",
    "* **spectra-{survey}-{program}-{healpix}.fits**: individual exposure spectra that go into the coadds.\n",
    "* **coadd-{survey}-{program}-{healpix}.fits**: coadded spectra of the targets\n",
    "* **redrock-{survey}-{program}-{healpix}.fits**: redshift information obtained from the redrock.\n",
    "* **rrdetails-{survey}-{program}-{healpix}.h5**: information about the templates used by redrock.\n",
    "* **qso_mgii-{survey}-{program}-{healpix}.fits**: redshift information after using MgII selection for QSOs. This is run on the redrock output. For Everest this only exists if QSO targets are in the redshift file. \n",
    "* **qso_qn-{survey}-{program}-{healpix}.fits**: redshift information after running the redrock output through QuasarNet. For Everest this only exists if QSO targets are in the redshift file. \n",
    "* **logs**: logs from the processing of the data. You can safely ignore this.\n",
    "\n",
    "Let us explore the coadd* and redrock* files"
   ]
  },
  {
   "cell_type": "markdown",
   "id": "83a8d578-7a5e-4b46-904b-35733270aa35",
   "metadata": {},
   "source": [
    "### Healpix based coadd file"
   ]
  },
  {
   "cell_type": "code",
   "execution_count": null,
   "id": "508038bd-8ce0-44c6-a063-62603a162478",
   "metadata": {},
   "outputs": [],
   "source": [
    "# Filename - \n",
    "coadd_filename = f'coadd-{survey}-{program}-{hpx}.fits'"
   ]
  },
  {
   "cell_type": "code",
   "execution_count": null,
   "id": "bc639f01-6cc6-4604-a2c3-c03ee06f6ad3",
   "metadata": {},
   "outputs": [],
   "source": [
    "h_coadd = fits.open(f'{tgt_dir}/{coadd_filename}')\n",
    "h_coadd.info()"
   ]
  },
  {
   "cell_type": "markdown",
   "id": "0ccf56db-7b5b-4823-b5db-c774af422b33",
   "metadata": {},
   "source": [
    "We can see that every coadd* file has 18 extensions:\n",
    "* **FIBERMAP** consists of information about the different targets\n",
    "* **EXP_FIBERMAP** contains the exposure information of the targets\n",
    "* For every camera (B,R,Z), we have wavelength, flux, inverse variance and resolution arrays for the individual targets.\n",
    "* **SCORES** contains more information about the coadds of the target spectra\n",
    "\n",
    "Detailed datamodel is available [here](https://desidatamodel.readthedocs.io/en/latest/DESI_SPECTRO_REDUX/SPECPROD/healpix/SURVEY/PROGRAM/PIXGROUP/PIXNUM/coadd-SURVEY-PROGRAM-PIXNUM.html). <br/>\n",
    "Let us plot the position of different sources in the sky and overplot the different `Milky Way Survey (MWS)` sources"
   ]
  },
  {
   "cell_type": "code",
   "execution_count": null,
   "id": "4e655488-cc95-40ef-a190-467920917e3c",
   "metadata": {},
   "outputs": [],
   "source": [
    "fm = Table(h_coadd['FIBERMAP'].data)\n",
    "is_mws = (fm[f'{survey.upper()}_DESI_TARGET'] & sv1_targetmask.desi_mask['MWS_ANY']) != 0\n",
    "h_coadd.close()"
   ]
  },
  {
   "cell_type": "code",
   "execution_count": null,
   "id": "571c8a1f-a2d6-4eb3-96cd-ea261380b1b7",
   "metadata": {},
   "outputs": [],
   "source": [
    "plt.figure(figsize = (8, 8))\n",
    "\n",
    "plt.scatter(fm['TARGET_RA'], fm['TARGET_DEC'], color = 'grey', s = 50, label = 'All')\n",
    "plt.scatter(fm['TARGET_RA'][is_mws], fm['TARGET_DEC'][is_mws], color = 'r', s = 50, marker = 'x', label = 'MWS')\n",
    "plt.xlabel('R.A. (deg)')\n",
    "plt.ylabel('DEC (deg)')\n",
    "plt.legend()"
   ]
  },
  {
   "cell_type": "markdown",
   "id": "ce936b88-57b7-4155-b3b7-378439c88c49",
   "metadata": {},
   "source": [
    "### Healpix based redrock file"
   ]
  },
  {
   "cell_type": "code",
   "execution_count": null,
   "id": "5bebecfb-1740-437c-9a52-bc9f871a8c03",
   "metadata": {},
   "outputs": [],
   "source": [
    "# Filename -\n",
    "z_filename = f'redrock-{survey}-{program}-{hpx}.fits'"
   ]
  },
  {
   "cell_type": "code",
   "execution_count": null,
   "id": "586c58fc-a681-4ba0-9fdc-8a3bac12ce2e",
   "metadata": {},
   "outputs": [],
   "source": [
    "h_rr = fits.open(f'{tgt_dir}/{z_filename}')\n",
    "h_rr.info()\n",
    "h_rr.close()"
   ]
  },
  {
   "cell_type": "markdown",
   "id": "b9c3da81-a0fa-4d67-ba5a-4483a0145c51",
   "metadata": {},
   "source": [
    "The redrock* file has 4 extensions:\n",
    "\n",
    "* **REDSHIFTS** consists of redshift information and outputs from redrock.\n",
    "* **FIBERMAP** is similar to the one in coadd* file and has information about the targets.\n",
    "* **EXP_FIBERMAP** is again similar to the one in the coadd* file and has exposure information about the targets.\n",
    "* **TSNR2** contains information about the expected SNR measurements for the targets.\n",
    "\n",
    "Information about the datamodel is [here](https://desidatamodel.readthedocs.io/en/latest/DESI_SPECTRO_REDUX/SPECPROD/healpix/SURVEY/PROGRAM/PIXGROUP/PIXNUM/redrock-SURVEY-PROGRAM-PIXNUM.html). <br/>\n",
    "You can in principle use these files directly and write your own code to access the spectra. However, `desispec` also provides a function for accessing the coadded spectra as shown below."
   ]
  },
  {
   "cell_type": "markdown",
   "id": "bc117bcf-ae63-4c49-8b8c-75f1e695075c",
   "metadata": {},
   "source": [
    "<a class=\"anchor\" id=\"spectra\"></a>\n",
    "## Working with Coadded Spectra using _desispec.io.read_spectra()_"
   ]
  },
  {
   "cell_type": "code",
   "execution_count": null,
   "id": "1925df06-eb98-49a3-b36c-6e34ceda0537",
   "metadata": {},
   "outputs": [],
   "source": [
    "# Using desispec to read the spectra\n",
    "\n",
    "coadd_obj = desispec.io.read_spectra(f'{tgt_dir}/{coadd_filename}')\n",
    "coadd_tgts = coadd_obj.target_ids().data"
   ]
  },
  {
   "cell_type": "code",
   "execution_count": null,
   "id": "5aa0ad8b-d69b-459c-b3c2-87dfc10bb8a6",
   "metadata": {},
   "outputs": [],
   "source": [
    "# Selecting the particular spectra of the targetid\n",
    "\n",
    "row = (coadd_tgts == targetid)\n",
    "coadd_spec = coadd_obj[row]"
   ]
  },
  {
   "cell_type": "code",
   "execution_count": null,
   "id": "813a0dd8-d9f5-4e38-9c7c-e7378e0d6a48",
   "metadata": {},
   "outputs": [],
   "source": [
    "coadd_spec.wave"
   ]
  },
  {
   "cell_type": "code",
   "execution_count": null,
   "id": "320437c1-ba93-45a1-b739-fbcd7cfdbad5",
   "metadata": {},
   "outputs": [],
   "source": [
    "coadd_spec.flux"
   ]
  },
  {
   "cell_type": "code",
   "execution_count": null,
   "id": "8eab50fd-5b66-4d03-b30c-78e949d85054",
   "metadata": {},
   "outputs": [],
   "source": [
    "# Plotting this spectra -\n",
    "\n",
    "plt.figure(figsize = (20, 6))\n",
    "# Plot the spectrum from each arm (B,R,Z) in blue, green, red\n",
    "\n",
    "plt.plot(coadd_spec.wave['b'], coadd_spec.flux['b'][0], color = 'b', alpha = 0.5)\n",
    "plt.plot(coadd_spec.wave['r'], coadd_spec.flux['r'][0], color = 'g', alpha = 0.5)\n",
    "plt.plot(coadd_spec.wave['z'], coadd_spec.flux['z'][0], color = 'r', alpha = 0.5)\n",
    "# Over-plotting smoothed spectra in black for all the three arms\n",
    "plt.plot(coadd_spec.wave['b'], convolve(coadd_spec.flux['b'][0], Gaussian1DKernel(5)), color = 'k')\n",
    "plt.plot(coadd_spec.wave['r'], convolve(coadd_spec.flux['r'][0], Gaussian1DKernel(5)), color = 'k')\n",
    "plt.plot(coadd_spec.wave['z'], convolve(coadd_spec.flux['z'][0], Gaussian1DKernel(5)), color = 'k')\n",
    "plt.xlim([3500, 9900])\n",
    "plt.xlabel('$\\lambda$ [$\\AA$]')\n",
    "plt.ylabel('$F_{\\lambda}$ [$10^{-17} erg\\ s^{-1}\\ cm^{-2}\\ \\AA^{-1}$]')\n",
    "plt.show()"
   ]
  },
  {
   "cell_type": "markdown",
   "id": "b6060237-ef5f-4849-866b-e19d1cae8665",
   "metadata": {},
   "source": [
    "The coadded spectra available is divided based on the observed (B,R,Z) camera. We can obtain the joint spectrum using the available `coaddition.coadd_cameras` function."
   ]
  },
  {
   "cell_type": "code",
   "execution_count": null,
   "id": "3a6acd3a-687a-40ca-b56c-9172264c55e2",
   "metadata": {},
   "outputs": [],
   "source": [
    "# Combined Spectra - \n",
    "\n",
    "spec_combined = coaddition.coadd_cameras(coadd_spec)"
   ]
  },
  {
   "cell_type": "code",
   "execution_count": null,
   "id": "41109e06-8a06-42dd-812e-a382b8d97dba",
   "metadata": {},
   "outputs": [],
   "source": [
    "spec_combined.wave"
   ]
  },
  {
   "cell_type": "code",
   "execution_count": null,
   "id": "79ec351f-7a5d-4850-988d-a06e501867ea",
   "metadata": {},
   "outputs": [],
   "source": [
    "spec_combined.flux"
   ]
  },
  {
   "cell_type": "code",
   "execution_count": null,
   "id": "52ca4e3d-ae28-49a6-986a-3cdc6591c34f",
   "metadata": {},
   "outputs": [],
   "source": [
    "# Plotting this combined spectra - \n",
    "\n",
    "# Plotting this spectra -\n",
    "\n",
    "plt.figure(figsize = (20, 6))\n",
    "# Plot the combined spectrum in maroon\n",
    "plt.plot(spec_combined.wave['brz'], spec_combined.flux['brz'][0], color = 'maroon', alpha = 0.5)\n",
    "# Over-plotting smoothed spectra \n",
    "plt.plot(spec_combined.wave['brz'], convolve(spec_combined.flux['brz'][0], Gaussian1DKernel(5)), color = 'k', lw = 2.0)\n",
    "plt.xlim([3500, 9900])\n",
    "plt.xlabel('$\\lambda$ [$\\AA$]')\n",
    "plt.ylabel('$F_{\\lambda}$ [$10^{-17} erg\\ s^{-1}\\ cm^{-2}\\ \\AA^{-1}$]')\n",
    "plt.show()"
   ]
  },
  {
   "cell_type": "markdown",
   "id": "f5704851-31db-4fa2-94e0-de7da171b36b",
   "metadata": {},
   "source": [
    "Let us now plot all the available spectra available for this object"
   ]
  },
  {
   "cell_type": "code",
   "execution_count": null,
   "id": "42e29b47-b8d4-4502-a6ca-a5251f765dc9",
   "metadata": {},
   "outputs": [],
   "source": [
    "# Number of spectra \n",
    "n = len(zcat_sel)\n",
    "\n",
    "fig, ax = plt.subplots(n, 1, figsize = (12,(4*n)))\n",
    "\n",
    "for jj in range(n):\n",
    "    survey = survey_col[jj]\n",
    "    program = program_col[jj]\n",
    "    hpx = hpx_col[jj]\n",
    "    \n",
    "    spectype = zcat_sel['SPECTYPE'].astype(str).data[jj]\n",
    "    primary_flag = zcat_sel['ZCAT_PRIMARY'].data[jj]\n",
    "\n",
    "    tgt_dir = f'{healpix_dir}/{survey}/{program}/{hpx//100}/{hpx}'\n",
    "    coadd_filename = f'coadd-{survey}-{program}-{hpx}.fits'\n",
    "    coadd_obj = desispec.io.read_spectra(f'{tgt_dir}/{coadd_filename}')\n",
    "    coadd_tgts = coadd_obj.target_ids().data\n",
    "    row = (coadd_tgts == targetid)\n",
    "    coadd_spec = coadd_obj[row]\n",
    "\n",
    "    spec_combined = coaddition.coadd_cameras(coadd_spec)\n",
    "    \n",
    "    # Plot the combined spectrum in maroon\n",
    "    ax[jj].plot(spec_combined.wave['brz'], spec_combined.flux['brz'][0], color = 'maroon', alpha = 0.5)\n",
    "    # Over-plotting smoothed spectra \n",
    "    ax[jj].plot(spec_combined.wave['brz'], convolve(spec_combined.flux['brz'][0], Gaussian1DKernel(5)), color = 'k', lw = 2.0)\n",
    "    ax[jj].set(xlim = [3500, 9900], xlabel = '$\\lambda$', ylabel = '$F_{\\lambda}$')\n",
    "    \n",
    "    trans = ax[jj].get_xaxis_transform()\n",
    "    ax[jj].annotate(f'{survey}, {program}', xy = (6000, 0.85), xycoords = trans, fontsize = 16)\n",
    "    ax[jj].annotate(f'SPECTYPE : {spectype}', xy = (8000, 0.85), xycoords = trans, fontsize = 16)\n",
    "    ax[jj].annotate(f'PRIMARY Flag : {primary_flag}', xy = (8000, 0.75), xycoords = trans, fontsize = 16)\n",
    "    \n",
    "plt.tight_layout()"
   ]
  },
  {
   "cell_type": "markdown",
   "id": "ffcd56bf-9e70-477c-b55b-a28f3a924fbd",
   "metadata": {},
   "source": [
    "Redrock uses a set of templates to classify sources and find their redshifts. You can use the zbest fit coefficients with the redrock-templates to compare the spectra to the best-fit template. A tutorial on how to do this is available [here](https://github.com/desihub/tutorials/blob/main/redrock/RedrockOutputs.ipynb)."
   ]
  },
  {
   "cell_type": "markdown",
   "id": "6e401717-9ea5-4710-8c97-73ebd9c55d97",
   "metadata": {},
   "source": [
    "<a class=\"anchor\" id=\"ref\"></a>\n",
    "# References\n",
    "\n",
    "* DESI experiment paper: https://arxiv.org/abs/1611.00036\n",
    "* Information about EDR: https://data.desi.lbl.gov/public/edr\n",
    "* Information about Survey Validation: https://desi.lbl.gov/trac/wiki/SurveyValidation (**link exclusive to DESI collaborators**)\n",
    "* Targetting Information: \n",
    "    * [SV1](https://desi.lbl.gov/trac/wiki/TargetSelectionWG/SurveyValidation) (**link exclusive to DESI collaborators**)\n",
    "    * [SV2](https://desi.lbl.gov/trac/wiki/TargetSelectionWG/SV2) (**link exclusive to DESI collaborators**)\n",
    "    * [SV3](https://desi.lbl.gov/trac/wiki/TargetSelectionWG/SV3) (**link exclusive to DESI collaborators**)\n",
    "    * [main](https://ui.adsabs.harvard.edu/abs/2023AJ....165...50M/abstract) survey\n",
    "* Datamodel information: https://desidatamodel.readthedocs.io/en/latest/\n",
    "    * [tiles-fuji.fits](https://desidatamodel.readthedocs.io/en/latest/DESI_SPECTRO_REDUX/SPECPROD/tiles-SPECPROD.html)\n",
    "    * [exposures-fuji.fits](https://desidatamodel.readthedocs.io/en/latest/DESI_SPECTRO_REDUX/SPECPROD/exposures-SPECPROD.html)\n",
    "    * [Redshift catalogs](https://desidatamodel.readthedocs.io/en/latest/DESI_SPECTRO_REDUX/SPECPROD/zcatalog/index.html)\n",
    "    * [zall-pix-fuji.fits](https://desidatamodel.readthedocs.io/en/latest/DESI_SPECTRO_REDUX/SPECPROD/zcatalog/zall-pix-SPECPROD.html)\n",
    "    * [zall-tilecumulative-fuji.fits](https://desidatamodel.readthedocs.io/en/latest/DESI_SPECTRO_REDUX/SPECPROD/zcatalog/zall-tilecumulative-SPECPROD.html)\n",
    "    * [zpix-SURVEY-PROGRAM.fits](https://desidatamodel.readthedocs.io/en/latest/DESI_SPECTRO_REDUX/SPECPROD/zcatalog/zpix-SURVEY-PROGRAM.html)\n",
    "    * [ztile-SURVEY-PROGRAM-GROUPTYPE.fits](https://desidatamodel.readthedocs.io/en/latest/DESI_SPECTRO_REDUX/SPECPROD/zcatalog/zpix-SURVEY-PROGRAM.html)\n",
    "    * [coadd-SURVEY-PROGRAM-PIXNUM.fits](https://desidatamodel.readthedocs.io/en/latest/DESI_SPECTRO_REDUX/SPECPROD/healpix/SURVEY/PROGRAM/PIXGROUP/PIXNUM/coadd-SURVEY-PROGRAM-PIXNUM.html)\n",
    "    * [redshift-SURVEY-PROGRAM-PIXNUM.fits](https://desidatamodel.readthedocs.io/en/latest/DESI_SPECTRO_REDUX/SPECPROD/healpix/SURVEY/PROGRAM/PIXGROUP/PIXNUM/redrock-SURVEY-PROGRAM-PIXNUM.html)\n",
    "* Information about DESI bitmasks: https://desidatamodel.readthedocs.io/en/latest/bitmasks.html\n",
    "* Redrock Template Tutorial: https://github.com/desihub/tutorials/blob/main/redrock/RedrockOutputs.ipynb"
   ]
  }
 ],
 "metadata": {
  "kernelspec": {
   "display_name": "DESI 23.1",
   "language": "python",
   "name": "desi-23.1"
  },
  "language_info": {
   "codemirror_mode": {
    "name": "ipython",
    "version": 3
   },
   "file_extension": ".py",
   "mimetype": "text/x-python",
   "name": "python",
   "nbconvert_exporter": "python",
   "pygments_lexer": "ipython3",
   "version": "3.10.8"
  }
 },
 "nbformat": 4,
 "nbformat_minor": 5
}
