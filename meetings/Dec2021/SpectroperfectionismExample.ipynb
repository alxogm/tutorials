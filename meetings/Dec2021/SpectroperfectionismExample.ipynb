{
 "cells": [
  {
   "cell_type": "markdown",
   "id": "11539e14-1280-4c53-ab06-bd65ed5f9b3b",
   "metadata": {},
   "source": [
    "# Working with DESI spectroperfectionism resolution matrix data\n",
    "\n",
    "This notebook provides some brief examples of working with the RESOLUTION HDUs of DESI coadd, spectra, and frame files.\n",
    "\n",
    "The first half of this notebook requires numpy, scipy, matplotlib, and fitsio. The second half requires a DESI kernel to get desispec.\n",
    "\n",
    "Stephen Bailey<br>\n",
    "December 2021"
   ]
  },
  {
   "cell_type": "code",
   "execution_count": 1,
   "id": "01d92fb8-9ffe-4d33-95af-7851d4341e9d",
   "metadata": {},
   "outputs": [],
   "source": [
    "import numpy as np\n",
    "import matplotlib.pyplot as plt\n",
    "from desispec.io import read_spectra\n",
    "import fitsio\n",
    "\n",
    "from scipy.sparse import dia_matrix"
   ]
  },
  {
   "cell_type": "markdown",
   "id": "483c8490-4a0b-4dba-8d70-7f5ff84ffee9",
   "metadata": {},
   "source": [
    "## DESI coadd / spectra files\n",
    "\n",
    "DESI spectra and coadd files have Header Data Units (HDUs) like\n",
    "`B_RESOLUTION`, `R_RESOLUTION`, and `Z_RESOLUTION` containing\n",
    "N *diagonals* of the resolution matrix for 500 spectra for each\n",
    "of the cameras B, R, Z.\n",
    "\n",
    "The corresponding wavelengths, fluxes, and inverse variances\n",
    "(1/error^2) are in `[BRZ]_WAVELENGTH` and `[BRZ]_FLUX`, and `[BRZ]_IVAR`"
   ]
  },
  {
   "cell_type": "code",
   "execution_count": 2,
   "id": "d0152d83-a3c0-4e9a-a4cc-58cb416b3235",
   "metadata": {},
   "outputs": [
    {
     "name": "stdout",
     "output_type": "stream",
     "text": [
      "\n",
      "  file: /global/cfs/cdirs/desi/spectro/redux/everest/tiles/cumulative/1900/20210614/coadd-0-1900-thru20210614.fits\n",
      "  mode: READONLY\n",
      "  extnum hdutype         hduname[v]\n",
      "  0      IMAGE_HDU       \n",
      "  1      BINARY_TBL      FIBERMAP\n",
      "  2      BINARY_TBL      EXP_FIBERMAP\n",
      "  3      IMAGE_HDU       B_WAVELENGTH\n",
      "  4      IMAGE_HDU       B_FLUX\n",
      "  5      IMAGE_HDU       B_IVAR\n",
      "  6      IMAGE_HDU       B_MASK\n",
      "  7      IMAGE_HDU       B_RESOLUTION\n",
      "  8      IMAGE_HDU       R_WAVELENGTH\n",
      "  9      IMAGE_HDU       R_FLUX\n",
      "  10     IMAGE_HDU       R_IVAR\n",
      "  11     IMAGE_HDU       R_MASK\n",
      "  12     IMAGE_HDU       R_RESOLUTION\n",
      "  13     IMAGE_HDU       Z_WAVELENGTH\n",
      "  14     IMAGE_HDU       Z_FLUX\n",
      "  15     IMAGE_HDU       Z_IVAR\n",
      "  16     IMAGE_HDU       Z_MASK\n",
      "  17     IMAGE_HDU       Z_RESOLUTION\n",
      "  18     BINARY_TBL      SCORES\n"
     ]
    }
   ],
   "source": [
    "coaddfile = '/global/cfs/cdirs/desi/spectro/redux/everest/tiles/cumulative/1900/20210614/coadd-0-1900-thru20210614.fits'\n",
    "fx = fitsio.FITS(coaddfile)\n",
    "print(fx)"
   ]
  },
  {
   "cell_type": "markdown",
   "id": "2ff1f4d5-b982-41a8-9125-8d797d897c6c",
   "metadata": {},
   "source": [
    "Let's inspect the resolution matrix for the Z camera"
   ]
  },
  {
   "cell_type": "code",
   "execution_count": 3,
   "id": "b829f4a3-accb-4a19-a71e-573230a18dab",
   "metadata": {},
   "outputs": [
    {
     "name": "stdout",
     "output_type": "stream",
     "text": [
      "wave.shape = (2881,)\n",
      "flux.shape = (nspec, nwave) = (500, 2881)\n",
      "rdiags.shape = (nspec, ndiags, nwave) = (500, 11, 2881)\n"
     ]
    }
   ],
   "source": [
    "wave = fitsio.read(coaddfile, 'Z_WAVELENGTH')\n",
    "flux = fitsio.read(coaddfile, 'Z_FLUX')\n",
    "rdiags = fitsio.read(coaddfile, 'Z_RESOLUTION')\n",
    "nspec, ndiag, nwave = rdiags.shape\n",
    "\n",
    "print(f'wave.shape = {wave.shape}')\n",
    "print(f'flux.shape = (nspec, nwave) = {flux.shape}')\n",
    "print(f'rdiags.shape = (nspec, ndiags, nwave) = {rdiags.shape}')"
   ]
  },
  {
   "cell_type": "markdown",
   "id": "36b6ca32-ef96-4ce2-8970-5631caac4234",
   "metadata": {},
   "source": [
    "There are 500 spectra, with 2881 wavelengths each, and we kept 11 diagonals of the resolution matrix,\n",
    "corresponding to offsets from the main diagonal [5, 4, 3, 2, 1, 0, -1, -2, -3, -4, -5].\n",
    "\n",
    "`rdiags[i]` are the diagonal elements of the resolution matrix for spectrum `i`.\n",
    "Let's look at the first 50 wavelenths:"
   ]
  },
  {
   "cell_type": "code",
   "execution_count": 4,
   "id": "136e0a72-87a2-47c8-896c-e164481b56bf",
   "metadata": {},
   "outputs": [
    {
     "data": {
      "text/plain": [
       "<matplotlib.image.AxesImage at 0x1554bafb6a00>"
      ]
     },
     "execution_count": 4,
     "metadata": {},
     "output_type": "execute_result"
    },
    {
     "data": {
      "image/png": "[encoded data removed]",
      "text/plain": [
       "<Figure size 432x288 with 1 Axes>"
      ]
     },
     "metadata": {
      "needs_background": "light"
     },
     "output_type": "display_data"
    }
   ],
   "source": [
    "plt.imshow(rdiags[0][:, 0:50])"
   ]
  },
  {
   "cell_type": "markdown",
   "id": "4f288dde-b58b-41b0-8206-0ad1e6c05b32",
   "metadata": {},
   "source": [
    "But how do we actually turn that into a matrix that we can multiply (convolve) with a model spectrum?\n",
    "The diagonals are stored in a form designed to work well with scipy sparse matrices, where you give it the\n",
    "diagonals, which offsets they correspond to, and the size of the final output sparse matrix:"
   ]
  },
  {
   "cell_type": "code",
   "execution_count": 5,
   "id": "03370421-35d7-48a6-b83d-b33d869cae84",
   "metadata": {},
   "outputs": [],
   "source": [
    "offsets = np.arange(ndiag//2, -(ndiag//2)-1, -1)\n",
    "R = dia_matrix((rdiags[0], offsets), shape=(nwave, nwave)) "
   ]
  },
  {
   "cell_type": "code",
   "execution_count": 6,
   "id": "ff6db2c1-cde2-4980-a759-93ad2ee9ad7b",
   "metadata": {},
   "outputs": [
    {
     "data": {
      "text/plain": [
       "<matplotlib.image.AxesImage at 0x1554b8f03f10>"
      ]
     },
     "execution_count": 6,
     "metadata": {},
     "output_type": "execute_result"
    },
    {
     "data": {
      "image/png": "[encoded data removed]",
      "text/plain": [
       "<Figure size 432x288 with 1 Axes>"
      ]
     },
     "metadata": {
      "needs_background": "light"
     },
     "output_type": "display_data"
    }
   ],
   "source": [
    "plt.imshow(R.todense()[0:50, 0:50], origin='upper')"
   ]
  },
  {
   "cell_type": "markdown",
   "id": "18cf4553-347d-43ec-9912-4af6c3abed91",
   "metadata": {},
   "source": [
    "To convolve a model spectrum with this resolution matrix, just multiply (which will do a matrix-vector dot product): "
   ]
  },
  {
   "cell_type": "code",
   "execution_count": 7,
   "id": "9c7f828d-f619-4b72-a840-98e96af767d0",
   "metadata": {},
   "outputs": [
    {
     "data": {
      "text/plain": [
       "<matplotlib.legend.Legend at 0x1554baedf5e0>"
      ]
     },
     "execution_count": 7,
     "metadata": {},
     "output_type": "execute_result"
    },
    {
     "data": {
      "image/png": "[encoded data removed]",
      "text/plain": [
       "<Figure size 432x288 with 1 Axes>"
      ]
     },
     "metadata": {
      "needs_background": "light"
     },
     "output_type": "display_data"
    }
   ],
   "source": [
    "model = np.zeros(nwave)\n",
    "model[50] = 100\n",
    "plt.plot(wave, model, label='input model spectrum')\n",
    "plt.plot(wave, R*model, label='observed spectrum convolved with DESI resolution')\n",
    "plt.xlim(7540, 7580)\n",
    "plt.legend(loc='upper left')"
   ]
  },
  {
   "cell_type": "markdown",
   "id": "b373ab76-9508-4cdb-8c05-5aaf749bf5ff",
   "metadata": {},
   "source": [
    "## Using desispec wrappers\n",
    "\n",
    "The resolution format storing diagonals was designed to be usable with `scipy.sparse.dia_matrix`\n",
    "without requiring DESI-specific code, but if you are willing to have `desispec` as a dependency\n",
    "you can get some convenience wrappers:"
   ]
  },
  {
   "cell_type": "code",
   "execution_count": 8,
   "id": "bb574e17-2118-4013-a38c-309d96e618f7",
   "metadata": {},
   "outputs": [],
   "source": [
    "from desispec.resolution import Resolution\n",
    "R = Resolution(rdiags[0])"
   ]
  },
  {
   "cell_type": "code",
   "execution_count": 9,
   "id": "6fa698a7-0d0f-4a63-b90e-81615d653b6e",
   "metadata": {},
   "outputs": [
    {
     "data": {
      "text/plain": [
       "(7540.0, 7580.0)"
      ]
     },
     "execution_count": 9,
     "metadata": {},
     "output_type": "execute_result"
    },
    {
     "data": {
      "image/png": "[encoded data removed]",
      "text/plain": [
       "<Figure size 432x288 with 1 Axes>"
      ]
     },
     "metadata": {
      "needs_background": "light"
     },
     "output_type": "display_data"
    }
   ],
   "source": [
    "plt.plot(wave, model)\n",
    "plt.plot(wave, R*model)\n",
    "plt.xlim(7540, 7580)"
   ]
  },
  {
   "cell_type": "markdown",
   "id": "87377792-8d01-47d4-bce0-3c10931f5bf3",
   "metadata": {},
   "source": [
    "Even more convenient is using the read_spectra I/O wrapper which reads all the HDUs\n",
    "and creates the sparse R matrices for every spectrum.\n",
    "\n",
    "See https://github.com/desihub/tutorials/blob/master/Dec2021/Everest_Tutorial_Dec2021.ipynb for more details"
   ]
  },
  {
   "cell_type": "code",
   "execution_count": 10,
   "id": "7f6bbffb-3a33-4fce-a743-67536886c82c",
   "metadata": {},
   "outputs": [
    {
     "name": "stdout",
     "output_type": "stream",
     "text": [
      "INFO:spectra.py:285:read_spectra: iotime 0.777 sec to read coadd-0-1900-thru20210614.fits at 2022-06-15T09:21:46.259976\n"
     ]
    }
   ],
   "source": [
    "from desispec.io import read_spectra\n",
    "coadd = read_spectra(coaddfile)"
   ]
  },
  {
   "cell_type": "code",
   "execution_count": 11,
   "id": "8ce25db2-4f13-4b63-835f-9fdf7d667832",
   "metadata": {},
   "outputs": [
    {
     "data": {
      "text/plain": [
       "(7540.0, 7580.0)"
      ]
     },
     "execution_count": 11,
     "metadata": {},
     "output_type": "execute_result"
    },
    {
     "data": {
      "image/png": "[encoded data removed]",
      "text/plain": [
       "<Figure size 432x288 with 1 Axes>"
      ]
     },
     "metadata": {
      "needs_background": "light"
     },
     "output_type": "display_data"
    }
   ],
   "source": [
    "plt.plot(wave, model)\n",
    "plt.plot(wave, coadd.R['z'][0]*model)\n",
    "plt.xlim(7540, 7580)"
   ]
  },
  {
   "cell_type": "markdown",
   "id": "397c49c1-b31f-4f72-9163-8f43794740a8",
   "metadata": {},
   "source": [
    "## Futher reading\n",
    "\n",
    "[DESI-6538](https://desi.lbl.gov/DocDB/cgi-bin/private/ShowDocument?docid=6538) is the companion presentation\n",
    "about spectroperfectionism, which ends with this notebook.\n",
    "\n",
    "See https://github.com/desihub/tutorials/blob/master/redrock/RedrockOutputs.ipynb for an example working\n",
    "with redrock output to make a galaxy model and convolve it with the spectral resolution to compare to the data."
   ]
  }
 ],
 "metadata": {
  "kernelspec": {
   "display_name": "DESI 22.2",
   "language": "python",
   "name": "desi-22.2"
  },
  "language_info": {
   "codemirror_mode": {
    "name": "ipython",
    "version": 3
   },
   "file_extension": ".py",
   "mimetype": "text/x-python",
   "name": "python",
   "nbconvert_exporter": "python",
   "pygments_lexer": "ipython3",
   "version": "3.9.7"
  }
 },
 "nbformat": 4,
 "nbformat_minor": 5
}
