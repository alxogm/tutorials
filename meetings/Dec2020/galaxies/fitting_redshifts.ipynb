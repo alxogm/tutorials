{
 "cells": [
  {
   "cell_type": "markdown",
   "metadata": {},
   "source": [
    "# Getting started on jupyter.nersc.gov\n",
    "Lets first setup the DESI environment and install the DESI-specific kernel\n",
    "```bash\n",
    "source /global/common/software/desi/desi_environment.sh 19.12\n",
    "${DESIMODULES}/install_jupyter_kernel.sh 19.12\n",
    "```\n",
    "See [https://desi.lbl.gov/trac/wiki/Computing/JupyterAtNERSC](https://desi.lbl.gov/trac/wiki/Computing/JupyterAtNERSC) for more details. \n",
    "\n",
    "Now we can import DESI-specific python packages from [desihub](https://github.com/desihub/). \n",
    "\n",
    "\n",
    "# Reading DESI spectra\n",
    "For instance we can use `desispec` to read in some DESI BGS coadded spectra from Comissioning that I've included in the repo"
   ]
  },
  {
   "cell_type": "code",
   "execution_count": null,
   "metadata": {},
   "outputs": [],
   "source": [
    "from desispec.io import read_spectra"
   ]
  },
  {
   "cell_type": "code",
   "execution_count": null,
   "metadata": {},
   "outputs": [],
   "source": [
    "# -- plotting -- \n",
    "import matplotlib as mpl\n",
    "import matplotlib.pyplot as plt\n",
    "mpl.rcParams['font.family'] = 'serif'\n",
    "mpl.rcParams['axes.linewidth'] = 1.5\n",
    "mpl.rcParams['axes.xmargin'] = 1\n",
    "mpl.rcParams['xtick.labelsize'] = 'x-large'\n",
    "mpl.rcParams['xtick.major.size'] = 5\n",
    "mpl.rcParams['xtick.major.width'] = 1.5\n",
    "mpl.rcParams['ytick.labelsize'] = 'x-large'\n",
    "mpl.rcParams['ytick.major.size'] = 5\n",
    "mpl.rcParams['ytick.major.width'] = 1.5\n",
    "mpl.rcParams['legend.frameon'] = False"
   ]
  },
  {
   "cell_type": "code",
   "execution_count": null,
   "metadata": {},
   "outputs": [],
   "source": [
    "spectra = read_spectra('coadd-66003-20200315-1-00055654.few.fits') # handful of BGS galaxies from Tile 66003 observed on 03/15/2020, Petal #1, Exposure #00055654"
   ]
  },
  {
   "cell_type": "code",
   "execution_count": null,
   "metadata": {},
   "outputs": [],
   "source": [
    "fig = plt.figure(figsize=(15,10))\n",
    "sub = fig.add_subplot(211)\n",
    "sub.plot(spectra.wave['brz'], spectra.flux['brz'][2])\n",
    "sub.set_xlim(3.6e3, 9.8e3)\n",
    "sub.set_ylabel('flux ($10^{-17} erg/s/\\AA/s/cm^2$)', fontsize=25)\n",
    "sub.set_ylim(-5, 20)\n",
    "\n",
    "sub = fig.add_subplot(212)\n",
    "sub.plot(spectra.wave['brz'], spectra.flux['brz'][6])\n",
    "sub.set_xlabel('wavelength ($\\AA$)', fontsize=25)\n",
    "sub.set_xlim(3.6e3, 9.8e3)\n",
    "#sub.set_ylabel('flux ($10^{-17} erg/s/\\AA/s/cm^2$)', fontsize=25)\n",
    "sub.set_ylim(-5, 20)"
   ]
  },
  {
   "cell_type": "markdown",
   "metadata": {},
   "source": [
    "# Fitting Redshifts using `redrock`\n",
    "The main goal of DESI is to measure the redshifts of millions of galaxies. Redshifts will be measured for galaxy spectra, like the ones above using `redrock`: https://github.com/desihub/redrock\n",
    "\n",
    "`redrock` can be easily run on DESI spectra on the command line"
   ]
  },
  {
   "cell_type": "code",
   "execution_count": null,
   "metadata": {},
   "outputs": [],
   "source": [
    "f_spec = 'coadd-66003-20200315-1-00055654.few.fits'\n",
    "f_rr_h5 = 'redrock.coadd.h5'\n",
    "f_rr = 'zbest.coadd.fits'\n",
    "print(f_rr)\n",
    "!rrdesi -o $f_rr_h5 -z $f_rr $f_spec"
   ]
  },
  {
   "cell_type": "markdown",
   "metadata": {},
   "source": [
    "# `redrock` outputs\n",
    "Lets take a look at what `redrock` outputs"
   ]
  },
  {
   "cell_type": "code",
   "execution_count": null,
   "metadata": {},
   "outputs": [],
   "source": [
    "from astropy.table import Table"
   ]
  },
  {
   "cell_type": "code",
   "execution_count": null,
   "metadata": {},
   "outputs": [],
   "source": [
    "zbest = Table.read('zbest.coadd.fits', hdu=1)"
   ]
  },
  {
   "cell_type": "code",
   "execution_count": null,
   "metadata": {},
   "outputs": [],
   "source": [
    "zbest"
   ]
  },
  {
   "cell_type": "code",
   "execution_count": null,
   "metadata": {},
   "outputs": [],
   "source": [
    "import redrock.templates"
   ]
  },
  {
   "cell_type": "code",
   "execution_count": null,
   "metadata": {},
   "outputs": [],
   "source": [
    "templates = dict()\n",
    "for filename in redrock.templates.find_templates():\n",
    "    t = redrock.templates.Template(filename)\n",
    "    templates[(t.template_type, t.sub_type)] = t"
   ]
  },
  {
   "cell_type": "markdown",
   "metadata": {},
   "source": [
    "## `redrock` galaxy templates\n",
    "`redrock` fits galaxy spectra with a linear combination of PCA templates. Here's what the galaxy templates look like:"
   ]
  },
  {
   "cell_type": "code",
   "execution_count": null,
   "metadata": {},
   "outputs": [],
   "source": [
    "fig = plt.figure(figsize=(15,5))\n",
    "sub = fig.add_subplot(111)\n",
    "for i in range(templates[('GALAXY', '')].flux.shape[0]):\n",
    "    sub.plot(templates[('GALAXY', '')].wave, templates[('GALAXY', '')].flux[i])\n",
    "sub.set_xlim(templates[('GALAXY', '')].wave.min(), templates[('GALAXY', '')].wave.max())\n",
    "sub.set_ylim(-0.02, 0.02)"
   ]
  },
  {
   "cell_type": "markdown",
   "metadata": {},
   "source": [
    "Since the `redrock` output file contains the coefficients of the PCA templates, we can use these templates to reconstruct the best-fit `redrock` fit"
   ]
  },
  {
   "cell_type": "code",
   "execution_count": null,
   "metadata": {},
   "outputs": [],
   "source": [
    "i = 2\n",
    "z = zbest['Z'][i]\n",
    "targetid = zbest['TARGETID'][i]\n",
    "ncoeff = templates[(zbest['SPECTYPE'][i].strip(), zbest['SUBTYPE'][i].strip())].flux.shape[0]\n",
    "coeff = zbest['COEFF'][i][0:ncoeff]"
   ]
  },
  {
   "cell_type": "code",
   "execution_count": null,
   "metadata": {},
   "outputs": [],
   "source": [
    "print('z_redrock = %.3f' % z)"
   ]
  },
  {
   "cell_type": "code",
   "execution_count": null,
   "metadata": {},
   "outputs": [],
   "source": [
    "tflux = templates[(zbest['SPECTYPE'][i].strip(), zbest['SUBTYPE'][i].strip())].flux.T.dot(coeff)\n",
    "twave = templates[(zbest['SPECTYPE'][i].strip(), zbest['SUBTYPE'][i].strip())].wave * (1+z)"
   ]
  },
  {
   "cell_type": "code",
   "execution_count": null,
   "metadata": {},
   "outputs": [],
   "source": [
    "fig = plt.figure(figsize=(15,10))\n",
    "sub = fig.add_subplot(211)\n",
    "\n",
    "for band in spectra.bands:\n",
    "    sub.plot(spectra.wave[band], spectra.flux[band][i], 'C0', alpha=0.5)\n",
    "\n",
    "for icoeff in range(ncoeff): \n",
    "    sub.plot(twave, templates[(zbest['SPECTYPE'][i].strip(), zbest['SUBTYPE'][i].strip())].flux[icoeff] * coeff[icoeff], ls=':', lw=0.5)\n",
    "sub.plot(twave, tflux, 'r-')\n",
    "sub.set_ylim(-5, 40)\n",
    "sub.set_xlim(3500, 10000)"
   ]
  },
  {
   "cell_type": "markdown",
   "metadata": {},
   "source": [
    "For more details on the redrock output check out the following tutorials: \n",
    "- https://github.com/desihub/tutorials/blob/master/redrock/RedrockOutputs.ipynb\n",
    "- https://github.com/desihub/tutorials/blob/master/redrock/RedrockPlotSpec.md"
   ]
  },
  {
   "cell_type": "code",
   "execution_count": null,
   "metadata": {},
   "outputs": [],
   "source": []
  }
 ],
 "metadata": {
  "kernelspec": {
   "display_name": "DESI 19.12",
   "language": "python",
   "name": "desi-19.12"
  },
  "language_info": {
   "codemirror_mode": {
    "name": "ipython",
    "version": 3
   },
   "file_extension": ".py",
   "mimetype": "text/x-python",
   "name": "python",
   "nbconvert_exporter": "python",
   "pygments_lexer": "ipython3",
   "version": "3.6.6"
  }
 },
 "nbformat": 4,
 "nbformat_minor": 4
}
