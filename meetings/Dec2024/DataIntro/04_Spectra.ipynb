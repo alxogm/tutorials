{
 "cells": [
  {
   "cell_type": "markdown",
   "id": "077b4b8d-118a-47e8-a6b2-d555dd64d265",
   "metadata": {},
   "source": [
    "# DESI Spectra\n",
    "\n",
    "This notebook shows a simple example of reading and plotting DESI spectra.\n",
    "\n",
    "For a more complete tutorial based on Early Data Release (EDR) data, see https://github.com/desihub/tutorials/blob/main/getting_started/intro_to_DESI_EDR_files.ipynb"
   ]
  },
  {
   "cell_type": "code",
   "execution_count": 1,
   "id": "03d525bf-dd59-4501-916f-df26f005d178",
   "metadata": {
    "tags": []
   },
   "outputs": [],
   "source": [
    "# Python and external package imports\n",
    "import os\n",
    "import numpy as np\n",
    "\n",
    "import fitsio\n",
    "from astropy.table import Table\n",
    "import matplotlib.pyplot as plt"
   ]
  },
  {
   "cell_type": "code",
   "execution_count": 5,
   "id": "0b83ab9b-b787-41d1-b84b-5ac296aecd14",
   "metadata": {
    "tags": []
   },
   "outputs": [],
   "source": [
    "# DESI-specific imports\n",
    "from desispec.io import read_spectra\n",
    "from desispec.coaddition import coadd, coadd_cameras\n",
    "from desispec.io import findfile"
   ]
  },
  {
   "cell_type": "code",
   "execution_count": 9,
   "id": "225f64e8-4e85-4bc8-ba49-420a65d82239",
   "metadata": {
    "tags": []
   },
   "outputs": [
    {
     "name": "stdout",
     "output_type": "stream",
     "text": [
      "/dvs_ro/cfs/cdirs/desi/spectro/redux/loa\n"
     ]
    }
   ],
   "source": [
    "specprod = 'loa'    # production name for the final Year 3 (Y3) production\n",
    "desi_root = os.environ['DESI_ROOT']\n",
    "desi_root_ro = os.environ['DESI_ROOT_READONLY']\n",
    "specprod_dir = f'{desi_root_ro}/spectro/redux/{specprod}'\n",
    "print(specprod_dir)"
   ]
  },
  {
   "cell_type": "markdown",
   "id": "93fb6d0b-ddd9-4ced-90a3-57a2a44873a0",
   "metadata": {},
   "source": [
    "Since all the directory manipulation to find specific files is a pain,\n",
    "we'll use `desispec.io.findfile`, which also requires us to set `$SPECPROD`."
   ]
  },
  {
   "cell_type": "code",
   "execution_count": 10,
   "id": "a204d014-3b34-483b-b847-bef4612e99e1",
   "metadata": {
    "tags": []
   },
   "outputs": [
    {
     "name": "stdout",
     "output_type": "stream",
     "text": [
      "/global/cfs/cdirs/desi/spectro/redux/loa/tiles/cumulative/2196/20210514/coadd-0-2196-thru20210514.fits\n",
      "/global/cfs/cdirs/desi/spectro/redux/loa/tiles/cumulative/2196/20210514/redrock-0-2196-thru20210514.fits\n"
     ]
    }
   ],
   "source": [
    "os.environ['SPECPROD'] = specprod\n",
    "\n",
    "tileid = 2196\n",
    "lastnight = 20210514\n",
    "coadd_file = findfile('coadd', tile=tileid, night=lastnight, spectrograph=0)\n",
    "redrock_file = findfile('redrock', tile=tileid, night=lastnight, spectrograph=0)\n",
    "\n",
    "print(coadd_file)\n",
    "print(redrock_file)"
   ]
  },
  {
   "cell_type": "markdown",
   "id": "02b4bfba-0336-4419-bdfa-abf3d791fcf8",
   "metadata": {},
   "source": [
    "## TODO: reading spectra without using read_spectra"
   ]
  },
  {
   "cell_type": "markdown",
   "id": "172643d1-32fd-4b92-80f8-4d3948954ae8",
   "metadata": {},
   "source": [
    "## Reading DESI spectra with `desispec.io.read_spectra`"
   ]
  },
  {
   "cell_type": "code",
   "execution_count": null,
   "id": "57afed2d-6572-49af-8421-94cb43355df7",
   "metadata": {},
   "outputs": [],
   "source": []
  }
 ],
 "metadata": {
  "kernelspec": {
   "display_name": "DESI 24.11",
   "language": "python",
   "name": "desi-24.11"
  },
  "language_info": {
   "codemirror_mode": {
    "name": "ipython",
    "version": 3
   },
   "file_extension": ".py",
   "mimetype": "text/x-python",
   "name": "python",
   "nbconvert_exporter": "python",
   "pygments_lexer": "ipython3",
   "version": "3.10.14"
  }
 },
 "nbformat": 4,
 "nbformat_minor": 5
}
