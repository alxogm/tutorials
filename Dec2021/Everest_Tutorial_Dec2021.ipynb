{
 "cells": [
  {
   "cell_type": "markdown",
   "id": "a7e3344f-9c14-41d4-9aeb-c127a4ac87d6",
   "metadata": {},
   "source": [
    "# Introduction to DESI Everest Spectroscopic Data Release\n",
    "\n",
    "Ragadeepika Pucha, Anthony Kremin <br/>\n",
    "DESI Pre-Meeting, December 2021"
   ]
  },
  {
   "cell_type": "markdown",
   "id": "a4d0af3d-dda4-4114-88cc-ce1e1d8422b7",
   "metadata": {},
   "source": [
    "## Table of Contents\n",
    "\n",
    "* [Overview](#overview)\n",
    "* [Imports](#import)\n",
    "* [Accessing the data](#data_access)\n",
    "    * [Summary Files](#sumfiles)\n",
    "    * [Redshift Catalogs](#zcatalog)\n",
    "    * [Selecting sources based on Targeting Information](#targets)\n",
    "    * [Healpix/ Directory](#hpx)\n",
    "* [Accessing and Plotting Spectra of a Single Object](#spectra_access)\n",
    "    * [Coadded Spectra](#spectra)\n",
    "* [Brief Overview of Bits, Bitmasks, and Flags](#bits)"
   ]
  },
  {
   "cell_type": "markdown",
   "id": "1262e40e-fd69-4578-8ca7-00895e086478",
   "metadata": {},
   "source": [
    "<a class=\"anchor\" id=\"overview\"></a>\n",
    "# Overview\n",
    "\n",
    "In this notebook, we will explore the DESI data file structure in the everest release. We will focus on the healpix based files in this notebook. The files in this release are divided based on `HPXPIXEL`, `SURVEY`, and `FAPRGRM`. \n",
    "\n",
    "### Bug Reporting\n",
    "If you identify any errors or have requests for additional functionality please create a new issue at https://github.com/desihub/tutorials/issues or send a note to desi-data@desi.lbl.gov.\n",
    "\n",
    "### Getting Started\n",
    "\n",
    "#### Using NERSC\n",
    "\n",
    "The easiest way to get started is to use the jupyter server at NERSC so that you don't need to\n",
    "install any code or download any data locally.\n",
    "\n",
    "If you need a NERSC account, see https://desi.lbl.gov/trac/wiki/Computing/AccessNersc\n",
    "\n",
    "Then do the one-time jupyter configuration described at https://desi.lbl.gov/trac/wiki/Computing/JupyterAtNERSC\n",
    "\n",
    "From a NERSC command line, checkout a copy of the tutorial code, *e.g.* from cori.nersc.gov\n",
    "```console\n",
    "mkdir -p $HOME/desi/\n",
    "cd $HOME/desi/\n",
    "git clone https://github.com/desihub/tutorials\n",
    "```\n",
    "And then go to https://jupyter.nersc.gov, login, navigate to where you checked out this package (*e.g.* `$HOME/desi/tutorials/Dec2021`), and double-click on `Everest_Tutorial_Dec2021.ipynb`.\n",
    "\n",
    "\n",
    "#### Setting up the DESI environment (kernel)\n",
    "For those working through this in Dec. 2021, you can use the DESI master kernel in jupyterhub. For those referring to this in 2022 or beyond: this tutorial has been tested using the \"DESI 21.7e\" kernel installed at NERSC. If you don't see that installed, you will need to open a terminal either in jupyterhub or via an actual terminal logged in to NERSC and do the following:\n",
    "\n",
    "```console\n",
    "source /global/common/software/desi/cori/desiconda/startup/modulefiles/desimodules/install_jupyter_kernel.sh 21.7e\n",
    "```\n",
    "You'll then need to restart your jupyterhub instance to see the kernel. After following the step above and restarting: you can go to the Kernel menu, select \"Change Kernel\", then select 'DESI 21.7e' from the dropdown menu.\n",
    "\n",
    "To get an equivalent environment from a cori command line:\n",
    "```console\n",
    "source /global/common/software/desi/desi_environment.sh 21.7e\n",
    "```"
   ]
  },
  {
   "cell_type": "markdown",
   "id": "b1cc64e8-9b85-47ef-8373-f710c8a48a88",
   "metadata": {},
   "source": [
    "<a class=\"anchor\" id=\"import\"></a>\n",
    "# Imports"
   ]
  },
  {
   "cell_type": "code",
   "execution_count": 1,
   "id": "30c5109e-dced-405b-8c3c-50b2992f0b21",
   "metadata": {},
   "outputs": [],
   "source": [
    "# import some helpful python packages \n",
    "import os\n",
    "import numpy as np\n",
    "\n",
    "from astropy.io import fits\n",
    "from astropy.table import Table\n",
    "from astropy.convolution import convolve, Gaussian1DKernel\n",
    "\n",
    "import matplotlib \n",
    "import matplotlib.pyplot as plt\n",
    "\n",
    "%matplotlib inline"
   ]
  },
  {
   "cell_type": "code",
   "execution_count": 2,
   "id": "11964634-ff34-47f4-98df-20c525d37a0e",
   "metadata": {},
   "outputs": [],
   "source": [
    "# import DESI related modules - \n",
    "from desimodel.footprint import radec2pix      # For getting healpix values\n",
    "import desispec.io                             # Input/Output functions related to DESI spectra\n",
    "from desispec import coaddition                # Functions related to coadding the spectra\n",
    "\n",
    "# DESI targeting masks - \n",
    "## Note that we are importing the different target masks for different surveys by the same name.\n",
    "## This is to allow you to run the same cells in the tutorial for different surveys bitmasks.\n",
    "## Please make sure to uncomment the required survey and comment out the rest, \n",
    "## and rerun this cell, to make sure everything runs smoothly.\n",
    "from desitarget.targetmask import desi_mask, bgs_mask, scnd_mask    # For the main survey\n",
    "#from desitarget.sv1.sv1_targetmask import desi_mask, bgs_mask, scnd_mask    # For SV1\n",
    "#from desitarget.sv2.sv2_targetmask import desi_mask, bgs_mask, scnd_mask    # For SV2\n",
    "#from desitarget.sv3.sv3_targetmask import desi_mask, bgs_mask, scnd_mask    # For SV3"
   ]
  },
  {
   "cell_type": "code",
   "execution_count": 3,
   "id": "f744ab34-053f-409f-8ae0-23d5f03e8a20",
   "metadata": {},
   "outputs": [],
   "source": [
    "## Making the matplotlib plots look nicer\n",
    "settings = {\n",
    "    'font.size':22,\n",
    "    'axes.linewidth':3.0,\n",
    "    'xtick.major.size':6.0,\n",
    "    'xtick.minor.size':4.0,\n",
    "    'xtick.major.width':3.0,\n",
    "    'xtick.minor.width':1.5,\n",
    "    'xtick.direction':'in', \n",
    "    'xtick.minor.visible':True,\n",
    "    'xtick.top':True,\n",
    "    'ytick.major.size':6.0,\n",
    "    'ytick.minor.size':4.0,\n",
    "    'ytick.major.width':3.0,\n",
    "    'ytick.minor.width':1.5,\n",
    "    'ytick.direction':'in', \n",
    "    'ytick.minor.visible':True,\n",
    "    'ytick.right':True\n",
    "}\n",
    "\n",
    "plt.rcParams.update(**settings)"
   ]
  },
  {
   "cell_type": "markdown",
   "id": "34c9aa87-0be0-4fed-845b-e2e30ccf57c8",
   "metadata": {},
   "source": [
    "<a class=\"anchor\" id=\"data_access\"></a>\n",
    "# Accessing the data\n",
    "\n",
    "Everest is the fifth internal DESI spectroscopic data release. It consists of the whole SV data (includes SV1, SV2, and SV3) and the first few months of data from the main survey. More information about this release is available [here](https://desi.lbl.gov/trac/wiki/Pipeline/Releases/Everest). "
   ]
  },
  {
   "cell_type": "code",
   "execution_count": 4,
   "id": "1d58f7a5-5fcc-4940-beaf-6b461b3af8e5",
   "metadata": {},
   "outputs": [],
   "source": [
    "# Release directory path\n",
    "\n",
    "specprod = 'everest'\n",
    "everest_dir = f'/global/cfs/cdirs/desi/spectro/redux/{specprod}'"
   ]
  },
  {
   "cell_type": "code",
   "execution_count": 5,
   "id": "0feb5fde-3e3a-4583-944d-192d3167aee2",
   "metadata": {},
   "outputs": [
    {
     "data": {
      "text/plain": [
       "['healpix',\n",
       " 'tiles',\n",
       " 'exposures-everest.csv',\n",
       " 'run',\n",
       " 'calibnight',\n",
       " 'exposures',\n",
       " 'processing_tables',\n",
       " 'preproc',\n",
       " 'exposures-everest.fits',\n",
       " 'tiles-everest.csv',\n",
       " 'exposure_tables',\n",
       " 'zcatalog']"
      ]
     },
     "execution_count": 5,
     "metadata": {},
     "output_type": "execute_result"
    }
   ],
   "source": [
    "# Listing everything in this directory \n",
    "os.listdir(everest_dir)"
   ]
  },
  {
   "cell_type": "markdown",
   "id": "761c4404-da86-4ac6-bc59-905a96a28c78",
   "metadata": {
    "jp-MarkdownHeadingCollapsed": true,
    "tags": []
   },
   "source": [
    "### Important Files to Note:\n",
    "\n",
    "1. exposures-everest.fits -- This consists of information about individual exposures of the targets\n",
    "2. tiles-everest.csv -- This contains information about the observed tiles\n",
    "3. zcatalog/ Directory -- This directory contains all of the summary redshift catalogs\n",
    "4. tiles/ Directory -- This directory holds all of the per-tile coadds and redshifts, in various flavors.\n",
    "5. healpix/ Directory -- This directory holds all of the coadds and redshifts based on sky location (healpix)."
   ]
  },
  {
   "cell_type": "markdown",
   "id": "1f378bd2-ca24-451e-98de-3fbd61c74e23",
   "metadata": {
    "tags": []
   },
   "source": [
    "<a class=\"anchor\" id=\"sumfiles\"></a>\n",
    "\n",
    "## Summary Files\n",
    "\n",
    "Let's take a look at the tiles and exposure files"
   ]
  },
  {
   "cell_type": "markdown",
   "id": "d30fd5cd-c6f4-4832-a7ec-e368cde8841f",
   "metadata": {},
   "source": [
    "### tiles-everest.csv\n",
    "This file tells you what tiles were observed, what survey and program they were observed for, some obseving conditions, and three estimates of the \"effective time\" (in seconds) that each tile acquired. The time estimate used for survey operations decisions is `EFFTIME_SPEC`.\n",
    "\n",
    "For the main survey `ZDONE` will determine whether the tile was successfully observed to sufficient depth to be considered done observing. For SV that is still generally true."
   ]
  },
  {
   "cell_type": "code",
   "execution_count": 6,
   "id": "e9136c63-c76d-48e7-a6b5-173ed4a42ca8",
   "metadata": {},
   "outputs": [
    {
     "name": "stdout",
     "output_type": "stream",
     "text": [
      "Tiles table columns: ['TILEID', 'SURVEY', 'FAPRGRM', 'FAFLAVOR', 'NEXP', 'EXPTIME', 'TILERA', 'TILEDEC', 'EFFTIME_ETC', 'EFFTIME_SPEC', 'EFFTIME_GFA', 'GOALTIME', 'OBSSTATUS', 'ZDONE', 'ELG_EFFTIME_DARK', 'BGS_EFFTIME_BRIGHT', 'LYA_EFFTIME_DARK', 'GOALTYPE', 'MINTFRAC', 'LASTNIGHT', 'QA', 'USER']\n"
     ]
    },
    {
     "data": {
      "text/html": [
       "<i>Table length=5</i>\n",
       "<table id=\"table46912564684112-448470\" class=\"table-striped table-bordered table-condensed\">\n",
       "<thead><tr><th>idx</th><th>TILEID</th><th>SURVEY</th><th>FAPRGRM</th><th>FAFLAVOR</th><th>NEXP</th><th>EXPTIME</th><th>TILERA</th><th>TILEDEC</th><th>EFFTIME_ETC</th><th>EFFTIME_SPEC</th><th>EFFTIME_GFA</th><th>GOALTIME</th><th>OBSSTATUS</th><th>ZDONE</th><th>ELG_EFFTIME_DARK</th><th>BGS_EFFTIME_BRIGHT</th><th>LYA_EFFTIME_DARK</th><th>GOALTYPE</th><th>MINTFRAC</th><th>LASTNIGHT</th><th>QA</th><th>USER</th></tr></thead>\n",
       "<tr><td>0</td><td>1</td><td>sv3</td><td>dark</td><td>sv3dark</td><td>3</td><td>2299.4</td><td>150.04</td><td>2.286</td><td>1409.3</td><td>1621.8</td><td>1423.6</td><td>1200.0</td><td>obsend</td><td>true</td><td>1621.8</td><td>1598.7</td><td>1535.4</td><td>dark</td><td>0.9</td><td>20210406</td><td>none</td><td>none</td></tr>\n",
       "<tr><td>1</td><td>2</td><td>sv3</td><td>dark</td><td>sv3dark</td><td>2</td><td>1900.4</td><td>150.061</td><td>2.069</td><td>1411.1</td><td>1338.7</td><td>1366.6</td><td>1200.0</td><td>obsend</td><td>true</td><td>1338.7</td><td>1333.2</td><td>1351.2</td><td>dark</td><td>0.9</td><td>20210407</td><td>none</td><td>none</td></tr>\n",
       "<tr><td>2</td><td>3</td><td>sv3</td><td>dark</td><td>sv3dark</td><td>1</td><td>951.5</td><td>150.212</td><td>2.226</td><td>1404.7</td><td>1435.2</td><td>1287.4</td><td>1200.0</td><td>obsend</td><td>true</td><td>1435.2</td><td>1365.9</td><td>1711.6</td><td>dark</td><td>0.9</td><td>20210409</td><td>none</td><td>none</td></tr>\n",
       "<tr><td>3</td><td>4</td><td>sv3</td><td>dark</td><td>sv3dark</td><td>1</td><td>1065.1</td><td>149.98</td><td>2.171</td><td>1415.1</td><td>1460.5</td><td>1238.8</td><td>1200.0</td><td>obsend</td><td>true</td><td>1460.5</td><td>1381.4</td><td>1769.7</td><td>dark</td><td>0.9</td><td>20210410</td><td>none</td><td>none</td></tr>\n",
       "<tr><td>4</td><td>5</td><td>sv3</td><td>dark</td><td>sv3dark</td><td>2</td><td>1656.9</td><td>150.187</td><td>2.099</td><td>1402.2</td><td>1398.0</td><td>1361.3</td><td>1200.0</td><td>obsend</td><td>true</td><td>1398.0</td><td>1408.8</td><td>1556.4</td><td>dark</td><td>0.9</td><td>20210412</td><td>none</td><td>none</td></tr>\n",
       "</table><style>table.dataTable {clear: both; width: auto !important; margin: 0 !important;}\n",
       ".dataTables_info, .dataTables_length, .dataTables_filter, .dataTables_paginate{\n",
       "display: inline-block; margin-right: 1em; }\n",
       ".paginate_button { margin-right: 5px; }\n",
       "</style>\n",
       "<script>\n",
       "\n",
       "var astropy_sort_num = function(a, b) {\n",
       "    var a_num = parseFloat(a);\n",
       "    var b_num = parseFloat(b);\n",
       "\n",
       "    if (isNaN(a_num) && isNaN(b_num))\n",
       "        return ((a < b) ? -1 : ((a > b) ? 1 : 0));\n",
       "    else if (!isNaN(a_num) && !isNaN(b_num))\n",
       "        return ((a_num < b_num) ? -1 : ((a_num > b_num) ? 1 : 0));\n",
       "    else\n",
       "        return isNaN(a_num) ? -1 : 1;\n",
       "}\n",
       "\n",
       "require.config({paths: {\n",
       "    datatables: 'https://cdn.datatables.net/1.10.12/js/jquery.dataTables.min'\n",
       "}});\n",
       "require([\"datatables\"], function(){\n",
       "    console.log(\"$('#table46912564684112-448470').dataTable()\");\n",
       "    \n",
       "jQuery.extend( jQuery.fn.dataTableExt.oSort, {\n",
       "    \"optionalnum-asc\": astropy_sort_num,\n",
       "    \"optionalnum-desc\": function (a,b) { return -astropy_sort_num(a, b); }\n",
       "});\n",
       "\n",
       "    $('#table46912564684112-448470').dataTable({\n",
       "        order: [],\n",
       "        pageLength: 50,\n",
       "        lengthMenu: [[10, 25, 50, 100, 500, 1000, -1], [10, 25, 50, 100, 500, 1000, 'All']],\n",
       "        pagingType: \"full_numbers\",\n",
       "        columnDefs: [{targets: [0, 1, 5, 6, 7, 8, 9, 10, 11, 12, 15, 16, 17, 19, 20], type: \"optionalnum\"}]\n",
       "    });\n",
       "});\n",
       "</script>\n"
      ],
      "text/plain": [
       "<IPython.core.display.HTML object>"
      ]
     },
     "execution_count": 6,
     "metadata": {},
     "output_type": "execute_result"
    }
   ],
   "source": [
    "tiles_table = Table.read(f'{everest_dir}/tiles-{specprod}.csv',format='ascii.csv')\n",
    "print(f\"Tiles table columns: {tiles_table.colnames}\")\n",
    "tiles_table[:5].show_in_notebook()"
   ]
  },
  {
   "cell_type": "markdown",
   "id": "29be489c-7648-4be9-84f2-1bd3879a9c0b",
   "metadata": {},
   "source": [
    "Let's use this to find the number of tiles in each survey, each program, and each FAFLAVOR"
   ]
  },
  {
   "cell_type": "code",
   "execution_count": 7,
   "id": "163e380e-b0b7-4c61-b753-4390d229f4d6",
   "metadata": {
    "collapsed": true,
    "jupyter": {
     "outputs_hidden": true
    },
    "tags": []
   },
   "outputs": [
    {
     "name": "stdout",
     "output_type": "stream",
     "text": [
      "cmx: Ntiles=180\n",
      "sv1: Ntiles=189\n",
      "sv2: Ntiles=40\n",
      "sv3: Ntiles=489\n",
      "main: Ntiles=662\n"
     ]
    }
   ],
   "source": [
    "for survey in ['cmx', 'sv1', 'sv2', 'sv3', 'main']:\n",
    "    print(f'{survey}: Ntiles={np.sum(tiles_table[\"SURVEY\"]==survey)}')"
   ]
  },
  {
   "cell_type": "code",
   "execution_count": 8,
   "id": "1f13ab4a-a0cd-406a-ad56-d343085e84ec",
   "metadata": {},
   "outputs": [
    {
     "name": "stdout",
     "output_type": "stream",
     "text": [
      "bright: Ntiles=588\n",
      "dark: Ntiles=587\n"
     ]
    }
   ],
   "source": [
    "for faprgrm in ['bright', 'dark']:\n",
    "    print(f'{faprgrm}: Ntiles={np.sum(tiles_table[\"FAPRGRM\"]==faprgrm)}')"
   ]
  },
  {
   "cell_type": "code",
   "execution_count": 9,
   "id": "bd2435db-4819-422b-b738-20ec0301db4d",
   "metadata": {
    "collapsed": true,
    "jupyter": {
     "outputs_hidden": true
    },
    "tags": []
   },
   "outputs": [
    {
     "name": "stdout",
     "output_type": "stream",
     "text": [
      "cmxelg: \tNtiles=3\n",
      "cmxlrgqso: \tNtiles=3\n",
      "cmxm33: \tNtiles=1\n",
      "dithfocus: \tNtiles=34\n",
      "dithlost: \tNtiles=11\n",
      "dithprec: \tNtiles=144\n",
      "mainbright: \tNtiles=352\n",
      "maindark: \tNtiles=310\n",
      "specialbright: \tNtiles=4\n",
      "specialdark: \tNtiles=17\n",
      "sv1backup1: \tNtiles=26\n",
      "sv1bgsmws: \tNtiles=50\n",
      "sv1dc3r2: \tNtiles=4\n",
      "sv1elg: \tNtiles=22\n",
      "sv1elgqso: \tNtiles=12\n",
      "sv1lrgqso: \tNtiles=28\n",
      "sv1lrgqso2: \tNtiles=12\n",
      "sv1m31: \tNtiles=2\n",
      "sv1mwclusgaldeep: \tNtiles=2\n",
      "sv1praesepe: \tNtiles=1\n",
      "sv1rosette: \tNtiles=1\n",
      "sv1scndcosmos: \tNtiles=2\n",
      "sv1scndhetdex: \tNtiles=2\n",
      "sv1ssv: \tNtiles=15\n",
      "sv1umaii: \tNtiles=1\n",
      "sv1unwisebluebright: \tNtiles=1\n",
      "sv1unwisebluefaint: \tNtiles=1\n",
      "sv1unwisegreen: \tNtiles=1\n",
      "sv2backup: \tNtiles=1\n",
      "sv2bright: \tNtiles=18\n",
      "sv2dark: \tNtiles=21\n",
      "sv3backup: \tNtiles=36\n",
      "sv3bright: \tNtiles=214\n",
      "sv3dark: \tNtiles=239\n"
     ]
    }
   ],
   "source": [
    "for faflavor in np.unique(tiles_table[\"FAFLAVOR\"]):\n",
    "    print(f'{faflavor}: \\tNtiles={np.sum(tiles_table[\"FAFLAVOR\"]==faflavor)}')"
   ]
  },
  {
   "cell_type": "markdown",
   "id": "a2770e34-e734-45b5-822e-9db64ac124e3",
   "metadata": {
    "tags": []
   },
   "source": [
    "### exposures-everest.fits\n",
    "Formerly known as `tsnr-{specprod}.fits`. This file is primarily used for daily operations, but can be handy for looking at individual exposures and the amount of \"EFFECTIVE TIME\" that exposure acquired."
   ]
  },
  {
   "cell_type": "code",
   "execution_count": 10,
   "id": "dd070f38-7ad3-432f-ba10-155fc0c450af",
   "metadata": {},
   "outputs": [
    {
     "name": "stdout",
     "output_type": "stream",
     "text": [
      "Tiles table columns: ['NIGHT', 'EXPID', 'TILEID', 'TILERA', 'TILEDEC', 'MJD', 'SURVEY', 'FAPRGRM', 'FAFLAVOR', 'EXPTIME', 'EFFTIME_SPEC', 'GOALTIME', 'GOALTYPE', 'MINTFRAC', 'AIRMASS', 'EBV', 'SEEING_ETC', 'EFFTIME_ETC', 'TSNR2_ELG', 'TSNR2_QSO', 'TSNR2_LRG', 'TSNR2_LYA', 'TSNR2_BGS', 'TSNR2_GPBDARK', 'TSNR2_GPBBRIGHT', 'TSNR2_GPBBACKUP', 'ELG_EFFTIME_DARK', 'BGS_EFFTIME_BRIGHT', 'LYA_EFFTIME_DARK', 'GPB_EFFTIME_DARK', 'GPB_EFFTIME_BRIGHT', 'GPB_EFFTIME_BACKUP', 'TRANSPARENCY_GFA', 'SEEING_GFA', 'FIBER_FRACFLUX_GFA', 'FIBER_FRACFLUX_ELG_GFA', 'FIBER_FRACFLUX_BGS_GFA', 'FIBERFAC_GFA', 'FIBERFAC_ELG_GFA', 'FIBERFAC_BGS_GFA', 'AIRMASS_GFA', 'SKY_MAG_AB_GFA', 'SKY_MAG_G_SPEC', 'SKY_MAG_R_SPEC', 'SKY_MAG_Z_SPEC', 'EFFTIME_GFA', 'EFFTIME_DARK_GFA', 'EFFTIME_BRIGHT_GFA', 'EFFTIME_BACKUP_GFA']\n"
     ]
    },
    {
     "data": {
      "text/html": [
       "<i>Table length=5</i>\n",
       "<table id=\"table46913373587632-405403\" class=\"table-striped table-bordered table-condensed\">\n",
       "<thead><tr><th>idx</th><th>NIGHT</th><th>EXPID</th><th>TILEID</th><th>TILERA</th><th>TILEDEC</th><th>MJD</th><th>SURVEY</th><th>FAPRGRM</th><th>FAFLAVOR</th><th>EXPTIME</th><th>EFFTIME_SPEC</th><th>GOALTIME</th><th>GOALTYPE</th><th>MINTFRAC</th><th>AIRMASS</th><th>EBV</th><th>SEEING_ETC</th><th>EFFTIME_ETC</th><th>TSNR2_ELG</th><th>TSNR2_QSO</th><th>TSNR2_LRG</th><th>TSNR2_LYA</th><th>TSNR2_BGS</th><th>TSNR2_GPBDARK</th><th>TSNR2_GPBBRIGHT</th><th>TSNR2_GPBBACKUP</th><th>ELG_EFFTIME_DARK</th><th>BGS_EFFTIME_BRIGHT</th><th>LYA_EFFTIME_DARK</th><th>GPB_EFFTIME_DARK</th><th>GPB_EFFTIME_BRIGHT</th><th>GPB_EFFTIME_BACKUP</th><th>TRANSPARENCY_GFA</th><th>SEEING_GFA</th><th>FIBER_FRACFLUX_GFA</th><th>FIBER_FRACFLUX_ELG_GFA</th><th>FIBER_FRACFLUX_BGS_GFA</th><th>FIBERFAC_GFA</th><th>FIBERFAC_ELG_GFA</th><th>FIBERFAC_BGS_GFA</th><th>AIRMASS_GFA</th><th>SKY_MAG_AB_GFA</th><th>SKY_MAG_G_SPEC</th><th>SKY_MAG_R_SPEC</th><th>SKY_MAG_Z_SPEC</th><th>EFFTIME_GFA</th><th>EFFTIME_DARK_GFA</th><th>EFFTIME_BRIGHT_GFA</th><th>EFFTIME_BACKUP_GFA</th></tr></thead>\n",
       "<tr><td>0</td><td>20210709</td><td>98065</td><td>20762</td><td>250.42</td><td>35.752</td><td>59405.21465953</td><td>main</td><td>bright</td><td>mainbright</td><td>645.6358642578125</td><td>265.1308</td><td>180.0</td><td>bright</td><td>0.85</td><td>1.003564</td><td>0.020572833716869354</td><td>1.3286219835281372</td><td>183.17111</td><td>26.577805</td><td>6.26956</td><td>20.962431</td><td>16.429887236189096</td><td>1893.7914</td><td>3109.6753</td><td>576.65283</td><td>3448.4927</td><td>228.56912</td><td>265.1308</td><td>187.9539344503736</td><td>269.19598</td><td>302.87692</td><td>252.73769</td><td>0.9113439779102812</td><td>1.5250489248330703</td><td>0.36812758718321514</td><td>0.28514889555021083</td><td>0.13682403265334298</td><td>0.5577076948063677</td><td>0.5941102921140221</td><td>0.6193902059214809</td><td>1.0047695098331595</td><td>21.42711967537739</td><td>22.422285760856532</td><td>21.510158138591635</td><td>19.670035911567602</td><td>261.4768319623498</td><td>248.72514936818618</td><td>261.4768319623498</td><td>200.17685906453477</td></tr>\n",
       "<tr><td>1</td><td>20210709</td><td>98066</td><td>20761</td><td>250.378</td><td>39.09</td><td>59405.22378742</td><td>main</td><td>bright</td><td>mainbright</td><td>472.75506591796875</td><td>219.12538</td><td>180.0</td><td>bright</td><td>0.85</td><td>1.012705</td><td>0.016557782888412476</td><td>1.5384420156478882</td><td>183.99054</td><td>22.01639</td><td>5.368423</td><td>17.175</td><td>13.654371762648225</td><td>1565.1813</td><td>2527.531</td><td>467.035</td><td>2934.3708</td><td>189.34096</td><td>219.12538</td><td>156.2027090231625</td><td>218.80136</td><td>245.30205</td><td>215.05804</td><td>0.9402062232345167</td><td>1.3956305505009627</td><td>0.41805845253277</td><td>0.31782840808089563</td><td>0.15066017162271467</td><td>0.6387801993601208</td><td>0.6678438885120485</td><td>0.6879237531177177</td><td>1.0142118648402425</td><td>21.41111260750814</td><td>22.42218147638614</td><td>21.516593777718786</td><td>19.608427856043996</td><td>216.90481684538534</td><td>206.456822453511</td><td>216.90481684538534</td><td>183.9226456193219</td></tr>\n",
       "<tr><td>2</td><td>20210709</td><td>98067</td><td>20924</td><td>254.117</td><td>37.273</td><td>59405.23093739</td><td>main</td><td>bright</td><td>mainbright</td><td>399.0263366699219</td><td>211.49832</td><td>180.0</td><td>bright</td><td>0.85</td><td>1.00779</td><td>0.016173481941223145</td><td>1.5751819610595703</td><td>186.51198</td><td>21.492367</td><td>5.326499</td><td>16.616665</td><td>12.726002699136734</td><td>1510.7023</td><td>2424.1</td><td>445.288</td><td>2840.1294</td><td>184.83437</td><td>211.49832</td><td>145.58239157359085</td><td>209.84763</td><td>233.8798</td><td>208.15115</td><td>0.9518044086275428</td><td>1.288053448632624</td><td>0.47100179952001875</td><td>0.35178018327392035</td><td>0.16502823333405103</td><td>0.7342989164563944</td><td>0.7575131521276097</td><td>0.7746201821175023</td><td>1.0088543821551326</td><td>21.442237395794507</td><td>22.44364303477939</td><td>21.545303377110677</td><td>19.563425052239353</td><td>221.04512907874218</td><td>210.5729627511362</td><td>221.04512907874218</td><td>199.9083728009665</td></tr>\n",
       "<tr><td>3</td><td>20210709</td><td>98068</td><td>2976</td><td>250.036</td><td>6.945</td><td>59405.238075429</td><td>main</td><td>dark</td><td>maindark</td><td>1809.6386</td><td>0.0</td><td>1000.0</td><td>dark</td><td>0.85</td><td>0.0</td><td>0.08577289432287216</td><td>0.0</td><td>221.67087</td><td>0.0</td><td>0.0</td><td>0.0</td><td>0.0</td><td>0.0</td><td>0.0</td><td>0.0</td><td>0.0</td><td>0.0</td><td>0.0</td><td>0.0</td><td>0.0</td><td>0.0</td><td>0.0</td><td>0.5473561497298427</td><td>1.3395697163086429</td><td>0.44680704901713186</td><td>0.3366499836670922</td><td>0.15875988504153138</td><td>0.4082681411483194</td><td>0.422339154072547</td><td>0.43246845330404693</td><td>1.145976379046449</td><td>21.108468959510226</td><td>1e+20</td><td>1e+20</td><td>1e+20</td><td>0.0</td><td>0.0</td><td>0.0</td><td>0.0</td></tr>\n",
       "<tr><td>4</td><td>20210709</td><td>98069</td><td>2976</td><td>250.036</td><td>6.945</td><td>59405.259844245</td><td>main</td><td>dark</td><td>maindark</td><td>1436.9577</td><td>0.0</td><td>1000.0</td><td>dark</td><td>0.85</td><td>0.0</td><td>0.08577289432287216</td><td>0.0</td><td>64.12997</td><td>0.0</td><td>0.0</td><td>0.0</td><td>0.0</td><td>0.0</td><td>0.0</td><td>0.0</td><td>0.0</td><td>0.0</td><td>0.0</td><td>0.0</td><td>0.0</td><td>0.0</td><td>0.0</td><td>0.3079941772485105</td><td>1.1467371192689695</td><td>0.539993533747517</td><td>0.3947300333024987</td><td>0.18288861553758956</td><td>0.27937330332333976</td><td>0.279290139420588</td><td>0.28081664901146364</td><td>1.1940684901754564</td><td>20.99330650097509</td><td>1e+20</td><td>1e+20</td><td>1e+20</td><td>0.0</td><td>0.0</td><td>0.0</td><td>0.0</td></tr>\n",
       "</table><style>table.dataTable {clear: both; width: auto !important; margin: 0 !important;}\n",
       ".dataTables_info, .dataTables_length, .dataTables_filter, .dataTables_paginate{\n",
       "display: inline-block; margin-right: 1em; }\n",
       ".paginate_button { margin-right: 5px; }\n",
       "</style>\n",
       "<script>\n",
       "\n",
       "var astropy_sort_num = function(a, b) {\n",
       "    var a_num = parseFloat(a);\n",
       "    var b_num = parseFloat(b);\n",
       "\n",
       "    if (isNaN(a_num) && isNaN(b_num))\n",
       "        return ((a < b) ? -1 : ((a > b) ? 1 : 0));\n",
       "    else if (!isNaN(a_num) && !isNaN(b_num))\n",
       "        return ((a_num < b_num) ? -1 : ((a_num > b_num) ? 1 : 0));\n",
       "    else\n",
       "        return isNaN(a_num) ? -1 : 1;\n",
       "}\n",
       "\n",
       "require.config({paths: {\n",
       "    datatables: 'https://cdn.datatables.net/1.10.12/js/jquery.dataTables.min'\n",
       "}});\n",
       "require([\"datatables\"], function(){\n",
       "    console.log(\"$('#table46913373587632-405403').dataTable()\");\n",
       "    \n",
       "jQuery.extend( jQuery.fn.dataTableExt.oSort, {\n",
       "    \"optionalnum-asc\": astropy_sort_num,\n",
       "    \"optionalnum-desc\": function (a,b) { return -astropy_sort_num(a, b); }\n",
       "});\n",
       "\n",
       "    $('#table46913373587632-405403').dataTable({\n",
       "        order: [],\n",
       "        pageLength: 50,\n",
       "        lengthMenu: [[10, 25, 50, 100, 500, 1000, -1], [10, 25, 50, 100, 500, 1000, 'All']],\n",
       "        pagingType: \"full_numbers\",\n",
       "        columnDefs: [{targets: [0, 1, 2, 3, 4, 5, 6, 10, 11, 12, 14, 15, 16, 17, 18, 19, 20, 21, 22, 23, 24, 25, 26, 27, 28, 29, 30, 31, 32, 33, 34, 35, 36, 37, 38, 39, 40, 41, 42, 43, 44, 45, 46, 47, 48, 49], type: \"optionalnum\"}]\n",
       "    });\n",
       "});\n",
       "</script>\n"
      ],
      "text/plain": [
       "<IPython.core.display.HTML object>"
      ]
     },
     "execution_count": 10,
     "metadata": {},
     "output_type": "execute_result"
    }
   ],
   "source": [
    "exp_table = Table.read(f'{everest_dir}/exposures-{specprod}.fits', format='fits', hdu='EXPOSURES')\n",
    "print(f\"Tiles table columns: {exp_table.colnames}\")\n",
    "exp_table[-5:].show_in_notebook()"
   ]
  },
  {
   "cell_type": "markdown",
   "id": "d2efefa8-41b1-40bc-8f10-43ceeaf00e95",
   "metadata": {},
   "source": [
    "Let's use this to find the number of exposures in each survey, each program, and each FAFLAVOR"
   ]
  },
  {
   "cell_type": "code",
   "execution_count": 11,
   "id": "cc1841b1-7b14-4206-8bac-99a8526011f0",
   "metadata": {
    "collapsed": true,
    "jupyter": {
     "outputs_hidden": true
    },
    "tags": []
   },
   "outputs": [
    {
     "name": "stdout",
     "output_type": "stream",
     "text": [
      "cmx: Nexps=413\n",
      "sv1: Nexps=1793\n",
      "sv2: Nexps=73\n",
      "sv3: Nexps=730\n",
      "main: Nexps=805\n"
     ]
    }
   ],
   "source": [
    "for survey in ['cmx', 'sv1', 'sv2', 'sv3', 'main']:\n",
    "    print(f'{survey}: Nexps={np.sum(exp_table[\"SURVEY\"]==survey)}')"
   ]
  },
  {
   "cell_type": "code",
   "execution_count": 12,
   "id": "64f665bd-f568-4c16-a68e-c14602b83bc3",
   "metadata": {
    "collapsed": true,
    "jupyter": {
     "outputs_hidden": true
    },
    "tags": []
   },
   "outputs": [
    {
     "name": "stdout",
     "output_type": "stream",
     "text": [
      "bright: Nexps=783\n",
      "dark: Nexps=835\n"
     ]
    }
   ],
   "source": [
    "for faprgrm in ['bright', 'dark']:\n",
    "    print(f'{faprgrm}: Nexps={np.sum(exp_table[\"FAPRGRM\"]==faprgrm)}')"
   ]
  },
  {
   "cell_type": "code",
   "execution_count": 13,
   "id": "9f0ef13d-6f74-4ec7-a05b-cd047c016486",
   "metadata": {
    "collapsed": true,
    "jupyter": {
     "outputs_hidden": true
    },
    "tags": []
   },
   "outputs": [
    {
     "name": "stdout",
     "output_type": "stream",
     "text": [
      "cmxelg: \tNexps=57\n",
      "cmxlrgqso: \tNexps=112\n",
      "cmxm33: \tNexps=4\n",
      "dithfocus: \tNexps=49\n",
      "dithlost: \tNexps=12\n",
      "dithprec: \tNexps=274\n",
      "mainbright: \tNexps=409\n",
      "maindark: \tNexps=396\n",
      "specialbright: \tNexps=29\n",
      "specialdark: \tNexps=35\n",
      "sv1backup1: \tNexps=50\n",
      "sv1bgsmws: \tNexps=635\n",
      "sv1dc3r2: \tNexps=8\n",
      "sv1elg: \tNexps=183\n",
      "sv1elgqso: \tNexps=155\n",
      "sv1lrgqso: \tNexps=304\n",
      "sv1lrgqso2: \tNexps=78\n",
      "sv1m31: \tNexps=6\n",
      "sv1mwclusgaldeep: \tNexps=13\n",
      "sv1praesepe: \tNexps=2\n",
      "sv1rosette: \tNexps=4\n",
      "sv1scndcosmos: \tNexps=43\n",
      "sv1scndhetdex: \tNexps=23\n",
      "sv1ssv: \tNexps=200\n",
      "sv1umaii: \tNexps=2\n",
      "sv1unwisebluebright: \tNexps=2\n",
      "sv1unwisebluefaint: \tNexps=5\n",
      "sv1unwisegreen: \tNexps=16\n",
      "sv2backup: \tNexps=1\n",
      "sv2bright: \tNexps=47\n",
      "sv2dark: \tNexps=25\n",
      "sv3backup: \tNexps=53\n",
      "sv3bright: \tNexps=298\n",
      "sv3dark: \tNexps=379\n",
      "unknown: \tNexps=3\n"
     ]
    }
   ],
   "source": [
    "for faflavor in np.unique(exp_table[\"FAFLAVOR\"]):\n",
    "    print(f'{faflavor}: \\tNexps={np.sum(exp_table[\"FAFLAVOR\"]==faflavor)}')"
   ]
  },
  {
   "cell_type": "markdown",
   "id": "5be53b2d-af82-4e32-8f86-9fe685b0da4d",
   "metadata": {
    "tags": []
   },
   "source": [
    "<a class=\"anchor\" id=\"zcatalog\"></a>\n",
    "\n",
    "## Redshift Catalogs\n",
    "\n",
    "The redshift catalogs that are in the `zcatalog/` directory are divided into `zpix` and `ztile` files. The `zpix` files have the format: `zpix-{survey}-{faprgrm}.fits`, while the `ztile` have the format: `ztile-{survey}-{fapgrm}-{group}.fits`. Each of these files contain redshift and targeting information of the sources based on how their spectra are coadded.\n",
    "\n",
    "* **survey**: SURVEY that the target was observed in. This can be sv1, sv2, sv3, or main.\n",
    "* **faprgrm**: FIBER ASSIGNMENT PROGRAM. This is the planned observing conditions for the target. It can be dark or bright. In the case of sv1, we also have \"other\" or \"backup\".\n",
    "* **group**: This denotes what type of coadd. It can be perexp, pernight, or cumulative.\n",
    "\n",
    "For example, `zpix-sv1-dark.fits` contains information about the targets that were observed in SV1 for the _dark_ program. Since it is healpix based, it is a coadded of a target across all tiles it was observed on within the given program and survey. This will provide the highest S/N version of each target.\n",
    "\n",
    "Note that some of the targets were observed in multiple surveys and/or programs. In such cases, one may want to select the _PRIMARY_ spectrum of a given object. This effort is underway and will be included as a value added catalog after Fuji is released - so stay tuned for future information!"
   ]
  },
  {
   "cell_type": "code",
   "execution_count": 14,
   "id": "3c0c8bd7-8134-45e9-a446-0d3687b0331c",
   "metadata": {
    "tags": []
   },
   "outputs": [
    {
     "data": {
      "text/plain": [
       "['zpix-main-dark.fits',\n",
       " 'zpix-sv2-backup.fits',\n",
       " 'zpix-sv3-bright.fits',\n",
       " 'ztile-main-dark-pernight.fits',\n",
       " 'ztile-sv3-bright-pernight.fits',\n",
       " 'ztile-sv1-bright-pernight.fits',\n",
       " 'ztile-sv2-bright-pernight.fits',\n",
       " 'zpix-sv3-dark.fits',\n",
       " 'zpix-sv3-backup.fits',\n",
       " 'ztile-main-dark-cumulative.fits',\n",
       " 'zpix-sv2-nz.png',\n",
       " 'ztile-sv1-dark-cumulative.fits',\n",
       " 'zpix-sv1-bright.fits',\n",
       " 'ztile-main-bright-pernight.fits',\n",
       " 'zpix-sv1-nz.png',\n",
       " 'zpix-sv2-dark.fits',\n",
       " 'zpix-sv1-dark.fits',\n",
       " 'zpix-sv3-nz.png',\n",
       " 'ztile-sv3-backup-cumulative.fits',\n",
       " 'ztile-sv1-other-cumulative.fits',\n",
       " 'ztile-sv2-dark-cumulative.fits',\n",
       " 'ztile-sv3-bright-cumulative.fits',\n",
       " 'ztile-sv2-dark-pernight.fits',\n",
       " 'ztile-sv3-backup-pernight.fits',\n",
       " 'ztile-sv1-dark-pernight.fits',\n",
       " 'ztile-main-bright-cumulative.fits',\n",
       " 'zpix-sv1-other.fits',\n",
       " 'zpix-main-nz.png',\n",
       " 'ztile-sv2-backup-pernight.fits',\n",
       " 'ztile-sv2-bright-cumulative.fits',\n",
       " 'ztile-sv1-other-pernight.fits',\n",
       " 'ztile-sv1-backup-pernight.fits',\n",
       " 'ztile-sv2-backup-cumulative.fits',\n",
       " 'zpix-main-bright.fits',\n",
       " 'ztile-sv1-backup-cumulative.fits',\n",
       " 'zpix-sv1-backup.fits',\n",
       " 'ztile-sv3-dark-cumulative.fits',\n",
       " 'zpix-sv2-bright.fits',\n",
       " 'ztile-sv1-bright-cumulative.fits',\n",
       " 'ztile-sv3-dark-pernight.fits']"
      ]
     },
     "execution_count": 14,
     "metadata": {},
     "output_type": "execute_result"
    }
   ],
   "source": [
    "# Listing all the available redshift catalogs - \n",
    "\n",
    "os.listdir(f'{everest_dir}/zcatalog')"
   ]
  },
  {
   "cell_type": "markdown",
   "id": "99a844a8-dc1d-44ad-8848-bc34ecdf82ea",
   "metadata": {},
   "source": [
    "### Tile-based vs healpix-based\n",
    "The choice of which you use will depend on your specific science case. If you want the hightest S/N spectra then you'll likely want to use healpix based redshifts. If you want a more consistant observing depth among the redshfits in your sample, or you need objects that fit on a single pointing, then tile redshifts may be of more \n",
    "interest.\n",
    "\n",
    "Since tile based redshifts were available in Denali with similar naming schemes and columns, we'll focus here on the new healpix based redshifts."
   ]
  },
  {
   "cell_type": "markdown",
   "id": "ae0363d3-a6fe-4006-9cdf-808d92dd4e1b",
   "metadata": {},
   "source": [
    "### Working with a zpix file"
   ]
  },
  {
   "cell_type": "markdown",
   "id": "7c5d26d9-392f-497e-9388-8f8588ac16dc",
   "metadata": {},
   "source": [
    "The new feature in Everest, beyond the extra data, is the inclusion of cross-tile redshifts of targets grouped by healpix. Let us look at one of the `zpix` files. You can change the `survey` and `faprgrm` in the following cell to explore more."
   ]
  },
  {
   "cell_type": "code",
   "execution_count": 15,
   "id": "c9b50e21-ec72-4f84-9e8f-1090a07d87b7",
   "metadata": {},
   "outputs": [],
   "source": [
    "survey = 'main'\n",
    "faprgrm = 'bright'\n",
    "\n",
    "zcat = Table.read(f'{everest_dir}/zcatalog/zpix-{survey}-{faprgrm}.fits', hdu=\"ZCATALOG\")"
   ]
  },
  {
   "cell_type": "markdown",
   "id": "cf85ad54-0b5a-4b98-92fd-0e2a28e21026",
   "metadata": {},
   "source": [
    "Look at the columns that are available in this redshift catalog"
   ]
  },
  {
   "cell_type": "code",
   "execution_count": 16,
   "id": "f4205c6d-9a19-45eb-89ba-4ef89c89c599",
   "metadata": {
    "tags": []
   },
   "outputs": [
    {
     "name": "stdout",
     "output_type": "stream",
     "text": [
      "<TableColumns names=('TARGETID','CHI2','COEFF','Z','ZERR','ZWARN','NPIXELS','SPECTYPE','SUBTYPE','NCOEFF','DELTACHI2','COADD_FIBERSTATUS','TARGET_RA','TARGET_DEC','PMRA','PMDEC','REF_EPOCH','FA_TARGET','FA_TYPE','OBJTYPE','SUBPRIORITY','OBSCONDITIONS','RELEASE','BRICKID','BRICK_OBJID','MORPHTYPE','FLUX_G','FLUX_R','FLUX_Z','FLUX_IVAR_G','FLUX_IVAR_R','FLUX_IVAR_Z','MASKBITS','REF_ID','REF_CAT','GAIA_PHOT_G_MEAN_MAG','GAIA_PHOT_BP_MEAN_MAG','GAIA_PHOT_RP_MEAN_MAG','PARALLAX','BRICKNAME','EBV','FLUX_W1','FLUX_W2','FLUX_IVAR_W1','FLUX_IVAR_W2','FIBERFLUX_G','FIBERFLUX_R','FIBERFLUX_Z','FIBERTOTFLUX_G','FIBERTOTFLUX_R','FIBERTOTFLUX_Z','SERSIC','SHAPE_R','SHAPE_E1','SHAPE_E2','PHOTSYS','PRIORITY_INIT','NUMOBS_INIT','DESI_TARGET','BGS_TARGET','MWS_TARGET','SCND_TARGET','PLATE_RA','PLATE_DEC','COADD_NUMEXP','COADD_EXPTIME','COADD_NUMNIGHT','COADD_NUMTILE','MEAN_DELTA_X','RMS_DELTA_X','MEAN_DELTA_Y','RMS_DELTA_Y','MEAN_FIBER_RA','STD_FIBER_RA','MEAN_FIBER_DEC','STD_FIBER_DEC','MEAN_PSF_TO_FIBER_SPECFLUX','TSNR2_GPBDARK_B','TSNR2_ELG_B','TSNR2_GPBBRIGHT_B','TSNR2_LYA_B','TSNR2_BGS_B','TSNR2_GPBBACKUP_B','TSNR2_QSO_B','TSNR2_LRG_B','TSNR2_GPBDARK_R','TSNR2_ELG_R','TSNR2_GPBBRIGHT_R','TSNR2_LYA_R','TSNR2_BGS_R','TSNR2_GPBBACKUP_R','TSNR2_QSO_R','TSNR2_LRG_R','TSNR2_GPBDARK_Z','TSNR2_ELG_Z','TSNR2_GPBBRIGHT_Z','TSNR2_LYA_Z','TSNR2_BGS_Z','TSNR2_GPBBACKUP_Z','TSNR2_QSO_Z','TSNR2_LRG_Z','TSNR2_GPBDARK','TSNR2_ELG','TSNR2_GPBBRIGHT','TSNR2_LYA','TSNR2_BGS','TSNR2_GPBBACKUP','TSNR2_QSO','TSNR2_LRG')>\n"
     ]
    },
    {
     "data": {
      "text/html": [
       "<i>Table length=5</i>\n",
       "<table id=\"table46913373938304-100684\" class=\"table-striped table-bordered table-condensed\">\n",
       "<thead><tr><th>idx</th><th>TARGETID</th><th>CHI2</th><th>COEFF [10]</th><th>Z</th><th>ZERR</th><th>ZWARN</th><th>NPIXELS</th><th>SPECTYPE</th><th>SUBTYPE</th><th>NCOEFF</th><th>DELTACHI2</th><th>COADD_FIBERSTATUS</th><th>TARGET_RA</th><th>TARGET_DEC</th><th>PMRA</th><th>PMDEC</th><th>REF_EPOCH</th><th>FA_TARGET</th><th>FA_TYPE</th><th>OBJTYPE</th><th>SUBPRIORITY</th><th>OBSCONDITIONS</th><th>RELEASE</th><th>BRICKID</th><th>BRICK_OBJID</th><th>MORPHTYPE</th><th>FLUX_G</th><th>FLUX_R</th><th>FLUX_Z</th><th>FLUX_IVAR_G</th><th>FLUX_IVAR_R</th><th>FLUX_IVAR_Z</th><th>MASKBITS</th><th>REF_ID</th><th>REF_CAT</th><th>GAIA_PHOT_G_MEAN_MAG</th><th>GAIA_PHOT_BP_MEAN_MAG</th><th>GAIA_PHOT_RP_MEAN_MAG</th><th>PARALLAX</th><th>BRICKNAME</th><th>EBV</th><th>FLUX_W1</th><th>FLUX_W2</th><th>FLUX_IVAR_W1</th><th>FLUX_IVAR_W2</th><th>FIBERFLUX_G</th><th>FIBERFLUX_R</th><th>FIBERFLUX_Z</th><th>FIBERTOTFLUX_G</th><th>FIBERTOTFLUX_R</th><th>FIBERTOTFLUX_Z</th><th>SERSIC</th><th>SHAPE_R</th><th>SHAPE_E1</th><th>SHAPE_E2</th><th>PHOTSYS</th><th>PRIORITY_INIT</th><th>NUMOBS_INIT</th><th>DESI_TARGET</th><th>BGS_TARGET</th><th>MWS_TARGET</th><th>SCND_TARGET</th><th>PLATE_RA</th><th>PLATE_DEC</th><th>COADD_NUMEXP</th><th>COADD_EXPTIME</th><th>COADD_NUMNIGHT</th><th>COADD_NUMTILE</th><th>MEAN_DELTA_X</th><th>RMS_DELTA_X</th><th>MEAN_DELTA_Y</th><th>RMS_DELTA_Y</th><th>MEAN_FIBER_RA</th><th>STD_FIBER_RA</th><th>MEAN_FIBER_DEC</th><th>STD_FIBER_DEC</th><th>MEAN_PSF_TO_FIBER_SPECFLUX</th><th>TSNR2_GPBDARK_B</th><th>TSNR2_ELG_B</th><th>TSNR2_GPBBRIGHT_B</th><th>TSNR2_LYA_B</th><th>TSNR2_BGS_B</th><th>TSNR2_GPBBACKUP_B</th><th>TSNR2_QSO_B</th><th>TSNR2_LRG_B</th><th>TSNR2_GPBDARK_R</th><th>TSNR2_ELG_R</th><th>TSNR2_GPBBRIGHT_R</th><th>TSNR2_LYA_R</th><th>TSNR2_BGS_R</th><th>TSNR2_GPBBACKUP_R</th><th>TSNR2_QSO_R</th><th>TSNR2_LRG_R</th><th>TSNR2_GPBDARK_Z</th><th>TSNR2_ELG_Z</th><th>TSNR2_GPBBRIGHT_Z</th><th>TSNR2_LYA_Z</th><th>TSNR2_BGS_Z</th><th>TSNR2_GPBBACKUP_Z</th><th>TSNR2_QSO_Z</th><th>TSNR2_LRG_Z</th><th>TSNR2_GPBDARK</th><th>TSNR2_ELG</th><th>TSNR2_GPBBRIGHT</th><th>TSNR2_LYA</th><th>TSNR2_BGS</th><th>TSNR2_GPBBACKUP</th><th>TSNR2_QSO</th><th>TSNR2_LRG</th></tr></thead>\n",
       "<tr><td>0</td><td>39633192419853982</td><td>9072.705475747585</td><td>963.3995737428435 .. 7.337673258365502</td><td>0.03768132175692388</td><td>3.4824285385429408e-06</td><td>0</td><td>7906</td><td>GALAXY</td><td></td><td>10</td><td>2605.095112860203</td><td>0</td><td>252.92687803206968</td><td>46.536735591055674</td><td>0.0</td><td>0.0</td><td>2015.5</td><td>1152921504606846976</td><td>1</td><td>TGT</td><td>0.850263393143325</td><td>516</td><td>9011</td><td>571086</td><td>1694</td><td>SER</td><td>15.28663</td><td>21.711166</td><td>26.56284</td><td>133.69522</td><td>35.29861</td><td>26.31763</td><td>0</td><td>0</td><td></td><td>0.0</td><td>0.0</td><td>0.0</td><td>0.0</td><td>2529p465</td><td>0.019520197</td><td>14.621476</td><td>5.1932435</td><td>4.764854</td><td>1.6115698</td><td>3.9004745</td><td>5.539733</td><td>6.7776666</td><td>3.9004745</td><td>5.539733</td><td>6.7776666</td><td>0.7186158</td><td>1.2290907</td><td>-0.018304463</td><td>-0.16170786</td><td>N</td><td>2100</td><td>2</td><td>1152921504606846976</td><td>514</td><td>0</td><td>0</td><td>252.92687803206968</td><td>46.536735591055674</td><td>1</td><td>442.5022</td><td>1</td><td>1</td><td>0.001</td><td>0.001</td><td>-0.007</td><td>0.007</td><td>252.92688117445672</td><td>0.0</td><td>46.536762685656484</td><td>0.0</td><td>0.73440033</td><td>52.242462</td><td>0.024105784</td><td>9.576124</td><td>18.069313</td><td>129.83963</td><td>71.40583</td><td>0.64106226</td><td>0.25212908</td><td>1380.7289</td><td>3.9601603</td><td>254.87025</td><td>0.00339587</td><td>242.40923</td><td>1959.3602</td><td>1.0072627</td><td>5.1924295</td><td>5.6853464e-06</td><td>14.215412</td><td>1.0449298e-06</td><td>0.0</td><td>790.93634</td><td>7.8867915e-06</td><td>3.2538002</td><td>7.6352906</td><td>1432.9713</td><td>18.199678</td><td>264.44638</td><td>18.072708</td><td>1163.1852</td><td>2030.7661</td><td>4.9021254</td><td>13.079849</td></tr>\n",
       "<tr><td>1</td><td>39633188250716069</td><td>12455.289156682953</td><td>6282.429928936498 .. 0.0</td><td>-0.0006702988359020041</td><td>4.49332968719922e-06</td><td>0</td><td>7863</td><td>STAR</td><td>K</td><td>5</td><td>5253.20340018738</td><td>0</td><td>253.59857556877355</td><td>46.245138036902944</td><td>-1.1106461</td><td>-0.89099985</td><td>2015.5</td><td>2305843009213693952</td><td>1</td><td>TGT</td><td>0.9320531634626462</td><td>516</td><td>9011</td><td>570092</td><td>1957</td><td>PSF</td><td>57.748344</td><td>109.608086</td><td>152.16661</td><td>44.69639</td><td>19.042627</td><td>20.306168</td><td>0</td><td>1407530876765981184</td><td>G2</td><td>17.518497</td><td>18.006369</td><td>16.866531</td><td>0.035543706</td><td>2536p462</td><td>0.018271104</td><td>58.416958</td><td>30.096806</td><td>3.4689436</td><td>1.5110312</td><td>44.96402</td><td>85.343056</td><td>118.47998</td><td>44.96402</td><td>85.343056</td><td>118.47998</td><td>0.0</td><td>0.0</td><td>0.0</td><td>0.0</td><td>N</td><td>1500</td><td>2</td><td>2305843009213693952</td><td>0</td><td>768</td><td>0</td><td>253.59857556877355</td><td>46.245138036902944</td><td>1</td><td>442.5022</td><td>1</td><td>1</td><td>0.001</td><td>0.001</td><td>-0.003</td><td>0.003</td><td>253.5985803680059</td><td>0.0</td><td>46.24514954214408</td><td>0.0</td><td>0.789</td><td>50.52206</td><td>0.019436898</td><td>9.408699</td><td>10.657404</td><td>114.045235</td><td>76.20453</td><td>0.51402277</td><td>0.23680158</td><td>2935.3752</td><td>6.682694</td><td>518.90985</td><td>0.008853318</td><td>575.22363</td><td>3631.5696</td><td>1.996036</td><td>9.50612</td><td>5.5475966e-06</td><td>15.479318</td><td>1.0182409e-06</td><td>0.0</td><td>902.0026</td><td>7.918179e-06</td><td>3.6578033</td><td>8.447748</td><td>2985.8972</td><td>22.181448</td><td>528.31854</td><td>10.666257</td><td>1591.2715</td><td>3707.7742</td><td>6.167862</td><td>18.19067</td></tr>\n",
       "<tr><td>2</td><td>39633188246523776</td><td>9504.961603719741</td><td>108.12633281713316 .. 25.32090026748935</td><td>0.24606659837765116</td><td>5.348820316010104e-05</td><td>0</td><td>7876</td><td>GALAXY</td><td></td><td>10</td><td>83.82245809677988</td><td>0</td><td>253.3883175890437</td><td>46.13916021306366</td><td>0.0</td><td>0.0</td><td>2015.5</td><td>1152921504606846976</td><td>1</td><td>TGT</td><td>0.16035943850972634</td><td>516</td><td>9011</td><td>570091</td><td>3968</td><td>EXP</td><td>5.4663215</td><td>15.62286</td><td>30.758135</td><td>171.22453</td><td>44.046837</td><td>19.75095</td><td>0</td><td>0</td><td></td><td>0.0</td><td>0.0</td><td>0.0</td><td>0.0</td><td>2532p462</td><td>0.018015157</td><td>37.486607</td><td>27.654112</td><td>3.6351044</td><td>1.3088256</td><td>1.1407441</td><td>3.26027</td><td>6.418788</td><td>1.1407694</td><td>3.2603133</td><td>6.418835</td><td>1.0</td><td>2.204136</td><td>0.4023657</td><td>0.43581292</td><td>N</td><td>2100</td><td>2</td><td>1152921504606846976</td><td>514</td><td>0</td><td>0</td><td>253.3883175890437</td><td>46.13916021306366</td><td>1</td><td>442.5022</td><td>1</td><td>1</td><td>0.003</td><td>0.003</td><td>-0.002</td><td>0.002</td><td>253.3883333509623</td><td>0.0</td><td>46.13916753589277</td><td>0.0</td><td>0.7233565</td><td>46.61809</td><td>0.017866593</td><td>8.73546</td><td>9.659383</td><td>105.525826</td><td>70.50239</td><td>0.4700703</td><td>0.21888359</td><td>2694.307</td><td>6.1617103</td><td>480.09988</td><td>0.007966849</td><td>530.3529</td><td>3359.0703</td><td>1.8228303</td><td>8.771798</td><td>5.1468255e-06</td><td>14.540045</td><td>9.5018214e-07</td><td>0.0</td><td>858.0394</td><td>7.3501596e-06</td><td>3.425605</td><td>7.9793563</td><td>2740.925</td><td>20.719622</td><td>488.83536</td><td>9.66735</td><td>1493.9182</td><td>3429.5728</td><td>5.718506</td><td>16.970037</td></tr>\n",
       "<tr><td>3</td><td>39633188250716287</td><td>9184.345158427954</td><td>-13.25977871182974 .. -15.433919381527112</td><td>0.3648481393850214</td><td>2.4673653544728944e-05</td><td>0</td><td>7859</td><td>GALAXY</td><td></td><td>10</td><td>123.07215896248817</td><td>0</td><td>253.61567395297553</td><td>46.22384832111727</td><td>0.0</td><td>0.0</td><td>2015.5</td><td>1152921504606847233</td><td>1</td><td>TGT</td><td>0.5785271691655617</td><td>517</td><td>9011</td><td>570092</td><td>2175</td><td>DEV</td><td>5.7944336</td><td>14.67982</td><td>28.79129</td><td>52.20845</td><td>17.28661</td><td>12.841099</td><td>512</td><td>0</td><td></td><td>0.0</td><td>0.0</td><td>0.0</td><td>0.0</td><td>2536p462</td><td>0.018253785</td><td>87.14686</td><td>75.76166</td><td>1.9748217</td><td>0.78162813</td><td>1.0246891</td><td>2.5959828</td><td>5.091459</td><td>1.0255435</td><td>2.597195</td><td>5.0969224</td><td>4.0</td><td>3.1038723</td><td>-0.09901319</td><td>0.2503638</td><td>N</td><td>2000</td><td>2</td><td>1152921504606847233</td><td>257</td><td>0</td><td>0</td><td>253.61567395297553</td><td>46.22384832111727</td><td>1</td><td>442.5022</td><td>1</td><td>1</td><td>-0.001</td><td>0.001</td><td>-0.001</td><td>0.001</td><td>253.61566810339878</td><td>0.0</td><td>46.22385223622755</td><td>0.0</td><td>0.7320959</td><td>52.299484</td><td>0.020295238</td><td>9.726436</td><td>11.126627</td><td>118.75785</td><td>78.54345</td><td>0.53713775</td><td>0.24624223</td><td>3044.158</td><td>7.003804</td><td>537.2385</td><td>0.009062979</td><td>594.9763</td><td>3748.2622</td><td>2.0825412</td><td>9.931448</td><td>5.8491373e-06</td><td>16.30612</td><td>1.071359e-06</td><td>0.0</td><td>953.10956</td><td>8.291057e-06</td><td>3.8626919</td><td>8.947884</td><td>3096.4575</td><td>23.33022</td><td>546.96497</td><td>11.13569</td><td>1666.8438</td><td>3826.8057</td><td>6.482371</td><td>19.125574</td></tr>\n",
       "<tr><td>4</td><td>-104201594</td><td>7966.020532164723</td><td>-503.1217973509141 .. -102.97247214457596</td><td>0.41827406310044085</td><td>0.0001531900852753181</td><td>2053</td><td>7856</td><td>GALAXY</td><td></td><td>10</td><td>7.172231579083018</td><td>1026</td><td>253.61609291439714</td><td>46.18668103844859</td><td>0.0</td><td>0.0</td><td>0.0</td><td>0</td><td>4</td><td>SKY</td><td>0.0</td><td>0</td><td>0</td><td>0</td><td>0</td><td></td><td>0.0</td><td>0.0</td><td>0.0</td><td>0.0</td><td>0.0</td><td>0.0</td><td>0</td><td>0</td><td></td><td>0.0</td><td>0.0</td><td>0.0</td><td>0.0</td><td></td><td>0.0</td><td>0.0</td><td>0.0</td><td>0.0</td><td>0.0</td><td>0.0</td><td>0.0</td><td>0.0</td><td>0.0</td><td>0.0</td><td>0.0</td><td>0.0</td><td>0.0</td><td>0.0</td><td>0.0</td><td></td><td>0</td><td>0</td><td>0</td><td>0</td><td>0</td><td>0</td><td>253.61609291439714</td><td>46.18668103844859</td><td>1</td><td>442.5022</td><td>1</td><td>1</td><td>-0.002</td><td>0.002</td><td>0.071</td><td>0.071</td><td>253.61610084450362</td><td>0.0</td><td>46.18640893856076</td><td>0.0</td><td>0.8095216</td><td>9.936018</td><td>0.003890076</td><td>2.5647485</td><td>1.0498712</td><td>31.671532</td><td>8.739021</td><td>0.05034514</td><td>0.055035144</td><td>568.80023</td><td>1.2970783</td><td>144.1513</td><td>0.0008387591</td><td>158.95605</td><td>459.89795</td><td>0.18926193</td><td>2.1607535</td><td>1.0962567e-06</td><td>3.0355766</td><td>2.8140917e-07</td><td>0.0</td><td>253.61978</td><td>9.399368e-07</td><td>0.35316998</td><td>1.9632761</td><td>578.73627</td><td>4.336545</td><td>146.71605</td><td>1.05071</td><td>444.24738</td><td>468.63696</td><td>0.592777</td><td>4.1790648</td></tr>\n",
       "</table><style>table.dataTable {clear: both; width: auto !important; margin: 0 !important;}\n",
       ".dataTables_info, .dataTables_length, .dataTables_filter, .dataTables_paginate{\n",
       "display: inline-block; margin-right: 1em; }\n",
       ".paginate_button { margin-right: 5px; }\n",
       "</style>\n",
       "<script>\n",
       "\n",
       "var astropy_sort_num = function(a, b) {\n",
       "    var a_num = parseFloat(a);\n",
       "    var b_num = parseFloat(b);\n",
       "\n",
       "    if (isNaN(a_num) && isNaN(b_num))\n",
       "        return ((a < b) ? -1 : ((a > b) ? 1 : 0));\n",
       "    else if (!isNaN(a_num) && !isNaN(b_num))\n",
       "        return ((a_num < b_num) ? -1 : ((a_num > b_num) ? 1 : 0));\n",
       "    else\n",
       "        return isNaN(a_num) ? -1 : 1;\n",
       "}\n",
       "\n",
       "require.config({paths: {\n",
       "    datatables: 'https://cdn.datatables.net/1.10.12/js/jquery.dataTables.min'\n",
       "}});\n",
       "require([\"datatables\"], function(){\n",
       "    console.log(\"$('#table46913373938304-100684').dataTable()\");\n",
       "    \n",
       "jQuery.extend( jQuery.fn.dataTableExt.oSort, {\n",
       "    \"optionalnum-asc\": astropy_sort_num,\n",
       "    \"optionalnum-desc\": function (a,b) { return -astropy_sort_num(a, b); }\n",
       "});\n",
       "\n",
       "    $('#table46913373938304-100684').dataTable({\n",
       "        order: [],\n",
       "        pageLength: 50,\n",
       "        lengthMenu: [[10, 25, 50, 100, 500, 1000, -1], [10, 25, 50, 100, 500, 1000, 'All']],\n",
       "        pagingType: \"full_numbers\",\n",
       "        columnDefs: [{targets: [0, 1, 2, 3, 4, 5, 6, 7, 10, 11, 12, 13, 14, 15, 16, 17, 18, 19, 21, 22, 23, 24, 25, 27, 28, 29, 30, 31, 32, 33, 34, 36, 37, 38, 39, 41, 42, 43, 44, 45, 46, 47, 48, 49, 50, 51, 52, 53, 54, 55, 57, 58, 59, 60, 61, 62, 63, 64, 65, 66, 67, 68, 69, 70, 71, 72, 73, 74, 75, 76, 77, 78, 79, 80, 81, 82, 83, 84, 85, 86, 87, 88, 89, 90, 91, 92, 93, 94, 95, 96, 97, 98, 99, 100, 101, 102, 103, 104, 105, 106, 107, 108, 109], type: \"optionalnum\"}]\n",
       "    });\n",
       "});\n",
       "</script>\n"
      ],
      "text/plain": [
       "<IPython.core.display.HTML object>"
      ]
     },
     "execution_count": 16,
     "metadata": {},
     "output_type": "execute_result"
    }
   ],
   "source": [
    "print(zcat.columns)\n",
    "zcat[:5].show_in_notebook()"
   ]
  },
  {
   "cell_type": "markdown",
   "id": "8d2ac46c-0f59-47be-a9c4-44888c48e2a6",
   "metadata": {},
   "source": [
    "<a class=\"anchor\" id=\"targets\"></a>\n",
    "### Selecting sources based on Targeting Information"
   ]
  },
  {
   "cell_type": "markdown",
   "id": "c86b1a6d-f424-4168-ae97-0b4a65e0016c",
   "metadata": {},
   "source": [
    "If you are new to bitmasks, see a short introduction at the end of this notebook"
   ]
  },
  {
   "cell_type": "code",
   "execution_count": 17,
   "id": "c15b8ed6-4a63-4894-88de-b6cffa56eab2",
   "metadata": {
    "tags": []
   },
   "outputs": [
    {
     "data": {
      "text/plain": [
       "<bound method BitMask.names of desi_mask:\n",
       "  - [LRG,              0, \"LRG\", {'obsconditions': 'DARK', 'priorities': {'UNOBS': 3200, 'MORE_ZGOOD': 2, 'MORE_ZWARN': 2, 'DONE': 2, 'OBS': 1, 'DONOTOBSERVE': 0, 'MORE_MIDZQSO': 0}, 'numobs': 2}]\n",
       "  - [ELG,              1, \"ELG\", {'obsconditions': 'DARK', 'priorities': {'UNOBS': 3000, 'MORE_ZGOOD': 2, 'MORE_ZWARN': 2, 'DONE': 2, 'OBS': 1, 'DONOTOBSERVE': 0, 'MORE_MIDZQSO': 0}, 'numobs': 2}]\n",
       "  - [QSO,              2, \"QSO\", {'obsconditions': 'DARK', 'priorities': {'UNOBS': 3400, 'MORE_ZGOOD': 3350, 'MORE_ZWARN': 3300, 'MORE_MIDZQSO': 100, 'DONE': 2, 'OBS': 1, 'DONOTOBSERVE': 0}, 'numobs': 4}]\n",
       "  - [QSO_HIZ,          4, \"QSO selected using high-redshift Random Forest (informational bit)\", {'obsconditions': 'DARK', 'priorities': {'UNOBS': 0, 'DONE': 0, 'OBS': 0, 'DONOTOBSERVE': 0, 'MORE_MIDZQSO': 0, 'MORE_ZWARN': 0, 'MORE_ZGOOD': 0}, 'numobs': -1}]\n",
       "  - [ELG_LOP,          5, \"ELG at standard (ELG) priority\", {'obsconditions': 'DARK', 'priorities': {'UNOBS': 3100, 'MORE_ZGOOD': 2, 'MORE_ZWARN': 2, 'DONE': 2, 'OBS': 1, 'DONOTOBSERVE': 0, 'MORE_MIDZQSO': 0}, 'numobs': 2}]\n",
       "  - [ELG_HIP,          6, \"ELG randomly increased to higher (LRG) priority\", {'obsconditions': 'DARK', 'priorities': {'UNOBS': 3200, 'MORE_ZGOOD': 2, 'MORE_ZWARN': 2, 'DONE': 2, 'OBS': 1, 'DONOTOBSERVE': 0, 'MORE_MIDZQSO': 0}, 'numobs': 2}]\n",
       "  - [ELG_VLO,          7, \"Very-low priority ELG (filler)\", {'obsconditions': 'DARK', 'priorities': {'UNOBS': 3000, 'MORE_ZGOOD': 2, 'MORE_ZWARN': 2, 'DONE': 2, 'OBS': 1, 'DONOTOBSERVE': 0, 'MORE_MIDZQSO': 0}, 'numobs': 2}]\n",
       "  - [LRG_NORTH,        8, \"LRG cuts tuned for Bok/Mosaic data\", {'obsconditions': 'DARK', 'priorities': {'UNOBS': 0, 'DONE': 0, 'OBS': 0, 'DONOTOBSERVE': 0, 'MORE_MIDZQSO': 0, 'MORE_ZWARN': 0, 'MORE_ZGOOD': 0}, 'numobs': 0}]\n",
       "  - [ELG_NORTH,        9, \"ELG cuts tuned for Bok/Mosaic data\", {'obsconditions': 'DARK', 'priorities': {'UNOBS': 0, 'DONE': 0, 'OBS': 0, 'DONOTOBSERVE': 0, 'MORE_MIDZQSO': 0, 'MORE_ZWARN': 0, 'MORE_ZGOOD': 0}, 'numobs': 0}]\n",
       "  - [QSO_NORTH,       10, \"QSO cuts tuned for Bok/Mosaic data\", {'obsconditions': 'DARK', 'priorities': {'UNOBS': 0, 'DONE': 0, 'OBS': 0, 'DONOTOBSERVE': 0, 'MORE_MIDZQSO': 0, 'MORE_ZWARN': 0, 'MORE_ZGOOD': 0}, 'numobs': 0}]\n",
       "  - [ELG_LOP_NORTH,   11, \"ELG at standard (ELG) priority tuned for Bok/Mosaic data\", {'obsconditions': 'DARK', 'priorities': {'UNOBS': 0, 'DONE': 0, 'OBS': 0, 'DONOTOBSERVE': 0, 'MORE_MIDZQSO': 0, 'MORE_ZWARN': 0, 'MORE_ZGOOD': 0}, 'numobs': 0}]\n",
       "  - [ELG_VLO_NORTH,   12, \"Very-low priority ELG (filler) tuned for Bok/Mosaic data\", {'obsconditions': 'DARK', 'priorities': {'UNOBS': 0, 'DONE': 0, 'OBS': 0, 'DONOTOBSERVE': 0, 'MORE_MIDZQSO': 0, 'MORE_ZWARN': 0, 'MORE_ZGOOD': 0}, 'numobs': 0}]\n",
       "  - [LRG_SOUTH,       16, \"LRG cuts tuned for DECam data\", {'obsconditions': 'DARK', 'priorities': {'UNOBS': 0, 'DONE': 0, 'OBS': 0, 'DONOTOBSERVE': 0, 'MORE_MIDZQSO': 0, 'MORE_ZWARN': 0, 'MORE_ZGOOD': 0}, 'numobs': 0}]\n",
       "  - [ELG_SOUTH,       17, \"ELG cuts tuned for DECam data\", {'obsconditions': 'DARK', 'priorities': {'UNOBS': 0, 'DONE': 0, 'OBS': 0, 'DONOTOBSERVE': 0, 'MORE_MIDZQSO': 0, 'MORE_ZWARN': 0, 'MORE_ZGOOD': 0}, 'numobs': 0}]\n",
       "  - [QSO_SOUTH,       18, \"QSO cuts tuned for DECam data\", {'obsconditions': 'DARK', 'priorities': {'UNOBS': 0, 'DONE': 0, 'OBS': 0, 'DONOTOBSERVE': 0, 'MORE_MIDZQSO': 0, 'MORE_ZWARN': 0, 'MORE_ZGOOD': 0}, 'numobs': 0}]\n",
       "  - [ELG_LOP_SOUTH,   19, \"ELG at standard (ELG) priority tuned for DECam data\", {'obsconditions': 'DARK', 'priorities': {'UNOBS': 0, 'DONE': 0, 'OBS': 0, 'DONOTOBSERVE': 0, 'MORE_MIDZQSO': 0, 'MORE_ZWARN': 0, 'MORE_ZGOOD': 0}, 'numobs': 0}]\n",
       "  - [ELG_VLO_SOUTH,   20, \"Very-low priority ELG (filler) tuned for DECam data\", {'obsconditions': 'DARK', 'priorities': {'UNOBS': 0, 'DONE': 0, 'OBS': 0, 'DONOTOBSERVE': 0, 'MORE_MIDZQSO': 0, 'MORE_ZWARN': 0, 'MORE_ZGOOD': 0}, 'numobs': 0}]\n",
       "  - [SKY,             32, \"Blank sky locations\", {'obsconditions': 'DARK|GRAY|BRIGHT|BACKUP|TWILIGHT12|TWILIGHT18', 'priorities': {}, 'numobs': -1}]\n",
       "  - [STD_FAINT,       33, \"Standard stars for dark/gray conditions\", {'obsconditions': 'DARK', 'priorities': {}, 'numobs': -1}]\n",
       "  - [STD_WD,          34, \"White Dwarf stars\", {'obsconditions': 'DARK|BRIGHT', 'priorities': {}, 'numobs': -1}]\n",
       "  - [STD_BRIGHT,      35, \"Standard stars for BRIGHT conditions\", {'obsconditions': 'BRIGHT', 'priorities': {}, 'numobs': -1}]\n",
       "  - [BAD_SKY,         36, \"Blank sky locations that are imperfect but still useable\", {'obsconditions': 'DARK|GRAY|BRIGHT|BACKUP|TWILIGHT12|TWILIGHT18', 'priorities': {'UNOBS': 0, 'OBS': 0, 'DONE': 0, 'MORE_ZWARN': 0, 'MORE_ZGOOD': 0, 'MORE_MIDZQSO': 0, 'DONOTOBSERVE': 1}, 'numobs': 0}]\n",
       "  - [SUPP_SKY,        37, \"SKY is based on Gaia-avoidance (SKY will be set, too)\", {'obsconditions': 'DARK|GRAY|BRIGHT|BACKUP|TWILIGHT12|TWILIGHT18', 'priorities': {}, 'numobs': -1}]\n",
       "  - [NO_TARGET,       49, \"No known target at this location\", {'obsconditions': 'DARK|GRAY|BRIGHT|BACKUP|TWILIGHT12|TWILIGHT18', 'priorities': {}, 'numobs': -1}]\n",
       "  - [BRIGHT_OBJECT,   50, \"Known bright object to avoid\", {'obsconditions': 'APOCALYPSE', 'priorities': {}, 'numobs': -1}]\n",
       "  - [IN_BRIGHT_OBJECT, 51, \"Too near a bright object; DO NOT OBSERVE\", {'obsconditions': 'APOCALYPSE', 'priorities': {}, 'numobs': -1}]\n",
       "  - [NEAR_BRIGHT_OBJECT, 52, \"Near a bright object but ok to observe\", {'obsconditions': 'DARK|GRAY|BRIGHT|BACKUP|TWILIGHT12|TWILIGHT18', 'priorities': {}, 'numobs': -1}]\n",
       "  - [BGS_ANY,         60, \"Any BGS bit is set\", {'obsconditions': 'IGNORE', 'priorities': {}, 'numobs': -1}]\n",
       "  - [MWS_ANY,         61, \"Any MWS bit is set\", {'obsconditions': 'IGNORE', 'priorities': {}, 'numobs': -1}]\n",
       "  - [SCND_ANY,        62, \"Any secondary bit is set\", {'obsconditions': 'DARK|GRAY|BRIGHT|BACKUP|TWILIGHT12|TWILIGHT18', 'priorities': {}, 'numobs': -1}]>"
      ]
     },
     "execution_count": 17,
     "metadata": {},
     "output_type": "execute_result"
    }
   ],
   "source": [
    "# Targetting bits are coded in the desi_mask - \n",
    "desi_mask.names"
   ]
  },
  {
   "cell_type": "code",
   "execution_count": 18,
   "id": "d038246f-394d-48d6-bdf6-61ac075440f9",
   "metadata": {},
   "outputs": [
    {
     "name": "stdout",
     "output_type": "stream",
     "text": [
      "8589934592 34359738368 42949672960\n",
      "8589934592 34359738368 42949672960\n"
     ]
    }
   ],
   "source": [
    "# A simple example of using the bitmasks\n",
    "\n",
    "print(desi_mask.mask(\"STD_FAINT\"), desi_mask.mask(\"STD_BRIGHT\"), desi_mask.mask(\"STD_FAINT|STD_BRIGHT\"))\n",
    "print(2**33, 2**35, 2**33 + 2**35)"
   ]
  },
  {
   "cell_type": "code",
   "execution_count": 19,
   "id": "7cde984c-9f3b-4460-82d8-a9fcd5f5d58c",
   "metadata": {},
   "outputs": [],
   "source": [
    "# Targeting information about the DESI targetting is stored in the desi_target columns - \n",
    "desi_target = zcat['DESI_TARGET']\n",
    "\n",
    "# Masks for different targets\n",
    "bgs_tgtmask = desi_mask['BGS_ANY']\n",
    "lrg_tgtmask = desi_mask['LRG']\n",
    "elg_tgtmask = desi_mask['ELG']\n",
    "qso_tgtmask = desi_mask['QSO']\n",
    "mws_tgtmask = desi_mask['MWS_ANY']\n",
    "scnd_tgtmask = desi_mask['SCND_ANY']"
   ]
  },
  {
   "cell_type": "code",
   "execution_count": 20,
   "id": "2caa6ffb-9f6e-4ecf-bbb3-6200ef673aab",
   "metadata": {},
   "outputs": [],
   "source": [
    "# Selecting candidates - \n",
    "is_bgs = (desi_target & bgs_tgtmask != 0)\n",
    "is_lrg = (desi_target & lrg_tgtmask != 0)\n",
    "is_elg = (desi_target & elg_tgtmask != 0)\n",
    "is_qso = (desi_target & qso_tgtmask != 0)\n",
    "is_mws = (desi_target & mws_tgtmask != 0)\n",
    "is_scnd = (desi_target & scnd_tgtmask != 0)"
   ]
  },
  {
   "cell_type": "code",
   "execution_count": 21,
   "id": "323bf205-4169-48fd-9e7a-53363c9ff47a",
   "metadata": {},
   "outputs": [],
   "source": [
    "# Number of sources of each target type\n",
    "n_bgs = len(zcat[is_bgs])\n",
    "n_lrg = len(zcat[is_lrg])\n",
    "n_elg = len(zcat[is_elg])\n",
    "n_qso = len(zcat[is_qso])\n",
    "n_mws = len(zcat[is_mws])\n",
    "n_scnd = len(zcat[is_scnd])"
   ]
  },
  {
   "cell_type": "code",
   "execution_count": 22,
   "id": "c1f9bf04-52ad-4727-a3f5-b65c7567210d",
   "metadata": {},
   "outputs": [
    {
     "data": {
      "image/png": "[encoded data removed]",
      "text/plain": [
       "<Figure size 720x576 with 1 Axes>"
      ]
     },
     "metadata": {
      "needs_background": "light"
     },
     "output_type": "display_data"
    }
   ],
   "source": [
    "# Let us look at the numbers visually - \n",
    "\n",
    "plt.figure(figsize = (10, 8))\n",
    "\n",
    "targets = ['BGS', 'LRG', 'ELG', 'QSO', 'MWS', 'SCND']\n",
    "numbers = [n_bgs, n_lrg, n_elg, n_qso, n_mws, n_scnd]\n",
    "\n",
    "plt.bar(targets, numbers, color = 'purple', alpha = 0.5)\n",
    "plt.ylabel('Number of primary spectra')\n",
    "plt.yscale('log')"
   ]
  },
  {
   "cell_type": "code",
   "execution_count": 23,
   "id": "e3221862-d592-440d-b01b-78fd9a84e432",
   "metadata": {},
   "outputs": [
    {
     "data": {
      "text/plain": [
       "Text(0.5, 0, 'Redshift')"
      ]
     },
     "execution_count": 23,
     "metadata": {},
     "output_type": "execute_result"
    },
    {
     "data": {
      "image/png": "[encoded data removed]",
      "text/plain": [
       "<Figure size 648x864 with 4 Axes>"
      ]
     },
     "metadata": {
      "needs_background": "light"
     },
     "output_type": "display_data"
    }
   ],
   "source": [
    "# Now let us look at the distribution of redshifts -\n",
    "\n",
    "fig, axs = plt.subplots(4, 1, figsize = (9, 12))\n",
    "bins = np.arange(0, 4, 0.2)\n",
    "\n",
    "axs[0].hist(zcat['Z'][is_bgs], color = 'C0', bins = bins, label = f'BGS: {len(zcat[is_bgs])} sources')\n",
    "axs[0].legend(fontsize = 14)\n",
    "axs[0].set_ylabel(\"N(z)\")\n",
    "axs[1].hist(zcat['Z'][is_lrg], color = 'C1', bins = bins, label = f'LRG: {len(zcat[is_lrg])} sources')\n",
    "axs[1].legend(fontsize = 14)\n",
    "axs[1].set_ylabel(\"N(z)\")\n",
    "axs[2].hist(zcat['Z'][is_elg], color = 'C2', bins = bins, label = f'ELG: {len(zcat[is_elg])} sources')\n",
    "axs[2].legend(fontsize = 14)\n",
    "axs[2].set_ylabel(\"N(z)\")\n",
    "axs[3].hist(zcat['Z'][is_qso], color = 'C3', bins = bins, label = f'QSO: {len(zcat[is_qso])} sources')\n",
    "axs[3].legend(fontsize = 14)\n",
    "axs[3].set_ylabel(\"N(z)\")\n",
    "axs[3].set_xlabel(\"Redshift\")\n"
   ]
  },
  {
   "cell_type": "markdown",
   "id": "6c35e419-bc65-449d-9fcf-d7d46bb13548",
   "metadata": {},
   "source": [
    "#### Other masks"
   ]
  },
  {
   "cell_type": "markdown",
   "id": "ea527486-e6ef-4dee-8197-ef71257b5c9a",
   "metadata": {},
   "source": [
    "`desi_mask` consists of the uppermost level targeting information in DESI. However, there can be sub-classes of targets. For example, BGS have different target masks depending on the selection criterion. Each of the different secondary target proposals have their own masks. They can be selected in a similar way as above, but with the respective columns in the redshift catalog."
   ]
  },
  {
   "cell_type": "code",
   "execution_count": 24,
   "id": "a3a5a2e2-019e-413d-b992-d595a65a098f",
   "metadata": {
    "collapsed": true,
    "jupyter": {
     "outputs_hidden": true
    },
    "tags": []
   },
   "outputs": [
    {
     "data": {
      "text/plain": [
       "<bound method BitMask.names of bgs_mask:\n",
       "  - [BGS_FAINT,        0, \"BGS faint targets\", {'obsconditions': 'BRIGHT', 'priorities': {'UNOBS': 2000, 'MORE_ZGOOD': 2, 'MORE_ZWARN': 2, 'DONE': 2, 'OBS': 1, 'DONOTOBSERVE': 0, 'MORE_MIDZQSO': 0}, 'numobs': 2}]\n",
       "  - [BGS_BRIGHT,       1, \"BGS bright targets\", {'obsconditions': 'BRIGHT', 'priorities': {'UNOBS': 2100, 'MORE_ZGOOD': 2, 'MORE_ZWARN': 2, 'DONE': 2, 'OBS': 1, 'DONOTOBSERVE': 0, 'MORE_MIDZQSO': 0}, 'numobs': 2}]\n",
       "  - [BGS_WISE,         2, \"BGS wise targets\", {'obsconditions': 'BRIGHT', 'priorities': {'UNOBS': 2000, 'MORE_ZGOOD': 2, 'MORE_ZWARN': 2, 'DONE': 2, 'OBS': 1, 'DONOTOBSERVE': 0, 'MORE_MIDZQSO': 0}, 'numobs': 2}]\n",
       "  - [BGS_FAINT_HIP,    3, \"BGS faint targets at bright priority\", {'obsconditions': 'BRIGHT', 'priorities': {'UNOBS': 2100, 'MORE_ZGOOD': 2, 'MORE_ZWARN': 2, 'DONE': 2, 'OBS': 1, 'DONOTOBSERVE': 0, 'MORE_MIDZQSO': 0}, 'numobs': 2}]\n",
       "  - [BGS_FAINT_NORTH,  8, \"BGS faint cuts tuned for Bok/Mosaic\", {'obsconditions': 'BRIGHT', 'priorities': {'UNOBS': 0, 'MORE_ZGOOD': 0, 'MORE_ZWARN': 0, 'DONE': 0, 'OBS': 0, 'DONOTOBSERVE': 0, 'MORE_MIDZQSO': 0}, 'numobs': 0}]\n",
       "  - [BGS_BRIGHT_NORTH,  9, \"BGS bright cuts tuned for Bok/Mosaic\", {'obsconditions': 'BRIGHT', 'priorities': {'UNOBS': 0, 'MORE_ZGOOD': 0, 'MORE_ZWARN': 0, 'DONE': 0, 'OBS': 0, 'DONOTOBSERVE': 0, 'MORE_MIDZQSO': 0}, 'numobs': 0}]\n",
       "  - [BGS_WISE_NORTH,  10, \"BGS WISE cuts tuned for Bok/Mosaic\", {'obsconditions': 'BRIGHT', 'priorities': {'UNOBS': 0, 'MORE_ZGOOD': 0, 'MORE_ZWARN': 0, 'DONE': 0, 'OBS': 0, 'DONOTOBSERVE': 0, 'MORE_MIDZQSO': 0}, 'numobs': 0}]\n",
       "  - [BGS_FAINT_SOUTH, 16, \"BGS faint cuts tuned for DECam\", {'obsconditions': 'BRIGHT', 'priorities': {'UNOBS': 0, 'MORE_ZGOOD': 0, 'MORE_ZWARN': 0, 'DONE': 0, 'OBS': 0, 'DONOTOBSERVE': 0, 'MORE_MIDZQSO': 0}, 'numobs': 0}]\n",
       "  - [BGS_BRIGHT_SOUTH, 17, \"BGS bright cuts tuned for DECam\", {'obsconditions': 'BRIGHT', 'priorities': {'UNOBS': 0, 'MORE_ZGOOD': 0, 'MORE_ZWARN': 0, 'DONE': 0, 'OBS': 0, 'DONOTOBSERVE': 0, 'MORE_MIDZQSO': 0}, 'numobs': 0}]\n",
       "  - [BGS_WISE_SOUTH,  18, \"BGS WISE cuts tuned for DECam\", {'obsconditions': 'BRIGHT', 'priorities': {'UNOBS': 0, 'MORE_ZGOOD': 0, 'MORE_ZWARN': 0, 'DONE': 0, 'OBS': 0, 'DONOTOBSERVE': 0, 'MORE_MIDZQSO': 0}, 'numobs': 0}]>"
      ]
     },
     "execution_count": 24,
     "metadata": {},
     "output_type": "execute_result"
    }
   ],
   "source": [
    "bgs_mask.names"
   ]
  },
  {
   "cell_type": "code",
   "execution_count": 25,
   "id": "342e351c-2fc9-4724-9129-97b810265369",
   "metadata": {
    "collapsed": true,
    "jupyter": {
     "outputs_hidden": true
    },
    "tags": []
   },
   "outputs": [
    {
     "data": {
      "text/plain": [
       "<bound method BitMask.names of scnd_mask:\n",
       "  - [VETO,             0, \"Never observe, even if a primary target bit is set.\", {'obsconditions': 'DARK|GRAY|BRIGHT|BACKUP|TWILIGHT12|TWILIGHT18', 'filename': 'veto', 'flavor': 'SPARE', 'downsample': 1, 'updatemws': False, 'priorities': {'UNOBS': 0, 'MORE_ZGOOD': 0, 'MORE_ZWARN': 0, 'DONE': 0, 'OBS': 0, 'DONOTOBSERVE': 0, 'MORE_MIDZQSO': 0}, 'numobs': 1}]\n",
       "  - [UDG,              1, \"See $SCND_DIR/docs/UDG.txt\", {'obsconditions': 'DARK', 'filename': 'UDG', 'flavor': 'SPARE', 'updatemws': False, 'downsample': 1, 'priorities': {'UNOBS': 1900, 'MORE_ZGOOD': 2, 'MORE_ZWARN': 2, 'DONE': 2, 'OBS': 1, 'DONOTOBSERVE': 0, 'MORE_MIDZQSO': 0}, 'numobs': 1}]\n",
       "  - [FIRST_MALS,       2, \"See $SCND_DIR/docs/FIRST_MALS.txt\", {'obsconditions': 'DARK', 'filename': 'FIRST_MALS', 'flavor': 'SPARE', 'updatemws': False, 'downsample': 1, 'priorities': {'UNOBS': 1025, 'MORE_ZGOOD': 2, 'MORE_ZWARN': 2, 'DONE': 2, 'OBS': 1, 'DONOTOBSERVE': 0, 'MORE_MIDZQSO': 0}, 'numobs': 1}]\n",
       "  - [QSO_RED,          5, \"See $SCND_DIR/docs/QSO_RED.ipynb\", {'obsconditions': 'DARK', 'filename': 'QSO_RED', 'flavor': 'QSO', 'updatemws': False, 'downsample': 1, 'priorities': {'UNOBS': 3400, 'MORE_ZGOOD': 3350, 'MORE_ZWARN': 3300, 'DONE': 2, 'OBS': 1, 'DONOTOBSERVE': 0, 'MORE_MIDZQSO': 100}, 'numobs': 4}]\n",
       "  - [MWS_CLUS_GAL_DEEP, 10, \"See $SCND_DIR/docs/MWS_CLUS_GAL_DEEP.txt\", {'obsconditions': 'DARK', 'filename': 'MWS_CLUS_GAL_DEEP', 'flavor': 'SPARE', 'updatemws': False, 'downsample': 1, 'priorities': {'UNOBS': 1450, 'MORE_ZGOOD': 2, 'MORE_ZWARN': 2, 'DONE': 2, 'OBS': 1, 'DONOTOBSERVE': 0, 'MORE_MIDZQSO': 0}, 'numobs': 1}]\n",
       "  - [LOW_MASS_AGN,    11, \"See $SCND_DIR/docs/LOW_MASS_AGN.txt\", {'obsconditions': 'DARK', 'filename': 'LOW_MASS_AGN', 'flavor': 'SPARE', 'updatemws': False, 'downsample': 1, 'priorities': {'UNOBS': 1025, 'MORE_ZGOOD': 2, 'MORE_ZWARN': 2, 'DONE': 2, 'OBS': 1, 'DONOTOBSERVE': 0, 'MORE_MIDZQSO': 0}, 'numobs': 1}]\n",
       "  - [FAINT_HPM,       12, \"See $SCND_DIR/docs/FAINT_HPM.txt\", {'obsconditions': 'DARK', 'filename': 'FAINT_HPM', 'flavor': 'SPARE', 'updatemws': False, 'downsample': 1, 'priorities': {'UNOBS': 1025, 'MORE_ZGOOD': 2, 'MORE_ZWARN': 2, 'DONE': 2, 'OBS': 1, 'DONOTOBSERVE': 0, 'MORE_MIDZQSO': 0}, 'numobs': 1}]\n",
       "  - [LOW_Z_TIER1,     15, \"See $SCND_DIR/docs/LOW_Z_TIER1.ipynb\", {'obsconditions': 'DARK', 'filename': 'LOW_Z_TIER1', 'flavor': 'SPARE', 'updatemws': False, 'downsample': 1, 'priorities': {'UNOBS': 80, 'MORE_ZGOOD': 2, 'MORE_ZWARN': 2, 'DONE': 2, 'OBS': 1, 'DONOTOBSERVE': 0, 'MORE_MIDZQSO': 0}, 'numobs': 1}]\n",
       "  - [LOW_Z_TIER2,     16, \"See $SCND_DIR/docs/LOW_Z_TIER2.ipynb\", {'obsconditions': 'DARK', 'filename': 'LOW_Z_TIER2', 'flavor': 'SPARE', 'updatemws': False, 'downsample': 1, 'priorities': {'UNOBS': 70, 'MORE_ZGOOD': 2, 'MORE_ZWARN': 2, 'DONE': 2, 'OBS': 1, 'DONOTOBSERVE': 0, 'MORE_MIDZQSO': 0}, 'numobs': 1}]\n",
       "  - [LOW_Z_TIER3,     17, \"See $SCND_DIR/docs/LOW_Z_TIER3.ipynb\", {'obsconditions': 'DARK', 'filename': 'LOW_Z_TIER3', 'flavor': 'SPARE', 'updatemws': False, 'downsample': 1, 'priorities': {'UNOBS': 60, 'MORE_ZGOOD': 2, 'MORE_ZWARN': 2, 'DONE': 2, 'OBS': 1, 'DONOTOBSERVE': 0, 'MORE_MIDZQSO': 0}, 'numobs': 1}]\n",
       "  - [BHB,             18, \"See $SCND_DIR/docs/BHB.txt\", {'obsconditions': 'DARK', 'filename': 'BHB', 'flavor': 'SPARE', 'updatemws': False, 'downsample': 1, 'priorities': {'UNOBS': 1950, 'MORE_ZGOOD': 2, 'MORE_ZWARN': 2, 'DONE': 2, 'OBS': 1, 'DONOTOBSERVE': 0, 'MORE_MIDZQSO': 0}, 'numobs': 1}]\n",
       "  - [SPCV,            19, \"See $SCND_DIR/docs/SPCV.txt\", {'obsconditions': 'DARK', 'filename': 'SPCV', 'flavor': 'SPARE', 'updatemws': False, 'downsample': 1, 'priorities': {'UNOBS': 1025, 'MORE_ZGOOD': 2, 'MORE_ZWARN': 2, 'DONE': 2, 'OBS': 1, 'DONOTOBSERVE': 0, 'MORE_MIDZQSO': 0}, 'numobs': 1}]\n",
       "  - [DC3R2_GAMA,      20, \"See $SCND_DIR/docs/DC3R2_GAMA.ipynb\", {'obsconditions': 'DARK', 'filename': 'DC3R2_GAMA', 'flavor': 'SPARE', 'updatemws': False, 'downsample': 0.085, 'priorities': {'UNOBS': 1010, 'MORE_ZGOOD': 1000, 'MORE_ZWARN': 1000, 'DONE': 2, 'OBS': 1, 'DONOTOBSERVE': 0, 'MORE_MIDZQSO': 0}, 'numobs': 1}]\n",
       "  - [PSF_OUT_BRIGHT,  25, \"See $SCND_DIR/docs/PSF_OUT_BRIGHT.txt\", {'obsconditions': 'BRIGHT', 'filename': 'PSF_OUT_BRIGHT', 'flavor': 'SPARE', 'updatemws': False, 'downsample': 1, 'priorities': {'UNOBS': 90, 'MORE_ZGOOD': 2, 'MORE_ZWARN': 2, 'DONE': 2, 'OBS': 1, 'DONOTOBSERVE': 0, 'MORE_MIDZQSO': 0}, 'numobs': 1}]\n",
       "  - [PSF_OUT_DARK,    26, \"See $SCND_DIR/docs/PSF_OUT_DARK.txt\", {'obsconditions': 'DARK', 'filename': 'PSF_OUT_DARK', 'flavor': 'SPARE', 'updatemws': False, 'downsample': 1, 'priorities': {'UNOBS': 90, 'MORE_ZGOOD': 2, 'MORE_ZWARN': 2, 'DONE': 2, 'OBS': 1, 'DONOTOBSERVE': 0, 'MORE_MIDZQSO': 0}, 'numobs': 1}]\n",
       "  - [HPM_SOUM,        27, \"See $SCND_DIR/docs/HPM_SOUM.txt\", {'obsconditions': 'DARK', 'filename': 'HPM_SOUM', 'flavor': 'SPARE', 'updatemws': False, 'downsample': 1, 'priorities': {'UNOBS': 1025, 'MORE_ZGOOD': 2, 'MORE_ZWARN': 2, 'DONE': 2, 'OBS': 1, 'DONOTOBSERVE': 0, 'MORE_MIDZQSO': 0}, 'numobs': 1}]\n",
       "  - [SN_HOSTS,        28, \"See $SCND_DIR/docs/SN_HOSTS.txt\", {'obsconditions': 'DARK', 'filename': 'SN_HOSTS', 'flavor': 'SPARE', 'updatemws': False, 'downsample': 1, 'priorities': {'UNOBS': 1950, 'MORE_ZGOOD': 2, 'MORE_ZWARN': 2, 'DONE': 2, 'OBS': 1, 'DONOTOBSERVE': 0, 'MORE_MIDZQSO': 0}, 'numobs': 1}]\n",
       "  - [GAL_CLUS_BCG,    29, \"See $SCND_DIR/docs/GAL_CLUS_BCG.txt\", {'obsconditions': 'DARK', 'filename': 'GAL_CLUS_BCG', 'flavor': 'SPARE', 'updatemws': False, 'downsample': 1, 'priorities': {'UNOBS': 1025, 'MORE_ZGOOD': 1015, 'MORE_ZWARN': 1015, 'DONE': 2, 'OBS': 1, 'DONOTOBSERVE': 0, 'MORE_MIDZQSO': 0}, 'numobs': 2}]\n",
       "  - [GAL_CLUS_2ND,    30, \"See $SCND_DIR/docs/GAL_CLUS_2ND.txt\", {'obsconditions': 'DARK', 'filename': 'GAL_CLUS_2ND', 'flavor': 'SPARE', 'updatemws': False, 'downsample': 1, 'priorities': {'UNOBS': 1020, 'MORE_ZGOOD': 2, 'MORE_ZWARN': 2, 'DONE': 2, 'OBS': 1, 'DONOTOBSERVE': 0, 'MORE_MIDZQSO': 0}, 'numobs': 1}]\n",
       "  - [GAL_CLUS_SAT,    31, \"See $SCND_DIR/docs/GAL_CLUS_SAT.txt\", {'obsconditions': 'DARK', 'filename': 'GAL_CLUS_SAT', 'flavor': 'SPARE', 'updatemws': False, 'downsample': 1, 'priorities': {'UNOBS': 1000, 'MORE_ZGOOD': 2, 'MORE_ZWARN': 2, 'DONE': 2, 'OBS': 1, 'DONOTOBSERVE': 0, 'MORE_MIDZQSO': 0}, 'numobs': 1}]\n",
       "  - [MWS_FAINT_BLUE,  32, \"See $SCND_DIR/main2/docs/MWS_FAINT_BLUE.txt\", {'obsconditions': 'BRIGHT', 'filename': 'MWS_FAINT_BLUE', 'flavor': 'SPARE', 'updatemws': False, 'downsample': 1, 'priorities': {'UNOBS': 50, 'MORE_ZGOOD': 50, 'MORE_ZWARN': 50, 'DONE': 2, 'OBS': 1, 'DONOTOBSERVE': 0, 'MORE_MIDZQSO': 0}, 'numobs': 2}]\n",
       "  - [MWS_FAINT_RED,   33, \"See $SCND_DIR/main2/docs/MWS_FAINT_RED.txt\", {'obsconditions': 'BRIGHT', 'filename': 'MWS_FAINT_RED', 'flavor': 'SPARE', 'updatemws': False, 'downsample': 1, 'priorities': {'UNOBS': 50, 'MORE_ZGOOD': 50, 'MORE_ZWARN': 50, 'DONE': 2, 'OBS': 1, 'DONOTOBSERVE': 0, 'MORE_MIDZQSO': 0}, 'numobs': 2}]\n",
       "  - [STRONG_LENS,     34, \"See $SCND_DIR/docs/STRONG_LENS.txt\", {'obsconditions': 'DARK', 'filename': 'STRONG_LENS', 'flavor': 'SPARE', 'updatemws': False, 'downsample': 1, 'priorities': {'UNOBS': 4000, 'MORE_ZGOOD': 2, 'MORE_ZWARN': 2, 'DONE': 2, 'OBS': 1, 'DONOTOBSERVE': 0, 'MORE_MIDZQSO': 0}, 'numobs': 1}]\n",
       "  - [WISE_VAR_QSO,    35, \"See $SCND_DIR/docs/WISE_VAR_QSO.txt\", {'obsconditions': 'DARK', 'filename': 'WISE_VAR_QSO', 'flavor': 'QSO', 'updatemws': False, 'downsample': 1, 'priorities': {'UNOBS': 3400, 'MORE_ZGOOD': 3350, 'MORE_ZWARN': 3300, 'DONE': 2, 'OBS': 1, 'DONOTOBSERVE': 0, 'MORE_MIDZQSO': 100}, 'numobs': 4}]\n",
       "  - [Z5_QSO,          36, \"See $SCND_DIR/docs/Z5_QSO.txt\", {'obsconditions': 'DARK', 'filename': 'Z5_QSO', 'flavor': 'QSO', 'updatemws': False, 'downsample': 1, 'priorities': {'UNOBS': 3400, 'MORE_ZGOOD': 3350, 'MORE_ZWARN': 3300, 'DONE': 2, 'OBS': 1, 'DONOTOBSERVE': 0, 'MORE_MIDZQSO': 100}, 'numobs': 4}]\n",
       "  - [MWS_RR_LYRAE,    37, \"See $SCND_DIR/main2/docs/MWS_RR_LYRAE.txt\", {'obsconditions': 'DARK|BRIGHT', 'filename': 'MWS_RR_LYRAE', 'flavor': 'SPARE', 'updatemws': True, 'downsample': 1, 'priorities': {'UNOBS': 1950, 'MORE_ZGOOD': 2, 'MORE_ZWARN': 2, 'DONE': 2, 'OBS': 1, 'DONOTOBSERVE': 0, 'MORE_MIDZQSO': 0}, 'numobs': 1}]\n",
       "  - [MWS_MAIN_CLUSTER_SV, 38, \"See $SCND_DIR/docs/MWS_MAIN_CLUSTER_SV.txt\", {'obsconditions': 'DARK|BRIGHT', 'filename': 'MWS_MAIN_CLUSTER_SV', 'flavor': 'SPARE', 'updatemws': True, 'downsample': 1, 'priorities': {'UNOBS': 1450, 'MORE_ZGOOD': 2, 'MORE_ZWARN': 2, 'DONE': 2, 'OBS': 1, 'DONOTOBSERVE': 0, 'MORE_MIDZQSO': 0}, 'numobs': 1}]\n",
       "  - [BRIGHT_HPM,      40, \"See $SCND_DIR/docs/BRIGHT_HPM.txt\", {'obsconditions': 'BRIGHT', 'filename': 'BRIGHT_HPM', 'flavor': 'SPARE', 'updatemws': True, 'downsample': 1, 'priorities': {'UNOBS': 4000, 'MORE_ZGOOD': 2, 'MORE_ZWARN': 2, 'DONE': 2, 'OBS': 1, 'DONOTOBSERVE': 0, 'MORE_MIDZQSO': 0}, 'numobs': 1}]\n",
       "  - [WD_BINARIES_BRIGHT, 41, \"See $SCND_DIR/docs/WD_BINARIES_BRIGHT.txt\", {'obsconditions': 'BRIGHT', 'filename': 'WD_BINARIES_BRIGHT', 'flavor': 'SPARE', 'updatemws': True, 'downsample': 1, 'priorities': {'UNOBS': 1998, 'MORE_ZGOOD': 2, 'MORE_ZWARN': 2, 'DONE': 2, 'OBS': 1, 'DONOTOBSERVE': 0, 'MORE_MIDZQSO': 0}, 'numobs': 1}]\n",
       "  - [WD_BINARIES_DARK, 42, \"See $SCND_DIR/docs/WD_BINARIES_DARK.txt\", {'obsconditions': 'DARK', 'filename': 'WD_BINARIES_DARK', 'flavor': 'SPARE', 'updatemws': False, 'downsample': 1, 'priorities': {'UNOBS': 1998, 'MORE_ZGOOD': 2, 'MORE_ZWARN': 2, 'DONE': 2, 'OBS': 1, 'DONOTOBSERVE': 0, 'MORE_MIDZQSO': 0}, 'numobs': 1}]\n",
       "  - [PV_BRIGHT_HIGH,  43, \"See $SCND_DIR/docs/PV_BRIGHT_HIGH.ipynb\", {'obsconditions': 'BRIGHT', 'filename': 'PV_BRIGHT_HIGH', 'flavor': 'SPARE', 'updatemws': False, 'downsample': 1, 'priorities': {'UNOBS': 1700, 'MORE_ZGOOD': 1000, 'MORE_ZWARN': 1000, 'DONE': 2, 'OBS': 1, 'DONOTOBSERVE': 0, 'MORE_MIDZQSO': 0}, 'numobs': 5}]\n",
       "  - [PV_BRIGHT_MEDIUM, 44, \"See $SCND_DIR/docs/PV_BRIGHT_MEDIUM.ipynb\", {'obsconditions': 'BRIGHT', 'filename': 'PV_BRIGHT_MEDIUM', 'flavor': 'SPARE', 'updatemws': False, 'downsample': 1, 'priorities': {'UNOBS': 1010, 'MORE_ZGOOD': 2, 'MORE_ZWARN': 2, 'DONE': 2, 'OBS': 1, 'DONOTOBSERVE': 0, 'MORE_MIDZQSO': 0}, 'numobs': 1}]\n",
       "  - [PV_BRIGHT_LOW,   45, \"See $SCND_DIR/docs/PV_BRIGHT_LOW.ipynb\", {'obsconditions': 'BRIGHT', 'filename': 'PV_BRIGHT_LOW', 'flavor': 'SPARE', 'updatemws': False, 'downsample': 1, 'priorities': {'UNOBS': 1005, 'MORE_ZGOOD': 2, 'MORE_ZWARN': 2, 'DONE': 2, 'OBS': 1, 'DONOTOBSERVE': 0, 'MORE_MIDZQSO': 0}, 'numobs': 1}]\n",
       "  - [PV_DARK_HIGH,    46, \"See $SCND_DIR/docs/PV_DARK_HIGH.ipynb\", {'obsconditions': 'DARK', 'filename': 'PV_DARK_HIGH', 'flavor': 'SPARE', 'updatemws': False, 'downsample': 1, 'priorities': {'UNOBS': 1700, 'MORE_ZGOOD': 1000, 'MORE_ZWARN': 1000, 'DONE': 2, 'OBS': 1, 'DONOTOBSERVE': 0, 'MORE_MIDZQSO': 0}, 'numobs': 5}]\n",
       "  - [PV_DARK_MEDIUM,  47, \"See $SCND_DIR/docs/PV_DARK_MEDIUM.ipynb\", {'obsconditions': 'DARK', 'filename': 'PV_DARK_MEDIUM', 'flavor': 'SPARE', 'updatemws': False, 'downsample': 1, 'priorities': {'UNOBS': 1010, 'MORE_ZGOOD': 2, 'MORE_ZWARN': 2, 'DONE': 2, 'OBS': 1, 'DONOTOBSERVE': 0, 'MORE_MIDZQSO': 0}, 'numobs': 1}]\n",
       "  - [PV_DARK_LOW,     48, \"See $SCND_DIR/docs/PV_DARK_LOW.ipynb\", {'obsconditions': 'DARK', 'filename': 'PV_DARK_LOW', 'flavor': 'SPARE', 'updatemws': False, 'downsample': 1, 'priorities': {'UNOBS': 1005, 'MORE_ZGOOD': 2, 'MORE_ZWARN': 2, 'DONE': 2, 'OBS': 1, 'DONOTOBSERVE': 0, 'MORE_MIDZQSO': 0}, 'numobs': 1}]\n",
       "  - [GC_BRIGHT,       49, \"See $SCND_DIR/docs/GC_BRIGHT.txt\", {'obsconditions': 'BRIGHT', 'filename': 'GC_BRIGHT', 'flavor': 'SPARE', 'updatemws': True, 'downsample': 1, 'priorities': {'UNOBS': 1980, 'MORE_ZGOOD': 2, 'MORE_ZWARN': 2, 'DONE': 2, 'OBS': 1, 'DONOTOBSERVE': 0, 'MORE_MIDZQSO': 0}, 'numobs': 1}]\n",
       "  - [GC_DARK,         50, \"See $SCND_DIR/docs/GC_DARK.txt\", {'obsconditions': 'DARK', 'filename': 'GC_DARK', 'flavor': 'SPARE', 'updatemws': True, 'downsample': 1, 'priorities': {'UNOBS': 1980, 'MORE_ZGOOD': 2, 'MORE_ZWARN': 2, 'DONE': 2, 'OBS': 1, 'DONOTOBSERVE': 0, 'MORE_MIDZQSO': 0}, 'numobs': 1}]\n",
       "  - [DWF_BRIGHT_HI,   51, \"See $SCND_DIR/docs/DWF_BRIGHT_HI.txt\", {'obsconditions': 'BRIGHT', 'filename': 'DWF_BRIGHT_HI', 'flavor': 'SPARE', 'updatemws': True, 'downsample': 1, 'priorities': {'UNOBS': 1990, 'MORE_ZGOOD': 1970, 'MORE_ZWARN': 1970, 'DONE': 2, 'OBS': 1, 'DONOTOBSERVE': 0, 'MORE_MIDZQSO': 0}, 'numobs': 10}]\n",
       "  - [DWF_BRIGHT_LO,   52, \"See $SCND_DIR/docs/DWF_BRIGHT_LO.txt\", {'obsconditions': 'BRIGHT', 'filename': 'DWF_BRIGHT_LO', 'flavor': 'SPARE', 'updatemws': True, 'downsample': 1, 'priorities': {'UNOBS': 1980, 'MORE_ZGOOD': 1960, 'MORE_ZWARN': 1960, 'DONE': 2, 'OBS': 1, 'DONOTOBSERVE': 0, 'MORE_MIDZQSO': 0}, 'numobs': 10}]\n",
       "  - [DWF_DARK_HI,     53, \"See $SCND_DIR/docs/DWF_DARK_HI.txt\", {'obsconditions': 'DARK', 'filename': 'DWF_DARK_HI', 'flavor': 'SPARE', 'updatemws': True, 'downsample': 1, 'priorities': {'UNOBS': 1990, 'MORE_ZGOOD': 1970, 'MORE_ZWARN': 1970, 'DONE': 2, 'OBS': 1, 'DONOTOBSERVE': 0, 'MORE_MIDZQSO': 0}, 'numobs': 10}]\n",
       "  - [DWF_DARK_LO,     54, \"See $SCND_DIR/docs/DWF_DARK_LO.txt\", {'obsconditions': 'DARK', 'filename': 'DWF_DARK_LO', 'flavor': 'SPARE', 'updatemws': True, 'downsample': 1, 'priorities': {'UNOBS': 1980, 'MORE_ZGOOD': 1960, 'MORE_ZWARN': 1960, 'DONE': 2, 'OBS': 1, 'DONOTOBSERVE': 0, 'MORE_MIDZQSO': 0}, 'numobs': 10}]\n",
       "  - [BRIGHT_TOO_LOP,  59, \"Targets of Opportunity from rolling ledger\", {'obsconditions': 'BRIGHT|DARK', 'flavor': 'TOO', 'updatemws': False, 'priorities': {'UNOBS': 950, 'MORE_ZGOOD': 2, 'MORE_ZWARN': 2, 'DONE': 2, 'OBS': 1, 'DONOTOBSERVE': 0, 'MORE_MIDZQSO': 0}, 'numobs': 1}]\n",
       "  - [BRIGHT_TOO_HIP,  60, \"Targets of Opportunity from rolling ledger\", {'obsconditions': 'BRIGHT|DARK', 'flavor': 'TOO', 'updatemws': False, 'priorities': {'UNOBS': 9500, 'MORE_ZGOOD': 2, 'MORE_ZWARN': 2, 'DONE': 2, 'OBS': 1, 'DONOTOBSERVE': 0, 'MORE_MIDZQSO': 0}, 'numobs': 1}]\n",
       "  - [DARK_TOO_LOP,    61, \"Targets of Opportunity from rolling ledger\", {'obsconditions': 'DARK', 'flavor': 'TOO', 'updatemws': False, 'priorities': {'UNOBS': 950, 'MORE_ZGOOD': 2, 'MORE_ZWARN': 2, 'DONE': 2, 'OBS': 1, 'DONOTOBSERVE': 0, 'MORE_MIDZQSO': 0}, 'numobs': 1}]\n",
       "  - [DARK_TOO_HIP,    62, \"Targets of Opportunity from rolling ledger\", {'obsconditions': 'DARK', 'flavor': 'TOO', 'updatemws': False, 'priorities': {'UNOBS': 9500, 'MORE_ZGOOD': 2, 'MORE_ZWARN': 2, 'DONE': 2, 'OBS': 1, 'DONOTOBSERVE': 0, 'MORE_MIDZQSO': 0}, 'numobs': 1}]>"
      ]
     },
     "execution_count": 25,
     "metadata": {},
     "output_type": "execute_result"
    }
   ],
   "source": [
    "scnd_mask.names"
   ]
  },
  {
   "cell_type": "markdown",
   "id": "34442125-2b86-492b-97dc-a1d6298d6aaf",
   "metadata": {},
   "source": [
    "Now, we will explore the Healpix/ directory and see how to access the required coadded spectra"
   ]
  },
  {
   "cell_type": "markdown",
   "id": "2e6b6671-a6a1-413b-a40a-bfa25ab511e7",
   "metadata": {},
   "source": [
    "<a class=\"anchor\" id=\"hpx\"></a>\n",
    "## Healpix/ Directory\n",
    "\n",
    "This directory divides the coadded spectra of targets based on the healpix number and the observing conditions (dark/bright)."
   ]
  },
  {
   "cell_type": "code",
   "execution_count": 26,
   "id": "20613045-3e18-4bae-8117-a9d12d75ebba",
   "metadata": {},
   "outputs": [],
   "source": [
    "healpix_dir = f'{everest_dir}/healpix'"
   ]
  },
  {
   "cell_type": "code",
   "execution_count": 27,
   "id": "33d8c915-5245-4def-93cc-69de349ab82f",
   "metadata": {},
   "outputs": [
    {
     "data": {
      "text/plain": [
       "['main', 'tilepix.json', 'sv2', 'sv3', 'tilepix.fits', 'sv1']"
      ]
     },
     "execution_count": 27,
     "metadata": {},
     "output_type": "execute_result"
    }
   ],
   "source": [
    "os.listdir(healpix_dir)"
   ]
  },
  {
   "cell_type": "markdown",
   "id": "7b8b7e9f-388f-4e47-b9bc-d52168f1a0a8",
   "metadata": {},
   "source": [
    "The directories in `healpix` folder are divided based on the survey and then by the `FAPRGRM` (dark or bright)"
   ]
  },
  {
   "cell_type": "code",
   "execution_count": 28,
   "id": "844b1423-4a88-44a8-a358-9e4fcea04223",
   "metadata": {},
   "outputs": [
    {
     "data": {
      "text/plain": [
       "['bright', 'dark']"
      ]
     },
     "execution_count": 28,
     "metadata": {},
     "output_type": "execute_result"
    }
   ],
   "source": [
    "os.listdir(f'{healpix_dir}/{survey}')"
   ]
  },
  {
   "cell_type": "code",
   "execution_count": 29,
   "id": "84f06d07-d7fb-4f8e-891d-b28f7ae38164",
   "metadata": {
    "tags": []
   },
   "outputs": [
    {
     "data": {
      "text/plain": [
       "['100', '101', '102', '103', '104', '105', '106', '107', '108', '110']"
      ]
     },
     "execution_count": 29,
     "metadata": {},
     "output_type": "execute_result"
    }
   ],
   "source": [
    "sorted(os.listdir(f'{healpix_dir}/{survey}/{faprgrm}'))[0:10]"
   ]
  },
  {
   "cell_type": "markdown",
   "id": "ed571731-03c3-4794-b9f5-ae116945ff4c",
   "metadata": {},
   "source": [
    "<a class=\"anchor\" id=\"spectra_access\"></a>\n",
    "# Accessing and Plotting Spectra of a Single Object\n",
    "\n",
    "Under the healpix/ directory, the different healpix directories are grouped together in healpix subgroups. \n",
    "\n",
    "To access a particular coadded spectra, we need the following information:\n",
    "\n",
    "* **survey**: SURVEY that the target was observed in. This can be sv1, sv2, sv3, or main.\n",
    "* **faprgrm**: FIBER ASSIGNMENT PROGRAM. This is the planned observing conditions for the target. It can be dark or bright. In the case of sv1, we also have \"other\" or \"backup\".\n",
    "* **healpix**: HEALPIX Number, which depends on the position of the object in the sky.\n",
    "\n",
    "The coadd filepath can be created using this -\n",
    "```\n",
    "{healpix_directory}/{survey}/{faprgrm}/{healpix_group}/{healpix}/coadd-{survey}-{faprgrm}-{healpix}.fits\n",
    "```\n",
    "The healpix group can be derived from the healpix number. "
   ]
  },
  {
   "cell_type": "code",
   "execution_count": 30,
   "id": "c132f452-9231-4452-a3b6-d893468f7f85",
   "metadata": {},
   "outputs": [],
   "source": [
    "# Note that the healpix column in the zpix-* catalogs (if present) are not always correct. \n",
    "# This will be fixed in Fuji\n",
    "# If you have RA and DEC of a target, you can compute the healpix using the following code:\n",
    "\n",
    "hpx = np.array(radec2pix(nside = 64, ra = zcat['TARGET_RA'].data, dec = zcat['TARGET_DEC'].data)).astype(str)\n",
    "# The hpx values are integer values, but have been converted here into string (for easier access to the file path)"
   ]
  },
  {
   "cell_type": "code",
   "execution_count": 31,
   "id": "e9feff3e-89b0-4e1f-b0f7-368f0afeb4cb",
   "metadata": {},
   "outputs": [],
   "source": [
    "# Selecting a random object based using the index - \n",
    "targets = zcat['TARGETID'].data\n",
    "index = 10\n",
    "\n",
    "# Let us explore the target directory\n",
    "# However, it is easier to keep it like this, if we want to explore other survey targets\n",
    "# Note: survey and faprgrm have been defined earlier.\n",
    "tgt_dir = f'{healpix_dir}/{survey}/{faprgrm}/{hpx[index][:-2]}/{hpx[index]}'"
   ]
  },
  {
   "cell_type": "code",
   "execution_count": 32,
   "id": "bf10acc1-295d-473f-b94a-aa820e12ac5c",
   "metadata": {},
   "outputs": [
    {
     "data": {
      "text/plain": [
       "['spectra-main-bright-10001.fits',\n",
       " 'logs',\n",
       " 'redrock-main-bright-10001.fits',\n",
       " 'coadd-main-bright-10001.fits',\n",
       " 'rrdetails-main-bright-10001.h5']"
      ]
     },
     "execution_count": 32,
     "metadata": {},
     "output_type": "execute_result"
    }
   ],
   "source": [
    "os.listdir(tgt_dir)"
   ]
  },
  {
   "cell_type": "markdown",
   "id": "c3d540e1-30b4-40d3-b766-3f2b70572d0c",
   "metadata": {},
   "source": [
    "In every directory, we have the following files: \n",
    "\n",
    "* **spectra-{survey}-{fapgrm}-{healpix}.fits**: This file contains all the individual exposure spectra that go into the coadds.\n",
    "* **coadd-{survey}-{fapgrm}-{healpix}.fits**: This file contains the coadded spectra of the targets\n",
    "* **redrock-{survey}-{fapgrm}-{healpix}.fits**: This file contains the redshift information obtained from the redrock.\n",
    "* **rrdetails-{survey}-{faprgrm}-{healpix}.h5**: These files contain information about the templates used by redrock.\n",
    "* **qso_mgii-{survey}-{fapgrm}-{healpix}.fits**: This file contains the redshift information after using MgII selection for QSOs. This is run on the redrock output. For Everest this only exists if QSO targets are in the redshift file. \n",
    "* **qso_qn-{survey}-{fapgrm}-{healpix}.fits**: This file contains the redshift information after running the redrock output through QuasarNet. For Everest this only exists if QSO targets are in the redshift file. \n",
    "* **logs**: Directory containing logs from the processing of the data. You can safely ignore this.\n",
    "\n",
    "Let us explore the coadd* and redrock* files"
   ]
  },
  {
   "cell_type": "markdown",
   "id": "7ff57b70-08e8-473b-9016-bc34020d6467",
   "metadata": {},
   "source": [
    "### Healpix based coadd file"
   ]
  },
  {
   "cell_type": "code",
   "execution_count": 33,
   "id": "39022a22-def0-4d47-aa14-d07f107132a3",
   "metadata": {},
   "outputs": [],
   "source": [
    "# Filename - \n",
    "coadd_filename = f'coadd-{survey}-{faprgrm}-{hpx[index]}.fits'"
   ]
  },
  {
   "cell_type": "code",
   "execution_count": 34,
   "id": "3c491599-978d-449d-b2c0-2fd0926abda5",
   "metadata": {},
   "outputs": [
    {
     "name": "stdout",
     "output_type": "stream",
     "text": [
      "Filename: /global/cfs/cdirs/desi/spectro/redux/everest/healpix/main/bright/100/10001/coadd-main-bright-10001.fits\n",
      "No.    Name      Ver    Type      Cards   Dimensions   Format\n",
      "  0  PRIMARY       1 PrimaryHDU      39   ()      \n",
      "  1  FIBERMAP      1 BinTableHDU    146   460R x 67C   [K, J, D, D, E, E, E, K, B, 3A, D, J, I, J, J, 4A, E, E, E, E, E, E, I, K, 2A, E, E, E, E, 8A, E, E, E, E, E, E, E, E, E, E, E, E, E, E, E, 1A, K, K, K, K, K, K, D, D, I, E, I, I, E, E, E, E, D, E, D, E, E]   \n",
      "  2  EXP_FIBERMAP    1 BinTableHDU     64   460R x 26C   [K, J, D, J, J, D, J, D, I, J, K, J, J, E, E, E, D, D, K, D, D, D, D, D, D, D]   \n",
      "  3  B_WAVELENGTH    1 ImageHDU        10   (2751,)   float64   \n",
      "  4  B_FLUX        1 ImageHDU        11   (2751, 460)   float32   \n",
      "  5  B_IVAR        1 ImageHDU        11   (2751, 460)   float32   \n",
      "  6  B_MASK        1 ImageHDU        12   (2751, 460)   int32 (rescales to uint32)   \n",
      "  7  B_RESOLUTION    1 ImageHDU        11   (2751, 11, 460)   float32   \n",
      "  8  R_WAVELENGTH    1 ImageHDU        10   (2326,)   float64   \n",
      "  9  R_FLUX        1 ImageHDU        11   (2326, 460)   float32   \n",
      " 10  R_IVAR        1 ImageHDU        11   (2326, 460)   float32   \n",
      " 11  R_MASK        1 ImageHDU        12   (2326, 460)   int32 (rescales to uint32)   \n",
      " 12  R_RESOLUTION    1 ImageHDU        11   (2326, 11, 460)   float32   \n",
      " 13  Z_WAVELENGTH    1 ImageHDU        10   (2881,)   float64   \n",
      " 14  Z_FLUX        1 ImageHDU        11   (2881, 460)   float32   \n",
      " 15  Z_IVAR        1 ImageHDU        11   (2881, 460)   float32   \n",
      " 16  Z_MASK        1 ImageHDU        12   (2881, 460)   int32 (rescales to uint32)   \n",
      " 17  Z_RESOLUTION    1 ImageHDU        11   (2881, 11, 460)   float32   \n",
      " 18  SCORES        1 BinTableHDU     96   460R x 42C   [K, E, E, E, E, E, E, E, E, E, E, E, E, E, E, E, E, E, E, E, E, E, E, E, E, E, E, E, E, E, E, E, E, E, E, E, E, E, E, E, E, E]   \n"
     ]
    }
   ],
   "source": [
    "h_coadd = fits.open(f'{tgt_dir}/{coadd_filename}')\n",
    "h_coadd.info()"
   ]
  },
  {
   "cell_type": "markdown",
   "id": "27380032-c2b1-4f14-a14f-e7abca50b26d",
   "metadata": {},
   "source": [
    "We can see that every coadd* file has 18 extensions:\n",
    "* **FIBERMAP** consists of information about the different targets\n",
    "* **EXP_FIBERMAP** contains the exposure information of the targets\n",
    "* For every camera (B,R,Z), we have wavelength, flux, inverse variance and resolution arrays for the individual targets.\n",
    "* **SCORES** contains more information about the coadds of the target spectra\n",
    "\n",
    "Let us plot the position of different sources in the sky and overplot the different `Milky Way Survey (MWS)` sources"
   ]
  },
  {
   "cell_type": "code",
   "execution_count": 35,
   "id": "e5f5a1f8-e9f6-4441-9ef2-9aa4751b7599",
   "metadata": {},
   "outputs": [],
   "source": [
    "fm = Table(h_coadd['FIBERMAP'].data)\n",
    "is_mws = (fm['DESI_TARGET'] & desi_mask['MWS_ANY']) != 0\n",
    "h_coadd.close()"
   ]
  },
  {
   "cell_type": "code",
   "execution_count": 36,
   "id": "4f27bc70-3ebe-47f9-89ac-b14a7c567ffc",
   "metadata": {},
   "outputs": [
    {
     "data": {
      "text/plain": [
       "<matplotlib.legend.Legend at 0x2aab1d221cd0>"
      ]
     },
     "execution_count": 36,
     "metadata": {},
     "output_type": "execute_result"
    },
    {
     "data": {
      "image/png": "[encoded data removed]",
      "text/plain": [
       "<Figure size 576x576 with 1 Axes>"
      ]
     },
     "metadata": {
      "needs_background": "light"
     },
     "output_type": "display_data"
    }
   ],
   "source": [
    "plt.figure(figsize = (8, 8))\n",
    "\n",
    "plt.scatter(fm['TARGET_RA'], fm['TARGET_DEC'], color = 'grey', s = 50, label = 'All')\n",
    "plt.scatter(fm['TARGET_RA'][is_mws], fm['TARGET_DEC'][is_mws], color = 'r', s = 50, marker = 'x', label = 'MWS')\n",
    "plt.xlabel('R.A. (deg)')\n",
    "plt.ylabel('DEC (deg)')\n",
    "plt.legend()"
   ]
  },
  {
   "cell_type": "markdown",
   "id": "fc892700-e554-4aac-be07-df96737b48e1",
   "metadata": {},
   "source": [
    "### Healpix based redrock file"
   ]
  },
  {
   "cell_type": "code",
   "execution_count": 37,
   "id": "a9d807a7-c85d-4622-807d-1151edc555bf",
   "metadata": {},
   "outputs": [],
   "source": [
    "# Filename -\n",
    "z_filename = f'redrock-{survey}-{faprgrm}-{hpx[index]}.fits'"
   ]
  },
  {
   "cell_type": "code",
   "execution_count": 38,
   "id": "e1c827ad-a84b-4c1b-bac5-abc94eb3c957",
   "metadata": {},
   "outputs": [
    {
     "name": "stdout",
     "output_type": "stream",
     "text": [
      "Filename: /global/cfs/cdirs/desi/spectro/redux/everest/healpix/main/bright/100/10001/redrock-main-bright-10001.fits\n",
      "No.    Name      Ver    Type      Cards   Dimensions   Format\n",
      "  0  PRIMARY       1 PrimaryHDU      25   ()      \n",
      "  1  REDSHIFTS     1 BinTableHDU     31   460R x 11C   [K, D, 10D, D, D, K, K, 6A, 20A, K, D]   \n",
      "  2  FIBERMAP      1 BinTableHDU    143   460R x 67C   [K, J, D, D, E, E, E, K, B, 3A, D, J, I, J, J, 4A, E, E, E, E, E, E, I, K, 2A, E, E, E, E, 8A, E, E, E, E, E, E, E, E, E, E, E, E, E, E, E, 1A, K, K, K, K, K, K, D, D, I, E, I, I, E, E, E, E, D, E, D, E, E]   \n",
      "  3  EXP_FIBERMAP    1 BinTableHDU     61   460R x 26C   [K, J, D, J, J, D, J, D, I, J, K, J, J, E, E, E, D, D, K, D, D, D, D, D, D, D]   \n",
      "  4  TSNR2         1 BinTableHDU     75   460R x 33C   [K, E, E, E, E, E, E, E, E, E, E, E, E, E, E, E, E, E, E, E, E, E, E, E, E, E, E, E, E, E, E, E, E]   \n"
     ]
    }
   ],
   "source": [
    "h_rr = fits.open(f'{tgt_dir}/{z_filename}')\n",
    "h_rr.info()\n",
    "h_rr.close()"
   ]
  },
  {
   "cell_type": "markdown",
   "id": "b7ca1d89-e67a-42aa-97d2-8c1866385377",
   "metadata": {},
   "source": [
    "The redrock* file has 4 extensions:\n",
    "\n",
    "* **REDSHIFTS** consists of redshift information and outputs from redrock.\n",
    "* **FIBERMAP** is similar to the one in coadd* file and has information about the targets.\n",
    "* **EXP_FIBERMAP** is again similar to the one in the coadd* file and has exposure information about the targets\n",
    "* **TSNR2** contains information about the expected SNR measurements for the targets\n",
    "\n",
    "You can in principle use these files directly and write your own code to access the spectra. However, `desispec` also provides a function for accessing the coadded spectra as shown below."
   ]
  },
  {
   "cell_type": "markdown",
   "id": "5f825961-0f69-41b0-9ccf-7ef73f8f15e6",
   "metadata": {},
   "source": [
    "<a class=\"anchor\" id=\"spectra\"></a>\n",
    "### Working with Coadded Spectra using _desispec.io.read_spectra()_"
   ]
  },
  {
   "cell_type": "code",
   "execution_count": 39,
   "id": "8e0b9d8b-0b6e-463f-8a2c-bc690724e713",
   "metadata": {},
   "outputs": [
    {
     "name": "stdout",
     "output_type": "stream",
     "text": [
      "INFO:spectra.py:282:read_spectra: iotime 0.655 sec to read coadd-main-bright-10001.fits at 2021-11-30T21:08:17.169732\n"
     ]
    }
   ],
   "source": [
    "# Using desispec to read the spectra\n",
    "\n",
    "coadd_obj = desispec.io.read_spectra(f'{tgt_dir}/{coadd_filename}')\n",
    "coadd_tgts = coadd_obj.target_ids().data"
   ]
  },
  {
   "cell_type": "code",
   "execution_count": 40,
   "id": "0fb0b1b6-ada9-4e5e-8055-2c575620e2b2",
   "metadata": {},
   "outputs": [],
   "source": [
    "# Selecting the particular spectra of the targetid\n",
    "\n",
    "row = (coadd_tgts == targets[index])\n",
    "coadd_spec = coadd_obj[row]"
   ]
  },
  {
   "cell_type": "code",
   "execution_count": 41,
   "id": "bdf8b40c-a45b-4c23-93f4-55a4ecd17d69",
   "metadata": {},
   "outputs": [
    {
     "data": {
      "text/plain": [
       "{'b': array([3600. , 3600.8, 3601.6, ..., 5798.4, 5799.2, 5800. ]),\n",
       " 'r': array([5760. , 5760.8, 5761.6, ..., 7618.4, 7619.2, 7620. ]),\n",
       " 'z': array([7520. , 7520.8, 7521.6, ..., 9822.4, 9823.2, 9824. ])}"
      ]
     },
     "execution_count": 41,
     "metadata": {},
     "output_type": "execute_result"
    }
   ],
   "source": [
    "coadd_spec.wave"
   ]
  },
  {
   "cell_type": "code",
   "execution_count": 42,
   "id": "4ff201ed-1973-4489-a60f-d44556e5c0c7",
   "metadata": {},
   "outputs": [
    {
     "data": {
      "text/plain": [
       "{'b': array([[-19.34148598,   3.243855  ,  26.75823975, ...,   2.02868319,\n",
       "           2.73550797,   1.71373963]]),\n",
       " 'r': array([[-6.27108145, 19.6212635 , -6.39838219, ...,  0.81333429,\n",
       "          2.35510707, -5.46396875]]),\n",
       " 'z': array([[2.75261664, 2.67584538, 1.66051161, ..., 2.20494103, 2.96566939,\n",
       "         1.97142506]])}"
      ]
     },
     "execution_count": 42,
     "metadata": {},
     "output_type": "execute_result"
    }
   ],
   "source": [
    "coadd_spec.flux"
   ]
  },
  {
   "cell_type": "code",
   "execution_count": 43,
   "id": "e5b120ea-15bc-49ed-9cd7-d7fd3b2f26be",
   "metadata": {},
   "outputs": [
    {
     "data": {
      "image/png": "[encoded data removed]",
      "text/plain": [
       "<Figure size 1440x432 with 1 Axes>"
      ]
     },
     "metadata": {
      "needs_background": "light"
     },
     "output_type": "display_data"
    }
   ],
   "source": [
    "# Plotting this spectra -\n",
    "\n",
    "plt.figure(figsize = (20, 6))\n",
    "# Plot the spectrum from each arm (B,R,Z) in blue, green, red\n",
    "\n",
    "plt.plot(coadd_spec.wave['b'], coadd_spec.flux['b'][0], color = 'b', alpha = 0.5)\n",
    "plt.plot(coadd_spec.wave['r'], coadd_spec.flux['r'][0], color = 'g', alpha = 0.5)\n",
    "plt.plot(coadd_spec.wave['z'], coadd_spec.flux['z'][0], color = 'r', alpha = 0.5)\n",
    "# Over-plotting smoothed spectra in black for all the three arms\n",
    "plt.plot(coadd_spec.wave['b'], convolve(coadd_spec.flux['b'][0], Gaussian1DKernel(5)), color = 'k')\n",
    "plt.plot(coadd_spec.wave['r'], convolve(coadd_spec.flux['r'][0], Gaussian1DKernel(5)), color = 'k')\n",
    "plt.plot(coadd_spec.wave['z'], convolve(coadd_spec.flux['z'][0], Gaussian1DKernel(5)), color = 'k')\n",
    "plt.xlim([3500, 9900])\n",
    "plt.ylim([-10,50])     ## You can change this depending on the spectra\n",
    "plt.xlabel('$\\lambda$ [$\\AA$]')\n",
    "plt.ylabel('$F_{\\lambda}$ [$10^{-17} erg\\ s^{-1}\\ cm^{-2}\\ \\AA^{-1}$]')\n",
    "plt.show()"
   ]
  },
  {
   "cell_type": "markdown",
   "id": "127304f7-6252-4599-9e69-96363e6c9379",
   "metadata": {},
   "source": [
    "The coadded spectra available is divided based on the observed (B,R,Z) camera. We can obtain the joint spectrum using the available `coaddition.coadd_cameras` function."
   ]
  },
  {
   "cell_type": "code",
   "execution_count": 44,
   "id": "f34b6018-fe2d-4913-9cdb-f64692ec94d3",
   "metadata": {},
   "outputs": [],
   "source": [
    "# Combined Spectra - \n",
    "\n",
    "spec_combined = coaddition.coadd_cameras(coadd_spec)"
   ]
  },
  {
   "cell_type": "code",
   "execution_count": 45,
   "id": "539443bc-abd8-49f3-a7e4-721637871291",
   "metadata": {},
   "outputs": [
    {
     "data": {
      "text/plain": [
       "{'brz': array([3600. , 3600.8, 3601.6, ..., 9822.4, 9823.2, 9824. ])}"
      ]
     },
     "execution_count": 45,
     "metadata": {},
     "output_type": "execute_result"
    }
   ],
   "source": [
    "spec_combined.wave"
   ]
  },
  {
   "cell_type": "code",
   "execution_count": 46,
   "id": "81dce04c-54c5-42ac-9b8d-7d070dec0aaa",
   "metadata": {},
   "outputs": [
    {
     "data": {
      "text/plain": [
       "{'brz': array([[-19.34148598,   3.243855  ,  26.75823975, ...,   2.20494103,\n",
       "           2.96566939,   1.97142506]])}"
      ]
     },
     "execution_count": 46,
     "metadata": {},
     "output_type": "execute_result"
    }
   ],
   "source": [
    "spec_combined.flux"
   ]
  },
  {
   "cell_type": "code",
   "execution_count": 47,
   "id": "1136d0c0-7b59-4323-b557-188a63910e85",
   "metadata": {},
   "outputs": [
    {
     "data": {
      "image/png": "[encoded data removed]",
      "text/plain": [
       "<Figure size 1440x432 with 1 Axes>"
      ]
     },
     "metadata": {
      "needs_background": "light"
     },
     "output_type": "display_data"
    }
   ],
   "source": [
    "# Plotting this combined spectra - \n",
    "\n",
    "# Plotting this spectra -\n",
    "\n",
    "plt.figure(figsize = (20, 6))\n",
    "# Plot the combined spectrum in maroon\n",
    "plt.plot(spec_combined.wave['brz'], spec_combined.flux['brz'][0], color = 'maroon', alpha = 0.5)\n",
    "# Over-plotting smoothed spectra \n",
    "plt.plot(spec_combined.wave['brz'], convolve(spec_combined.flux['brz'][0], Gaussian1DKernel(5)), color = 'k', lw = 2.0)\n",
    "plt.xlim([3500, 9900])\n",
    "plt.ylim([-10,50])\n",
    "plt.xlabel('$\\lambda$ [$\\AA$]')\n",
    "plt.ylabel('$F_{\\lambda}$ [$10^{-17} erg\\ s^{-1}\\ cm^{-2}\\ \\AA^{-1}$]')\n",
    "plt.show()"
   ]
  },
  {
   "cell_type": "markdown",
   "id": "e8d6c9ab-90de-48d4-932a-6f95ac5cef38",
   "metadata": {},
   "source": [
    "---"
   ]
  },
  {
   "cell_type": "markdown",
   "id": "5b044dd9-c502-4902-80a1-f4541035af40",
   "metadata": {},
   "source": [
    "<a class=\"anchor\" id=\"bits\"></a>\n",
    "# Brief Overview of Bits, Bitmasks, and Flags\n",
    "\n",
    "Bitmasks are often used in astronomy for storing targeting or quality cut information. It is therefore important to learn how to work with them. <br/>\n",
    "The idea of using bitmasks depends on the binary representation, where each bit can either take values of `0` or `1`. Each bit in the binary number is allotted a property, which can either be set to be TRUE (1) or FALSE (0). In other words, these bits have encoded information called \"flags\". Since all integers are stored as sets of bits, these strings of bits are often displayed in their base 10 representation.\n",
    "\n",
    "For example, if there is a bitmask with three bits (assuming each bit is related to some target information), then it can take the following values - \n",
    "* $000$ - $2^{2}\\times0$ + $2^{1}\\times0$ + $2^{0}\\times0$ = $0$\n",
    "* $001$ - $2^{2}\\times0$ + $2^{1}\\times0$ + $2^{0}\\times1$ = $1$\n",
    "* $010$ - $2^{2}\\times0$ + $2^{1}\\times1$ + $2^{0}\\times0$ = $2$\n",
    "* $011$ - $2^{2}\\times0$ + $2^{1}\\times1$ + $2^{0}\\times1$ = $3$\n",
    "* $100$ - $2^{2}\\times1$ + $2^{1}\\times0$ + $2^{0}\\times0$ = $4$\n",
    "* $101$ - $2^{2}\\times1$ + $2^{1}\\times0$ + $2^{0}\\times1$ = $5$\n",
    "* $110$ - $2^{2}\\times1$ + $2^{1}\\times1$ + $2^{0}\\times0$ = $6$\n",
    "* $111$ - $2^{2}\\times1$ + $2^{1}\\times1$ + $2^{0}\\times1$ = $7$\n",
    "\n",
    "Thus, a n-bit number can have an integer value from 0 to $2^{n}~-~1$. Typical flagging columns are either 32 or 64 bits.\n",
    "\n",
    "### Using Bitmasks to get Flag Information\n",
    "\n",
    "To check whether a particular bit is set or not, we use \"bitwise and\" on the bitmask. For example, lets say we have flag = 5, and we want to see which bits are set - \n",
    "\n",
    "| Flag Value |   Bit 2   |    Bit 1    |     Bit 0    |    Bitwise &    |\n",
    "|------------|-----------|-------------|--------------|-----------------|\n",
    "|  flag = 5  |     1     |      0      |       1      |       --        |\n",
    "|$2^{0}$ = 1 |     0     |      0      |       1      | (flag & 1 != 0) |\n",
    "|$2^{1}$ = 2 |     0     |      1      |       0      | (flag & 2 == 0) |\n",
    "|$2^{2}$ = 4 |     1     |      0      |       0      | (flag & 4 != 0) |\n",
    "\n",
    "To check if bit 'm' is set in a 'flag_value', then we check (flag_value & $2^{m}$) is True or False. If it is True, then bit 'm' is set. If it is False, then bit 'm' is not set. "
   ]
  },
  {
   "cell_type": "markdown",
   "id": "1a654e45-71a6-4292-958a-022589023dec",
   "metadata": {},
   "source": [
    "---"
   ]
  }
 ],
 "metadata": {
  "kernelspec": {
   "display_name": "DESI master",
   "language": "python",
   "name": "desi-master"
  },
  "language_info": {
   "codemirror_mode": {
    "name": "ipython",
    "version": 3
   },
   "file_extension": ".py",
   "mimetype": "text/x-python",
   "name": "python",
   "nbconvert_exporter": "python",
   "pygments_lexer": "ipython3",
   "version": "3.8.3"
  }
 },
 "nbformat": 4,
 "nbformat_minor": 5
}
