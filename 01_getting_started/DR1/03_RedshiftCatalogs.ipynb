{
 "cells": [
  {
   "cell_type": "markdown",
   "id": "911f473f-803c-43a4-b446-63ed679a2a3a",
   "metadata": {},
   "source": [
    "# Redshift Catalogs\n",
    "\n",
    "**TODO**: extract material from `orig/intro_to_DESI_files.ipynb` and `orig/analyze_Zcat.ipynb` to provide an introduction\n",
    "to DESI redshift catalogs.  This could cover\n",
    "\n",
    "  * where the redshift catalogs are and which one to use (review from 02_DataOrganization.ipynb if that remains)\n",
    "  * how to read a subset of columns efficiently\n",
    "  * how to subselect based upon targeting class or other properties\n",
    "  * basic quality cuts\n",
    "\n",
    "Worked examples could include N(z) histograms or counting target classes."
   ]
  },
  {
   "cell_type": "code",
   "execution_count": null,
   "id": "743b0ca2-d9e4-48a5-9839-2e811dd99a67",
   "metadata": {},
   "outputs": [],
   "source": []
  }
 ],
 "metadata": {
  "kernelspec": {
   "display_name": "DESI main",
   "language": "python",
   "name": "desi-main"
  },
  "language_info": {
   "codemirror_mode": {
    "name": "ipython",
    "version": 3
   },
   "file_extension": ".py",
   "mimetype": "text/x-python",
   "name": "python",
   "nbconvert_exporter": "python",
   "pygments_lexer": "ipython3",
   "version": "3.10.14"
  }
 },
 "nbformat": 4,
 "nbformat_minor": 5
}
