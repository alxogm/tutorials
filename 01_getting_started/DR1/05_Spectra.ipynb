{
 "cells": [
  {
   "cell_type": "markdown",
   "id": "6c263c27-d42a-456f-906e-ab6bfe67f4a7",
   "metadata": {},
   "source": [
    "# Working with Spectra\n",
    "\n",
    "**TODO**: extract material from `orig/intro_to_DESI_files.ipynb` and `orig/analyze_Zcat.ipynb` to provide an introduction\n",
    "to DESI spectra.  This could cover\n",
    "  * Where are the spectra?  Which should I use (coadd vs. spectra, tiles vs. healpix)? (review from 02_DataOrganization.ipynb if that remains)\n",
    "  * The coadd file format without using DESI tools\n",
    "  * Helper functions like desispec.io.read_spectra\n",
    "  \n",
    "Worked examples could include reading and plotting a spectrum.\n",
    "\n",
    "Topics that could be covered here, or maybe in a digging deeper tutorial:\n",
    "  * Other files in the same directory, e.g. reading redrock and emline files to match data with the spectra\n",
    "  * sub-selecting spectra\n",
    "  * coadding spectra across cameras\n",
    "  * stacking multiple spectra objects into one\n",
    "\n",
    "Some of that is in the `orig/subselect_spectra.ipynb` tutorial."
   ]
  },
  {
   "cell_type": "code",
   "execution_count": null,
   "id": "d9e174fb-4420-4a7e-b203-d8e0cffef02e",
   "metadata": {},
   "outputs": [],
   "source": []
  }
 ],
 "metadata": {
  "kernelspec": {
   "display_name": "DESI main",
   "language": "python",
   "name": "desi-main"
  },
  "language_info": {
   "codemirror_mode": {
    "name": "ipython",
    "version": 3
   },
   "file_extension": ".py",
   "mimetype": "text/x-python",
   "name": "python",
   "nbconvert_exporter": "python",
   "pygments_lexer": "ipython3",
   "version": "3.10.14"
  }
 },
 "nbformat": 4,
 "nbformat_minor": 5
}
