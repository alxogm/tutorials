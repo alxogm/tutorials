{
 "cells": [
  {
   "cell_type": "markdown",
   "id": "0e021f95-f3f5-4e43-93f1-af231e16a7a8",
   "metadata": {},
   "source": [
    "# From Redshift Catalogs to Spectra\n",
    "\n",
    "**TODO**: Provide a worked example of\n",
    "  * Reading a redshift catalog\n",
    "  * Subselecting to some targets of interest\n",
    "  * Identify which files contain the spectra for those targets\n",
    "  * Read those files\n",
    "  * Plot some spectra"
   ]
  },
  {
   "cell_type": "code",
   "execution_count": null,
   "id": "8ef21a98-f98b-4e92-9906-8ac59c3eadbb",
   "metadata": {},
   "outputs": [],
   "source": []
  }
 ],
 "metadata": {
  "kernelspec": {
   "display_name": "DESI main",
   "language": "python",
   "name": "desi-main"
  },
  "language_info": {
   "codemirror_mode": {
    "name": "ipython",
    "version": 3
   },
   "file_extension": ".py",
   "mimetype": "text/x-python",
   "name": "python",
   "nbconvert_exporter": "python",
   "pygments_lexer": "ipython3",
   "version": "3.10.14"
  }
 },
 "nbformat": 4,
 "nbformat_minor": 5
}
