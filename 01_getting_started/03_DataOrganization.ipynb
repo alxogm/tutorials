{
 "cells": [
  {
   "cell_type": "markdown",
   "id": "b2cedf5e-7ed3-44ef-9d57-fed3e412144d",
   "metadata": {},
   "source": [
    "# DESI Data Organization "
   ]
  },
  {
   "cell_type": "markdown",
   "id": "d59ff2b7-249b-4e07-98a4-bd85837fd971",
   "metadata": {},
   "source": [
    "# Overview\n",
    "\n",
    "In this notebook, we will explore the DESI data file structure under a spectroscopic production run. Following notebooks will show more details about reading and using the files."
   ]
  },
  {
   "cell_type": "markdown",
   "id": "ea7de2f3-76f8-49e7-b783-459f575bc09f",
   "metadata": {},
   "source": [
    "# Imports"
   ]
  },
  {
   "cell_type": "code",
   "execution_count": 1,
   "id": "8d73df22-ed6d-4992-b65e-38508e7baa22",
   "metadata": {
    "tags": []
   },
   "outputs": [],
   "source": [
    "# import some helpful python packages \n",
    "import os\n",
    "import glob\n",
    "import numpy as np\n",
    "\n",
    "import fitsio\n",
    "from astropy.table import Table\n",
    "\n",
    "import matplotlib \n",
    "import matplotlib.pyplot as plt\n",
    "\n",
    "# plt.style.use('../mpl/desi.mplstyle')"
   ]
  },
  {
   "cell_type": "code",
   "execution_count": 2,
   "id": "0bb55fd8-3e6d-4ded-a595-cbf8c0598775",
   "metadata": {
    "tags": []
   },
   "outputs": [],
   "source": [
    "# import DESI related modules - \n",
    "from desimodel.footprint import radec2pix      # For getting healpix values\n",
    "import desispec.io                             # Input/Output functions related to DESI spectra"
   ]
  },
  {
   "cell_type": "markdown",
   "id": "93d3a27c-c38e-4baa-b76f-28b77312a104",
   "metadata": {},
   "source": [
    "# Spectroscopic Production Directory\n",
    "\n",
    "First we'll set the location of the \"loa\" production directory on disk.\n",
    "We do this once at the beginning to make it easier to switch to other productions\n",
    "later."
   ]
  },
  {
   "cell_type": "code",
   "execution_count": 3,
   "id": "642c2770-0c94-4fda-984e-913bc7a86e43",
   "metadata": {
    "tags": []
   },
   "outputs": [
    {
     "name": "stdout",
     "output_type": "stream",
     "text": [
      "/dvs_ro/cfs/cdirs/desi/spectro/redux/iron\n"
     ]
    }
   ],
   "source": [
    "# Release directory path\n",
    "\n",
    "specprod = 'iron'    # production name for the final Year 3 (Y3) production\n",
    "desi_root = os.environ['DESI_ROOT']\n",
    "desi_root_ro = os.environ['DESI_ROOT_READONLY']\n",
    "specprod_dir = f'{desi_root_ro}/spectro/redux/{specprod}'\n",
    "print(specprod_dir)"
   ]
  },
  {
   "cell_type": "markdown",
   "id": "6e69263c-4060-449c-b209-a4995fd4a90b",
   "metadata": {},
   "source": [
    "**Pro Tip** (NERSC-specific): in this case we are using `$DESI_ROOT_READONLY` which is a faster read-only mount\n",
    "of the DESI directory tree, with `$DESI_ROOT` being the normal read/write location.  For exploratory work from a Jupyter notebook the performance gain isn't significant, but it can be big win when scaling up to larger analyses so it is good practice to use `$DESI_ROOT_READONLY` for input files that you are only reading, like the spectroscopic production data.\n",
    "\n",
    "**Pro Tip** (NERSC-specific): We are also using `$DESI_ROOT_READONLY` instead of hardcoding `/dvs_ro/cfs/cdirs/desi/public/dr1` to make the notebook more portable to other locations, or future NERSC systems that might mount directories differently."
   ]
  },
  {
   "cell_type": "code",
   "execution_count": 4,
   "id": "64dbb7a5-1d92-40f7-aa41-1782c913ca1d",
   "metadata": {
    "tags": []
   },
   "outputs": [
    {
     "data": {
      "text/plain": [
       "['calibnight',\n",
       " 'exposure_tables',\n",
       " 'exposures',\n",
       " 'exposures-iron.csv',\n",
       " 'exposures-iron.fits',\n",
       " 'healpix',\n",
       " 'inventory-iron.txt',\n",
       " 'preproc',\n",
       " 'processing_tables',\n",
       " 'redux_iron.sha256sum',\n",
       " 'run',\n",
       " 'tiles',\n",
       " 'tiles-iron.csv',\n",
       " 'tiles-iron.fits',\n",
       " 'zcatalog']"
      ]
     },
     "execution_count": 4,
     "metadata": {},
     "output_type": "execute_result"
    }
   ],
   "source": [
    "# List everything in this directory\n",
    "sorted(os.listdir(specprod_dir))"
   ]
  },
  {
   "cell_type": "markdown",
   "id": "1456859b-ed8b-494e-bce1-56a18b1ff309",
   "metadata": {},
   "source": [
    "### Important files to Note:\n",
    "\n",
    "1. tiles-{specprod}.fits (or .csv) -- This contains information about the observed tiles.\n",
    "2. exposures-{specprod}.fits (or .csv) -- This consists of information about individual exposures of the targets.\n",
    "3. zcatalog/ Directory -- This directory contains all of the redshift catalogs.\n",
    "4. tiles/ Directory -- This directory holds all of the per-tile coadds and redshifts, in various flavors.\n",
    "5. healpix/ Directory -- This directory holds all of the coadds and redshifts based on sky location (healpix)."
   ]
  },
  {
   "cell_type": "markdown",
   "id": "4f00d2d0-603c-4361-be1d-d7baa1d2409f",
   "metadata": {},
   "source": [
    "## tiles-{specprod}.fits\n",
    "This file tells you what tiles were observed, what `SURVEY` and `PROGRAM` they were observed for, some observing conditions, and three estimates of the \"effective time\" (in seconds) that each tile acquired. The time estimate used for survey operations decisions is `EFFTIME_SPEC`. The datamodel for this table is described [here](https://desidatamodel.readthedocs.io/en/latest/DESI_SPECTRO_REDUX/SPECPROD/tiles-SPECPROD.html)."
   ]
  },
  {
   "cell_type": "code",
   "execution_count": 5,
   "id": "221e94d3-a7de-4053-b097-17b3327ec4d6",
   "metadata": {
    "tags": []
   },
   "outputs": [
    {
     "name": "stdout",
     "output_type": "stream",
     "text": [
      "/dvs_ro/cfs/cdirs/desi/spectro/redux/iron/tiles-iron.csv has columns:\n",
      "['TILEID', 'SURVEY', 'PROGRAM', 'FAPRGRM', 'FAFLAVOR', 'NEXP', 'EXPTIME', 'TILERA', 'TILEDEC', 'EFFTIME_ETC', 'EFFTIME_SPEC', 'EFFTIME_GFA', 'GOALTIME', 'OBSSTATUS', 'LRG_EFFTIME_DARK', 'ELG_EFFTIME_DARK', 'BGS_EFFTIME_BRIGHT', 'LYA_EFFTIME_DARK', 'GOALTYPE', 'MINTFRAC', 'LASTNIGHT']\n"
     ]
    }
   ],
   "source": [
    "tiles_file = f'{specprod_dir}/tiles-{specprod}.csv'\n",
    "tiles_table = Table.read(tiles_file)\n",
    "print(f\"{tiles_file} has columns:\\n{tiles_table.colnames}\")"
   ]
  },
  {
   "cell_type": "markdown",
   "id": "ef34238d-ff50-422a-b6ce-5a264a5e431f",
   "metadata": {
    "tags": []
   },
   "source": [
    "See the [tiles file datamodel documentation](https://desidatamodel.readthedocs.io/en/latest/DESI_SPECTRO_REDUX/SPECPROD/tiles-SPECPROD.html#hdu1) for what each of those columns mean"
   ]
  },
  {
   "cell_type": "code",
   "execution_count": 6,
   "id": "8e313216-dcfc-4208-ad0a-552bbbcd03e8",
   "metadata": {
    "tags": []
   },
   "outputs": [
    {
     "data": {
      "text/html": [
       "<div><i>Table length=5</i>\n",
       "<table id=\"table139708509602480\" class=\"table-striped table-bordered table-condensed\">\n",
       "<thead><tr><th>TILEID</th><th>SURVEY</th><th>PROGRAM</th><th>FAPRGRM</th><th>FAFLAVOR</th><th>NEXP</th><th>EXPTIME</th><th>TILERA</th><th>TILEDEC</th><th>EFFTIME_ETC</th><th>EFFTIME_SPEC</th><th>EFFTIME_GFA</th><th>GOALTIME</th><th>OBSSTATUS</th><th>LRG_EFFTIME_DARK</th><th>ELG_EFFTIME_DARK</th><th>BGS_EFFTIME_BRIGHT</th><th>LYA_EFFTIME_DARK</th><th>GOALTYPE</th><th>MINTFRAC</th><th>LASTNIGHT</th></tr></thead>\n",
       "<thead><tr><th>int64</th><th>str7</th><th>str6</th><th>str16</th><th>str19</th><th>int64</th><th>float64</th><th>float64</th><th>float64</th><th>float64</th><th>float64</th><th>float64</th><th>float64</th><th>str8</th><th>float64</th><th>float64</th><th>float64</th><th>float64</th><th>str6</th><th>float64</th><th>int64</th></tr></thead>\n",
       "<tr><td>80879</td><td>sv1</td><td>dark</td><td>lrgqso2</td><td>sv1lrgqso2</td><td>8</td><td>7754.5</td><td>165.4</td><td>32.375</td><td>0.0</td><td>5653.5</td><td>0.0</td><td>4000.0</td><td>obsend</td><td>5175.2</td><td>5653.5</td><td>5185.6</td><td>5246.4</td><td>dark</td><td>0.9</td><td>20210321</td></tr>\n",
       "<tr><td>80619</td><td>sv1</td><td>bright</td><td>bgsmws</td><td>sv1bgsmws</td><td>18</td><td>5401.4</td><td>144.0</td><td>65.0</td><td>0.0</td><td>1037.6</td><td>0.0</td><td>600.0</td><td>obsend</td><td>1017.4</td><td>1153.4</td><td>1037.6</td><td>545.8</td><td>bright</td><td>0.9</td><td>20210321</td></tr>\n",
       "<tr><td>80737</td><td>sv1</td><td>other</td><td>ssv</td><td>sv1ssv</td><td>3</td><td>3600.1</td><td>153.26</td><td>-1.11</td><td>0.0</td><td>200.5</td><td>0.0</td><td>1000.0</td><td>obsstart</td><td>167.2</td><td>200.5</td><td>177.0</td><td>103.8</td><td>other</td><td>0.9</td><td>20210321</td></tr>\n",
       "<tr><td>80859</td><td>sv1</td><td>dark</td><td>lrgqso</td><td>sv1lrgqso</td><td>7</td><td>5819.7</td><td>228.7</td><td>17.4</td><td>0.0</td><td>3967.8</td><td>0.0</td><td>4000.0</td><td>obsend</td><td>3647.2</td><td>3967.8</td><td>3603.6</td><td>3125.7</td><td>dark</td><td>0.9</td><td>20210321</td></tr>\n",
       "<tr><td>80663</td><td>sv1</td><td>bright</td><td>bgsmws</td><td>sv1bgsmws</td><td>12</td><td>8337.0</td><td>184.0</td><td>-0.5</td><td>0.0</td><td>2145.9</td><td>0.0</td><td>600.0</td><td>obsend</td><td>2036.4</td><td>2327.1</td><td>2145.9</td><td>1439.0</td><td>bright</td><td>0.9</td><td>20210322</td></tr>\n",
       "</table></div>"
      ],
      "text/plain": [
       "<Table length=5>\n",
       "TILEID SURVEY PROGRAM FAPRGRM ... LYA_EFFTIME_DARK GOALTYPE MINTFRAC LASTNIGHT\n",
       "int64   str7    str6   str16  ...     float64        str6   float64    int64  \n",
       "------ ------ ------- ------- ... ---------------- -------- -------- ---------\n",
       " 80879    sv1    dark lrgqso2 ...           5246.4     dark      0.9  20210321\n",
       " 80619    sv1  bright  bgsmws ...            545.8   bright      0.9  20210321\n",
       " 80737    sv1   other     ssv ...            103.8    other      0.9  20210321\n",
       " 80859    sv1    dark  lrgqso ...           3125.7     dark      0.9  20210321\n",
       " 80663    sv1  bright  bgsmws ...           1439.0   bright      0.9  20210322"
      ]
     },
     "execution_count": 6,
     "metadata": {},
     "output_type": "execute_result"
    }
   ],
   "source": [
    "tiles_table[100:105]"
   ]
  },
  {
   "cell_type": "markdown",
   "id": "f236aa82-aedb-4310-b9f0-15c21b8f55c9",
   "metadata": {},
   "source": [
    "Let's use this to find the number of tiles in each SURVEY and each PROGRAM."
   ]
  },
  {
   "cell_type": "code",
   "execution_count": 7,
   "id": "3d13b02a-b74f-4f5f-ae73-0081e36f6511",
   "metadata": {
    "tags": []
   },
   "outputs": [
    {
     "name": "stdout",
     "output_type": "stream",
     "text": [
      "SURVEY    Ntiles\n",
      "cmx       1\n",
      "main      5346\n",
      "special   42\n",
      "sv1       187\n",
      "sv2       37\n",
      "sv3       488\n"
     ]
    }
   ],
   "source": [
    "print('SURVEY    Ntiles')\n",
    "for survey in np.unique(tiles_table['SURVEY']):\n",
    "    ntiles = np.count_nonzero(tiles_table['SURVEY'] == survey)\n",
    "    print(f'{survey:8s}  {ntiles}')"
   ]
  },
  {
   "cell_type": "code",
   "execution_count": 8,
   "id": "e269a7d7-4949-4308-9846-271dccffa5e8",
   "metadata": {
    "tags": []
   },
   "outputs": [
    {
     "name": "stdout",
     "output_type": "stream",
     "text": [
      "PROGRAM  Ntiles\n",
      "backup   398\n",
      "bright   2572\n",
      "dark     3084\n",
      "other    47\n"
     ]
    }
   ],
   "source": [
    "print('PROGRAM  Ntiles')\n",
    "for program in np.unique(tiles_table['PROGRAM']):\n",
    "    ntiles = np.count_nonzero(tiles_table['PROGRAM'] == program)    \n",
    "    print(f'{program:8s} {ntiles}')"
   ]
  },
  {
   "cell_type": "markdown",
   "id": "4de669e2-a46b-4f14-a590-48964daa8b8d",
   "metadata": {},
   "source": [
    "Let's plot the location of the main survey dark program tiles on the sky"
   ]
  },
  {
   "cell_type": "code",
   "execution_count": 9,
   "id": "8fd22b5b-ee51-4b26-8a4c-d356764464b2",
   "metadata": {
    "tags": []
   },
   "outputs": [
    {
     "data": {
      "text/plain": [
       "Text(0.5, 1.0, '2744 DESI main dark tiles')"
      ]
     },
     "execution_count": 9,
     "metadata": {},
     "output_type": "execute_result"
    },
    {
     "data": {
      "image/png": "[encoded data removed]",
      "text/plain": [
       "<Figure size 640x480 with 1 Axes>"
      ]
     },
     "metadata": {},
     "output_type": "display_data"
    }
   ],
   "source": [
    "survey = 'main'\n",
    "program = 'dark'\n",
    "maindark = (tiles_table['SURVEY']==survey) & (tiles_table['PROGRAM']==program)\n",
    "maindark_tiles = tiles_table[maindark]\n",
    "tilera = maindark_tiles['TILERA']\n",
    "tiledec = maindark_tiles['TILEDEC']\n",
    "ntiles = len(maindark_tiles)\n",
    "\n",
    "plt.plot(tilera, tiledec, '.', alpha=0.5)\n",
    "plt.xlim(360, 0)\n",
    "plt.ylim(-20, 80)\n",
    "plt.xlabel('RA')\n",
    "plt.ylabel('dec')\n",
    "plt.title(f'{ntiles} DESI {survey} {program} tiles')"
   ]
  },
  {
   "cell_type": "markdown",
   "id": "e80cb07a-e093-418e-a6af-e91283381a4a",
   "metadata": {},
   "source": [
    "#### Suggested Exercises\n",
    "\n",
    "1. Plot the TILERA, TILEDEC distribution for other SURVEY/PROGRAM combinations, e.g. sv3/dark\n",
    "2. Load a different production than loa, e.g. iron or kibo.  How do they differ in tile coverage?\n",
    "3. Sort by LASTNIGHT and make a cumulative histogram vs. time to see the growth in number of tiles observed."
   ]
  },
  {
   "cell_type": "markdown",
   "id": "3ad72d6c-0268-4fd4-a169-9969097570dd",
   "metadata": {
    "tags": []
   },
   "source": [
    "## Redshift Catalogs\n",
    "\n",
    "The redshift catalogs in the `zcatalog/v1` directory:"
   ]
  },
  {
   "cell_type": "code",
   "execution_count": 10,
   "id": "73c459d0-833a-46c6-a98a-3835022aa746",
   "metadata": {
    "tags": []
   },
   "outputs": [
    {
     "data": {
      "text/plain": [
       "['redux_iron_zcatalog_v1.sha256sum',\n",
       " 'zall-pix-iron.fits',\n",
       " 'zall-tilecumulative-iron.fits',\n",
       " 'zpix-cmx-other.fits',\n",
       " 'zpix-main-backup.fits',\n",
       " 'zpix-main-bright.fits',\n",
       " 'zpix-main-dark.fits',\n",
       " 'zpix-special-backup.fits',\n",
       " 'zpix-special-bright.fits',\n",
       " 'zpix-special-dark.fits',\n",
       " 'zpix-special-other.fits',\n",
       " 'zpix-sv1-backup.fits',\n",
       " 'zpix-sv1-bright.fits',\n",
       " 'zpix-sv1-dark.fits',\n",
       " 'zpix-sv1-other.fits',\n",
       " 'zpix-sv2-backup.fits',\n",
       " 'zpix-sv2-bright.fits',\n",
       " 'zpix-sv2-dark.fits',\n",
       " 'zpix-sv3-backup.fits',\n",
       " 'zpix-sv3-bright.fits',\n",
       " 'zpix-sv3-dark.fits',\n",
       " 'ztile-cmx-other-cumulative.fits',\n",
       " 'ztile-cmx-other-pernight.fits',\n",
       " 'ztile-main-backup-cumulative.fits',\n",
       " 'ztile-main-bright-cumulative.fits',\n",
       " 'ztile-main-dark-cumulative.fits',\n",
       " 'ztile-special-backup-cumulative.fits',\n",
       " 'ztile-special-bright-cumulative.fits',\n",
       " 'ztile-special-dark-cumulative.fits',\n",
       " 'ztile-special-dark-pernight.fits',\n",
       " 'ztile-special-other-cumulative.fits',\n",
       " 'ztile-sv1-backup-cumulative.fits',\n",
       " 'ztile-sv1-backup-pernight.fits',\n",
       " 'ztile-sv1-bright-cumulative.fits',\n",
       " 'ztile-sv1-bright-pernight.fits',\n",
       " 'ztile-sv1-dark-cumulative.fits',\n",
       " 'ztile-sv1-dark-pernight.fits',\n",
       " 'ztile-sv1-other-cumulative.fits',\n",
       " 'ztile-sv1-other-pernight.fits',\n",
       " 'ztile-sv2-backup-cumulative.fits',\n",
       " 'ztile-sv2-backup-pernight.fits',\n",
       " 'ztile-sv2-bright-cumulative.fits',\n",
       " 'ztile-sv2-bright-pernight.fits',\n",
       " 'ztile-sv2-dark-cumulative.fits',\n",
       " 'ztile-sv2-dark-pernight.fits',\n",
       " 'ztile-sv3-backup-cumulative.fits',\n",
       " 'ztile-sv3-backup-pernight.fits',\n",
       " 'ztile-sv3-bright-cumulative.fits',\n",
       " 'ztile-sv3-bright-pernight.fits',\n",
       " 'ztile-sv3-dark-cumulative.fits',\n",
       " 'ztile-sv3-dark-pernight.fits']"
      ]
     },
     "execution_count": 10,
     "metadata": {},
     "output_type": "execute_result"
    }
   ],
   "source": [
    "sorted(os.listdir(f'{specprod_dir}/zcatalog/v1'))"
   ]
  },
  {
   "cell_type": "markdown",
   "id": "1ae1343d-8e8f-47e7-b3d9-72de31e5df97",
   "metadata": {
    "tags": []
   },
   "source": [
    "That's a lot of catalogs!  What are these?\n",
    "\n",
    "The catalogs are divided into `zpix`, `ztile`, and `zall` files.\n",
    "  * `zpix-{survey}-{program}.fits`: redshifts fit to coadditions of all observations of each target within a given _survey_ and _program_, including combining information across tiles.\n",
    "  * `ztile-{survey}-{program}-cumulative.fits`: redshifts fit to coadditions of all observations of each target on a given _tile_, but not combining information across tiles.\n",
    "  * `zall-pix-{specprod}.fits`: combining all `zpix` catalogs and adding information about which spectra are the best quality when the same target is observed under multiple _survey_ and _program_s.\n",
    "  * `zall-tilecumulative-{specprod}.fits`: like `zall-pix`, but stacking the `ztile` catalogs.\n",
    "\n",
    "**Pro Tip**: for the purposes of Y3 analyses, you probably care about the `*-main-dark*.fits` or `*-main-bright*.fits` files.  The others are for more specialized analyses.\n",
    "\n",
    "**Pro Tip**: these catalogs have an overwhelming number of columns.\n",
    "See the data model [here](https://desidatamodel.readthedocs.io/en/latest/DESI_SPECTRO_REDUX/SPECPROD/zcatalog/index.html)\n",
    "to understand what the columns mean and which ones you actually care about.\n",
    "\n",
    "The `03_RedshiftCatalogs.ipynb` notebook will cover what is actually in those catalogs."
   ]
  },
  {
   "cell_type": "markdown",
   "id": "4ed18b67-fccf-4a59-b474-254393302378",
   "metadata": {},
   "source": [
    "**Detail**: why `zcatalog/v1` and not just `zcatalog/`?  This gives us the ability update the format of future zcatalogs and add them to a production without breaking script using the current v1 catalogs.\n",
    "e.g. a set of \"v2\" catalogs is in progress which will bring in additional quality information used by LSS analyses."
   ]
  },
  {
   "cell_type": "markdown",
   "id": "44c0084e-ee6c-4538-8d3c-118567b98355",
   "metadata": {},
   "source": [
    "## Spectra\n",
    "\n",
    "Spectra are grouped in two formed: by _tile_ and by _healpix_."
   ]
  },
  {
   "cell_type": "markdown",
   "id": "8af0bdca-785b-4135-81ac-bdc5f49434a1",
   "metadata": {
    "tags": []
   },
   "source": [
    "### Tile-based spectra in `tiles/`\n",
    "\n",
    "The spectra that coadd and fit information for individual tiles are in the\n",
    "`tiles/cumulative/TILEID/LASTNIGHT/` directory.\n",
    "\n",
    "\"cumulative\" refers to combining all data taken through a given night,\n",
    "and \"LASTNIGHT\" is the YEARMMDD date of the sunset prior to observations,\n",
    "i.e. it doesn't suddenly change at midnight."
   ]
  },
  {
   "cell_type": "code",
   "execution_count": 11,
   "id": "4327d585-cae0-497f-a73f-10fdc2b355b6",
   "metadata": {
    "tags": []
   },
   "outputs": [
    {
     "name": "stdout",
     "output_type": "stream",
     "text": [
      "There are 6101 tiles in /dvs_ro/cfs/cdirs/desi/spectro/redux/iron/tiles/cumulative\n",
      "Hopefully this matches the 6101 unique TILEID entries in tiles-iron.csv\n"
     ]
    }
   ],
   "source": [
    "tiles_dir = f'{specprod_dir}/tiles/cumulative'\n",
    "ntiles_in_dir = len(os.listdir(tiles_dir))\n",
    "ntiles_in_table = len(np.unique(tiles_table['TILEID']))\n",
    "print(f'There are {ntiles_in_dir} tiles in {tiles_dir}')\n",
    "print(f'Hopefully this matches the {ntiles_in_table} unique TILEID entries in {os.path.basename(tiles_file)}')"
   ]
  },
  {
   "cell_type": "markdown",
   "id": "56fcc8bd-10bb-4ac7-a712-a8810f3f1749",
   "metadata": {},
   "source": [
    "Let's look at the files in one specific main-dark tile"
   ]
  },
  {
   "cell_type": "code",
   "execution_count": 12,
   "id": "b0a6cb5f-2eaf-4b53-a981-7beb932e091d",
   "metadata": {
    "tags": []
   },
   "outputs": [
    {
     "data": {
      "text/html": [
       "<div><i>Table length=5</i>\n",
       "<table id=\"table139708865380064\" class=\"table-striped table-bordered table-condensed\">\n",
       "<thead><tr><th>TILEID</th><th>SURVEY</th><th>PROGRAM</th><th>LASTNIGHT</th></tr></thead>\n",
       "<thead><tr><th>int64</th><th>str7</th><th>str6</th><th>int64</th></tr></thead>\n",
       "<tr><td>2196</td><td>main</td><td>dark</td><td>20210514</td></tr>\n",
       "<tr><td>1404</td><td>main</td><td>dark</td><td>20210514</td></tr>\n",
       "<tr><td>1750</td><td>main</td><td>dark</td><td>20210514</td></tr>\n",
       "<tr><td>1751</td><td>main</td><td>dark</td><td>20210514</td></tr>\n",
       "<tr><td>1433</td><td>main</td><td>dark</td><td>20210514</td></tr>\n",
       "</table></div>"
      ],
      "text/plain": [
       "<Table length=5>\n",
       "TILEID SURVEY PROGRAM LASTNIGHT\n",
       "int64   str7    str6    int64  \n",
       "------ ------ ------- ---------\n",
       "  2196   main    dark  20210514\n",
       "  1404   main    dark  20210514\n",
       "  1750   main    dark  20210514\n",
       "  1751   main    dark  20210514\n",
       "  1433   main    dark  20210514"
      ]
     },
     "execution_count": 12,
     "metadata": {},
     "output_type": "execute_result"
    }
   ],
   "source": [
    "is_main_dark = (tiles_table['SURVEY']=='main') & (tiles_table['PROGRAM']=='dark')\n",
    "tiles_table['TILEID', 'SURVEY', 'PROGRAM', 'LASTNIGHT'][is_main_dark][0:5]"
   ]
  },
  {
   "cell_type": "code",
   "execution_count": 13,
   "id": "f86c6c9a-2af5-4278-8845-c53e6b9978fd",
   "metadata": {
    "tags": []
   },
   "outputs": [
    {
     "name": "stdout",
     "output_type": "stream",
     "text": [
      "files in /dvs_ro/cfs/cdirs/desi/spectro/redux/iron/tiles/cumulative/2196/20210514:\n"
     ]
    },
    {
     "data": {
      "text/plain": [
       "['coadd-0-2196-thru20210514.fits',\n",
       " 'coadd-1-2196-thru20210514.fits',\n",
       " 'coadd-2-2196-thru20210514.fits',\n",
       " 'coadd-3-2196-thru20210514.fits',\n",
       " 'coadd-4-2196-thru20210514.fits',\n",
       " 'coadd-5-2196-thru20210514.fits',\n",
       " 'coadd-6-2196-thru20210514.fits',\n",
       " 'coadd-7-2196-thru20210514.fits',\n",
       " 'coadd-8-2196-thru20210514.fits',\n",
       " 'coadd-9-2196-thru20210514.fits',\n",
       " 'emline-0-2196-thru20210514.fits',\n",
       " 'emline-1-2196-thru20210514.fits',\n",
       " 'emline-2-2196-thru20210514.fits',\n",
       " 'emline-3-2196-thru20210514.fits',\n",
       " 'emline-4-2196-thru20210514.fits',\n",
       " 'emline-5-2196-thru20210514.fits',\n",
       " 'emline-6-2196-thru20210514.fits',\n",
       " 'emline-7-2196-thru20210514.fits',\n",
       " 'emline-8-2196-thru20210514.fits',\n",
       " 'emline-9-2196-thru20210514.fits',\n",
       " 'logs',\n",
       " 'qso_mgii-0-2196-thru20210514.fits',\n",
       " 'qso_mgii-1-2196-thru20210514.fits',\n",
       " 'qso_mgii-2-2196-thru20210514.fits',\n",
       " 'qso_mgii-3-2196-thru20210514.fits',\n",
       " 'qso_mgii-4-2196-thru20210514.fits',\n",
       " 'qso_mgii-5-2196-thru20210514.fits',\n",
       " 'qso_mgii-6-2196-thru20210514.fits',\n",
       " 'qso_mgii-7-2196-thru20210514.fits',\n",
       " 'qso_mgii-8-2196-thru20210514.fits',\n",
       " 'qso_mgii-9-2196-thru20210514.fits',\n",
       " 'qso_qn-0-2196-thru20210514.fits',\n",
       " 'qso_qn-1-2196-thru20210514.fits',\n",
       " 'qso_qn-2-2196-thru20210514.fits',\n",
       " 'qso_qn-3-2196-thru20210514.fits',\n",
       " 'qso_qn-4-2196-thru20210514.fits',\n",
       " 'qso_qn-5-2196-thru20210514.fits',\n",
       " 'qso_qn-6-2196-thru20210514.fits',\n",
       " 'qso_qn-7-2196-thru20210514.fits',\n",
       " 'qso_qn-8-2196-thru20210514.fits',\n",
       " 'qso_qn-9-2196-thru20210514.fits',\n",
       " 'redrock-0-2196-thru20210514.fits',\n",
       " 'redrock-1-2196-thru20210514.fits',\n",
       " 'redrock-2-2196-thru20210514.fits',\n",
       " 'redrock-3-2196-thru20210514.fits',\n",
       " 'redrock-4-2196-thru20210514.fits',\n",
       " 'redrock-5-2196-thru20210514.fits',\n",
       " 'redrock-6-2196-thru20210514.fits',\n",
       " 'redrock-7-2196-thru20210514.fits',\n",
       " 'redrock-8-2196-thru20210514.fits',\n",
       " 'redrock-9-2196-thru20210514.fits',\n",
       " 'redux_iron_tiles_cumulative_2196_20210514.sha256sum',\n",
       " 'rrdetails-0-2196-thru20210514.h5',\n",
       " 'rrdetails-1-2196-thru20210514.h5',\n",
       " 'rrdetails-2-2196-thru20210514.h5',\n",
       " 'rrdetails-3-2196-thru20210514.h5',\n",
       " 'rrdetails-4-2196-thru20210514.h5',\n",
       " 'rrdetails-5-2196-thru20210514.h5',\n",
       " 'rrdetails-6-2196-thru20210514.h5',\n",
       " 'rrdetails-7-2196-thru20210514.h5',\n",
       " 'rrdetails-8-2196-thru20210514.h5',\n",
       " 'rrdetails-9-2196-thru20210514.h5',\n",
       " 'spectra-0-2196-thru20210514.fits.gz',\n",
       " 'spectra-1-2196-thru20210514.fits.gz',\n",
       " 'spectra-2-2196-thru20210514.fits.gz',\n",
       " 'spectra-3-2196-thru20210514.fits.gz',\n",
       " 'spectra-4-2196-thru20210514.fits.gz',\n",
       " 'spectra-5-2196-thru20210514.fits.gz',\n",
       " 'spectra-6-2196-thru20210514.fits.gz',\n",
       " 'spectra-7-2196-thru20210514.fits.gz',\n",
       " 'spectra-8-2196-thru20210514.fits.gz',\n",
       " 'spectra-9-2196-thru20210514.fits.gz',\n",
       " 'tile-qa-2196-thru20210514.fits',\n",
       " 'tile-qa-2196-thru20210514.png',\n",
       " 'zmtl-0-2196-thru20210514.fits',\n",
       " 'zmtl-1-2196-thru20210514.fits',\n",
       " 'zmtl-2-2196-thru20210514.fits',\n",
       " 'zmtl-3-2196-thru20210514.fits',\n",
       " 'zmtl-4-2196-thru20210514.fits',\n",
       " 'zmtl-5-2196-thru20210514.fits',\n",
       " 'zmtl-6-2196-thru20210514.fits',\n",
       " 'zmtl-7-2196-thru20210514.fits',\n",
       " 'zmtl-8-2196-thru20210514.fits',\n",
       " 'zmtl-9-2196-thru20210514.fits']"
      ]
     },
     "execution_count": 13,
     "metadata": {},
     "output_type": "execute_result"
    }
   ],
   "source": [
    "tileid = tiles_table['TILEID'][is_main_dark][0]\n",
    "lastnight = tiles_table['LASTNIGHT'][is_main_dark][0]\n",
    "tile_dir = f'{specprod_dir}/tiles/cumulative/{tileid}/{lastnight}'\n",
    "print(f'files in {tile_dir}:')\n",
    "sorted(os.listdir(tile_dir))"
   ]
  },
  {
   "cell_type": "markdown",
   "id": "42bc533a-7dc0-4dfe-b89c-4450609d8626",
   "metadata": {},
   "source": [
    "That's a lot of output files for a single tile!  These follow the filename format\n",
    "```\n",
    "PREFIX-PETAL-TILEID-thruLASTNIGHT.*\n",
    "```\n",
    "See the [datamodel](https://desidatamodel.readthedocs.io/en/latest/DESI_SPECTRO_REDUX/SPECPROD/tiles/GROUPTYPE/TILEID/GROUPID/index.html) for details about the formats of these files.  A quick summary of the prefixes is\n",
    "* **spectra**: uncoadded spectra\n",
    "* **coadd**: coadded spectra combining information across multiple exposures\n",
    "* **redrock**: redshift fits\n",
    "* **rrdetails**: detailed Redrock information, e.g. second best fits\n",
    "* **rrmodel**: the Redrock best-fit models\n",
    "* **emline**: simple Gaussian fits to emission lines based upon their expected location given the redshift\n",
    "* **qso_qn**: QuasarNet output (fit to all targets, not just those targeted as QSOs or identified by Redrock as QSOs)\n",
    "* **qso_mgii**: [MgII] fits (like qso_qn, this is run on all targets)\n",
    "* **zmtl**: information used for updating the \"Merged Target List\" for operations\n"
   ]
  },
  {
   "cell_type": "markdown",
   "id": "2f6959d7-6bf3-435f-967d-442118216cbf",
   "metadata": {},
   "source": [
    "The `04_Spectra.ipynb` notebook goes into more details about reading and plotting these files."
   ]
  },
  {
   "cell_type": "markdown",
   "id": "902b5ecc-ba66-468b-9867-430a107e1352",
   "metadata": {},
   "source": [
    "## Cross-tile spectra in the `healpix/` directory\n",
    "\n",
    "The `healpix/` directory contains the same type of spectra, coadd, redrock, emline, etc. files, but in this case they combine information across overlapping tiles.\n",
    "\n",
    "Healpix is a hierarchical tiling, and we use \"nside=64\" which corresponds to pixels of 0.84 square degrees such that O(10) healpix cover a single tile.\n",
    "\n",
    "To protect the different sub-programs of DESI from each other, they are still split by SURVEY and PROGRAM.  Additionally, since there are O(20k) nside=64 healpix covering DESI, these are grouped into subdirs of `HPIXGROUP=HEALPIX//100`.  The full directory path is\n",
    "```\n",
    "healpix/SURVEY/PROGRAM/HPIXGROUP/HEALPIX/\n",
    "```\n",
    "Let's explore that."
   ]
  },
  {
   "cell_type": "code",
   "execution_count": 14,
   "id": "ee8351d5-2d02-4f05-9495-f21d34cc97ac",
   "metadata": {
    "tags": []
   },
   "outputs": [
    {
     "data": {
      "text/plain": [
       "['cmx',\n",
       " 'main',\n",
       " 'redux_iron_healpix.sha256sum',\n",
       " 'special',\n",
       " 'sv1',\n",
       " 'sv2',\n",
       " 'sv3',\n",
       " 'tilepix.fits',\n",
       " 'tilepix.json']"
      ]
     },
     "execution_count": 14,
     "metadata": {},
     "output_type": "execute_result"
    }
   ],
   "source": [
    "healpix_dir = f'{specprod_dir}/healpix'\n",
    "sorted(os.listdir(healpix_dir))"
   ]
  },
  {
   "cell_type": "markdown",
   "id": "84b18b0e-74e4-49d5-a41c-c0574e902c27",
   "metadata": {
    "tags": []
   },
   "source": [
    "The `tilepix.*` files map which tiles are covered by this healpixels.\n",
    "\n",
    "The subdirectories are for individual SURVEYs.  Under each SURVEY are the list of PROGRAMs observed by that SURVEY:"
   ]
  },
  {
   "cell_type": "code",
   "execution_count": 15,
   "id": "f1ae2318-eeb6-4f71-9dda-b96abb65c961",
   "metadata": {
    "tags": []
   },
   "outputs": [
    {
     "data": {
      "text/plain": [
       "['backup', 'bright', 'dark']"
      ]
     },
     "execution_count": 15,
     "metadata": {},
     "output_type": "execute_result"
    }
   ],
   "source": [
    "sorted(os.listdir(f'{healpix_dir}/main'))"
   ]
  },
  {
   "cell_type": "code",
   "execution_count": 16,
   "id": "10c2cf83-969e-4032-91ca-847112573aaa",
   "metadata": {
    "tags": []
   },
   "outputs": [
    {
     "name": "stdout",
     "output_type": "stream",
     "text": [
      "DESI SURVEY=main PROGRAM=dark covers 13494 healpix\n"
     ]
    }
   ],
   "source": [
    "survey = 'main'\n",
    "program = 'dark'\n",
    "healpix_dirs = sorted(glob.glob(f'{healpix_dir}/main/dark/*/*'))\n",
    "nhealpix = len(healpix_dirs)\n",
    "print(f'DESI SURVEY={survey} PROGRAM={program} covers {nhealpix} healpix')"
   ]
  },
  {
   "cell_type": "markdown",
   "id": "26f01830-a501-4f7f-9719-a5ec34c6a176",
   "metadata": {},
   "source": [
    "Looking at just one of those directories:"
   ]
  },
  {
   "cell_type": "code",
   "execution_count": 17,
   "id": "ee998719-3b00-421a-a51a-639b97ef0cd4",
   "metadata": {
    "tags": []
   },
   "outputs": [
    {
     "name": "stdout",
     "output_type": "stream",
     "text": [
      "Files in /dvs_ro/cfs/cdirs/desi/spectro/redux/iron/healpix/main/dark/125/12563\n"
     ]
    },
    {
     "data": {
      "text/plain": [
       "['coadd-main-dark-12563.fits',\n",
       " 'emline-main-dark-12563.fits',\n",
       " 'hpixexp-main-dark-12563.csv',\n",
       " 'logs',\n",
       " 'qso_mgii-main-dark-12563.fits',\n",
       " 'qso_qn-main-dark-12563.fits',\n",
       " 'redrock-main-dark-12563.fits',\n",
       " 'redux_iron_healpix_main_dark_125_12563.sha256sum',\n",
       " 'rrdetails-main-dark-12563.h5',\n",
       " 'spectra-main-dark-12563.fits.gz']"
      ]
     },
     "execution_count": 17,
     "metadata": {},
     "output_type": "execute_result"
    }
   ],
   "source": [
    "print(f'Files in {healpix_dirs[1000]}')\n",
    "sorted(os.listdir(healpix_dirs[1000]))"
   ]
  },
  {
   "cell_type": "markdown",
   "id": "0a8792cb-9c3e-4209-9997-be291af4b2a1",
   "metadata": {},
   "source": [
    "These have the same basic files as the tiles-based spectra, but in this case there\n",
    "is only one file for each prefix for each healpix.\n",
    "\n",
    "**Note**: since DESI doesn't cover the full sky, it doesn't cover all healpix, and the 1000th healpix directory was *not* HEALPIX=1000.\n",
    "\n",
    "**Note**: since each healpix can have a different number of overlapping tiles, each healpix directory can have a varying number of targets, ranging from a single target to many thousands."
   ]
  },
  {
   "cell_type": "markdown",
   "id": "154b4581-49de-4f91-895e-49ece401a2e0",
   "metadata": {
    "tags": []
   },
   "source": [
    "The `04_Spectra.ipynb` notebook goes into more details about reading and plotting these files."
   ]
  },
  {
   "cell_type": "markdown",
   "id": "4e87198f-0f44-430e-a3f2-d476fd758ca3",
   "metadata": {},
   "source": [
    "## Summary\n",
    "\n",
    "* When working with DESI data, set your `specprod` (e.g. loa) and base directory `DESI_ROOT_READONLY/spectro/redux/{specprod}` once at the top of your script to make it easier to update to future productions and non-NERSC processing.\n",
    "* Under a `specprod_dir`,\n",
    "  * Redshift catalogs are in `zcatalog/v1`\n",
    "  * Tile-based spectra are in `tiles/cumulative/TILEID/LASTNIGHT/`\n",
    "  * Cross-tile healpix-organized spectra are in `healpix/SURVEY/PROGRAM/HPIXGROUP/HEALPIX/`"
   ]
  },
  {
   "cell_type": "code",
   "execution_count": null,
   "id": "f202f49e-0787-40c6-9b9d-929847e6b0ba",
   "metadata": {},
   "outputs": [],
   "source": []
  }
 ],
 "metadata": {
  "kernelspec": {
   "display_name": "Python 3 (ipykernel)",
   "language": "python",
   "name": "python3"
  },
  "language_info": {
   "codemirror_mode": {
    "name": "ipython",
    "version": 3
   },
   "file_extension": ".py",
   "mimetype": "text/x-python",
   "name": "python",
   "nbconvert_exporter": "python",
   "pygments_lexer": "ipython3",
   "version": "3.12.8"
  }
 },
 "nbformat": 4,
 "nbformat_minor": 5
}
