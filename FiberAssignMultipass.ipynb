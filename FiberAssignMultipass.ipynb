{
 "cells": [
  {
   "cell_type": "markdown",
   "metadata": {},
   "source": [
    "# Multiple runs of fiberassign\n",
    "\n",
    "Fiberassign has to be run multiple times in the course of the survey.  \n",
    "Everytime fiberassign runs it has to take into account how the target catalog\n",
    "changes as new redshifts are acquired.  \n",
    "In this notebook you are going to simulate this process.   \n",
    "\n",
    "The strong assumption in the simulation is that every tile is observed only once. "
   ]
  },
  {
   "cell_type": "code",
   "execution_count": null,
   "metadata": {},
   "outputs": [],
   "source": []
  }
 ],
 "metadata": {
  "kernelspec": {
   "display_name": "DESI master",
   "language": "python",
   "name": "desi-master"
  },
  "language_info": {
   "codemirror_mode": {
    "name": "ipython",
    "version": 3
   },
   "file_extension": ".py",
   "mimetype": "text/x-python",
   "name": "python",
   "nbconvert_exporter": "python",
   "pygments_lexer": "ipython3",
   "version": "3.6.6"
  }
 },
 "nbformat": 4,
 "nbformat_minor": 4
}
