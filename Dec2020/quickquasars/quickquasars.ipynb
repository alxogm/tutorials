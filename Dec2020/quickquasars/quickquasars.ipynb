{
 "cells": [
  {
   "cell_type": "code",
   "execution_count": null,
   "metadata": {},
   "outputs": [],
   "source": [
    "import os\n",
    "import sys\n",
    "import glob as glob\n",
    "from scipy.signal import medfilt\n",
    "import matplotlib.pyplot as plt\n",
    "import seaborn as sb\n",
    "import healpy\n",
    "import numpy as np\n",
    "import desispec.io\n",
    "import fitsio\n",
    "%matplotlib inline\n",
    "sb.set_style('white')"
   ]
  },
  {
   "cell_type": "markdown",
   "metadata": {},
   "source": [
    "# In this notebook we will simulate Lyman alpha quasar spectra using the DESI code quickqusars"
   ]
  },
  {
   "cell_type": "markdown",
   "metadata": {},
   "source": [
    "## First let us define some useful functions for visualization "
   ]
  },
  {
   "cell_type": "code",
   "execution_count": null,
   "metadata": {},
   "outputs": [],
   "source": [
    "#A simple filter was added to retain some of the noise and check this is reproduced,\n",
    "#but still be able to spot differences due to features by eye. \n",
    "#Plotspec routine was taken https://github.com/desihub/tutorials/blob/master/Intro_to_DESI_spectra.ipynb. \n",
    "#It allows to add the true spectra although we will not use this option here \n",
    "#These plots will show the three arms of the spectrograph in colors blue ['b'], red ['r'] and yellow ['z'].\n",
    "\n",
    "\n",
    "def plotspec(spectra, i, truewave=None, trueflux=None, color=['b','r','y'],nfilter=1,label=None):\n",
    "    plt.plot(spectra.wave['b'], medfilt(spectra.flux['b'][i], nfilter), color=color[0], alpha=0.5,label=label)\n",
    "    plt.plot(spectra.wave['r'], medfilt(spectra.flux['r'][i], nfilter), color=color[1], alpha=0.5)\n",
    "    plt.plot(spectra.wave['z'], medfilt(spectra.flux['z'][i], nfilter), color=color[2], alpha=0.5)\n",
    "    if truewave is not None and trueflux is not None:\n",
    "        plt.plot(truewave, trueflux[i], 'k-')\n",
    "\n",
    "    plt.axhline(0, color='k', alpha=0.2)\n",
    "        \n",
    "    ymax = np.max(spectra.flux['b'][i])\n",
    "    ymin=0\n",
    "        \n",
    "    plt.ylim(ymin, ymax+3)\n",
    "    plt.ylabel('Flux')\n",
    "    plt.xlabel('wavelength [A]')\n",
    "    plt.legend(loc='best')\n",
    "    return\n",
    "    \n",
    "#This will compare two spectra by dividing the first over the second\n",
    "def plotspec_ratio(spectra1,spectra2,i,label=None):\n",
    "    ratio_b=spectra1.flux['b'][i]/spectra2.flux['b'][i]\n",
    "    ratio_r=spectra1.flux['r'][i]/spectra2.flux['r'][i]\n",
    "    ratio_z=spectra1.flux['z'][i]/spectra2.flux['z'][i]\n",
    "    plt.plot(spectra1.wave['b'],ratio_b, color='b', alpha=0.5,label=label)\n",
    "    plt.plot(spectra1.wave['r'], ratio_r, color='r', alpha=0.5)\n",
    "    plt.plot(spectra1.wave['z'], ratio_z, color='y', alpha=0.5)\n",
    "    plt.xlabel('wavelength [A]')\n",
    "    plt.legend(loc='best')\n",
    "    \n",
    "#This will compare two spectra by substracting the second from the first one\n",
    "def plotspec_diff(spectra1,spectra2,i,label=None):\n",
    "    ratio_b=spectra1.flux['b'][i]-spectra2.flux['b'][i]\n",
    "    ratio_r=spectra1.flux['r'][i]-spectra2.flux['r'][i]\n",
    "    ratio_z=spectra1.flux['z'][i]-spectra2.flux['z'][i]\n",
    "    plt.plot(spectra1.wave['b'],ratio_b, color='b', alpha=0.5)\n",
    "    plt.plot(spectra1.wave['r'], ratio_r, color='r', alpha=0.5)\n",
    "    plt.plot(spectra1.wave['z'], ratio_z, color='y', alpha=0.5)\n",
    "    plt.xlabel('wavelength [A]')\n",
    "    if label!=None:\n",
    "        plt.legend(loc='best')\n",
    "\n",
    "#This is only to compute the observed wavelenght of given line that corresponds to the quasar redshift. e.g \n",
    "\n",
    "def draw_obsline(lbda,z):\n",
    "    return (1.+z)*lbda"
   ]
  },
  {
   "cell_type": "markdown",
   "metadata": {},
   "source": [
    "# Let's see what are the parameters needed to run a quickquasars simulation"
   ]
  },
  {
   "cell_type": "code",
   "execution_count": null,
   "metadata": {},
   "outputs": [],
   "source": [
    "!quickquasars --help"
   ]
  },
  {
   "cell_type": "markdown",
   "metadata": {},
   "source": [
    "### We will start by running quickquasars in a single pixel, for this we define some of the required parameters. We will run it using different exposures (1,2,3,4) and have one with a very large exposure time for comparison. Also this first runs will not have any contaminant, they only have continum LYA and LYB absorption."
   ]
  },
  {
   "cell_type": "code",
   "execution_count": null,
   "metadata": {},
   "outputs": [],
   "source": [
    "zmin = 1.8 # We use to add it, although it is already set as minimum in the transmission files.\n",
    "nmax = 10 # maximun number of spectra to simulate in a given pixel, chosen as a small number for speedness in this tutorial.\n",
    "seed=123 #this ensure reproducibility"
   ]
  },
  {
   "cell_type": "code",
   "execution_count": null,
   "metadata": {},
   "outputs": [],
   "source": [
    "path_mocks = '/global/cfs/projectdirs/desi/mocks/lya_forest/london/v9.0' # path to london mocks v9.0\n",
    "ifile=path_mocks + '/v9.0.0/0/0/transmission-16-0.fits.gz'   #Choose one pixel to simulate the quasars. \n",
    "outdir=os.path.join(os.environ['SCRATCH'], 'mocks','quickquasar','1pix_test/')  #Where do you want to save the files.\n",
    "print(outdir) #Adjuts the path if this is not where you want to store the files produced by this tutorial "
   ]
  },
  {
   "cell_type": "code",
   "execution_count": null,
   "metadata": {},
   "outputs": [],
   "source": [
    "os.makedirs(outdir, exist_ok=True)"
   ]
  },
  {
   "cell_type": "code",
   "execution_count": null,
   "metadata": {
    "scrolled": true
   },
   "outputs": [],
   "source": [
    "#Run quickquasars for the different exposures, store each run a different directory to avoid overwrting.\n",
    "exposures = ['1','2','3','4','1e5']\n",
    "contaminant='0.0-' # Following somehow the convention in https://desi.lbl.gov/trac/wiki/LymanAlphaWG/LondonMocks/v9_quickquasars\n",
    "\n",
    "for exp in exposures:\n",
    "    if not os.path.exists(outdir +contaminant+exp):\n",
    "        os.mkdir(outdir +contaminant+exp )\n",
    "    specfile = outdir +contaminant+exp+'/spectra.fits'\n",
    "    cmd ='quickquasars --exptime {exptime} -i {ifile} -o {outfile}  --zmin {zmin} \\\n",
    "    --zbest --bbflux --add-LYB --desi-footprint \\\n",
    "    --nmax {nmax} --seed {seed}'.format(exptime=float(exp)*1000,ifile=ifile,outfile=specfile,zmin=zmin,nmax=nmax,seed=seed)\n",
    "    !time $cmd"
   ]
  },
  {
   "cell_type": "markdown",
   "metadata": {},
   "source": [
    "### Now lets comapare the spectra we got from each simulation "
   ]
  },
  {
   "cell_type": "code",
   "execution_count": null,
   "metadata": {},
   "outputs": [],
   "source": [
    "dump = []\n",
    "for exp in exposures:\n",
    "    dump.append(outdir +'0.0-'+exp)\n",
    "path_highexp = dump[-1]\n",
    "del(dump[-1])\n",
    "dump.sort()\n",
    "print(path_highexp)"
   ]
  },
  {
   "cell_type": "code",
   "execution_count": null,
   "metadata": {},
   "outputs": [],
   "source": [
    "spec = fitsio.FITS(path_highexp+'/spectra.fits')\n",
    "spec"
   ]
  },
  {
   "cell_type": "code",
   "execution_count": null,
   "metadata": {},
   "outputs": [],
   "source": [
    "truth = fitsio.FITS(path_highexp + '/truth-16-0.fits')"
   ]
  },
  {
   "cell_type": "code",
   "execution_count": null,
   "metadata": {},
   "outputs": [],
   "source": [
    "spectra_highexp = desispec.io.read_spectra(path_highexp+'/spectra.fits')"
   ]
  },
  {
   "cell_type": "code",
   "execution_count": null,
   "metadata": {},
   "outputs": [],
   "source": [
    "index = 4\n",
    "plt.figure(figsize=(10,5),dpi=100)\n",
    "for i in range(len(dump)):\n",
    "    plt.subplot(221+i)\n",
    "    exposure = dump[i].split('/0.0-')[-1]\n",
    "    spectra= desispec.io.read_spectra(dump[i]+'/spectra.fits')\n",
    "    plotspec(spectra,index,label='Exposure = '+exposure)\n",
    "    plotspec(spectra_highexp,index,color=['k','k','k'],label='Noisless')\n",
    "    z_obj = truth[1]['Z'][index]\n",
    "    lya = draw_obsline(1215.67,z_obj)\n",
    "    lyb = draw_obsline(1025.722,z_obj)\n",
    "    civ = draw_obsline(1549.48,z_obj)\n",
    "    #mgii = draw_obsline(2799.117,z_obj)\n",
    "    plt.axvline(lya,color='g')\n",
    "    plt.axvline(lyb,color='g')\n",
    "    plt.axvline(civ,color='g')\n",
    "    #plt.axvline(mgii,color='g')\n",
    "    #plt.xlim(3500,5000)\n",
    "plt.subplots_adjust(hspace=0.3,wspace=.2)"
   ]
  },
  {
   "cell_type": "markdown",
   "metadata": {},
   "source": [
    "### We can compare the differences as well"
   ]
  },
  {
   "cell_type": "code",
   "execution_count": null,
   "metadata": {},
   "outputs": [],
   "source": [
    "index = 4\n",
    "plt.figure(figsize=(10,5),dpi=100)\n",
    "for i in range(len(dump)):\n",
    "    plt.subplot(221+i)\n",
    "    exposure = dump[i].split('/')[-1]\n",
    "    spectra= desispec.io.read_spectra(dump[i]+'/spectra.fits')\n",
    "    plotspec_ratio(spectra,spectra_highexp,index,label='Exposure= '+exposure)\n",
    "    #plt.xlim(3500,4300)\n",
    "    plt.ylim(-5,5)\n",
    "plt.subplots_adjust(hspace=0.3,wspace=.2)"
   ]
  },
  {
   "cell_type": "markdown",
   "metadata": {},
   "source": [
    "## Lets look at the the other files that were produced: zbest.fits and truth.fits"
   ]
  },
  {
   "cell_type": "markdown",
   "metadata": {},
   "source": [
    "#### The \"zbest\" files are fake redshift catalogs for the simulated spectra. By default it is conformed with the true redshift but we can make it more realistic by adding some errors with the following flags:\n",
    "\n",
    "\n",
    "--sigma_kms_fog\n",
    "\n",
    "--gamma_kms_zfit\n",
    "\n",
    "--shift_kms_los\n"
   ]
  },
  {
   "cell_type": "code",
   "execution_count": null,
   "metadata": {},
   "outputs": [],
   "source": [
    "data_zbest = fitsio.FITS(path_highexp+'/zbest-16-0.fits')"
   ]
  },
  {
   "cell_type": "code",
   "execution_count": null,
   "metadata": {},
   "outputs": [],
   "source": [
    "data_zbest[1]"
   ]
  },
  {
   "cell_type": "markdown",
   "metadata": {},
   "source": [
    "#### The \"Truth\" files stores all the information regarding the templates used to construct the spectra, as well as the magnitude of the objects, true redshift, if the spectra has contaminats, etc."
   ]
  },
  {
   "cell_type": "code",
   "execution_count": null,
   "metadata": {},
   "outputs": [],
   "source": [
    "data_truth = fitsio.FITS(path_highexp+'/truth-16-0.fits')"
   ]
  },
  {
   "cell_type": "code",
   "execution_count": null,
   "metadata": {},
   "outputs": [],
   "source": [
    "data_truth"
   ]
  },
  {
   "cell_type": "markdown",
   "metadata": {},
   "source": [
    "## So far the spectra has no contaminants, so lets add some. We will start with DLA's "
   ]
  },
  {
   "cell_type": "markdown",
   "metadata": {},
   "source": [
    "#### There is two ways to add DLA's, one is at random redshifts and column density, and the other is by what is already stored in the transmission file. In this tutorial we will use the DLAs specified in the transmission file"
   ]
  },
  {
   "cell_type": "code",
   "execution_count": null,
   "metadata": {
    "scrolled": true
   },
   "outputs": [],
   "source": [
    "exp='4'\n",
    "contaminant='0.1DLA-'\n",
    "outdir_dla=outdir +contaminant+exp\n",
    "os.makedirs(outdir +contaminant+exp,exist_ok=True)\n",
    "        \n",
    "specfile = outdir +contaminant + exp +'/spectra.fits'\n",
    "cmd ='quickquasars  -i {ifile} -o {outfile}  --zmin {zmin} --exptime {exptime}\\\n",
    "    --zbest --bbflux --add-LYB --desi-footprint \\\n",
    "    --nmax {nmax} --seed {seed} --dla file'.format(exptime=float(exp)*1000,ifile=ifile,outfile=specfile,zmin=zmin,nmax=nmax,seed=seed)\n",
    "\n",
    "!$cmd"
   ]
  },
  {
   "cell_type": "code",
   "execution_count": null,
   "metadata": {},
   "outputs": [],
   "source": [
    "spectra_dla = desispec.io.read_spectra(outdir_dla +'/spectra.fits')\n",
    "spectra_4exp = desispec.io.read_spectra(outdir + '0.0-4/spectra.fits')"
   ]
  },
  {
   "cell_type": "code",
   "execution_count": null,
   "metadata": {},
   "outputs": [],
   "source": [
    "truth_dla = fitsio.FITS(outdir_dla+'/truth-16-0.fits')"
   ]
  },
  {
   "cell_type": "code",
   "execution_count": null,
   "metadata": {},
   "outputs": [],
   "source": [
    "truth_dla[3]['TARGETID'][:]"
   ]
  },
  {
   "cell_type": "code",
   "execution_count": null,
   "metadata": {},
   "outputs": [],
   "source": [
    "mask = np.isin(truth_dla[1]['TARGETID'][:],truth_dla[3]['TARGETID'][:])"
   ]
  },
  {
   "cell_type": "code",
   "execution_count": null,
   "metadata": {},
   "outputs": [],
   "source": [
    "index = np.arange(nmax)\n",
    "index = index[mask]\n",
    "plt.figure(figsize=(10,5),dpi=100)\n",
    "for i in range(3):\n",
    "    plt.subplot(221+i)\n",
    "    plotspec(spectra_4exp,index[i],color=['b','b','b'],label='no DLA')\n",
    "    plotspec(spectra_dla,index[i],color=['k','k','k'],label=' with DLA')\n",
    "    plt.xlim(3500,6000) #Make a zoom to see the differences\n",
    "plt.subplots_adjust(hspace=0.3,wspace=.2)"
   ]
  },
  {
   "cell_type": "code",
   "execution_count": null,
   "metadata": {},
   "outputs": [],
   "source": [
    "plt.figure(figsize=(10,5),dpi=100)\n",
    "for i in range(3):\n",
    "    plt.subplot(221+i)\n",
    "    plotspec_diff(spectra_dla,spectra_4exp,index[i])\n",
    "    plt.xlim(3500,4000)\n",
    "plt.subplots_adjust(hspace=0.3,wspace=.2)"
   ]
  },
  {
   "cell_type": "markdown",
   "metadata": {},
   "source": [
    "## Next, lets add BALs"
   ]
  },
  {
   "cell_type": "code",
   "execution_count": null,
   "metadata": {
    "scrolled": true
   },
   "outputs": [],
   "source": [
    "exp='4'\n",
    "contaminant='0.1BAL-'\n",
    "outdir_bal=outdir +contaminant+exp\n",
    "os.makedirs(outdir_bal,exist_ok=True)\n",
    "\n",
    "specfile = outdir +contaminant + exp +'/spectra.fits'\n",
    "cmd ='quickquasars  -i {ifile} -o {outfile}  --zmin {zmin} --exptime {exptime}\\\n",
    "    --zbest --bbflux --add-LYB --desi-footprint \\\n",
    "    --nmax {nmax} --seed {seed} --balprob 0.5'.format(exptime=float(exp)*1000,ifile=ifile,outfile=specfile,zmin=zmin,nmax=nmax,seed=seed)\n",
    "!$cmd"
   ]
  },
  {
   "cell_type": "code",
   "execution_count": null,
   "metadata": {},
   "outputs": [],
   "source": [
    "truth_bal = fitsio.FITS(outdir_bal+'/truth-16-0.fits')\n",
    "mask = np.isin(truth_bal[1]['TARGETID'][:],truth_bal[3]['TARGETID'][:])\n",
    "index = np.arange(nmax)\n",
    "index = index[mask]"
   ]
  },
  {
   "cell_type": "code",
   "execution_count": null,
   "metadata": {},
   "outputs": [],
   "source": [
    "spectra_bal = desispec.io.read_spectra(outdir_bal +'/spectra.fits')\n",
    "plt.figure(figsize=(10,5),dpi=100)\n",
    "for i in range(4):\n",
    "    plt.subplot(221+i)\n",
    "    plotspec(spectra_4exp,index[i],color=['b','b','b'],label='no BALs')\n",
    "    plotspec(spectra_bal,index[i],color=['k','k','k'],label=' with BALs')\n",
    "    plt.xlim(3500,6000)\n",
    "plt.subplots_adjust(hspace=0.3,wspace=.2)"
   ]
  },
  {
   "cell_type": "code",
   "execution_count": null,
   "metadata": {},
   "outputs": [],
   "source": [
    "plt.figure(figsize=(10,5),dpi=100)\n",
    "for i in range(4):\n",
    "    plt.subplot(221+i)\n",
    "    plotspec_diff(spectra_bal,spectra_4exp,index[i])\n",
    "    plt.xlim(3500,6000)\n",
    "plt.subplots_adjust(hspace=0.3,wspace=.2)"
   ]
  },
  {
   "cell_type": "markdown",
   "metadata": {},
   "source": [
    "# Finally, we can also add metals"
   ]
  },
  {
   "cell_type": "code",
   "execution_count": null,
   "metadata": {
    "scrolled": true
   },
   "outputs": [],
   "source": [
    "exp='4'\n",
    "contaminant='0.1MET-'\n",
    "outdir_metal=outdir +contaminant+exp\n",
    "os.makedirs(outdir_metal,exist_ok=True)\n",
    "specfile = outdir_metal+'/spectra.fits'\n",
    "cmd ='quickquasars --exptime {exptime} -i {ifile} -o {outfile}  --zmin {zmin} \\\n",
    "    --zbest --bbflux --add-LYB --desi-footprint \\\n",
    "     --nmax {nmax} --seed {seed} --metals-from-file'.format(exptime=float(exp)*1000,ifile=ifile,outfile=specfile,zmin=zmin,nmax=nmax,seed=seed)\n",
    "!time $cmd"
   ]
  },
  {
   "cell_type": "code",
   "execution_count": null,
   "metadata": {},
   "outputs": [],
   "source": [
    "spectra_metals = desispec.io.read_spectra(outdir_metal +'/spectra.fits')\n",
    "plt.figure(figsize=(10,5),dpi=100)\n",
    "for i in range(4):\n",
    "    plt.subplot(221+i)\n",
    "    plotspec(spectra_4exp,i,color=['b','b','b'],label='no metals')\n",
    "    plotspec(spectra_metals,i,color=['k','k','k'],label=' with metals')\n",
    "    plt.xlim(3500,4500)\n",
    "plt.subplots_adjust(hspace=0.3,wspace=.2)"
   ]
  },
  {
   "cell_type": "code",
   "execution_count": null,
   "metadata": {},
   "outputs": [],
   "source": [
    "plt.figure(figsize=(10,5),dpi=100)\n",
    "for i in range(4):\n",
    "    plt.subplot(221+i)\n",
    "    plotspec_ratio(spectra_metals,spectra_4exp,i)\n",
    "    plt.ylabel('Spectra ratio')\n",
    "    plt.xlim(3500,4500)\n",
    "    #plt.ylim(0.8,1.01)\n",
    "plt.subplots_adjust(hspace=0.3,wspace=.2)"
   ]
  },
  {
   "cell_type": "markdown",
   "metadata": {},
   "source": [
    "## As stated at the begining, all this has been for a sinlge pixel but we can also run a quickquasar simulation for the full DESI footprint. For this, lets take a look and run to the script quickquasars.sh"
   ]
  },
  {
   "cell_type": "markdown",
   "metadata": {},
   "source": [
    " ## Now that we have a bigger quickquasar run, we can stack the outputs for each pixel into a sinlge catalog"
   ]
  },
  {
   "cell_type": "code",
   "execution_count": null,
   "metadata": {},
   "outputs": [],
   "source": [
    "mock_path = os.path.join(os.environ['SCRATCH'], 'mocks','quickquasar')\n",
    "out_zcat = mock_path+'/tutorial-0.3-4/'"
   ]
  },
  {
   "cell_type": "code",
   "execution_count": null,
   "metadata": {},
   "outputs": [],
   "source": [
    "cmd='desi_zcatalog -i {ipath} -o {outfile} --fibermap'.format(ipath=out_zcat+'/spectra-16/',outfile=out_zcat+'zcat.fits')\n",
    "if not os.path.isfile(out_zcat+'zcat.fits'):\n",
    "    !time $cmd\n",
    "else:\n",
    "    print('zcat.fits already exist!')"
   ]
  },
  {
   "cell_type": "code",
   "execution_count": null,
   "metadata": {},
   "outputs": [],
   "source": [
    "zcat = fitsio.FITS(out_zcat+'/zcat.fits')\n",
    "zcat"
   ]
  },
  {
   "cell_type": "code",
   "execution_count": null,
   "metadata": {},
   "outputs": [],
   "source": [
    "zcat[1]"
   ]
  },
  {
   "cell_type": "markdown",
   "metadata": {},
   "source": [
    "# To finish this part of the tutorial create some QA plots"
   ]
  },
  {
   "cell_type": "markdown",
   "metadata": {},
   "source": [
    "#### We can look at the redshift distribution of the zcatalog and compare to the expected one. "
   ]
  },
  {
   "cell_type": "code",
   "execution_count": null,
   "metadata": {},
   "outputs": [],
   "source": [
    "## Retrive the expected distribution as function of redshift and magnitude, and define some functions useful for plotting them. Some code was borrowed/adapted from https://github.com/dkirkby/ArgonneLymanAlpha/blob/master/notebooks/SampleProperties.ipynb\n",
    "\n",
    "from astropy.table import Table,Column\n",
    "\n",
    "def bin_index(bin_centers, low_edge):\n",
    "    \"\"\"Find the index of the bin with the specified low edge, where bins is an array of equally-spaced bin centers.\n",
    "    \"\"\"\n",
    "    delta = bin_centers[1] - bin_centers[0]\n",
    "    min_value = bin_centers[0] - 0.5 * delta\n",
    "    index = int(round((low_edge - min_value) / delta))\n",
    "    if abs((low_edge - min_value) / delta - index) > 1e-5:\n",
    "        raise ValueError('low_edge = {} is not aligned with specified bins.'.format(low_edge))\n",
    "    return index\n",
    "\n",
    "def marginal_mag(magbin, zbin, nqso, z_min=0.):\n",
    "    \"\"\"Tabulate the marginal distribution of QSOs per sq.deg. per (g or r) magnitude bin with z > z_min.\n",
    "    \"\"\"\n",
    "    cut_index = bin_index(zbin, z_min)\n",
    "    return magbin, np.sum(nqso[:, cut_index:], axis=1)\n",
    "\n",
    "def marginal_z(magbin, zbin, nqso, mag_max):\n",
    "    \"\"\"Tabulate the marginal distribution of QSOs per sq.deg. per redshift bin with mag < mag_max.\n",
    "    \"\"\"\n",
    "    cut_index = bin_index(magbin, mag_max)\n",
    "    return zbin, np.sum(nqso[:cut_index], axis=0)\n",
    "\n",
    "qlf_file=os.getenv(\"DESIMODEL\")+'/data/targets/nzr_qso.dat'\n",
    "qlftab=Table.read(qlf_file,format='ascii',names=('z','r','dNdzdr'))\n",
    "zbin=np.unique(qlftab['z'].data)\n",
    "rbin=np.unique(qlftab['r'].data)\n",
    "nz,nr=len(zbin),len(rbin)\n",
    "assert len(qlftab) == nz*nr\n",
    "nqso_=qlftab['dNdzdr'].data.reshape(nz,nr).transpose()\n"
   ]
  },
  {
   "cell_type": "code",
   "execution_count": null,
   "metadata": {},
   "outputs": [],
   "source": [
    "#Plot the redshift distribution from the z catalog\n",
    "z=zcat[1]['Z'][:]\n",
    "bins = np.arange(min(z),max(z),0.2)\n",
    "nz_,_,_=plt.hist(z,bins=bins,histtype='step',linewidth=2.);\n",
    "plt.xlabel(r'$Z$');\n",
    "plt.ylabel('number');"
   ]
  },
  {
   "cell_type": "code",
   "execution_count": null,
   "metadata": {},
   "outputs": [],
   "source": [
    "zz, nz = marginal_z(rbin, zbin, nqso_, mag_max=23)\n",
    "plt.plot(zz[zz>1.8],nz[zz>1.8]/nz[zz>1.8].sum(),label='DESI')\n",
    "plt.hist(z,bins=bins,weights=np.ones(len(z))/nz_.sum(),histtype='step',linewidth=2.,label='mock');\n",
    "plt.xlabel(r'$Z$');\n",
    "plt.ylabel(r'$n(Z)$ (normalized)');\n",
    "plt.legend()"
   ]
  },
  {
   "cell_type": "markdown",
   "metadata": {},
   "source": [
    "#### Also we can look at the magnitude of each of the arms [b,r,z].\n",
    "#### As the zcatalog does not hace the magnitude information, we can calculate it from the flux as:\n"
   ]
  },
  {
   "cell_type": "markdown",
   "metadata": {},
   "source": [
    "#### $$ m = 22.5 - 2.5 \\log_{10}(f) $$"
   ]
  },
  {
   "cell_type": "code",
   "execution_count": null,
   "metadata": {},
   "outputs": [],
   "source": [
    "def magnitud(flux):\n",
    "    return 22.5-2.5*np.log10(flux)"
   ]
  },
  {
   "cell_type": "code",
   "execution_count": null,
   "metadata": {},
   "outputs": [],
   "source": [
    "plt.figure(figsize=(15,3),dpi=100)\n",
    "\n",
    "plt.subplot(131)\n",
    "mag_b = magnitud(zcat[1]['FLUX_G'][:])\n",
    "bins = np.arange(min(mag_b),max(mag_b),0.5)\n",
    "plt.hist(mag_b,bins=bins,histtype='step',linewidth=1,label='g');\n",
    "plt.xlabel('magnitude');\n",
    "plt.ylabel('#');\n",
    "plt.legend(loc='upper left')\n",
    "\n",
    "plt.subplot(132)\n",
    "mag_r = magnitud(zcat[1]['FLUX_R'][:])\n",
    "bins = np.arange(min(mag_r),max(mag_r),0.5)\n",
    "mr,binr,_=plt.hist(mag_r,bins=bins,histtype='step',linewidth=1,label='r');\n",
    "plt.xlabel('magnitude');\n",
    "plt.ylabel('#');\n",
    "plt.legend(loc='upper left')\n",
    "\n",
    "plt.subplot(133)\n",
    "mag_z = magnitud(zcat[1]['FLUX_Z'][:])\n",
    "bins = np.arange(min(mag_z),max(mag_z),0.5)\n",
    "plt.hist(mag_z,bins=bins,histtype='step',linewidth=1,label='z');\n",
    "plt.xlabel('magnitude');\n",
    "plt.ylabel('#');\n",
    "plt.legend(loc='upper left')\n",
    "\n",
    "\n",
    "plt.subplots_adjust(wspace=.3)"
   ]
  },
  {
   "cell_type": "code",
   "execution_count": null,
   "metadata": {},
   "outputs": [],
   "source": [
    "#Using the function above lets compare the magnitude r to the expected one. \n",
    "\n",
    "r, nr = marginal_mag(rbin, zbin, nqso_, z_min=1.8)\n",
    "plt.plot(r,nr/nr.sum(),label='DESI')\n",
    "plt.hist(mag_r,bins=bins,weights=np.ones(len(mag_r))/mr.sum(),histtype='step',linewidth=1,label='mock ');\n",
    "plt.xlabel('mag-r')\n",
    "plt.ylabel('n(mag_r) (normalized)')\n",
    "plt.legend()"
   ]
  },
  {
   "cell_type": "markdown",
   "metadata": {},
   "source": [
    "#### We can look at the distriubution of objects in the sky "
   ]
  },
  {
   "cell_type": "code",
   "execution_count": null,
   "metadata": {},
   "outputs": [],
   "source": [
    "plt.scatter(zcat[1]['RA'][:],zcat[1]['DEC'][:],marker='.');\n",
    "plt.xlabel('RA [deg]');\n",
    "plt.ylabel('DEC [deg]');"
   ]
  },
  {
   "cell_type": "markdown",
   "metadata": {},
   "source": [
    "#### Next we can look at the object distributions for each pixels. For that we define functions to go from angles to pixels and back"
   ]
  },
  {
   "cell_type": "code",
   "execution_count": null,
   "metadata": {},
   "outputs": [],
   "source": [
    "def get_pix(ra,dec,nside=16):\n",
    "    phi = ra*np.pi / 180.\n",
    "    th = np.pi/2. - dec*np.pi/180.\n",
    "    pix = healpy.ang2pix(nside,th,phi,nest=True)\n",
    "    return pix\n",
    "\n",
    "def pix2ang_deg(nside,pix,nest=True):\n",
    "    pix_rad_dec,pix_rad_ra = healpy.pix2ang(nside,pix,nest=nest)\n",
    "    pix_ra = pix_rad_ra * 180. / np.pi\n",
    "    pix_dec = (np.pi/2.-pix_rad_dec)*180./np.pi\n",
    "    return pix_ra, pix_dec"
   ]
  },
  {
   "cell_type": "code",
   "execution_count": null,
   "metadata": {},
   "outputs": [],
   "source": [
    "pix_zcat = get_pix(zcat[1]['RA'][:],zcat[1]['DEC'][:])"
   ]
  },
  {
   "cell_type": "code",
   "execution_count": null,
   "metadata": {},
   "outputs": [],
   "source": [
    "ra_zcat,dec_zcat = pix2ang_deg(16,np.unique(pix_zcat),nest=True)"
   ]
  },
  {
   "cell_type": "markdown",
   "metadata": {},
   "source": [
    "#### Here we are just ploting the pixels, in the previous plot we plotted all the objects"
   ]
  },
  {
   "cell_type": "code",
   "execution_count": null,
   "metadata": {},
   "outputs": [],
   "source": [
    "plt.scatter(ra_zcat,dec_zcat,marker='.');\n",
    "plt.xlabel('RA [deg]');\n",
    "plt.ylabel('DEC [deg]');"
   ]
  },
  {
   "cell_type": "markdown",
   "metadata": {},
   "source": [
    "#### Now lets plot the density of objects per pixels as well at the mean redshift in each pixel"
   ]
  },
  {
   "cell_type": "code",
   "execution_count": null,
   "metadata": {},
   "outputs": [],
   "source": [
    "def get_density(pix,nside):\n",
    "    bincounts_pix = np.bincount(pix)\n",
    "    unique_pix = np.unique(pix)\n",
    "    area_pix = healpy.pixelfunc.nside2pixarea(nside, degrees=True)\n",
    "    density = bincounts_pix[unique_pix]/area_pix\n",
    "    return density"
   ]
  },
  {
   "cell_type": "code",
   "execution_count": null,
   "metadata": {},
   "outputs": [],
   "source": [
    "plot1 = plt.scatter(ra_zcat,dec_zcat,c=get_density(pix_zcat,16),marker='.')\n",
    "cbar1 = plt.colorbar(plot1)\n",
    "cbar1.set_label(r'$Density \\, [\\# \\, deg^-2]$')\n",
    "cbar1.update_ticks()\n",
    "plt.xlabel('RA [deg]')\n",
    "plt.ylabel('DEC [deg]')"
   ]
  },
  {
   "cell_type": "code",
   "execution_count": null,
   "metadata": {},
   "outputs": [],
   "source": [
    "bincounts_pix = np.bincount(pix_zcat)\n",
    "bincounts_z = np.bincount(pix_zcat,weights=zcat[1]['Z'][:])\n",
    "\n",
    "z_pix_zcat = bincounts_z[np.unique(pix_zcat)]/bincounts_pix[np.unique(pix_zcat)]\n",
    "\n",
    "plot1 = plt.scatter(ra_zcat,dec_zcat,c=z_pix_zcat,marker='.')\n",
    "cbar1 = plt.colorbar(plot1)\n",
    "cbar1.set_label(r'$<z>$',size=20)\n",
    "cbar1.update_ticks()\n",
    "plt.xlabel('RA [deg]')\n",
    "plt.ylabel('DEC [deg]')"
   ]
  },
  {
   "cell_type": "markdown",
   "metadata": {},
   "source": [
    "# What's netxt?"
   ]
  },
  {
   "cell_type": "markdown",
   "metadata": {},
   "source": [
    "#### We can run picca to calculate the flux over-densities as well as the correletions\n",
    "\n",
    "#### - Here you can find a tutorial to run picca and do a BAO analysis: https://desi.lbl.gov/trac/wiki/LymanAlphaWG/how_to_run_picca\n",
    "\n",
    "#### We can also run a DLA finder and BAL finder\n",
    "\n",
    "#### - DLA finder: https://desi.lbl.gov/trac/wiki/LymanAlphaWG/DLAfinder\n",
    "#### - BAL finder: https://desi.lbl.gov/trac/wiki/LymanAlphaWG/BALfinder\n",
    "\n",
    "#### As well feed the mock to redshift fitters:\n",
    "\n",
    "#### - Redrock\n",
    "#### - SQUEZE\n",
    "#### - QuasarNet"
   ]
  },
  {
   "cell_type": "code",
   "execution_count": null,
   "metadata": {},
   "outputs": [],
   "source": []
  }
 ],
 "metadata": {
  "kernelspec": {
   "display_name": "DESI master",
   "language": "python",
   "name": "desi-master"
  },
  "language_info": {
   "codemirror_mode": {
    "name": "ipython",
    "version": 3
   },
   "file_extension": ".py",
   "mimetype": "text/x-python",
   "name": "python",
   "nbconvert_exporter": "python",
   "pygments_lexer": "ipython3",
   "version": "3.8.3"
  }
 },
 "nbformat": 4,
 "nbformat_minor": 4
}
