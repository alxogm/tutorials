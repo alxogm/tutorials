{
 "cells": [
  {
   "cell_type": "markdown",
   "metadata": {},
   "source": [
    "In addition to fitting the redshift, we can learn much more from DESI spectra. For example, we can infer the physical properties of galaxies from fitting the continuum of galaxy spectra with stellar population synthesis models.\n",
    "\n",
    "# Stellar Population Synthesis (SPS) models\n",
    "In SPS models, galaxies are treated as composite stellar populations (CSPs). CSPs are composed of simple stellar populations (SSPs) whose range of ages given by their SFHs and have a range of metallicities. A standard way of calculating the CSP spectrum is\n",
    "\n",
    "<img src=\"csp.png\" width=\"500\">\n",
    "\n",
    "Here SFR(t) is the star formation rate, P(Z,t) is the metallicity distribution function, and f_SSP is the simple stellar population spectrum. f_SSP is calculated from isochrones, stellar spectral libraries, and the initial mass function. For a review on SPS models see [Conroy (2013)](https://ui.adsabs.harvard.edu/abs/2013ARA%26A..51..393C/abstract)\n",
    "\n",
    "For our purposes, we'll assume that the SSP spectra are fixed and not worry about the different stellar libraries and IMFs. We will also assume that stellar population of age t is a SSP with the same metallicity. So we can simplify the equation above to: \n",
    "\n",
    "<img src=\"csp_simple.png\" width=\"400\">\n",
    "\n",
    "In practice, we model a galaxy as a sum of SSPs with different age and metallicity. This means that we can model the galaxy spectra based on the SFH and ZH. Conversely, we can infer the SFH and ZH of a galaxy from its spectra!"
   ]
  },
  {
   "cell_type": "code",
   "execution_count": null,
   "metadata": {},
   "outputs": [],
   "source": [
    "# lets install the python package `provabgs`, a python package for generating the PRObabilistic Value-Added BGS (PROVABGS)\n",
    "!pip install git+https://github.com/changhoonhahn/provabgs.git --upgrade --user"
   ]
  },
  {
   "cell_type": "code",
   "execution_count": null,
   "metadata": {},
   "outputs": [],
   "source": [
    "!pip install zeus-mcmc --user\n",
    "!pip install emcee --user"
   ]
  },
  {
   "cell_type": "code",
   "execution_count": null,
   "metadata": {},
   "outputs": [],
   "source": [
    "import numpy as np\n",
    "from provabgs import models as Models"
   ]
  },
  {
   "cell_type": "code",
   "execution_count": null,
   "metadata": {},
   "outputs": [],
   "source": [
    "# -- plotting -- \n",
    "import matplotlib as mpl\n",
    "import matplotlib.pyplot as plt\n",
    "mpl.rcParams['font.family'] = 'serif'\n",
    "mpl.rcParams['axes.linewidth'] = 1.5\n",
    "mpl.rcParams['axes.xmargin'] = 1\n",
    "mpl.rcParams['xtick.labelsize'] = 'x-large'\n",
    "mpl.rcParams['xtick.major.size'] = 5\n",
    "mpl.rcParams['xtick.major.width'] = 1.5\n",
    "mpl.rcParams['ytick.labelsize'] = 'x-large'\n",
    "mpl.rcParams['ytick.major.size'] = 5\n",
    "mpl.rcParams['ytick.major.width'] = 1.5\n",
    "mpl.rcParams['legend.frameon'] = False"
   ]
  },
  {
   "cell_type": "markdown",
   "metadata": {},
   "source": [
    "# SFH and ZH parameterization\n",
    "While the SFH and ZH can in principle be any function; in practice, to reduce the dimensionality of the SFH and ZH, they're parameterized in some way. Most commonly, the SFH is parameterized using the \"tau model\". In our case, we parameterize both the SFH and ZH as linear combinations of precomputed basis functions: \n",
    "\n",
    "<img src=\"sfh.png\" width=400> \n",
    "\n",
    "<img src=\"zh.png\" width=200>\n",
    "\n",
    "The shape and number of basis functions were determined by applying non-negative matrix factorization to the SFH and ZH of M* > 10^9 Msun galaxies in Illustris by Rita. Our parameterization assumes that SFH and ZH of real galaxies can be well described by a linear combination of the basis functions. Here's what the basis functions look like for the SFH (left) and ZH (right). "
   ]
  },
  {
   "cell_type": "code",
   "execution_count": null,
   "metadata": {},
   "outputs": [],
   "source": [
    "fsps_emulator = Models.DESIspeculator()"
   ]
  },
  {
   "cell_type": "code",
   "execution_count": null,
   "metadata": {},
   "outputs": [],
   "source": [
    "fig = plt.figure(figsize=(14, 5))\n",
    "sub = fig.add_subplot(121)\n",
    "for i in range(4): \n",
    "    _tt = np.zeros(5)\n",
    "    _tt[i+1] = 1. \n",
    "    t, sfh = fsps_emulator.SFH(_tt, 0.)\n",
    "    sub.plot(t, sfh)\n",
    "sub.set_xlabel(r'$t_{\\rm cosmic}$', fontsize=25)\n",
    "sub.set_xlim(0., 13.7)\n",
    "sub.set_ylabel('Star Formation History', fontsize=25)\n",
    "sub.set_ylim(0., None)\n",
    "\n",
    "sub = fig.add_subplot(122)\n",
    "for i in range(2): \n",
    "    _tt = np.zeros(7)\n",
    "    _tt[i+5] = 1. \n",
    "    t, zh = fsps_emulator.ZH(_tt, 0.)\n",
    "    sub.plot(t, zh)\n",
    "sub.set_xlabel(r'$t_{\\rm cosmic}$', fontsize=25)\n",
    "sub.set_xlim(0., 13.7)\n",
    "sub.set_ylabel('Metallicity History', fontsize=25)\n",
    "sub.set_ylim(0., None)"
   ]
  },
  {
   "cell_type": "markdown",
   "metadata": {},
   "source": [
    "Since the basis functions are fixed, the free parameters of the SPS model that determine the SFH and ZH are the 4 coefficients for the SFH basis functions and the 2 coefficients for the ZH basis functions\n",
    "\n",
    "# Flexible Stellar Population Synthesis (FSPS)\n",
    "Now that we understand all the pieces, lets generate some spectra. To actually generate the CSP spectrum, we use the package [`FSPS`](https://github.com/cconroy20/fsps) and the python wrapper for it [`python-fsps`](https://github.com/dfm/python-fsps). These packages have impleneted SSPs and dust models, which make it easy to calculate CSPs by providing SFH and ZH. Our fiducial model takes in the following parameters: \n",
    "1. log M*: log stellar mass\n",
    "2. b1^SFH: coefficient of first SFH basis function\n",
    "3. b2^SFH: coefficient of second SFH basis function\n",
    "4. b3^SFH: coefficient of third SFH basis function\n",
    "5. b4^SFH: coefficient of fourth SFH basis function\n",
    "6. g1^ZH: coefficient of first ZH basis function\n",
    "7. g2^ZH: coefficient of second ZH basis function\n",
    "8. dust1: Dust parameter describing the attenuation of young stellar light\n",
    "9. dust2: Dust parameter describing the attenuation of old stellar light\n",
    "10. dust_index:  Power law index of the attenuation curve\n",
    "\n",
    "Installing FSPS on NERSC is a bit of a pain so we won't bother in this tutorial. See https://github.com/changhoonhahn/gqp_mc#installing-fsps for instructions on how to install FSPS on NERSC. \n",
    "\n",
    "# emulating FSPS --- `DESISpeculator`\n",
    "In order to fit galaxy spectra, we'll need to run the SPS model a bunch of times for each spectra. If we want to sample the posterior, we'll need to run the SPS model >>10,000 times. FSPS takes a couple second to generate each CSP spectrum --- this is way too long. \n",
    "\n",
    "Instead, James (Kyubin) Kwon and I trained an emulator that takes in the same parameters and returns the FSPS output to <1% level accuracy. The emulator is a fully connected neural network that takes in the parameters above and predicts the PCA coefficients for a set of fixed PCA spectral bases. See [Alsing et al. (2020)](https://ui.adsabs.harvard.edu/abs/2020ApJS..249....5A/abstract) for details. \n",
    "\n",
    "Here's how well the emulator (black dashed) reproduces some random SSPs generated from FSPS (colors): \n",
    "\n",
    "<img src=\"ssp.png\" width=600>\n",
    "\n",
    "You can hardly tell the difference. \n",
    "\n",
    "With the `provabgs` package, calling the SPS model and generating the CSP spectrum for a set of parameters is very straightforward: \n",
    "```python\n",
    "wave, flux = fsps_emulator.sed(\n",
    "    np.array([10., 0.25, 0.25, 0.25, 0.25, 1.e-4, 1.e-4, 0., 0., -1]), # some arbitrary set of parameter values\n",
    "    0.1 # some random redshift\n",
    ")\n",
    "```"
   ]
  },
  {
   "cell_type": "code",
   "execution_count": null,
   "metadata": {},
   "outputs": [],
   "source": [
    "wave, flux = fsps_emulator.sed(\n",
    "    np.array([10., 0.25, 0.25, 0.25, 0.25, 1.e-4, 1.e-4, 0., 0., -1]), # some arbitrary set of parameter values\n",
    "    0.1 # z= 0.1\n",
    ")"
   ]
  },
  {
   "cell_type": "code",
   "execution_count": null,
   "metadata": {},
   "outputs": [],
   "source": [
    "fig = plt.figure(figsize=(10,5))\n",
    "sub = fig.add_subplot(111)\n",
    "sub.plot(wave[0], flux[0])\n",
    "sub.set_xlabel('wavelength [$\\AA$]', fontsize=25)\n",
    "sub.set_xlim(3.6e3, 9.8e3)\n",
    "sub.set_ylim(0, 75)"
   ]
  },
  {
   "cell_type": "markdown",
   "metadata": {},
   "source": [
    "We can generate some more arbitrary CSP spectra by sampling the prior. `provabgs` has a convenient way to set priors in the `provabgs.infer` module. To define a prior, load in a set of prior objects (e.g. `UniformPrior` or `FlatDirichletPrior`)"
   ]
  },
  {
   "cell_type": "code",
   "execution_count": null,
   "metadata": {},
   "outputs": [],
   "source": [
    "from provabgs import infer as Infer\n",
    "priors = Infer.load_priors([\n",
    "        Infer.UniformPrior(10., 10.5, label='sed'),\n",
    "        Infer.FlatDirichletPrior(4, label='sed'), \n",
    "        Infer.UniformPrior(np.array([6.9e-5, 6.9e-5, 0., 0., -2.2]), np.array([7.3e-3, 7.3e-3, 3., 4., 0.4]), label='sed')\n",
    "    ])"
   ]
  },
  {
   "cell_type": "markdown",
   "metadata": {},
   "source": [
    "Then we can sample this prior and generate their spectra! "
   ]
  },
  {
   "cell_type": "code",
   "execution_count": null,
   "metadata": {},
   "outputs": [],
   "source": [
    "random_thetas = [priors.sample() for i in range(5)]"
   ]
  },
  {
   "cell_type": "code",
   "execution_count": null,
   "metadata": {},
   "outputs": [],
   "source": [
    "fig = plt.figure(figsize=(10,5))\n",
    "sub = fig.add_subplot(111)\n",
    "for tt in random_thetas: \n",
    "    wave, flux = fsps_emulator.sed(priors.transform(tt), 0.1)\n",
    "    sub.plot(wave[0], flux[0])\n",
    "sub.set_xlabel('wavelength [$\\AA$]', fontsize=25)\n",
    "sub.set_xlim(3.6e3, 9.8e3)\n",
    "sub.set_ylim(0, None)"
   ]
  },
  {
   "cell_type": "markdown",
   "metadata": {},
   "source": [
    "Note that we transform the parameters before we input them into the SPS model with `priors.transform`. This step is necessary because we set Dirichlet priors for the SFH basis coefficients. To sample the Dirichlet prior, we first sample a uniform distribution then use a warped manifold transformation to transform."
   ]
  },
  {
   "cell_type": "markdown",
   "metadata": {},
   "source": [
    "# Fitting galaxy spectra using SPS models\n",
    "Now that we know how to call the model, lets try fitting some actual DESI spectra! We'll read in the same BGS spectra from CMX. "
   ]
  },
  {
   "cell_type": "code",
   "execution_count": null,
   "metadata": {},
   "outputs": [],
   "source": [
    "from desispec.io import read_spectra\n",
    "spectra = read_spectra('coadd-66003-20200315-1-00055654.few.fits') # handful of BGS galaxies from Tile 66003 observed on 03/15/2020, Petal #1, Exposure #00055654\n",
    "igal = 2 # I like this one"
   ]
  },
  {
   "cell_type": "code",
   "execution_count": null,
   "metadata": {},
   "outputs": [],
   "source": [
    "fig = plt.figure(figsize=(10,5))\n",
    "sub = fig.add_subplot(111)\n",
    "sub.plot(spectra.wave['brz'], spectra.flux['brz'][igal])\n",
    "sub.set_xlabel('Wavelength [$\\AA$]', fontsize=25)\n",
    "sub.set_xlim(3.6e3, 9.8e3)"
   ]
  },
  {
   "cell_type": "code",
   "execution_count": null,
   "metadata": {},
   "outputs": [],
   "source": [
    "from astropy.table import Table\n",
    "zbest = Table.read('zbest.coadd.fits', hdu=1)\n",
    "zred = zbest['Z'][igal]"
   ]
  },
  {
   "cell_type": "markdown",
   "metadata": {},
   "source": [
    "To fit the spectrum, we want to maximize the posterior --- probability of the model given the data. Below is a function for calculating the log posterior using Bayes theorm."
   ]
  },
  {
   "cell_type": "code",
   "execution_count": null,
   "metadata": {},
   "outputs": [],
   "source": [
    "def lnPost(theta): \n",
    "    # calculate log prior\n",
    "    lp = priors.lnPrior(theta)\n",
    "    if not np.isfinite(lp):\n",
    "        return -np.inf\n",
    "    ttheta = priors.transform(theta) \n",
    "\n",
    "    # calculate SED model(theta) \n",
    "    _, flux = fsps_emulator.sed(ttheta, zred, wavelength=spectra.wave['brz'])\n",
    "    \n",
    "    # data - model(theta)\n",
    "    dflux = (flux - spectra.flux['brz'][igal]) \n",
    "    \n",
    "    # chi-squared\n",
    "    chi2 = np.sum(dflux**2 * spectra.ivar['brz'][igal]) \n",
    "    \n",
    "    lnLike = -0.5 * chi2\n",
    "    return lp + lnLike"
   ]
  },
  {
   "cell_type": "markdown",
   "metadata": {},
   "source": [
    "Now lets maximize the log posterior (or minimize -1 * log posterior)"
   ]
  },
  {
   "cell_type": "code",
   "execution_count": null,
   "metadata": {},
   "outputs": [],
   "source": [
    "import scipy.optimize as op\n",
    "\n",
    "x0 = np.mean([priors.sample() for i in range(10)], axis=0)\n",
    "\n",
    "_lnpost = lambda *args: -2. * lnPost(*args) \n",
    "min_result = op.minimize(\n",
    "    _lnpost, \n",
    "    tt, \n",
    "    method='Nelder-Mead',                \n",
    "    options={'maxiter': 5000}) "
   ]
  },
  {
   "cell_type": "code",
   "execution_count": null,
   "metadata": {},
   "outputs": [],
   "source": [
    "theta_bestfit = min_result['x']\n",
    "_, flux_bestfit = fsps_emulator.sed(priors.transform(theta_bestfit), zred, wavelength=spectra.wave['brz'])"
   ]
  },
  {
   "cell_type": "code",
   "execution_count": null,
   "metadata": {},
   "outputs": [],
   "source": [
    "fig = plt.figure(figsize=(10,5))\n",
    "sub = fig.add_subplot(111)\n",
    "sub.plot(spectra.wave['brz'], spectra.flux['brz'][igal])\n",
    "sub.plot(spectra.wave['brz'], flux_bestfit.flatten(), c='k', ls='--')\n",
    "sub.set_xlabel('Wavelength [$\\AA$]', fontsize=25)\n",
    "sub.set_xlim(3.6e3, 9.8e3)"
   ]
  },
  {
   "cell_type": "markdown",
   "metadata": {},
   "source": [
    "nice. The model looks pretty good.\n",
    "\n",
    "The best-fit model has"
   ]
  },
  {
   "cell_type": "code",
   "execution_count": null,
   "metadata": {},
   "outputs": [],
   "source": [
    "print('log(stellar mass) = %.2f' % theta_bestfit[0])"
   ]
  },
  {
   "cell_type": "code",
   "execution_count": null,
   "metadata": {},
   "outputs": [],
   "source": [
    "tage, sfh = fsps_emulator.SFH(theta_bestfit, zred)\n",
    "_, zh = fsps_emulator.ZH(theta_bestfit, zred)"
   ]
  },
  {
   "cell_type": "markdown",
   "metadata": {},
   "source": [
    "and the following SFH and ZH"
   ]
  },
  {
   "cell_type": "code",
   "execution_count": null,
   "metadata": {},
   "outputs": [],
   "source": [
    "tlookback = tage[-1] - tage\n",
    "\n",
    "fig = plt.figure(figsize=(12,4))\n",
    "sub = fig.add_subplot(121)\n",
    "sub.plot(tlookback, sfh)\n",
    "sub.set_xlabel(r'$t_{\\rm lookback}$', fontsize=25)\n",
    "sub.set_xlim(0, fsps_emulator.cosmo.age(0.).value)\n",
    "sub.set_ylabel('SFH [$M_\\odot/Gyr$]', fontsize=25)\n",
    "sub.set_ylim(0, None)\n",
    "\n",
    "sub = fig.add_subplot(122)\n",
    "sub.plot(tlookback, zh)\n",
    "sub.set_xlabel(r'$t_{\\rm cosmic}$', fontsize=25)\n",
    "sub.set_xlim(0, fsps_emulator.cosmo.age(0.).value)\n",
    "sub.set_ylabel('metallicity history', fontsize=25)\n",
    "sub.set_ylim(0, None)\n",
    "\n",
    "fig.subplots_adjust(wspace=0.4)"
   ]
  },
  {
   "cell_type": "markdown",
   "metadata": {},
   "source": [
    "We can go beyond optimizing the posterior and actually sample the posterior with Markov Chain Monte Carlo (MCMC). Thanks to the emulator, we can actually do this pretty quickly! \n",
    "\n",
    "`provabgs.infer` has MCMC objects, which can be used to easily run MCMC. In our case, you just have to provide the prior, the data, and a few choices for the MCMC. "
   ]
  },
  {
   "cell_type": "code",
   "execution_count": null,
   "metadata": {},
   "outputs": [],
   "source": [
    "desi_mcmc = Infer.desiMCMC(prior=priors)"
   ]
  },
  {
   "cell_type": "code",
   "execution_count": null,
   "metadata": {},
   "outputs": [],
   "source": [
    "mcmc = desi_mcmc.run(\n",
    "    wave_obs=spectra.wave['brz'],\n",
    "    flux_obs=spectra.flux['brz'][igal],\n",
    "    flux_ivar_obs=spectra.ivar['brz'][igal],\n",
    "    zred=zred, \n",
    "    sampler='zeus',\n",
    "    nwalkers=100, \n",
    "    burnin=100,\n",
    "    opt_maxiter=10000,\n",
    "    niter=1000, \n",
    "    debug=True)"
   ]
  },
  {
   "cell_type": "code",
   "execution_count": null,
   "metadata": {},
   "outputs": [],
   "source": [
    "plt.figure(figsize=(15,5))\n",
    "plt.plot(mcmc['mcmc_chain'][:,:,0])\n",
    "plt.xlim(0, 1000)"
   ]
  },
  {
   "cell_type": "markdown",
   "metadata": {},
   "source": [
    "Now with the chain we can look at the posterior for the SFH and ZH!"
   ]
  },
  {
   "cell_type": "code",
   "execution_count": null,
   "metadata": {},
   "outputs": [],
   "source": [
    "markov_chain = desi_mcmc._flatten_chain(mcmc['mcmc_chain'])"
   ]
  },
  {
   "cell_type": "code",
   "execution_count": null,
   "metadata": {},
   "outputs": [],
   "source": [
    "sfhs, zhs = [], [] \n",
    "for tt in markov_chain[-10000:]:\n",
    "    _, _sfh = fsps_emulator.SFH(tt, zred)\n",
    "    _, _zh = fsps_emulator.ZH(tt, zred)\n",
    "    sfhs.append(_sfh)\n",
    "    zhs.append(_zh)"
   ]
  },
  {
   "cell_type": "code",
   "execution_count": null,
   "metadata": {},
   "outputs": [],
   "source": [
    "sfh_q = np.quantile(sfhs, [0.16, 0.50, 0.84], axis=0)\n",
    "zh_q = np.quantile(zhs, [0.16, 0.5, 0.84], axis=0)\n",
    "\n",
    "fig = plt.figure(figsize=(12,4))\n",
    "sub = fig.add_subplot(121)\n",
    "sub.fill_between(tlookback, sfh_q[0], sfh_q[2], alpha=0.5)\n",
    "sub.plot(tlookback, sfh_q[1])\n",
    "sub.set_xlabel(r'$t_{\\rm lookback}$', fontsize=25)\n",
    "sub.set_xlim(0, fsps_emulator.cosmo.age(0.).value)\n",
    "sub.set_ylabel('SFH [$M_\\odot/Gyr$]', fontsize=25)\n",
    "sub.set_ylim(0, None)\n",
    "\n",
    "sub = fig.add_subplot(122)\n",
    "sub.fill_between(tlookback, zh_q[0], zh_q[2], alpha=0.5)\n",
    "sub.plot(tlookback, zh_q[1])\n",
    "sub.set_xlabel(r'$t_{\\rm cosmic}$', fontsize=25)\n",
    "sub.set_xlim(0, fsps_emulator.cosmo.age(0.).value)\n",
    "sub.set_ylabel('metallicity history', fontsize=25)\n",
    "sub.set_ylim(0, None)\n",
    "\n",
    "fig.subplots_adjust(wspace=0.4)"
   ]
  }
 ],
 "metadata": {
  "kernelspec": {
   "display_name": "DESI 19.12",
   "language": "python",
   "name": "desi-19.12"
  },
  "language_info": {
   "codemirror_mode": {
    "name": "ipython",
    "version": 3
   },
   "file_extension": ".py",
   "mimetype": "text/x-python",
   "name": "python",
   "nbconvert_exporter": "python",
   "pygments_lexer": "ipython3",
   "version": "3.6.6"
  }
 },
 "nbformat": 4,
 "nbformat_minor": 4
}
